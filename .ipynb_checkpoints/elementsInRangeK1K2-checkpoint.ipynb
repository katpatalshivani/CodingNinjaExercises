{
 "cells": [
  {
   "cell_type": "code",
   "execution_count": 1,
   "id": "59067726",
   "metadata": {},
   "outputs": [],
   "source": [
    "class BinaryTreeNode:\n",
    "    def __init__(self,data):\n",
    "        self.data=data\n",
    "        self.left=None\n",
    "        self.right=None"
   ]
  },
  {
   "cell_type": "code",
   "execution_count": 2,
   "id": "de5922f7",
   "metadata": {},
   "outputs": [],
   "source": [
    "import queue\n",
    "\n",
    "def takeLevelwiseInput():\n",
    "    q=queue.Queue()\n",
    "    print(\"Enter root\")\n",
    "    rootData=int(input())\n",
    "    \n",
    "    if rootData==-1:\n",
    "        return None\n",
    "    \n",
    "    root=BinaryTreeNode(rootData)\n",
    "    q.put(root)\n",
    "    \n",
    "    while not(q.empty()):\n",
    "        current_node=q.get()\n",
    "        print(\"Enter left child of\", current_node.data)\n",
    "        leftchildData=int(input())\n",
    "        \n",
    "        if leftchildData!=-1:\n",
    "            leftchild=BinaryTreeNode(leftchildData)\n",
    "            current_node.left=leftchild\n",
    "            q.put(leftchild)\n",
    "            \n",
    "        print(\"Enter right child of \",current_node.data)\n",
    "        rightchildData=int(input())\n",
    "        \n",
    "        if rightchildData!=-1:\n",
    "            rightchild=BinaryTreeNode(rightchildData)\n",
    "            current_node.right=rightchild\n",
    "            q.put(rightchild)\n",
    "            \n",
    "    return root\n",
    "       "
   ]
  },
  {
   "cell_type": "code",
   "execution_count": 3,
   "id": "24d1c57f",
   "metadata": {},
   "outputs": [],
   "source": [
    "def elementsInRangeK1K2(root, k1, k2):\n",
    "    if root == None:\n",
    "        return None\n",
    "    \n",
    "    if root.data <k1:\n",
    "        elementsInRangeK1K2(root.left, k1, k2)\n",
    "        \n",
    "    elif root.data > k2:\n",
    "        elementsInRangeK1K2(root.right, k1, k2)\n",
    "        \n",
    "    else:\n",
    "        print(root.data, end = \" \")\n",
    "        elementsInRangeK1K2(root.left, k1, k2)\n",
    "        elementsInRangeK1K2(root.right, k1, k2)\n",
    "    "
   ]
  },
  {
   "cell_type": "code",
   "execution_count": 4,
   "id": "c7339cde",
   "metadata": {},
   "outputs": [
    {
     "ename": "NameError",
     "evalue": "name 'buildLevelTree' is not defined",
     "output_type": "error",
     "traceback": [
      "\u001b[1;31m---------------------------------------------------------------------------\u001b[0m",
      "\u001b[1;31mNameError\u001b[0m                                 Traceback (most recent call last)",
      "Input \u001b[1;32mIn [4]\u001b[0m, in \u001b[0;36m<cell line: 1>\u001b[1;34m()\u001b[0m\n\u001b[1;32m----> 1\u001b[0m root \u001b[38;5;241m=\u001b[39m \u001b[43mbuildLevelTree\u001b[49m(levelOrder)\n\u001b[0;32m      2\u001b[0m k1, k2 \u001b[38;5;241m=\u001b[39m \u001b[38;5;241m6\u001b[39m,\u001b[38;5;241m10\u001b[39m\n\u001b[0;32m      3\u001b[0m elementsInRangeK1K2(root, k1, k2)\n",
      "\u001b[1;31mNameError\u001b[0m: name 'buildLevelTree' is not defined"
     ]
    }
   ],
   "source": [
    "root = takeLevelwiseInput()\n",
    "k1, k2 = 6,10\n",
    "elementsInRangeK1K2(root, k1, k2)"
   ]
  },
  {
   "cell_type": "code",
   "execution_count": null,
   "id": "6d055b2e",
   "metadata": {},
   "outputs": [],
   "source": []
  }
 ],
 "metadata": {
  "kernelspec": {
   "display_name": "Python 3 (ipykernel)",
   "language": "python",
   "name": "python3"
  },
  "language_info": {
   "codemirror_mode": {
    "name": "ipython",
    "version": 3
   },
   "file_extension": ".py",
   "mimetype": "text/x-python",
   "name": "python",
   "nbconvert_exporter": "python",
   "pygments_lexer": "ipython3",
   "version": "3.9.12"
  }
 },
 "nbformat": 4,
 "nbformat_minor": 5
}
