{
 "cells": [
  {
   "cell_type": "code",
   "execution_count": 5,
   "id": "3e1a12e0",
   "metadata": {},
   "outputs": [],
   "source": [
    "class ExpenseTracker:\n",
    "    \n",
    "    def __init__(self):\n",
    "        pass\n",
    "    \n",
    "\n",
    "ob1= ExpenseTracker"
   ]
  },
  {
   "cell_type": "code",
   "execution_count": 6,
   "id": "5b623b65",
   "metadata": {},
   "outputs": [],
   "source": [
    "class ExpenseTracker:\n",
    "    \n",
    "    def __init__(self,date,desc,typeE,amt):\n",
    "        self.date=date\n",
    "        self.desc=desc\n",
    "        self.typeE=typeE\n",
    "        self.amt=amt\n",
    "        \n",
    "        \n"
   ]
  },
  {
   "cell_type": "code",
   "execution_count": 11,
   "id": "b28b4415",
   "metadata": {},
   "outputs": [
    {
     "data": {
      "text/plain": [
       "'Brunch'"
      ]
     },
     "execution_count": 11,
     "metadata": {},
     "output_type": "execute_result"
    }
   ],
   "source": [
    "ob2 = ExpenseTracker(\"15thAug\",\"Brunch\",\"debit\", \"500\")\n",
    "ob2.desc"
   ]
  },
  {
   "cell_type": "code",
   "execution_count": 9,
   "id": "4025d108",
   "metadata": {},
   "outputs": [],
   "source": [
    "ob3=ExpenseTracker(\"1sAug\",\"salary\",\"credit\", \"40000\")"
   ]
  },
  {
   "cell_type": "code",
   "execution_count": 12,
   "id": "9c8ba2c3",
   "metadata": {},
   "outputs": [
    {
     "data": {
      "text/plain": [
       "{'date': '15thAug', 'desc': 'Brunch', 'typeE': 'debit', 'amt': '500'}"
      ]
     },
     "execution_count": 12,
     "metadata": {},
     "output_type": "execute_result"
    }
   ],
   "source": [
    "ob2.__dict__"
   ]
  },
  {
   "cell_type": "code",
   "execution_count": 13,
   "id": "6500259c",
   "metadata": {},
   "outputs": [
    {
     "data": {
      "text/plain": [
       "{'date': '1sAug', 'desc': 'salary', 'typeE': 'credit', 'amt': '40000'}"
      ]
     },
     "execution_count": 13,
     "metadata": {},
     "output_type": "execute_result"
    }
   ],
   "source": [
    "ob3.__dict__"
   ]
  },
  {
   "cell_type": "markdown",
   "id": "a6f9d26a",
   "metadata": {},
   "source": [
    "getattr(ob2,'amt')"
   ]
  },
  {
   "cell_type": "code",
   "execution_count": 14,
   "id": "bb29a1c2",
   "metadata": {},
   "outputs": [
    {
     "data": {
      "text/plain": [
       "'500'"
      ]
     },
     "execution_count": 14,
     "metadata": {},
     "output_type": "execute_result"
    }
   ],
   "source": [
    "getattr(ob2,'amt')"
   ]
  },
  {
   "cell_type": "code",
   "execution_count": 15,
   "id": "4f45ac66",
   "metadata": {},
   "outputs": [
    {
     "ename": "AttributeError",
     "evalue": "'ExpenseTracker' object has no attribute 'bal_amt'",
     "output_type": "error",
     "traceback": [
      "\u001b[1;31m---------------------------------------------------------------------------\u001b[0m",
      "\u001b[1;31mAttributeError\u001b[0m                            Traceback (most recent call last)",
      "Input \u001b[1;32mIn [15]\u001b[0m, in \u001b[0;36m<cell line: 1>\u001b[1;34m()\u001b[0m\n\u001b[1;32m----> 1\u001b[0m \u001b[38;5;28;43mgetattr\u001b[39;49m\u001b[43m(\u001b[49m\u001b[43mob2\u001b[49m\u001b[43m,\u001b[49m\u001b[38;5;124;43m'\u001b[39;49m\u001b[38;5;124;43mbal_amt\u001b[39;49m\u001b[38;5;124;43m'\u001b[39;49m\u001b[43m)\u001b[49m\n",
      "\u001b[1;31mAttributeError\u001b[0m: 'ExpenseTracker' object has no attribute 'bal_amt'"
     ]
    }
   ],
   "source": [
    "getattr(ob2,'bal_amt')"
   ]
  },
  {
   "cell_type": "code",
   "execution_count": 16,
   "id": "587b7116",
   "metadata": {},
   "outputs": [
    {
     "data": {
      "text/plain": [
       "True"
      ]
     },
     "execution_count": 16,
     "metadata": {},
     "output_type": "execute_result"
    }
   ],
   "source": [
    "hasattr(ob3,\"typeE\")"
   ]
  },
  {
   "cell_type": "code",
   "execution_count": 17,
   "id": "a7feb9d7",
   "metadata": {},
   "outputs": [
    {
     "data": {
      "text/plain": [
       "False"
      ]
     },
     "execution_count": 17,
     "metadata": {},
     "output_type": "execute_result"
    }
   ],
   "source": [
    "hasattr(ob3,\"type_office\")"
   ]
  },
  {
   "cell_type": "code",
   "execution_count": 18,
   "id": "4efa2ff6",
   "metadata": {},
   "outputs": [],
   "source": [
    "delattr(ob2,\"typeE\")"
   ]
  },
  {
   "cell_type": "code",
   "execution_count": 20,
   "id": "fe9ad485",
   "metadata": {},
   "outputs": [
    {
     "data": {
      "text/plain": [
       "{'date': '15thAug', 'desc': 'Brunch', 'amt': '500'}"
      ]
     },
     "execution_count": 20,
     "metadata": {},
     "output_type": "execute_result"
    }
   ],
   "source": [
    "ob2.__dict__"
   ]
  },
  {
   "cell_type": "markdown",
   "id": "1ee98304",
   "metadata": {},
   "source": [
    "# ------------------------------------------------------------------------------------------"
   ]
  },
  {
   "cell_type": "code",
   "execution_count": 23,
   "id": "f17ad39f",
   "metadata": {},
   "outputs": [
    {
     "name": "stdout",
     "output_type": "stream",
     "text": [
      "Rohan Rohan "
     ]
    }
   ],
   "source": [
    "class Student:\n",
    "     name = 'Rohan'\n",
    "     age = 16\n",
    "s1 = Student()\n",
    "s2 = Student()\n",
    "print(s1.name,end=\" \")\n",
    "print(s2.name,end=\" \")"
   ]
  },
  {
   "cell_type": "code",
   "execution_count": 24,
   "id": "f521b96c",
   "metadata": {},
   "outputs": [
    {
     "name": "stdout",
     "output_type": "stream",
     "text": [
      "58\n"
     ]
    }
   ],
   "source": [
    "class Student:\n",
    "    pp = 50\n",
    "\n",
    "s1 = Student()\n",
    "s1.pp= 58\n",
    "s2 = Student()\n",
    "s2.pp = 60\n",
    "print(s1.pp)"
   ]
  },
  {
   "cell_type": "code",
   "execution_count": 25,
   "id": "f71f9b78",
   "metadata": {},
   "outputs": [
    {
     "name": "stdout",
     "output_type": "stream",
     "text": [
      "Parikh 60\n"
     ]
    }
   ],
   "source": [
    "class Student:\n",
    "    name = \"Parikh\"\n",
    "    def store_details(self):\n",
    "        self.age = 60\n",
    "    def print_details(self):\n",
    "        print(self.name, end=\" \")\n",
    "        print(self.age)\n",
    "s = Student()\n",
    "s.store_details()\n",
    "s.print_details()"
   ]
  },
  {
   "cell_type": "code",
   "execution_count": 27,
   "id": "04794d85",
   "metadata": {},
   "outputs": [
    {
     "ename": "AttributeError",
     "evalue": "'Student' object has no attribute 'age'",
     "output_type": "error",
     "traceback": [
      "\u001b[1;31m---------------------------------------------------------------------------\u001b[0m",
      "\u001b[1;31mAttributeError\u001b[0m                            Traceback (most recent call last)",
      "Input \u001b[1;32mIn [27]\u001b[0m, in \u001b[0;36m<cell line: 10>\u001b[1;34m()\u001b[0m\n\u001b[0;32m      8\u001b[0m s\u001b[38;5;241m.\u001b[39mstore_details()\n\u001b[0;32m      9\u001b[0m s1 \u001b[38;5;241m=\u001b[39m Student()\n\u001b[1;32m---> 10\u001b[0m \u001b[43ms1\u001b[49m\u001b[38;5;241;43m.\u001b[39;49m\u001b[43mprint_age\u001b[49m\u001b[43m(\u001b[49m\u001b[43m)\u001b[49m\n",
      "Input \u001b[1;32mIn [27]\u001b[0m, in \u001b[0;36mStudent.print_age\u001b[1;34m(self)\u001b[0m\n\u001b[0;32m      5\u001b[0m \u001b[38;5;28;01mdef\u001b[39;00m \u001b[38;5;21mprint_age\u001b[39m(\u001b[38;5;28mself\u001b[39m):\n\u001b[1;32m----> 6\u001b[0m     \u001b[38;5;28mprint\u001b[39m(\u001b[38;5;28;43mself\u001b[39;49m\u001b[38;5;241;43m.\u001b[39;49m\u001b[43mage\u001b[49m)\n",
      "\u001b[1;31mAttributeError\u001b[0m: 'Student' object has no attribute 'age'"
     ]
    }
   ],
   "source": [
    "class Student:\n",
    "    name = 'Parikh'\n",
    "    def store_details(self):\n",
    "        self.age = 60\n",
    "    def print_age(self):\n",
    "        print(self.age)\n",
    "s = Student()\n",
    "s.store_details()\n",
    "s1 = Student()\n",
    "s1.print_age()"
   ]
  },
  {
   "cell_type": "code",
   "execution_count": 2,
   "id": "debb9cbb",
   "metadata": {},
   "outputs": [
    {
     "ename": "TypeError",
     "evalue": "__init__() missing 2 required positional arguments: 'name' and 'age'",
     "output_type": "error",
     "traceback": [
      "\u001b[1;31m---------------------------------------------------------------------------\u001b[0m",
      "\u001b[1;31mTypeError\u001b[0m                                 Traceback (most recent call last)",
      "Input \u001b[1;32mIn [2]\u001b[0m, in \u001b[0;36m<cell line: 12>\u001b[1;34m()\u001b[0m\n\u001b[0;32m      8\u001b[0m         \u001b[38;5;28mprint\u001b[39m(\u001b[38;5;28mself\u001b[39m\u001b[38;5;241m.\u001b[39mname, end\u001b[38;5;241m=\u001b[39m \u001b[38;5;124m\"\u001b[39m\u001b[38;5;124m \u001b[39m\u001b[38;5;124m\"\u001b[39m)\n\u001b[0;32m      9\u001b[0m         \u001b[38;5;28mprint\u001b[39m(\u001b[38;5;28mself\u001b[39m\u001b[38;5;241m.\u001b[39mage)\n\u001b[1;32m---> 12\u001b[0m s \u001b[38;5;241m=\u001b[39m \u001b[43mStudent\u001b[49m\u001b[43m(\u001b[49m\u001b[43m)\u001b[49m\n\u001b[0;32m     13\u001b[0m s\u001b[38;5;241m.\u001b[39mprint_student_details()\n",
      "\u001b[1;31mTypeError\u001b[0m: __init__() missing 2 required positional arguments: 'name' and 'age'"
     ]
    }
   ],
   "source": [
    "class Student:\n",
    "\n",
    "    def __init__(self,name,age):\n",
    "        self.name = \"Rohan\"\n",
    "        self.age = 20\n",
    "\n",
    "    def print_student_details():\n",
    "        print(self.name, end= \" \")\n",
    "        print(self.age)\n",
    "\n",
    "\n",
    "s = Student()\n",
    "s.print_student_details()"
   ]
  },
  {
   "cell_type": "code",
   "execution_count": 4,
   "id": "00e11659",
   "metadata": {},
   "outputs": [
    {
     "name": "stdout",
     "output_type": "stream",
     "text": [
      "Rohan 20\n"
     ]
    }
   ],
   "source": [
    "class Student:\n",
    "    def __init__(self,name,age):\n",
    "        self.name = 'Rohan'\n",
    "        self.age = 20\n",
    "\n",
    "    def print_student_details():\n",
    "        print(self.name, end= \" \")\n",
    "        print(self.age)\n",
    "s = Student(\"Parikh\",25)\n",
    "s.print_student_details()"
   ]
  },
  {
   "cell_type": "code",
   "execution_count": 5,
   "id": "6311a53e",
   "metadata": {},
   "outputs": [
    {
     "name": "stdout",
     "output_type": "stream",
     "text": [
      "Rohan 60\n"
     ]
    }
   ],
   "source": [
    "class Student:\n",
    "    def __init__(self,name,age):\n",
    "        self.name = name\n",
    "        self.age = age\n",
    "    def print_student_details(self):\n",
    "        print(self.name, end= \" \")\n",
    "        print(self.age)\n",
    "\n",
    "s = Student('Rohan',60)\n",
    "s.print_student_details()"
   ]
  },
  {
   "cell_type": "code",
   "execution_count": 29,
   "id": "6ef3c55d",
   "metadata": {},
   "outputs": [
    {
     "name": "stdout",
     "output_type": "stream",
     "text": [
      "True\n"
     ]
    }
   ],
   "source": [
    "class Student:\n",
    "      def __init__(self,name,age):\n",
    "          self.name = name\n",
    "          self.age = age\n",
    "    \n",
    "      def print_student_details():\n",
    "          print(self.name, end=\" \" )\n",
    "          print(self.age)\n",
    "            \n",
    "\n",
    "      @staticmethod\n",
    "      def isTeen(age):\n",
    "            return age>16\n",
    "\n",
    "a = Student.isTeen(18)\n",
    "print(a)\n"
   ]
  },
  {
   "cell_type": "code",
   "execution_count": 32,
   "id": "2b5a3154",
   "metadata": {},
   "outputs": [
    {
     "ename": "AttributeError",
     "evalue": "'Student' object has no attribute 'name'",
     "output_type": "error",
     "traceback": [
      "\u001b[1;31m---------------------------------------------------------------------------\u001b[0m",
      "\u001b[1;31mAttributeError\u001b[0m                            Traceback (most recent call last)",
      "Input \u001b[1;32mIn [32]\u001b[0m, in \u001b[0;36m<cell line: 14>\u001b[1;34m()\u001b[0m\n\u001b[0;32m     10\u001b[0m         \u001b[38;5;28mprint\u001b[39m(\u001b[38;5;28mself\u001b[39m\u001b[38;5;241m.\u001b[39mage)\n\u001b[0;32m     13\u001b[0m s \u001b[38;5;241m=\u001b[39m Student(\u001b[38;5;124m\"\u001b[39m\u001b[38;5;124mRohan\u001b[39m\u001b[38;5;124m\"\u001b[39m,\u001b[38;5;241m20\u001b[39m)\n\u001b[1;32m---> 14\u001b[0m \u001b[38;5;28mprint\u001b[39m(\u001b[43ms\u001b[49m\u001b[38;5;241;43m.\u001b[39;49m\u001b[43mname\u001b[49m)\n",
      "\u001b[1;31mAttributeError\u001b[0m: 'Student' object has no attribute 'name'"
     ]
    }
   ],
   "source": [
    "class Student:\n",
    "    def __init__(self,name,age):\n",
    "        \n",
    "        self.__name = name\n",
    "        self.age = age\n",
    "        \n",
    "    \n",
    "    def print_student_details():\n",
    "        print(self.__name, end= \" \")\n",
    "        print(self.age)\n",
    "\n",
    "        \n",
    "s = Student(\"Rohan\",20)\n",
    "print(s.name)"
   ]
  },
  {
   "cell_type": "code",
   "execution_count": 33,
   "id": "78d30a45",
   "metadata": {},
   "outputs": [
    {
     "name": "stdout",
     "output_type": "stream",
     "text": [
      "Rohan 20\n"
     ]
    }
   ],
   "source": [
    "class Student:\n",
    "    def __init__(self,name,age):\n",
    "        self.__name = name\n",
    "        self.age = age\n",
    "    \n",
    "       \n",
    "    def print_student_details(self):\n",
    "        print(self.__name, end= \n",
    "             ' ')\n",
    "        print(self.age)\n",
    "s = Student(\"Rohan\",20)\n",
    "s.print_student_details()"
   ]
  },
  {
   "cell_type": "markdown",
   "id": "b3e83c7f",
   "metadata": {},
   "source": [
    "# ---------------------------------------------------------------------------------------------------------------"
   ]
  },
  {
   "cell_type": "code",
   "execution_count": 43,
   "id": "5fba66a6",
   "metadata": {},
   "outputs": [],
   "source": [
    "class ExpenseTracker:\n",
    "    #class attribute\n",
    "    expense_tracker_version=0.1\n",
    "    \n",
    "    \n",
    "    def __init__(self, Name, typeEx, amount):\n",
    "        #instance /object attributes\n",
    "        \n",
    "        #public attribute        \n",
    "        self.Name=Name\n",
    "        \n",
    "        #private\n",
    "        self.__typeEx=typeEx\n",
    "        self.__amount=amount\n",
    "        \n",
    "    \n",
    "    #instance method \n",
    "    #private method\n",
    "    def __get_detailsEx(self):\n",
    "        return self.amount\n",
    "    \n",
    "   #instance  method\n",
    "    def check_amount(self,limit=1000):\n",
    "        if self.amount >= limit:\n",
    "            return True\n",
    "        \n",
    "        else:\n",
    "            return \"Low opening balance\"\n",
    "        \n",
    "    @staticmethod\n",
    "    def convert_amount(amount):\n",
    "        return float(amount)\n",
    "    \n",
    "    #Factory method\n",
    "    @classmethod\n",
    "    \n",
    "    def get_attr_fromstring(cls, entry:str):\n",
    "        Name, typeEx, amount = entry.split(\" \")\n",
    "        \n",
    "        return ExpenseTracker(Name.capitalize(),\n",
    "                             typeEx.capitalize(),\n",
    "                             cls.convert_amount(amount))\n",
    "        "
   ]
  },
  {
   "cell_type": "code",
   "execution_count": 49,
   "id": "a5c70e91",
   "metadata": {},
   "outputs": [],
   "source": [
    "home=ExpenseTracker('shivani','food',500)"
   ]
  },
  {
   "cell_type": "code",
   "execution_count": 50,
   "id": "9a303b03",
   "metadata": {},
   "outputs": [
    {
     "data": {
      "text/plain": [
       "'shivani'"
      ]
     },
     "execution_count": 50,
     "metadata": {},
     "output_type": "execute_result"
    }
   ],
   "source": [
    "#accessing public attribute\n",
    "home.Name"
   ]
  },
  {
   "cell_type": "code",
   "execution_count": 52,
   "id": "25bb9e58",
   "metadata": {},
   "outputs": [
    {
     "data": {
      "text/plain": [
       "'food'"
      ]
     },
     "execution_count": 52,
     "metadata": {},
     "output_type": "execute_result"
    }
   ],
   "source": [
    "#accessing private attribute should not work but is working wrog output\n",
    "home.typeEx\n"
   ]
  },
  {
   "cell_type": "code",
   "execution_count": 53,
   "id": "af73d77c",
   "metadata": {},
   "outputs": [
    {
     "data": {
      "text/plain": [
       "{'Name': 'shivani', 'typeEx': 'food', 'amount': 500}"
      ]
     },
     "execution_count": 53,
     "metadata": {},
     "output_type": "execute_result"
    }
   ],
   "source": [
    "home.__dict__"
   ]
  },
  {
   "cell_type": "code",
   "execution_count": null,
   "id": "e5665a8c",
   "metadata": {},
   "outputs": [],
   "source": []
  },
  {
   "cell_type": "code",
   "execution_count": null,
   "id": "7fe31979",
   "metadata": {},
   "outputs": [],
   "source": []
  },
  {
   "cell_type": "code",
   "execution_count": 45,
   "id": "fa58ba44",
   "metadata": {},
   "outputs": [],
   "source": [
    "cobj= ExpenseTracker.get_attr_fromstring(\"shivani shopping 5000\")"
   ]
  },
  {
   "cell_type": "code",
   "execution_count": 46,
   "id": "7e9274a8",
   "metadata": {},
   "outputs": [
    {
     "data": {
      "text/plain": [
       "{'Name': 'Shivani', 'typeEx': 'Shopping', 'amount': 5000.0}"
      ]
     },
     "execution_count": 46,
     "metadata": {},
     "output_type": "execute_result"
    }
   ],
   "source": [
    "cobj.__dict__"
   ]
  },
  {
   "cell_type": "code",
   "execution_count": 47,
   "id": "4f4ac9b8",
   "metadata": {},
   "outputs": [
    {
     "data": {
      "text/plain": [
       "'Shivani'"
      ]
     },
     "execution_count": 47,
     "metadata": {},
     "output_type": "execute_result"
    }
   ],
   "source": [
    "cobj.Name"
   ]
  },
  {
   "cell_type": "code",
   "execution_count": null,
   "id": "bfebdc55",
   "metadata": {},
   "outputs": [],
   "source": []
  },
  {
   "cell_type": "code",
   "execution_count": 38,
   "id": "acf49ceb",
   "metadata": {},
   "outputs": [],
   "source": [
    "o1=ExpenseTracker('abc','home',1050)"
   ]
  },
  {
   "cell_type": "code",
   "execution_count": 39,
   "id": "b9b42d27",
   "metadata": {},
   "outputs": [
    {
     "data": {
      "text/plain": [
       "1050"
      ]
     },
     "execution_count": 39,
     "metadata": {},
     "output_type": "execute_result"
    }
   ],
   "source": [
    "o1.get_detailsEx()"
   ]
  },
  {
   "cell_type": "code",
   "execution_count": 42,
   "id": "ddda6372",
   "metadata": {},
   "outputs": [
    {
     "data": {
      "text/plain": [
       "1111.0"
      ]
     },
     "execution_count": 42,
     "metadata": {},
     "output_type": "execute_result"
    }
   ],
   "source": [
    "o1.convert_amount(1111)"
   ]
  },
  {
   "cell_type": "code",
   "execution_count": 25,
   "id": "4f52b458",
   "metadata": {},
   "outputs": [
    {
     "data": {
      "text/plain": [
       "True"
      ]
     },
     "execution_count": 25,
     "metadata": {},
     "output_type": "execute_result"
    }
   ],
   "source": [
    "o1.check_amount() "
   ]
  },
  {
   "cell_type": "code",
   "execution_count": 26,
   "id": "1a9ea9a1",
   "metadata": {},
   "outputs": [
    {
     "data": {
      "text/plain": [
       "'Low opening balance'"
      ]
     },
     "execution_count": 26,
     "metadata": {},
     "output_type": "execute_result"
    }
   ],
   "source": [
    "o1.check_amount(limit=1500)"
   ]
  }
 ],
 "metadata": {
  "kernelspec": {
   "display_name": "Python 3 (ipykernel)",
   "language": "python",
   "name": "python3"
  },
  "language_info": {
   "codemirror_mode": {
    "name": "ipython",
    "version": 3
   },
   "file_extension": ".py",
   "mimetype": "text/x-python",
   "name": "python",
   "nbconvert_exporter": "python",
   "pygments_lexer": "ipython3",
   "version": "3.9.12"
  }
 },
 "nbformat": 4,
 "nbformat_minor": 5
}
