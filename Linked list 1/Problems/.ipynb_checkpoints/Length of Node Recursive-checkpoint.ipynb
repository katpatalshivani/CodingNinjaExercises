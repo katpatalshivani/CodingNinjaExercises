{
 "cells": [
  {
   "cell_type": "code",
   "execution_count": null,
   "id": "5335e56c",
   "metadata": {},
   "outputs": [],
   "source": [
    "setrecursionlimit(10**6)\n",
    "class Node:\n",
    "    def __init__(self,data):\n",
    "        self.data= data\n",
    "        self.next=None\n",
    "        \n",
    "def LengthRecur(head):\n",
    "    \n",
    "    if head is None or head.next is None:\n",
    "        return 0\n",
    "    \n",
    "    else:\n",
    "        return 1+LengthRecur(head.next)\n",
    "    \n",
    "def getCount():\n",
    "       return LengthRecur(head)\n",
    "        \n",
    "        \n",
    "def takeInput():\n",
    "    head=None\n",
    "    tail=None\n",
    "    \n",
    "    li=[int(x) for x in input().split()]\n",
    "    \n",
    "    i=0\n",
    "    \n",
    "    while i<len(li) and li[i]!= -1:\n",
    "        data=li[i]\n",
    "        newNode = Node(data)\n",
    "        \n",
    "        \n",
    "        if head is None:\n",
    "            head=newNode\n",
    "            tail=newNode\n",
    "        \n",
    "        else:\n",
    "            newNode.next=tail\n",
    "            tail=newNode\n",
    "        i=i+1\n",
    "    \n",
    "    return head\n",
    "\n",
    "def printOp(head):\n",
    "    temp=head\n",
    "    while temp is not None:\n",
    "        print (temp.data, end=\" -> \")\n",
    "        temp=temp.next\n",
    "\n",
    "head= takeInput()\n",
    "head=getCount(head)\n",
    "printOp(head)\n",
    "        \n",
    "    \n",
    "    "
   ]
  },
  {
   "cell_type": "code",
   "execution_count": null,
   "id": "3af7874b",
   "metadata": {},
   "outputs": [],
   "source": []
  },
  {
   "cell_type": "code",
   "execution_count": null,
   "id": "de559203",
   "metadata": {},
   "outputs": [],
   "source": []
  }
 ],
 "metadata": {
  "kernelspec": {
   "display_name": "Python 3 (ipykernel)",
   "language": "python",
   "name": "python3"
  },
  "language_info": {
   "codemirror_mode": {
    "name": "ipython",
    "version": 3
   },
   "file_extension": ".py",
   "mimetype": "text/x-python",
   "name": "python",
   "nbconvert_exporter": "python",
   "pygments_lexer": "ipython3",
   "version": "3.9.12"
  }
 },
 "nbformat": 4,
 "nbformat_minor": 5
}
