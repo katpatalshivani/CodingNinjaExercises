{
 "cells": [
  {
   "cell_type": "code",
   "execution_count": 15,
   "id": "3dc3418c",
   "metadata": {},
   "outputs": [
    {
     "name": "stdout",
     "output_type": "stream",
     "text": [
      "1 11 3 6 8 0 9 -1\n"
     ]
    },
    {
     "ename": "AttributeError",
     "evalue": "'int' object has no attribute 'next'",
     "output_type": "error",
     "traceback": [
      "\u001b[1;31m---------------------------------------------------------------------------\u001b[0m",
      "\u001b[1;31mAttributeError\u001b[0m                            Traceback (most recent call last)",
      "Input \u001b[1;32mIn [15]\u001b[0m, in \u001b[0;36m<cell line: 88>\u001b[1;34m()\u001b[0m\n\u001b[0;32m     83\u001b[0m     \u001b[38;5;28mprint\u001b[39m()\n\u001b[0;32m     87\u001b[0m head \u001b[38;5;241m=\u001b[39m takeInput()\n\u001b[1;32m---> 88\u001b[0m newHead \u001b[38;5;241m=\u001b[39m \u001b[43mevenAfterOdd\u001b[49m\u001b[43m(\u001b[49m\u001b[43mhead\u001b[49m\u001b[43m)\u001b[49m\n\u001b[0;32m     89\u001b[0m printLinkedList(newHead)\n",
      "Input \u001b[1;32mIn [15]\u001b[0m, in \u001b[0;36mevenAfterOdd\u001b[1;34m(head)\u001b[0m\n\u001b[0;32m     34\u001b[0m     et\u001b[38;5;241m.\u001b[39mnext \u001b[38;5;241m=\u001b[39m \u001b[38;5;28;01mNone\u001b[39;00m\n\u001b[0;32m     36\u001b[0m \u001b[38;5;28;01melse\u001b[39;00m:\n\u001b[1;32m---> 37\u001b[0m     ot\u001b[38;5;241m.\u001b[39mnext\u001b[38;5;241m=\u001b[39mhead\u001b[38;5;241m.\u001b[39mdata\n\u001b[0;32m     38\u001b[0m     ot\u001b[38;5;241m=\u001b[39mhead\u001b[38;5;241m.\u001b[39mdata\n\u001b[0;32m     39\u001b[0m     ot\u001b[38;5;241m.\u001b[39mnext\u001b[38;5;241m=\u001b[39m\u001b[38;5;28;01mNone\u001b[39;00m\n",
      "\u001b[1;31mAttributeError\u001b[0m: 'int' object has no attribute 'next'"
     ]
    }
   ],
   "source": [
    "from sys import stdin\n",
    "\n",
    "#Following is the Node class already written for the Linked List\n",
    "class Node :\n",
    "    def __init__(self, data) :\n",
    "        self.data = data\n",
    "        self.next = None\n",
    "\n",
    "\n",
    "def evenAfterOdd(head) :\n",
    "    #Your code goes here\n",
    "    \n",
    "    if head is None or head.next is None:\n",
    "        return None\n",
    "    evenStart = None\n",
    "     \n",
    "    evenEnd = None\n",
    "     \n",
    "    oddStart = None\n",
    "    \n",
    "    oddEnd = None\n",
    "     \n",
    "    \n",
    "    currNode = head\n",
    "     \n",
    "    while(currNode != None):\n",
    "        val = currNode.data\n",
    "         \n",
    "        # If current value is even, add\n",
    "        # it to even values list.\n",
    "        if(val % 2 == 0):\n",
    "            if(evenStart == None):\n",
    "                evenStart = currNode\n",
    "                evenEnd = evenStart\n",
    "            else:\n",
    "                evenEnd . next = currNode\n",
    "                evenEnd = evenEnd . next\n",
    "         \n",
    "       \n",
    "        else:\n",
    "            if(oddStart == None):\n",
    "                oddStart = currNode\n",
    "                oddEnd = oddStart\n",
    "            else:\n",
    "                oddEnd . next = currNode\n",
    "                oddEnd = oddEnd . next\n",
    "                 \n",
    "       \n",
    "        currNode = currNode . next\n",
    "     \n",
    "    # If either odd list or even list is empty,\n",
    "    # no change is required as all elements\n",
    "    # are either even or odd.\n",
    "   # if(oddStart == None or evenStart == None):\n",
    "      #  return\n",
    "    \n",
    "    if oddStart is None and evenStart is not None:\n",
    "        evenEnd.next= None\n",
    "        return evenStart\n",
    "    \n",
    "    elif evenStart is None and oddStart is not None:\n",
    "        oddEnd.next = None\n",
    "        return oddStart\n",
    "        \n",
    "    # Add odd list after even list\n",
    "    else:  \n",
    "        oddEnd . next = evenStart\n",
    "        evenEnd . next = None\n",
    "    return oddStart\n",
    "\n",
    "\n",
    "#to print the linked list \n",
    "def printLinkedList(head) :\n",
    "\n",
    "    while head is not None :\n",
    "        print(head.data, end = \" \")\n",
    "        head = head.next\n",
    "\n",
    "    print()\n",
    "\n",
    "\n",
    "\n",
    "head = takeInput()\n",
    "newHead = evenAfterOdd(head)\n",
    "printLinkedList(newHead)  \n",
    "    \n",
    "   "
   ]
  },
  {
   "cell_type": "code",
   "execution_count": null,
   "id": "20258346",
   "metadata": {},
   "outputs": [],
   "source": []
  }
 ],
 "metadata": {
  "kernelspec": {
   "display_name": "Python 3 (ipykernel)",
   "language": "python",
   "name": "python3"
  },
  "language_info": {
   "codemirror_mode": {
    "name": "ipython",
    "version": 3
   },
   "file_extension": ".py",
   "mimetype": "text/x-python",
   "name": "python",
   "nbconvert_exporter": "python",
   "pygments_lexer": "ipython3",
   "version": "3.9.12"
  }
 },
 "nbformat": 4,
 "nbformat_minor": 5
}
