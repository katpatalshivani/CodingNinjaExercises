{
 "cells": [
  {
   "cell_type": "code",
   "execution_count": 13,
   "id": "488ce6d6",
   "metadata": {},
   "outputs": [
    {
     "name": "stdout",
     "output_type": "stream",
     "text": [
      "1 2 3 4 5 -1\n",
      "3\n",
      "2\n"
     ]
    }
   ],
   "source": [
    "# Following is the Node class already written for the Linked List\n",
    "class Node :\n",
    "    def __init__(self, data) :\n",
    "        self.data = data\n",
    "        self.next = None\n",
    "\n",
    "\n",
    "def findNode(head, n) :\n",
    "    # Write your code here.\n",
    "    i=0\n",
    "    curr=head\n",
    "    while curr is not None:\n",
    "        if curr.data==n:\n",
    "            \n",
    "            return i\n",
    "        \n",
    "        else:\n",
    "            i=i+1\n",
    "            curr=curr.next\n",
    "            \n",
    "            \n",
    "    return -1\n",
    "            \n",
    "    \n",
    "\n",
    "\n",
    "\n",
    "\n",
    "\n",
    "\n",
    "\n",
    "def takeInput():\n",
    "    head = None\n",
    "    tail = None\n",
    "    \n",
    "    li=[int(x) for x in input().split()]\n",
    "    \n",
    "    i=0\n",
    "    \n",
    "    while i<len(li) and li[i]!=-1:\n",
    "        data=li[i]\n",
    "        newNode=Node(data)\n",
    "        \n",
    "        if head is None:\n",
    "            head = newNode\n",
    "            tail = newNode\n",
    "            \n",
    "        else:\n",
    "            tail.next=newNode\n",
    "            tail=newNode\n",
    "        \n",
    "        i=i+1\n",
    "        \n",
    "    return head\n",
    "\n",
    "        \n",
    "    \n",
    "\n",
    "\n",
    "#main\n",
    "\n",
    "\n",
    "head = takeInput()\n",
    "n = int(input())\n",
    "\n",
    "head = findNode(head, n)\n",
    "print(head)\n",
    "\n"
   ]
  }
 ],
 "metadata": {
  "kernelspec": {
   "display_name": "Python 3 (ipykernel)",
   "language": "python",
   "name": "python3"
  },
  "language_info": {
   "codemirror_mode": {
    "name": "ipython",
    "version": 3
   },
   "file_extension": ".py",
   "mimetype": "text/x-python",
   "name": "python",
   "nbconvert_exporter": "python",
   "pygments_lexer": "ipython3",
   "version": "3.9.12"
  }
 },
 "nbformat": 4,
 "nbformat_minor": 5
}
