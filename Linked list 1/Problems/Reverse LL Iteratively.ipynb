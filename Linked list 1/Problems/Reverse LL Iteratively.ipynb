{
 "cells": [
  {
   "cell_type": "code",
   "execution_count": 7,
   "id": "643f19d1",
   "metadata": {},
   "outputs": [
    {
     "name": "stdout",
     "output_type": "stream",
     "text": [
      "1 2 3 4 5 -1\n",
      "5->4->3->2->1->None\n"
     ]
    }
   ],
   "source": [
    "class Node:\n",
    "    def __init__(self,data):\n",
    "        self.data = data\n",
    "        self.next = None\n",
    "        \n",
    "def reverseIterative(head):\n",
    "    \n",
    "    if head == None:\n",
    "          return None\n",
    "    current = head\n",
    "    next = None\n",
    "    prev = None\n",
    "    count = 0\n",
    "  \n",
    "        # Reverse first k nodes of the linked list\n",
    "    while(current is not None and count < k):\n",
    "        next = current.next\n",
    "        current.next = prev\n",
    "        prev = current\n",
    "        current = next\n",
    "        count += 1\n",
    "  \n",
    "        # next is now a pointer to (k+1)th node\n",
    "        # recursively call for the list starting\n",
    "        # from current. And make rest of the list as\n",
    "        # next of first node\n",
    "    if next is not None:\n",
    "        head.next = self.reverse(next, k)\n",
    "  \n",
    "        # prev is new head of the input list\n",
    "    return prev   \n",
    "\n",
    "\n",
    "def takeInput():\n",
    "    head=None\n",
    "    tail=None\n",
    "    \n",
    "    li=[int(x) for x in input().split()]\n",
    "    i=0\n",
    "    while i<len(li) and li[i] !=-1:\n",
    "        newNode=Node(li[i])\n",
    "        \n",
    "        \n",
    "        \n",
    "        if head is None:\n",
    "            head=newNode\n",
    "            tail=newNode\n",
    "\n",
    "        else:\n",
    "            tail.next=newNode\n",
    "            tail=newNode\n",
    "            \n",
    "        i=i+1\n",
    "    return head\n",
    "    \n",
    "def printLL(head):\n",
    "    while head is not None:\n",
    "        print(head.data,end=\"->\")\n",
    "        head=head.next\n",
    "        \n",
    "    print(\"None\")\n",
    "\n",
    "head=takeInput()\n",
    "head=reverseIterative(head)\n",
    "printLL(head)\n",
    "    \n",
    "        "
   ]
  }
 ],
 "metadata": {
  "kernelspec": {
   "display_name": "Python 3 (ipykernel)",
   "language": "python",
   "name": "python3"
  },
  "language_info": {
   "codemirror_mode": {
    "name": "ipython",
    "version": 3
   },
   "file_extension": ".py",
   "mimetype": "text/x-python",
   "name": "python",
   "nbconvert_exporter": "python",
   "pygments_lexer": "ipython3",
   "version": "3.9.12"
  }
 },
 "nbformat": 4,
 "nbformat_minor": 5
}
