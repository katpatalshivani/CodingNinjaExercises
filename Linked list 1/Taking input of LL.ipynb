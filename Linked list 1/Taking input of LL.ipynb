{
 "cells": [
  {
   "cell_type": "code",
   "execution_count": 15,
   "id": "1ecbddd7",
   "metadata": {},
   "outputs": [
    {
     "name": "stdout",
     "output_type": "stream",
     "text": [
      "1 2 3 4 5 -1\n",
      "1->2->3->4->5->None\n"
     ]
    }
   ],
   "source": [
    "class Node:\n",
    "    \n",
    "    def __init__(self,data):\n",
    "        self.data = data\n",
    "        self.next = None\n",
    "        \n",
    "def printLL(head):\n",
    "    while head is not None:\n",
    "              \n",
    "        print(str(head.data) + \"->\",end=\"\")\n",
    "        head=head.next\n",
    "    print(\"None\")\n",
    "       # return\n",
    "           \n",
    "            \n",
    "        \n",
    "def takeInput():\n",
    "    inputList = [int(ele) for ele in input().split()]\n",
    "    head = None\n",
    "     \n",
    "        \n",
    "    current= head\n",
    "    i=0\n",
    "    while i<len(inputList) :\n",
    "        newNode=Node(inputList[i])\n",
    "        if inputList[i]==-1:\n",
    "            break\n",
    "                \n",
    "        if head is None:\n",
    "            head=newNode\n",
    "            current=head\n",
    "        else:\n",
    "            current.next=newNode\n",
    "            current = current.next\n",
    "        i=i+1\n",
    "            \n",
    "    return head\n",
    "            \n",
    "            \n",
    "           \n",
    "            \n",
    "            \n",
    "       \n",
    "        \n",
    "    \n",
    "head=takeInput()\n",
    "#print(head.next.data)\n",
    "#print(head.next.next.data)\n",
    "printLL(head)\n",
    "    #printLL(head)\n",
    "                "
   ]
  },
  {
   "cell_type": "code",
   "execution_count": null,
   "id": "744cace7",
   "metadata": {},
   "outputs": [],
   "source": []
  },
  {
   "cell_type": "code",
   "execution_count": 4,
   "id": "e3ab450b",
   "metadata": {},
   "outputs": [
    {
     "name": "stdout",
     "output_type": "stream",
     "text": [
      "1 2 3 4 5 -1\n"
     ]
    },
    {
     "ename": "NameError",
     "evalue": "name 'Node' is not defined",
     "output_type": "error",
     "traceback": [
      "\u001b[1;31m---------------------------------------------------------------------------\u001b[0m",
      "\u001b[1;31mNameError\u001b[0m                                 Traceback (most recent call last)",
      "Input \u001b[1;32mIn [4]\u001b[0m, in \u001b[0;36m<cell line: 1>\u001b[1;34m()\u001b[0m\n\u001b[1;32m----> 1\u001b[0m \u001b[38;5;28;01mclass\u001b[39;00m \u001b[38;5;21;01mNode\u001b[39;00m:\n\u001b[0;32m      3\u001b[0m     \u001b[38;5;28;01mdef\u001b[39;00m \u001b[38;5;21m__init__\u001b[39m(\u001b[38;5;28mself\u001b[39m,data):\n\u001b[0;32m      4\u001b[0m         \u001b[38;5;28mself\u001b[39m\u001b[38;5;241m.\u001b[39mdata \u001b[38;5;241m=\u001b[39m data\n",
      "Input \u001b[1;32mIn [4]\u001b[0m, in \u001b[0;36mNode\u001b[1;34m()\u001b[0m\n\u001b[0;32m     36\u001b[0m             curr\u001b[38;5;241m.\u001b[39mnext\u001b[38;5;241m=\u001b[39m Newnode \n\u001b[0;32m     38\u001b[0m         \u001b[38;5;28;01mreturn\u001b[39;00m head\n\u001b[1;32m---> 42\u001b[0m head\u001b[38;5;241m=\u001b[39m\u001b[43mtakeInput\u001b[49m\u001b[43m(\u001b[49m\u001b[43m)\u001b[49m\n\u001b[0;32m     43\u001b[0m \u001b[38;5;66;03m#print(head.data)\u001b[39;00m\n\u001b[0;32m     44\u001b[0m printLL(head)\n",
      "Input \u001b[1;32mIn [4]\u001b[0m, in \u001b[0;36mNode.takeInput\u001b[1;34m()\u001b[0m\n\u001b[0;32m     23\u001b[0m \u001b[38;5;28;01mif\u001b[39;00m currData \u001b[38;5;241m==\u001b[39m \u001b[38;5;241m-\u001b[39m\u001b[38;5;241m1\u001b[39m:\n\u001b[0;32m     24\u001b[0m     \u001b[38;5;28;01mbreak\u001b[39;00m\n\u001b[1;32m---> 26\u001b[0m NewNode \u001b[38;5;241m=\u001b[39m \u001b[43mNode\u001b[49m(currData)\n\u001b[0;32m     28\u001b[0m \u001b[38;5;28;01mif\u001b[39;00m head \u001b[38;5;129;01mis\u001b[39;00m \u001b[38;5;28;01mNone\u001b[39;00m:\n\u001b[0;32m     29\u001b[0m     head\u001b[38;5;241m=\u001b[39mNewNode\n",
      "\u001b[1;31mNameError\u001b[0m: name 'Node' is not defined"
     ]
    }
   ],
   "source": [
    "class Node:\n",
    "    \n",
    "    def __init__(self,data):\n",
    "        self.data = data\n",
    "        self.next = None\n",
    "        \n",
    "    def printLL(self):\n",
    "        while head is not None:\n",
    "           \n",
    "            print(str(head.data) + \"->\",end=\"\")\n",
    "            head=head.next\n",
    "        print(\"None\")\n",
    "       # return\n",
    "           \n",
    "            \n",
    "        \n",
    "    def takeInput():\n",
    "        inputList = [int(ele) for ele in input().split()]\n",
    "        head = None\n",
    "        \n",
    "        for currData in inputList:\n",
    "            \n",
    "            if currData == -1:\n",
    "                break\n",
    "                \n",
    "            NewNode = Node(currData)\n",
    "            \n",
    "            if head is None:\n",
    "                head=NewNode\n",
    "                \n",
    "            else:\n",
    "                curr= head\n",
    "                \n",
    "                while curr.next is not None:\n",
    "                    curr=curr.next\n",
    "                curr.next= Newnode \n",
    "            \n",
    "            return head\n",
    "        \n",
    "        \n",
    "    \n",
    "    head=takeInput()\n",
    "    #print(head.data)\n",
    "    printLL(head)\n",
    "    #printLL(head)"
   ]
  }
 ],
 "metadata": {
  "kernelspec": {
   "display_name": "Python 3 (ipykernel)",
   "language": "python",
   "name": "python3"
  },
  "language_info": {
   "codemirror_mode": {
    "name": "ipython",
    "version": 3
   },
   "file_extension": ".py",
   "mimetype": "text/x-python",
   "name": "python",
   "nbconvert_exporter": "python",
   "pygments_lexer": "ipython3",
   "version": "3.9.12"
  }
 },
 "nbformat": 4,
 "nbformat_minor": 5
}
