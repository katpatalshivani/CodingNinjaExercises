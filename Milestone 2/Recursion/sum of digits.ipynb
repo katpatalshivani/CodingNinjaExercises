{
 "cells": [
  {
   "cell_type": "code",
   "execution_count": null,
   "id": "db8af536",
   "metadata": {},
   "outputs": [],
   "source": [
    "#Sum of digits (recursive)"
   ]
  },
  {
   "cell_type": "code",
   "execution_count": 4,
   "id": "4d2cd75b",
   "metadata": {},
   "outputs": [
    {
     "name": "stdout",
     "output_type": "stream",
     "text": [
      "12345\n",
      "15\n"
     ]
    }
   ],
   "source": [
    "def sod(n):\n",
    "   # l=len(n)\n",
    "    if n==0:\n",
    "        return 0\n",
    "    \n",
    "    return n%10+sod(int(n//10))\n",
    "\n",
    "no=int(input())\n",
    "ans=sod(no)\n",
    "print(ans)"
   ]
  }
 ],
 "metadata": {
  "kernelspec": {
   "display_name": "Python 3 (ipykernel)",
   "language": "python",
   "name": "python3"
  },
  "language_info": {
   "codemirror_mode": {
    "name": "ipython",
    "version": 3
   },
   "file_extension": ".py",
   "mimetype": "text/x-python",
   "name": "python",
   "nbconvert_exporter": "python",
   "pygments_lexer": "ipython3",
   "version": "3.9.12"
  }
 },
 "nbformat": 4,
 "nbformat_minor": 5
}
