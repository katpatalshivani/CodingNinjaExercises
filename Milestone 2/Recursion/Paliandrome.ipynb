{
 "cells": [
  {
   "cell_type": "code",
   "execution_count": 6,
   "id": "49c96f36",
   "metadata": {},
   "outputs": [
    {
     "name": "stdout",
     "output_type": "stream",
     "text": [
      "True\n"
     ]
    }
   ],
   "source": [
    "def Palindrome(s):\n",
    "    if len(s)==0 or len(s)==1:\n",
    "        return True\n",
    "    \n",
    "    else:\n",
    "        if s[0] == s[-1]:\n",
    "            return Palindrome(s[1:-1])\n",
    "        else:\n",
    "            return False\n",
    "\n",
    "s=\"racecar\"\n",
    "print(Palindrome(s))\n",
    "    "
   ]
  },
  {
   "cell_type": "code",
   "execution_count": null,
   "id": "7f7581ed",
   "metadata": {},
   "outputs": [],
   "source": []
  }
 ],
 "metadata": {
  "kernelspec": {
   "display_name": "Python 3 (ipykernel)",
   "language": "python",
   "name": "python3"
  },
  "language_info": {
   "codemirror_mode": {
    "name": "ipython",
    "version": 3
   },
   "file_extension": ".py",
   "mimetype": "text/x-python",
   "name": "python",
   "nbconvert_exporter": "python",
   "pygments_lexer": "ipython3",
   "version": "3.9.12"
  }
 },
 "nbformat": 4,
 "nbformat_minor": 5
}
