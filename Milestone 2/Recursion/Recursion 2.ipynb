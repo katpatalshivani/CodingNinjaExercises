{
 "cells": [
  {
   "cell_type": "markdown",
   "id": "8deb84be",
   "metadata": {},
   "source": [
    "# Remove X\n"
   ]
  },
  {
   "cell_type": "code",
   "execution_count": 9,
   "id": "1cc961ca",
   "metadata": {},
   "outputs": [
    {
     "name": "stdout",
     "output_type": "stream",
     "text": [
      "axbx\n",
      "ab\n"
     ]
    }
   ],
   "source": [
    "def removeX(string): \n",
    "    l=len(string)\n",
    "    \n",
    "    if l==0:\n",
    "        return string\n",
    "    \n",
    "    \n",
    "    if string[0]=='x':\n",
    "        return removeX(string[1:])\n",
    "    \n",
    "    else:\n",
    "        \n",
    "        return string[0] + removeX(string[1:])\n",
    "        \n",
    "\n",
    "# Main\n",
    "string = input()\n",
    "print(removeX(string))\n"
   ]
  },
  {
   "cell_type": "markdown",
   "id": "716ed556",
   "metadata": {},
   "source": [
    "# Remove PI"
   ]
  },
  {
   "cell_type": "code",
   "execution_count": 11,
   "id": "35d329d3",
   "metadata": {},
   "outputs": [
    {
     "name": "stdout",
     "output_type": "stream",
     "text": [
      "rabpirrrtpiyyy\n",
      "rab3.14rrrt3.14yyy\n"
     ]
    }
   ],
   "source": [
    "def removePI(str):\n",
    "    \n",
    "    if len(str)==0 or len(str)==1:\n",
    "        return str\n",
    "    \n",
    "    if str[0]=='p' and str[1]=='i':\n",
    "        return '3.14'+ removePI(str[2:])\n",
    "    \n",
    "    else:\n",
    "        return str[0] + removePI(str[1:])\n",
    "    \n",
    "    \n",
    "    \n",
    "str=input()\n",
    "print(removePI(str))"
   ]
  },
  {
   "cell_type": "markdown",
   "id": "a4fa3a29",
   "metadata": {},
   "source": [
    "# Remove Duplicates Recursively\n"
   ]
  },
  {
   "cell_type": "code",
   "execution_count": 12,
   "id": "a74fc456",
   "metadata": {},
   "outputs": [
    {
     "name": "stdout",
     "output_type": "stream",
     "text": [
      "aabccba\n",
      "abcba\n"
     ]
    }
   ],
   "source": [
    "def removeConsecutiveDuplicates(string):\n",
    "    # Please add your code here\n",
    "    if len(string)==0 or len(string)==1:\n",
    "        \n",
    "        return string\n",
    "    \n",
    "    if string[0]==string[1]:\n",
    "        return removeConsecutiveDuplicates(string[1:])\n",
    "    else:\n",
    "        return string[0] + removeConsecutiveDuplicates(string[1:])\n",
    "\n",
    "# Main\n",
    "string = input().strip()\n",
    "print(removeConsecutiveDuplicates(string))\n"
   ]
  },
  {
   "cell_type": "markdown",
   "id": "87804b02",
   "metadata": {},
   "source": [
    "# Merge Sort Code"
   ]
  },
  {
   "cell_type": "code",
   "execution_count": 8,
   "id": "6ea1cd55",
   "metadata": {},
   "outputs": [
    {
     "name": "stdout",
     "output_type": "stream",
     "text": [
      "6\n",
      "2 6 8 5 4 3\n",
      "2 3 4 5 6 8\n"
     ]
    }
   ],
   "source": [
    "def merge(a1,a2,arr):\n",
    "    i=0\n",
    "    j=0\n",
    "    k=0\n",
    "    \n",
    "    while i< len(a1) and j< len(a2):\n",
    "        if(a1[i]<a2[j]):\n",
    "            arr[k]=a1[i]\n",
    "            k=k+1\n",
    "            i=i+1\n",
    "            \n",
    "        else:\n",
    "            arr[k] = a2[j]\n",
    "            k=k+1\n",
    "            j=j+1\n",
    "            \n",
    "    while i < len(a1):\n",
    "        arr[k]=a1[i]\n",
    "        k=k+1\n",
    "        i=i+1\n",
    "        \n",
    "    while j < len(a2):\n",
    "        arr[k] = a2[j]\n",
    "        k=k+1\n",
    "        j=j+1\n",
    "            \n",
    "    \n",
    "\n",
    "\n",
    "\n",
    "def mergeSort(arr):\n",
    "    # Please add your code here\n",
    "    \n",
    "    if len(arr)==0 or len(arr)==1:\n",
    "        return\n",
    "    \n",
    "    mid=len(arr)//2\n",
    "    \n",
    "    a1=arr[0:mid]\n",
    "    a2=arr[mid:]\n",
    "    #print(arr1,'\\n',arr2)\n",
    "    mergeSort(a1)\n",
    "    mergeSort(a2)\n",
    "    merge(a1,a2,arr)\n",
    "\n",
    "# Main\n",
    "n=int(input())\n",
    "arr=list(int(i) for i in input().strip().split(' '))\n",
    "mergeSort(arr)\n",
    "print(*arr)"
   ]
  },
  {
   "cell_type": "markdown",
   "id": "ff3f3ce0",
   "metadata": {},
   "source": [
    "# Quick Sort"
   ]
  },
  {
   "cell_type": "code",
   "execution_count": 2,
   "id": "b660abe7",
   "metadata": {},
   "outputs": [
    {
     "name": "stdout",
     "output_type": "stream",
     "text": [
      "6\n",
      "2 4 8 3 1 9\n",
      "1 2 3 4 8 9\n"
     ]
    }
   ],
   "source": [
    "def partition(arr, start, end):\n",
    "      pivot = arr[end]\n",
    "    #print(pivot)\n",
    "  \n",
    "   \n",
    "      i = start - 1\n",
    "\n",
    "      \n",
    "      for j in range(start, end):\n",
    "            if arr[j] <= pivot:\n",
    "                i = i + 1\n",
    "                (arr[i], arr[j]) = (arr[j], arr[i])\n",
    "\n",
    "      \n",
    "      (arr[i + 1], arr[end]) = (arr[end], arr[i + 1])\n",
    "\n",
    "     \n",
    "      return i + 1\n",
    "    \n",
    "\n",
    "\n",
    "\n",
    "\n",
    "def quickSort(arr, start, end):\n",
    "    # Please add your code here\n",
    "    if start < end:\n",
    "  \n",
    " \n",
    "        pi = partition(arr, start, end)\n",
    "\n",
    "        # Recursive call on the left of pivot\n",
    "        quickSort(arr, start, pi - 1)\n",
    "\n",
    "        # Recursive call on the right of pivot\n",
    "        quickSort(arr, pi + 1, end)\n",
    "\n",
    "\n",
    "\n",
    "\n",
    "\n",
    "\n",
    "\n",
    "\n",
    "\n",
    "\n",
    "\n",
    "\n",
    "n=int(input())\n",
    "arr=list(int(i) for i in input().strip().split(' '))\n",
    "quickSort(arr, 0, n-1)\n",
    "print(*arr)"
   ]
  },
  {
   "cell_type": "markdown",
   "id": "4450c265",
   "metadata": {},
   "source": [
    "# Tower of Hanoi"
   ]
  },
  {
   "cell_type": "code",
   "execution_count": 18,
   "id": "a7770092",
   "metadata": {},
   "outputs": [
    {
     "name": "stdout",
     "output_type": "stream",
     "text": [
      "2\n",
      "a   b\n",
      "a   b\n",
      "b   a\n"
     ]
    }
   ],
   "source": [
    "def towerofhanoi(n, a, b, c):\n",
    "    # Please add your code here\n",
    "    if n==1:\n",
    "        print(a,\" \",c)\n",
    "        return\n",
    "    \n",
    "    towerofhanoi(n-1,a,c,b)\n",
    "    \n",
    "    print(a,\" \",b)\n",
    "    \n",
    "    towerofhanoi(n-1,b,c,a)\n",
    "\n",
    "n=int(input())\n",
    "towerofhanoi(n, 'a', 'b', 'c')"
   ]
  },
  {
   "cell_type": "code",
   "execution_count": 20,
   "id": "3e48c319",
   "metadata": {},
   "outputs": [
    {
     "name": "stdout",
     "output_type": "stream",
     "text": [
      "Move disk 1 from rod A to rod C\n",
      "Move disk 2 from rod A to rod B\n",
      "Move disk 1 from rod C to rod B\n"
     ]
    }
   ],
   "source": [
    "\n",
    "# Recursive Python function to solve tower of hanoi\n",
    "  \n",
    "def TowerOfHanoi(n , from_rod, to_rod, aux_rod):\n",
    "    if n == 0:\n",
    "        return\n",
    "    TowerOfHanoi(n-1, from_rod, aux_rod, to_rod)\n",
    "    print(\"Move disk\",n,\"from rod\",from_rod,\"to rod\",to_rod)\n",
    "    TowerOfHanoi(n-1, aux_rod, to_rod, from_rod)\n",
    "          \n",
    "# Driver code\n",
    "n = 2\n",
    "TowerOfHanoi(n, 'A', 'B', 'C') \n",
    "# A, C, B are the name of rods\n",
    "  \n",
    "# Contributed By Harshit Agrawal"
   ]
  }
 ],
 "metadata": {
  "kernelspec": {
   "display_name": "Python 3 (ipykernel)",
   "language": "python",
   "name": "python3"
  },
  "language_info": {
   "codemirror_mode": {
    "name": "ipython",
    "version": 3
   },
   "file_extension": ".py",
   "mimetype": "text/x-python",
   "name": "python",
   "nbconvert_exporter": "python",
   "pygments_lexer": "ipython3",
   "version": "3.9.12"
  }
 },
 "nbformat": 4,
 "nbformat_minor": 5
}
