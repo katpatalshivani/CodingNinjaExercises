{
 "cells": [
  {
   "cell_type": "code",
   "execution_count": 3,
   "id": "dbe3c436",
   "metadata": {},
   "outputs": [
    {
     "name": "stdout",
     "output_type": "stream",
     "text": [
      "10\n"
     ]
    }
   ],
   "source": [
    "#Recursive returning the output\n",
    "\n",
    "def minList(arr):\n",
    "    if len(arr) == 1:\n",
    "        return arr[0]\n",
    "    \n",
    "    smallAns = minList(arr[1:])\n",
    "    \n",
    "    minValue = min(arr[0],smallAns)\n",
    "    return minValue\n",
    "    \n",
    "arr = [50,40,30,20,10 ]\n",
    "print(minList(arr))"
   ]
  },
  {
   "cell_type": "code",
   "execution_count": 3,
   "id": "1e6acae7",
   "metadata": {},
   "outputs": [
    {
     "name": "stdout",
     "output_type": "stream",
     "text": [
      "10\n"
     ]
    }
   ],
   "source": [
    "#Printing output using recursive function\n",
    "def minList(arr,minsofar):\n",
    "    if len(arr) == 0:\n",
    "        print(minsofar) #arr[0]\n",
    "        return\n",
    "    \n",
    "    \n",
    "    newmin = min(arr[0],minsofar)\n",
    "    \n",
    "    \n",
    "    #overallmin = minList(minsofar,arr[0])\n",
    "    \n",
    "    minList(arr[1:],newmin)\n",
    "    \n",
    "    \n",
    "    \n",
    "    \n",
    "arr = [50,40,30,20,10 ]\n",
    "minList(arr,10000000000)"
   ]
  },
  {
   "cell_type": "code",
   "execution_count": null,
   "id": "a4d9cd14",
   "metadata": {},
   "outputs": [],
   "source": []
  }
 ],
 "metadata": {
  "kernelspec": {
   "display_name": "Python 3 (ipykernel)",
   "language": "python",
   "name": "python3"
  },
  "language_info": {
   "codemirror_mode": {
    "name": "ipython",
    "version": 3
   },
   "file_extension": ".py",
   "mimetype": "text/x-python",
   "name": "python",
   "nbconvert_exporter": "python",
   "pygments_lexer": "ipython3",
   "version": "3.9.12"
  }
 },
 "nbformat": 4,
 "nbformat_minor": 5
}
