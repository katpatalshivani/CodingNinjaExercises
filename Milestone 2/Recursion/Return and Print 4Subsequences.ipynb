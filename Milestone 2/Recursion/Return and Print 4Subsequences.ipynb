{
 "cells": [
  {
   "cell_type": "code",
   "execution_count": 1,
   "id": "405b58d8",
   "metadata": {},
   "outputs": [
    {
     "name": "stdout",
     "output_type": "stream",
     "text": [
      "\n",
      "c\n",
      "b\n",
      "bc\n",
      "a\n",
      "ac\n",
      "ab\n",
      "abc\n"
     ]
    }
   ],
   "source": [
    "def subsequences(string):\n",
    "    #Implement Your Code Here\n",
    "    if len(string) == 0:\n",
    "        output = []\n",
    "        output.append(\"\")\n",
    "        return output\n",
    "    \n",
    "    \n",
    "    substring = string[1:]\n",
    "    smallOutput= subsequences(substring)\n",
    "    \n",
    "    output1=[]\n",
    "    \n",
    "    for s in smallOutput:\n",
    "        output1.append(s)\n",
    "        \n",
    "    for s in smallOutput:\n",
    "        #adding the 0th character to the smaller output\n",
    "        output1.append(string[0]+s)\n",
    "        \n",
    "    return output1\n",
    "\n",
    "\n",
    "string = \"abc\"\n",
    "ans = subsequences(string)\n",
    "for ele in ans:\n",
    "    print(ele)\n"
   ]
  },
  {
   "cell_type": "code",
   "execution_count": 1,
   "id": "ebbd8fff",
   "metadata": {},
   "outputs": [
    {
     "name": "stdout",
     "output_type": "stream",
     "text": [
      "\n",
      "c\n",
      "b\n",
      "bc\n",
      "a\n",
      "ac\n",
      "ab\n",
      "abc\n"
     ]
    }
   ],
   "source": [
    "def printSubseq(s, op):\n",
    "\n",
    "    if len(s) == 0:\n",
    "        print(op)\n",
    "        return\n",
    "\n",
    "\n",
    "    printSubseq(s[1:],op)\n",
    "    newOutput = op + s[0]\n",
    "\n",
    "    printSubseq(s[1:],newOutput)\n",
    "\n",
    "\n",
    "printSubseq(\"abc\"\"\",\"\")"
   ]
  },
  {
   "cell_type": "code",
   "execution_count": null,
   "id": "0e6bc9f5",
   "metadata": {},
   "outputs": [],
   "source": []
  }
 ],
 "metadata": {
  "kernelspec": {
   "display_name": "Python 3 (ipykernel)",
   "language": "python",
   "name": "python3"
  },
  "language_info": {
   "codemirror_mode": {
    "name": "ipython",
    "version": 3
   },
   "file_extension": ".py",
   "mimetype": "text/x-python",
   "name": "python",
   "nbconvert_exporter": "python",
   "pygments_lexer": "ipython3",
   "version": "3.9.12"
  }
 },
 "nbformat": 4,
 "nbformat_minor": 5
}
