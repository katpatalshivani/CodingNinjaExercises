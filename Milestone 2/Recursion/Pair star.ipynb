{
 "cells": [
  {
   "cell_type": "code",
   "execution_count": 5,
   "id": "af79b399",
   "metadata": {},
   "outputs": [
    {
     "name": "stdout",
     "output_type": "stream",
     "text": [
      " hel\n"
     ]
    }
   ],
   "source": [
    "def pairStar(s_in):\n",
    "    \n",
    "    if len(s_in) == 1:\n",
    "        return s_in\n",
    "    \n",
    "    s_out=\" \"\n",
    "    s_in = s_in[0:len(s_in)-2]\n",
    "    i=0\n",
    "    if len(s_in )> 1:\n",
    "        \n",
    "        if s_in[i]==s_in[i+1]:\n",
    "            s_out= s_out + s_in[i] + \"*\"+ s_in[i+1]\n",
    "            i=i+1\n",
    "        else:\n",
    "            s_out= s_out + s_in[i] +s_in[i+1]\n",
    "            i=i+1\n",
    "            \n",
    "    return s_out+ pairStar(s_in[len(s_in)-1])\n",
    "            \n",
    "    \n",
    "Input = \"hello\"\n",
    "print(pairStar(Input))\n",
    "        "
   ]
  },
  {
   "cell_type": "code",
   "execution_count": 12,
   "id": "dfa915c1",
   "metadata": {},
   "outputs": [
    {
     "name": "stdout",
     "output_type": "stream",
     "text": [
      "hello\n",
      "inp\n"
     ]
    }
   ],
   "source": [
    "def PairStar(s,si):\n",
    "    l = len(s)\n",
    "    if si == l or si == l-1:\n",
    "        return s[si]\n",
    "    \n",
    "    if s[si] == s[si+1]:\n",
    "        return s[si]+ \"*\" + PairStar(s,si+1)\n",
    "    else:\n",
    "        return s[si] + PairStar(s,si+1)\n",
    "inp=input()\n",
    "print(PairStar('inp',0))\n",
    "#print(a)"
   ]
  },
  {
   "cell_type": "code",
   "execution_count": 22,
   "id": "138f4a32",
   "metadata": {},
   "outputs": [
    {
     "name": "stdout",
     "output_type": "stream",
     "text": [
      "hello\n",
      "hel*lo\n"
     ]
    }
   ],
   "source": [
    "def pairStar(Input, Output, i = 0) :\n",
    "     \n",
    "    Output = Output + Input[i]\n",
    " \n",
    "    if (i == len(Input) - 1) :\n",
    "        print(Output)\n",
    "        return;\n",
    " \n",
    "    \n",
    "    if (Input[i] == Input[i + 1]) :\n",
    "        Output = Output + '*';\n",
    " \n",
    "    pairStar(Input, Output, i + 1);\n",
    " \n",
    "\n",
    " \n",
    "Input = input()\n",
    "Output = \"\"\n",
    "pairStar(Input, Output)\n",
    "     "
   ]
  },
  {
   "cell_type": "code",
   "execution_count": null,
   "id": "dece9ebb",
   "metadata": {},
   "outputs": [],
   "source": []
  }
 ],
 "metadata": {
  "kernelspec": {
   "display_name": "Python 3 (ipykernel)",
   "language": "python",
   "name": "python3"
  },
  "language_info": {
   "codemirror_mode": {
    "name": "ipython",
    "version": 3
   },
   "file_extension": ".py",
   "mimetype": "text/x-python",
   "name": "python",
   "nbconvert_exporter": "python",
   "pygments_lexer": "ipython3",
   "version": "3.9.12"
  }
 },
 "nbformat": 4,
 "nbformat_minor": 5
}
