{
 "cells": [
  {
   "cell_type": "code",
   "execution_count": 20,
   "id": "2e9c5d17",
   "metadata": {},
   "outputs": [
    {
     "name": "stdout",
     "output_type": "stream",
     "text": [
      "12\n",
      "2\n"
     ]
    }
   ],
   "source": [
    "def findDuplicate(arr, n) :\n",
    "   # arr=arr.sort()\n",
    "    \n",
    "    \n",
    "    sum_arr=sum(arr)\n",
    "    #print(sum_arr)\n",
    "    \n",
    "    '''\n",
    "    for i in range(0,n-1):\n",
    "        sum_arr=sum_arr+arr[i]\n",
    "    '''\n",
    "        \n",
    "        \n",
    "    c=0\n",
    "    sum_N=0  \n",
    "    for j in range(0,n-1):\n",
    "        \n",
    "        sum_N=sum_N+j\n",
    "        #print(sum_N)\n",
    "        \n",
    "    res=sum_arr-sum_N\n",
    "    print(res)\n",
    "    \n",
    "arr=[0, 2, 3, 4, 1, 2]\n",
    "n=6\n",
    "findDuplicate(arr, n)"
   ]
  },
  {
   "cell_type": "code",
   "execution_count": null,
   "id": "4d0b6c14",
   "metadata": {},
   "outputs": [],
   "source": []
  }
 ],
 "metadata": {
  "kernelspec": {
   "display_name": "Python 3 (ipykernel)",
   "language": "python",
   "name": "python3"
  },
  "language_info": {
   "codemirror_mode": {
    "name": "ipython",
    "version": 3
   },
   "file_extension": ".py",
   "mimetype": "text/x-python",
   "name": "python",
   "nbconvert_exporter": "python",
   "pygments_lexer": "ipython3",
   "version": "3.9.12"
  }
 },
 "nbformat": 4,
 "nbformat_minor": 5
}
