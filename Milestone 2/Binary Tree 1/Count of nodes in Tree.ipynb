{
 "cells": [
  {
   "cell_type": "code",
   "execution_count": 12,
   "id": "5074e1e8",
   "metadata": {},
   "outputs": [
    {
     "name": "stdout",
     "output_type": "stream",
     "text": [
      "1\n",
      "2\n",
      "4\n",
      "-1\n",
      "-1\n",
      "5\n",
      "-1\n",
      "-1\n",
      "3\n",
      "-1\n",
      "6\n",
      "-1\n",
      "-1\n",
      "Root Node = 1:Left Node  2, Right Node  3 \n",
      "Root Node = 2:Left Node  4, Right Node  5 \n",
      "Root Node = 4:\n",
      "Root Node = 5:\n",
      "Root Node = 3:Right Node  6 \n",
      "Root Node = 6:\n",
      "6\n"
     ]
    }
   ],
   "source": [
    "class BinaryTree:\n",
    "    def __init__(self,root):\n",
    "        self.data=root\n",
    "        self.left=None\n",
    "        self.right=None\n",
    "\n",
    "def CountNodes(root):\n",
    "    if root == None:\n",
    "        return 0\n",
    "    \n",
    "    lc=CountNodes(root.left)\n",
    "    rc=CountNodes(root.right)\n",
    "    \n",
    "    return 1+lc+rc\n",
    "        \n",
    "        \n",
    "def printDetailedTree(root):\n",
    "    if root == None:\n",
    "        return \n",
    "    print(\"Root Node =\",root.data,end=\":\")\n",
    "    if root.left!=None:\n",
    "        print(\"Left Node \",root.left.data,end=\", \")\n",
    "        \n",
    "    if root.right!=None:\n",
    "        print(\"Right Node \",root.right.data,end=\" \")\n",
    "        \n",
    "    print()\n",
    "        \n",
    "    printDetailedTree(root.left)\n",
    "    printDetailedTree(root.right)\n",
    "    \n",
    "    \n",
    "    \n",
    "def treeInput():\n",
    "    rootData = int(input())\n",
    "    if rootData == -1:\n",
    "        return None\n",
    "    \n",
    "    root = BinaryTree(rootData)\n",
    "    \n",
    "    leftTree = treeInput()\n",
    "    rightTree = treeInput()\n",
    "    root.left=leftTree\n",
    "    root.right=rightTree\n",
    "    \n",
    "    return root\n",
    "\n",
    "\n",
    "root=treeInput()\n",
    "printDetailedTree(root)\n",
    "print(CountNodes(root))\n",
    "\n",
    "        "
   ]
  },
  {
   "cell_type": "code",
   "execution_count": null,
   "id": "e9b21946",
   "metadata": {},
   "outputs": [],
   "source": []
  }
 ],
 "metadata": {
  "kernelspec": {
   "display_name": "Python 3 (ipykernel)",
   "language": "python",
   "name": "python3"
  },
  "language_info": {
   "codemirror_mode": {
    "name": "ipython",
    "version": 3
   },
   "file_extension": ".py",
   "mimetype": "text/x-python",
   "name": "python",
   "nbconvert_exporter": "python",
   "pygments_lexer": "ipython3",
   "version": "3.9.12"
  }
 },
 "nbformat": 4,
 "nbformat_minor": 5
}
