{
 "cells": [
  {
   "cell_type": "code",
   "execution_count": 9,
   "id": "07da2ee0",
   "metadata": {},
   "outputs": [
    {
     "name": "stdout",
     "output_type": "stream",
     "text": [
      "10\n",
      "20\n",
      "-1\n",
      "-1\n",
      "30\n",
      "-1\n",
      "-1\n"
     ]
    },
    {
     "ename": "AttributeError",
     "evalue": "'BinaryTree' object has no attribute 'data'",
     "output_type": "error",
     "traceback": [
      "\u001b[1;31m---------------------------------------------------------------------------\u001b[0m",
      "\u001b[1;31mAttributeError\u001b[0m                            Traceback (most recent call last)",
      "Input \u001b[1;32mIn [9]\u001b[0m, in \u001b[0;36m<cell line: 52>\u001b[1;34m()\u001b[0m\n\u001b[0;32m     48\u001b[0m     \u001b[38;5;28;01mreturn\u001b[39;00m root\n\u001b[0;32m     51\u001b[0m root\u001b[38;5;241m=\u001b[39mTreeInput()\n\u001b[1;32m---> 52\u001b[0m \u001b[43mPrintTree\u001b[49m\u001b[43m(\u001b[49m\u001b[43mroot\u001b[49m\u001b[43m)\u001b[49m\n\u001b[0;32m     53\u001b[0m \u001b[38;5;28mprint\u001b[39m(getSum(root))\n",
      "Input \u001b[1;32mIn [9]\u001b[0m, in \u001b[0;36mPrintTree\u001b[1;34m(root)\u001b[0m\n\u001b[0;32m     19\u001b[0m \u001b[38;5;28;01mif\u001b[39;00m root \u001b[38;5;241m==\u001b[39m \u001b[38;5;28;01mNone\u001b[39;00m:\n\u001b[0;32m     20\u001b[0m     \u001b[38;5;28;01mreturn\u001b[39;00m\n\u001b[1;32m---> 22\u001b[0m \u001b[38;5;28mprint\u001b[39m(\u001b[43mroot\u001b[49m\u001b[38;5;241;43m.\u001b[39;49m\u001b[43mdata\u001b[49m, end\u001b[38;5;241m=\u001b[39m\u001b[38;5;124m\"\u001b[39m\u001b[38;5;124m:\u001b[39m\u001b[38;5;124m\"\u001b[39m)\n\u001b[0;32m     24\u001b[0m \u001b[38;5;28;01mif\u001b[39;00m root\u001b[38;5;241m.\u001b[39mleft\u001b[38;5;241m!=\u001b[39m\u001b[38;5;28;01mNone\u001b[39;00m:\n\u001b[0;32m     25\u001b[0m     \u001b[38;5;28mprint\u001b[39m(\u001b[38;5;124m\"\u001b[39m\u001b[38;5;124mL-\u001b[39m\u001b[38;5;124m\"\u001b[39m,root\u001b[38;5;241m.\u001b[39mleft\u001b[38;5;241m.\u001b[39mdata,end\u001b[38;5;241m=\u001b[39m\u001b[38;5;124m\"\u001b[39m\u001b[38;5;124m,\u001b[39m\u001b[38;5;124m\"\u001b[39m)\n",
      "\u001b[1;31mAttributeError\u001b[0m: 'BinaryTree' object has no attribute 'data'"
     ]
    }
   ],
   "source": [
    "class BinaryTree:\n",
    "    def __init__(self,root):\n",
    "        self.root=root\n",
    "        self.left=None\n",
    "        self.right=None\n",
    "        \n",
    "def getSum(root):\n",
    "\t#Your code goes here\n",
    "    if root == None:\n",
    "        return 0\n",
    "    \n",
    "    l=getSum(root.left)\n",
    "    r=getSum(root.right)\n",
    "    \n",
    "    return root.data+l+r\n",
    "\n",
    "    \n",
    "def PrintTree(root):\n",
    "    if root == None:\n",
    "        return\n",
    "    \n",
    "    print(root.data, end=\":\")\n",
    "    \n",
    "    if root.left!=None:\n",
    "        print(\"L-\",root.left.data,end=\",\")\n",
    "        \n",
    "    if root.right!=None:\n",
    "        print(\"R-\",root.right.data, end= \" \")\n",
    "        \n",
    "    print()\n",
    "    \n",
    "    PrintTree(root.left)\n",
    "    PrintTree(root.right)\n",
    "    \n",
    "def TreeInput():\n",
    "    rootData=int(input())\n",
    "    \n",
    "    if rootData == -1:\n",
    "        return None\n",
    "    \n",
    "    root=BinaryTree(rootData)\n",
    "    \n",
    "    leftTree=TreeInput()\n",
    "    rightTree=TreeInput()\n",
    "    root.left=leftTree\n",
    "    root.right=rightTree\n",
    "    \n",
    "    return root\n",
    "\n",
    "\n",
    "root=TreeInput()\n",
    "PrintTree(root)\n",
    "print(getSum(root))\n",
    "        "
   ]
  }
 ],
 "metadata": {
  "kernelspec": {
   "display_name": "Python 3 (ipykernel)",
   "language": "python",
   "name": "python3"
  },
  "language_info": {
   "codemirror_mode": {
    "name": "ipython",
    "version": 3
   },
   "file_extension": ".py",
   "mimetype": "text/x-python",
   "name": "python",
   "nbconvert_exporter": "python",
   "pygments_lexer": "ipython3",
   "version": "3.9.12"
  }
 },
 "nbformat": 4,
 "nbformat_minor": 5
}
