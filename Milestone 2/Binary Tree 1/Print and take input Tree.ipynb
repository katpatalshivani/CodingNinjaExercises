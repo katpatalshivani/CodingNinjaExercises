{
 "cells": [
  {
   "cell_type": "code",
   "execution_count": 5,
   "id": "a75a6b74",
   "metadata": {},
   "outputs": [],
   "source": [
    "class BinaryTree:\n",
    "    def __init__(self,data):\n",
    "        self.data=data\n",
    "        self.left=None\n",
    "        self.right=None\n"
   ]
  },
  {
   "cell_type": "markdown",
   "id": "f11532e5",
   "metadata": {},
   "source": [
    "def printTree(root):\n",
    "    if root == None:\n",
    "        return\n",
    "    \n",
    "    print(root.data)\n",
    "    printTree(root.left)\n",
    "    printTree(root.right)\n",
    "        "
   ]
  },
  {
   "cell_type": "code",
   "execution_count": 6,
   "id": "7f1d839c",
   "metadata": {},
   "outputs": [],
   "source": [
    "def printDetailedTree(root):\n",
    "    if root == None:\n",
    "        return\n",
    "    \n",
    "    print(root.data,end=\":\")\n",
    "    \n",
    "    if root.left != None:\n",
    "        print(\"L \",root.left.data,end=\",\")\n",
    "        \n",
    "    if root.right!=None:\n",
    "        print(\"R \",root.right.data,end=\"\")\n",
    "        \n",
    "    print()\n",
    "    \n",
    "    printDetailedTree(root.left)\n",
    "    printDetailedTree(root.right)"
   ]
  },
  {
   "cell_type": "code",
   "execution_count": 8,
   "id": "27a061d0",
   "metadata": {},
   "outputs": [],
   "source": [
    "def treeInput():\n",
    "    rootData=int(input())\n",
    "    \n",
    "    if rootData == -1:\n",
    "        return None\n",
    "    \n",
    "    root = BinaryTree(rootData)\n",
    "    leftTree = treeInput()\n",
    "    rightTree = treeInput()\n",
    "    root.left=leftTree\n",
    "    root.right=rightTree\n",
    "    \n",
    "    return root\n",
    "   \n",
    "    "
   ]
  },
  {
   "cell_type": "markdown",
   "id": "efdbe008",
   "metadata": {},
   "source": [
    "bt1=BinaryTree(1)\n",
    "bt2=BinaryTree(2)\n",
    "bt3=BinaryTree(3)\n",
    "bt4=BinaryTree(4)\n",
    "bt5=BinaryTree(5)\n",
    "bt6=BinaryTree(6)\n"
   ]
  },
  {
   "cell_type": "markdown",
   "id": "15724428",
   "metadata": {},
   "source": [
    "bt1.left=bt2\n",
    "bt1.right=bt3\n",
    "bt2.left=bt4\n",
    "bt2.right=bt5\n",
    "bt3.right=bt6\n"
   ]
  },
  {
   "cell_type": "code",
   "execution_count": 9,
   "id": "5e18d51a",
   "metadata": {},
   "outputs": [
    {
     "name": "stdout",
     "output_type": "stream",
     "text": [
      "8\n",
      "5\n",
      "2\n",
      "-1\n",
      "-1\n",
      "6\n",
      "-1\n",
      "-1\n",
      "10\n",
      "-1\n",
      "-1\n",
      "8:L  5,R  10\n",
      "5:L  2,R  6\n",
      "2:\n",
      "6:\n",
      "10:\n"
     ]
    }
   ],
   "source": [
    "root=treeInput()\n",
    "printDetailedTree(root)"
   ]
  },
  {
   "cell_type": "code",
   "execution_count": null,
   "id": "a576b468",
   "metadata": {},
   "outputs": [],
   "source": []
  }
 ],
 "metadata": {
  "kernelspec": {
   "display_name": "Python 3 (ipykernel)",
   "language": "python",
   "name": "python3"
  },
  "language_info": {
   "codemirror_mode": {
    "name": "ipython",
    "version": 3
   },
   "file_extension": ".py",
   "mimetype": "text/x-python",
   "name": "python",
   "nbconvert_exporter": "python",
   "pygments_lexer": "ipython3",
   "version": "3.9.12"
  }
 },
 "nbformat": 4,
 "nbformat_minor": 5
}
