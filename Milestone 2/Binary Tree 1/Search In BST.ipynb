{
 "cells": [
  {
   "cell_type": "code",
   "execution_count": 9,
   "id": "8b32467c",
   "metadata": {},
   "outputs": [],
   "source": [
    "class BinaryTreeNode:\n",
    "    def __init__(self,data):\n",
    "        self.data=data\n",
    "        self.left=None\n",
    "        self.right=None"
   ]
  },
  {
   "cell_type": "code",
   "execution_count": 13,
   "id": "e31f0115",
   "metadata": {},
   "outputs": [],
   "source": [
    "import queue\n",
    "\n",
    "def takeLevelwiseInput():\n",
    "    q=queue.Queue()\n",
    "    print(\"Enter root\")\n",
    "    rootData=int(input())\n",
    "    \n",
    "    if rootData==-1:\n",
    "        return None\n",
    "    \n",
    "    root=BinaryTreeNode(rootData)\n",
    "    q.put(root)\n",
    "    \n",
    "    while not(q.empty()):\n",
    "        current_node=q.get()\n",
    "        print(\"Enter left child of\", current_node.data)\n",
    "        leftchildData=int(input())\n",
    "        \n",
    "        if leftchildData!=-1:\n",
    "            leftchild=BinaryTreeNode(leftchildData)\n",
    "            current_node.left=leftchild\n",
    "            q.put(leftchild)\n",
    "            \n",
    "        print(\"Enter right child of \",current_node.data)\n",
    "        rightchildData=int(input())\n",
    "        \n",
    "        if rightchildData!=-1:\n",
    "            rightchild=BinaryTreeNode(rightchildData)\n",
    "            current_node.right=rightchild\n",
    "            q.put(rightchild)\n",
    "            \n",
    "    return root\n",
    "       "
   ]
  },
  {
   "cell_type": "code",
   "execution_count": 14,
   "id": "4caf6581",
   "metadata": {},
   "outputs": [],
   "source": [
    "def searchInBST(root, k):\n",
    "    \n",
    "    if root==None:\n",
    "        return None\n",
    "    \n",
    "    #present=False\n",
    "    \n",
    "    if k==root.data:\n",
    "        return root\n",
    "        \n",
    "    if k< root.data:\n",
    "        return searchInBST(root.left,k)\n",
    "        \n",
    "    if k > root.data:\n",
    "        return searchInBST(root.right,k)\n",
    "        \n",
    "    \n",
    "        \n",
    "        "
   ]
  },
  {
   "cell_type": "code",
   "execution_count": 15,
   "id": "fddf8178",
   "metadata": {},
   "outputs": [
    {
     "name": "stdout",
     "output_type": "stream",
     "text": [
      "Enter root\n",
      "8\n",
      "Enter left child of 8\n",
      "5\n",
      "Enter right child of  8\n",
      "10\n",
      "Enter left child of 5\n",
      "2\n",
      "Enter right child of  5\n",
      "6\n",
      "Enter left child of 10\n",
      "-1\n",
      "Enter right child of  10\n",
      "-1\n",
      "Enter left child of 2\n",
      "-1\n",
      "Enter right child of  2\n",
      "-1\n",
      "Enter left child of 6\n",
      "-1\n",
      "Enter right child of  6\n",
      "7\n",
      "Enter left child of 7\n",
      "-1\n",
      "Enter right child of  7\n",
      "-1\n",
      "true\n"
     ]
    }
   ],
   "source": [
    "root=takeLevelwiseInput()\n",
    "k=2\n",
    "ans = searchInBST(root, k)\n",
    "if ans:\n",
    "    print(\"true\")\n",
    "else:\n",
    "    print(\"false\")\n",
    "    \n",
    "    #8 5 10 2 6 -1 -1 -1 -1 -1 7 -1 -1"
   ]
  },
  {
   "cell_type": "code",
   "execution_count": null,
   "id": "98201394",
   "metadata": {},
   "outputs": [],
   "source": []
  },
  {
   "cell_type": "code",
   "execution_count": null,
   "id": "01c5745f",
   "metadata": {},
   "outputs": [],
   "source": []
  }
 ],
 "metadata": {
  "kernelspec": {
   "display_name": "Python 3 (ipykernel)",
   "language": "python",
   "name": "python3"
  },
  "language_info": {
   "codemirror_mode": {
    "name": "ipython",
    "version": 3
   },
   "file_extension": ".py",
   "mimetype": "text/x-python",
   "name": "python",
   "nbconvert_exporter": "python",
   "pygments_lexer": "ipython3",
   "version": "3.9.12"
  }
 },
 "nbformat": 4,
 "nbformat_minor": 5
}
