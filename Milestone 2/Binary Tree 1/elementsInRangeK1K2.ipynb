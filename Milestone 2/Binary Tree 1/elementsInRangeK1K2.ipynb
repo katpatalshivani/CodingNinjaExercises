{
 "cells": [
  {
   "cell_type": "code",
   "execution_count": 5,
   "id": "6e127776",
   "metadata": {},
   "outputs": [],
   "source": [
    "class BinaryTreeNode:\n",
    "    def __init__(self,data):\n",
    "        self.data=data\n",
    "        self.left=None\n",
    "        self.right=None"
   ]
  },
  {
   "cell_type": "code",
   "execution_count": 6,
   "id": "becca1a8",
   "metadata": {},
   "outputs": [],
   "source": [
    "import queue\n",
    "\n",
    "def takeLevelwiseInput():\n",
    "    q=queue.Queue()\n",
    "    print(\"Enter root\")\n",
    "    rootData=int(input())\n",
    "    \n",
    "    if rootData==-1:\n",
    "        return None\n",
    "    \n",
    "    root=BinaryTreeNode(rootData)\n",
    "    q.put(root)\n",
    "    \n",
    "    while not(q.empty()):\n",
    "        current_node=q.get()\n",
    "        print(\"Enter left child of\", current_node.data)\n",
    "        leftchildData=int(input())\n",
    "        \n",
    "        if leftchildData!=-1:\n",
    "            leftchild=BinaryTreeNode(leftchildData)\n",
    "            current_node.left=leftchild\n",
    "            q.put(leftchild)\n",
    "            \n",
    "        print(\"Enter right child of \",current_node.data)\n",
    "        rightchildData=int(input())\n",
    "        \n",
    "        if rightchildData!=-1:\n",
    "            rightchild=BinaryTreeNode(rightchildData)\n",
    "            current_node.right=rightchild\n",
    "            q.put(rightchild)\n",
    "            \n",
    "    return root\n",
    "       "
   ]
  },
  {
   "cell_type": "code",
   "execution_count": 7,
   "id": "0028cf8f",
   "metadata": {},
   "outputs": [],
   "source": [
    "def elementsInRangeK1K2(root, k1, k2):\n",
    "    if root == None:\n",
    "        return None\n",
    "    \n",
    "    if root.data <k1:\n",
    "        elementsInRangeK1K2(root.right, k1, k2)\n",
    "        \n",
    "    elif root.data > k2:\n",
    "        elementsInRangeK1K2(root.left, k1, k2)\n",
    "        \n",
    "    else:\n",
    "        print(root.data, end = \" \")\n",
    "        elementsInRangeK1K2(root.left, k1, k2)\n",
    "        elementsInRangeK1K2(root.right, k1, k2)\n",
    "    "
   ]
  },
  {
   "cell_type": "code",
   "execution_count": 8,
   "id": "6d192c38",
   "metadata": {},
   "outputs": [
    {
     "name": "stdout",
     "output_type": "stream",
     "text": [
      "Enter root\n",
      "8\n",
      "Enter left child of 8\n",
      "5\n",
      "Enter right child of  8\n",
      "10\n",
      "Enter left child of 5\n",
      "2\n",
      "Enter right child of  5\n",
      "6\n",
      "Enter left child of 10\n",
      "-1\n",
      "Enter right child of  10\n",
      "-1\n",
      "Enter left child of 2\n",
      "-1\n",
      "Enter right child of  2\n",
      "-1\n",
      "Enter left child of 6\n",
      "-1\n",
      "Enter right child of  6\n",
      "-1\n",
      "8 10 "
     ]
    }
   ],
   "source": [
    "root = takeLevelwiseInput()\n",
    "k1, k2 = 6,10\n",
    "elementsInRangeK1K2(root, k1, k2)"
   ]
  },
  {
   "cell_type": "code",
   "execution_count": null,
   "id": "45cd2582",
   "metadata": {},
   "outputs": [],
   "source": []
  }
 ],
 "metadata": {
  "kernelspec": {
   "display_name": "Python 3 (ipykernel)",
   "language": "python",
   "name": "python3"
  },
  "language_info": {
   "codemirror_mode": {
    "name": "ipython",
    "version": 3
   },
   "file_extension": ".py",
   "mimetype": "text/x-python",
   "name": "python",
   "nbconvert_exporter": "python",
   "pygments_lexer": "ipython3",
   "version": "3.9.12"
  }
 },
 "nbformat": 4,
 "nbformat_minor": 5
}
