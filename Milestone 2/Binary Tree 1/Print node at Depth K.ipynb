{
 "cells": [
  {
   "cell_type": "code",
   "execution_count": 9,
   "id": "1f02a4e0",
   "metadata": {},
   "outputs": [],
   "source": [
    "class BinaryTreeNode:\n",
    "    def __init__(self,data):\n",
    "        self.data=data\n",
    "        self.left=None\n",
    "        self.right=None\n",
    "        \n",
    "\n",
    "\n"
   ]
  },
  {
   "cell_type": "code",
   "execution_count": 10,
   "id": "26a5e6b8",
   "metadata": {},
   "outputs": [],
   "source": [
    "def printNodeatDepthK(root,k):\n",
    "    if root==None:\n",
    "        return\n",
    "    \n",
    "    if k==0:\n",
    "        print(root.data)\n",
    "        return\n",
    "    \n",
    "    printNodeatDepthK(root.left,k-1)\n",
    "    printNodeatDepthK(root.right,k-1)\n",
    "    \n",
    "    \n",
    "    \n",
    "    "
   ]
  },
  {
   "cell_type": "code",
   "execution_count": 15,
   "id": "c751def6",
   "metadata": {},
   "outputs": [],
   "source": [
    "def printNodeatDepthK(root,k,d=0):\n",
    "    if root==None:\n",
    "        return\n",
    "    \n",
    "    if k==d:\n",
    "        print(root.data)\n",
    "        return\n",
    "    \n",
    "    printNodeatDepthK(root.left,k,d+1)\n",
    "    printNodeatDepthK(root.right,k,d+1)\n",
    "    "
   ]
  },
  {
   "cell_type": "code",
   "execution_count": 16,
   "id": "b64d0cf1",
   "metadata": {},
   "outputs": [
    {
     "name": "stdout",
     "output_type": "stream",
     "text": [
      "1\n",
      "2\n",
      "4\n",
      "-1\n",
      "-1\n",
      "5\n",
      "-1\n",
      "-1\n",
      "3\n",
      "6\n",
      "-1\n",
      "-1\n",
      "8\n",
      "-1\n",
      "-1\n",
      "1:2,3 \n",
      "2:4,5 \n",
      "4:\n",
      "5:\n",
      "3:6,8 \n",
      "6:\n",
      "8:\n",
      "4\n",
      "5\n",
      "6\n",
      "8\n"
     ]
    }
   ],
   "source": [
    "def inputTree():\n",
    "    rootdata=int(input())\n",
    "    \n",
    "    if rootdata==-1:\n",
    "        return\n",
    "    \n",
    "    root=BinaryTreeNode(rootdata)\n",
    "    \n",
    "    leftTree = inputTree()\n",
    "    rightTree=inputTree()\n",
    "    root.left=leftTree\n",
    "    root.right=rightTree\n",
    "        \n",
    "    return root\n",
    "        \n",
    "def printTree(root):\n",
    "    if root == None:\n",
    "        return None\n",
    "    \n",
    "    print(root.data,end=\":\")\n",
    "    \n",
    "    if root.left !=None:\n",
    "        print(root.left.data, end=\",\")\n",
    "        \n",
    "    if root.right !=None:\n",
    "        print(root.right.data, end=\" \")\n",
    "        \n",
    "    print()\n",
    "    printTree(root.left)\n",
    "    printTree(root.right)\n",
    "        \n",
    "root=inputTree()\n",
    "printTree(root)\n",
    "printNodeatDepthK(root,2)\n"
   ]
  }
 ],
 "metadata": {
  "kernelspec": {
   "display_name": "Python 3 (ipykernel)",
   "language": "python",
   "name": "python3"
  },
  "language_info": {
   "codemirror_mode": {
    "name": "ipython",
    "version": 3
   },
   "file_extension": ".py",
   "mimetype": "text/x-python",
   "name": "python",
   "nbconvert_exporter": "python",
   "pygments_lexer": "ipython3",
   "version": "3.9.12"
  }
 },
 "nbformat": 4,
 "nbformat_minor": 5
}
