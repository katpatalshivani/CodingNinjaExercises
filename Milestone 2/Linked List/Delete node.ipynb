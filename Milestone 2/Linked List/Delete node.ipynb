{
 "cells": [
  {
   "cell_type": "code",
   "execution_count": 7,
   "id": "4930fa92",
   "metadata": {},
   "outputs": [
    {
     "name": "stdout",
     "output_type": "stream",
     "text": [
      "1 2 3 4 5 -1\n",
      "pos5\n",
      "1 2 3 4 5 \n"
     ]
    }
   ],
   "source": [
    "class Node:\n",
    "    def __init__(self,data):\n",
    "        self.data=data\n",
    "        self.next= None\n",
    "        \n",
    "def deleteNode(head, pos):\n",
    "   \n",
    "    if pos ==0:\n",
    "        return head.next\n",
    "    count = 0\n",
    "    currHead = head\n",
    "    while currHead is not None and count < (pos - 1):\n",
    "        count +=1\n",
    "        currHead = currHead.next\n",
    "    if (currHead is None) or (currHead.next is None):\n",
    "        return head\n",
    "    currHead.next = currHead.next.next\n",
    "    \n",
    "    return head\n",
    "\n",
    "           \n",
    "    \n",
    "    \n",
    "    \n",
    "    \n",
    "    \n",
    "    \n",
    "def takeInput() :\n",
    "    head = None\n",
    "    tail = None\n",
    "\n",
    "    datas = [int(ele) for ele in input().split()]\n",
    "\n",
    "    i = 0\n",
    "    while (i < len(datas)) and (datas[i] != -1) :\n",
    "        data = datas[i]\n",
    "        newNode = Node(data)\n",
    "\n",
    "        if head is None :\n",
    "            head = newNode\n",
    "            tail = newNode\n",
    "\n",
    "        else :\n",
    "            tail.next = newNode\n",
    "            tail = newNode\n",
    "\n",
    "        i += 1\n",
    "\n",
    "    return head\n",
    "\n",
    "def printLinkedList(head) :\n",
    "\n",
    "    while head is not None :\n",
    "        print(head.data, end = \" \")\n",
    "        head = head.next\n",
    "\n",
    "    print()  \n",
    "    \n",
    "\n",
    "head = takeInput()\n",
    "pos = int(input(\"pos\"))\n",
    "  \n",
    "head = deleteNode(head, pos)\n",
    "printLinkedList(head) "
   ]
  }
 ],
 "metadata": {
  "kernelspec": {
   "display_name": "Python 3 (ipykernel)",
   "language": "python",
   "name": "python3"
  },
  "language_info": {
   "codemirror_mode": {
    "name": "ipython",
    "version": 3
   },
   "file_extension": ".py",
   "mimetype": "text/x-python",
   "name": "python",
   "nbconvert_exporter": "python",
   "pygments_lexer": "ipython3",
   "version": "3.9.12"
  }
 },
 "nbformat": 4,
 "nbformat_minor": 5
}
