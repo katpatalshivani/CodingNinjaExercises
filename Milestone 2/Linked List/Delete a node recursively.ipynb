{
 "cells": [
  {
   "cell_type": "code",
   "execution_count": 1,
   "id": "e8b6b385",
   "metadata": {},
   "outputs": [
    {
     "name": "stdout",
     "output_type": "stream",
     "text": [
      "1 2 3 6 5 4 -1\n",
      "pos5\n",
      "1 2 3 6 5 \n"
     ]
    }
   ],
   "source": [
    "class Node:\n",
    "    def __init__(self,data):\n",
    "        self.data=data\n",
    "        self.next = None\n",
    "        \n",
    "\n",
    "def deleteRecur(head,pos):\n",
    "    \n",
    "    \n",
    "    \n",
    "    if pos ==0:\n",
    "        if head is not None:\n",
    "            head=head.next\n",
    "            \n",
    "        else :\n",
    "            head=None \n",
    "        return head\n",
    "    \n",
    "    if  pos < 0:\n",
    "        return head\n",
    "    \n",
    "    if head is None:\n",
    "        return None\n",
    "    \n",
    "    smallhead= deleteRecur(head.next,pos-1)\n",
    "    head.next=smallhead\n",
    "    \n",
    "    return head\n",
    "\n",
    "def takeInput():\n",
    "    head = None\n",
    "    tail = None\n",
    "    \n",
    "    li=[int(x) for x in input().split()]\n",
    "    \n",
    "    i=0\n",
    "    \n",
    "    while i<len(li) and li[i]!=-1:\n",
    "        data=li[i]\n",
    "        newNode=Node(data)\n",
    "        \n",
    "        if head is None:\n",
    "            head = newNode\n",
    "            tail = newNode\n",
    "            \n",
    "        else:\n",
    "            tail.next=newNode\n",
    "            tail=newNode\n",
    "        \n",
    "        i=i+1\n",
    "        \n",
    "    return head\n",
    "\n",
    "def printLL(head):\n",
    "    \n",
    "    while head is not None:\n",
    "        print(head.data, end=\" \")\n",
    "        \n",
    "        head=head.next\n",
    "        \n",
    "    print()\n",
    "    \n",
    "head = takeInput()\n",
    "pos = int(input(\"pos\"))\n",
    "  \n",
    "head = deleteRecur(head, pos)\n",
    "printLL(head) "
   ]
  }
 ],
 "metadata": {
  "kernelspec": {
   "display_name": "Python 3 (ipykernel)",
   "language": "python",
   "name": "python3"
  },
  "language_info": {
   "codemirror_mode": {
    "name": "ipython",
    "version": 3
   },
   "file_extension": ".py",
   "mimetype": "text/x-python",
   "name": "python",
   "nbconvert_exporter": "python",
   "pygments_lexer": "ipython3",
   "version": "3.9.12"
  }
 },
 "nbformat": 4,
 "nbformat_minor": 5
}
