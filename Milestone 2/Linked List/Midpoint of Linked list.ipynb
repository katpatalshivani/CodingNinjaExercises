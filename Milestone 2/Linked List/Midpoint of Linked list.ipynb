{
 "cells": [
  {
   "cell_type": "code",
   "execution_count": 4,
   "id": "3450754b",
   "metadata": {},
   "outputs": [
    {
     "name": "stdout",
     "output_type": "stream",
     "text": [
      "1 2 3 4 -1\n",
      "2\n"
     ]
    }
   ],
   "source": [
    "class Node:\n",
    "    def __init__(self,data):\n",
    "        self.data=data\n",
    "        self.next=None\n",
    "        \n",
    "        \n",
    "        \n",
    "def midpoint(head):\n",
    "    if head is None:\n",
    "        return head\n",
    "    \n",
    "    else:\n",
    "        fast=head\n",
    "        slow=head\n",
    "\n",
    "        while fast.next is not None and fast.next.next is not None:\n",
    "            slow=slow.next\n",
    "            fast=fast.next.next\n",
    "\n",
    "        return slow\n",
    "\n",
    "\n",
    "    \n",
    "    \n",
    "def takeInput():\n",
    "    head=None\n",
    "    tail=None\n",
    "    \n",
    "    li=[int(x) for x in input().split()]\n",
    "    i=0\n",
    "    \n",
    "    while i<len(li) and li[i]!=-1:\n",
    "        newNode=Node(li[i])\n",
    "        \n",
    "        if head is None:\n",
    "            head=newNode\n",
    "            tail=newNode\n",
    "            \n",
    "        else:\n",
    "            tail.next=newNode\n",
    "            tail=newNode\n",
    "        i=i+1\n",
    "        \n",
    "    return head\n",
    "\n",
    "def printLL(head):\n",
    "    while head is not None:\n",
    "        print(head.data, end=\"->\")\n",
    "        head=head.next\n",
    "        \n",
    "head=takeInput()\n",
    "mid=midpoint(head)\n",
    "print(mid)\n",
    "    "
   ]
  }
 ],
 "metadata": {
  "kernelspec": {
   "display_name": "Python 3 (ipykernel)",
   "language": "python",
   "name": "python3"
  },
  "language_info": {
   "codemirror_mode": {
    "name": "ipython",
    "version": 3
   },
   "file_extension": ".py",
   "mimetype": "text/x-python",
   "name": "python",
   "nbconvert_exporter": "python",
   "pygments_lexer": "ipython3",
   "version": "3.9.12"
  }
 },
 "nbformat": 4,
 "nbformat_minor": 5
}
