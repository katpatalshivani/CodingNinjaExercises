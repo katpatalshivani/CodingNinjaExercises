{
 "cells": [
  {
   "cell_type": "code",
   "execution_count": 15,
   "id": "98084cb3",
   "metadata": {},
   "outputs": [],
   "source": [
    "class Node:\n",
    "    \n",
    "    def __init__(self,data):\n",
    "        self.data=data\n",
    "        self.next=None\n",
    "        \n",
    "    "
   ]
  },
  {
   "cell_type": "code",
   "execution_count": 21,
   "id": "2c6ccae4",
   "metadata": {},
   "outputs": [
    {
     "name": "stdout",
     "output_type": "stream",
     "text": [
      "1 2 3 4 5 -1\n",
      "1 2 3 4 5 \n"
     ]
    },
    {
     "ename": "AttributeError",
     "evalue": "'NoneType' object has no attribute 'next'",
     "output_type": "error",
     "traceback": [
      "\u001b[1;31m---------------------------------------------------------------------------\u001b[0m",
      "\u001b[1;31mAttributeError\u001b[0m                            Traceback (most recent call last)",
      "Input \u001b[1;32mIn [21]\u001b[0m, in \u001b[0;36m<cell line: 76>\u001b[1;34m()\u001b[0m\n\u001b[0;32m     74\u001b[0m head\u001b[38;5;241m=\u001b[39mtakeInput()\n\u001b[0;32m     75\u001b[0m printLL(head)\n\u001b[1;32m---> 76\u001b[0m head\u001b[38;5;241m=\u001b[39m\u001b[43minsertNode\u001b[49m\u001b[43m(\u001b[49m\u001b[43mhead\u001b[49m\u001b[43m,\u001b[49m\u001b[38;5;241;43m0\u001b[39;49m\u001b[43m,\u001b[49m\u001b[38;5;241;43m7\u001b[39;49m\u001b[43m)\u001b[49m\n\u001b[0;32m     77\u001b[0m printLL(head)\n\u001b[0;32m     78\u001b[0m \u001b[38;5;124;03m'''\u001b[39;00m\n\u001b[0;32m     79\u001b[0m \u001b[38;5;124;03mhead=takeInput()\u001b[39;00m\n\u001b[0;32m     80\u001b[0m \u001b[38;5;124;03mprintLL(head)\u001b[39;00m\n\u001b[0;32m     81\u001b[0m \u001b[38;5;124;03mhead=insertNode(head,6,12)\u001b[39;00m\n\u001b[0;32m     82\u001b[0m \u001b[38;5;124;03mprintLL(head)\u001b[39;00m\n\u001b[0;32m     83\u001b[0m \u001b[38;5;124;03m'''\u001b[39;00m\n",
      "Input \u001b[1;32mIn [21]\u001b[0m, in \u001b[0;36minsertNode\u001b[1;34m(head, i, data)\u001b[0m\n\u001b[0;32m     24\u001b[0m newNode\u001b[38;5;241m=\u001b[39m Node(data)\n\u001b[0;32m     26\u001b[0m \u001b[38;5;28;01mif\u001b[39;00m head \u001b[38;5;129;01mis\u001b[39;00m \u001b[38;5;129;01mnot\u001b[39;00m \u001b[38;5;28;01mNone\u001b[39;00m:\n\u001b[1;32m---> 27\u001b[0m     prev\u001b[38;5;241m.\u001b[39mnext\u001b[38;5;241m=\u001b[39mnewNode\n\u001b[0;32m     29\u001b[0m \u001b[38;5;28;01melse\u001b[39;00m:\n\u001b[0;32m     30\u001b[0m     head\u001b[38;5;241m=\u001b[39mnewNode\n",
      "\u001b[1;31mAttributeError\u001b[0m: 'NoneType' object has no attribute 'next'"
     ]
    }
   ],
   "source": [
    "def lengthHead(head):\n",
    "    c=0\n",
    "    \n",
    "    while head is not None:\n",
    "        c=c+1\n",
    "        head=head.next\n",
    "        \n",
    "    return c\n",
    "\n",
    "\n",
    "def insertNode(head,i,data):\n",
    "    \n",
    "    if i<0 and i>lengthHead(head):\n",
    "        return head\n",
    "        \n",
    "    count=0\n",
    "    prev=None\n",
    "    curr=head\n",
    "    while count <i:\n",
    "        prev=curr\n",
    "        curr=curr.next\n",
    "        count = count + 1\n",
    "            \n",
    "    newNode= Node(data)\n",
    "        \n",
    "    if head is not None:\n",
    "        prev.next=newNode\n",
    "            \n",
    "    else:\n",
    "        head=newNode\n",
    "    newNode.next = curr\n",
    "        \n",
    "    return head\n",
    "        \n",
    "        \n",
    "        \n",
    "def takeInput():\n",
    "    head = None\n",
    "    tail = None\n",
    "\n",
    "    datas = [int(ele) for ele in input().split()]\n",
    "\n",
    "    i = 0\n",
    "    while (i < len(datas)) and (datas[i] != -1) :\n",
    "        data = datas[i]\n",
    "        newNode = Node(data)\n",
    "\n",
    "        if head is None :\n",
    "            head = newNode\n",
    "            tail = newNode\n",
    "\n",
    "        else :\n",
    "            tail.next = newNode\n",
    "            tail = newNode\n",
    "\n",
    "        i += 1\n",
    "\n",
    "    return head\n",
    "    \n",
    "def printLL(head) :\n",
    "\n",
    "    while head is not None :\n",
    "        print(head.data, end = \" \")\n",
    "        head = head.next\n",
    "\n",
    "    print()\n",
    "'''    \n",
    "head=takeInput()\n",
    "printLL(head)\n",
    "head=insertNode(head,2,6)\n",
    "printLL(head)\n",
    "'''\n",
    "\n",
    "head=takeInput()\n",
    "printLL(head)\n",
    "head=insertNode(head,0,7)\n",
    "printLL(head)\n",
    "'''\n",
    "head=takeInput()\n",
    "printLL(head)\n",
    "head=insertNode(head,6,12)\n",
    "printLL(head)\n",
    "'''"
   ]
  }
 ],
 "metadata": {
  "kernelspec": {
   "display_name": "Python 3 (ipykernel)",
   "language": "python",
   "name": "python3"
  },
  "language_info": {
   "codemirror_mode": {
    "name": "ipython",
    "version": 3
   },
   "file_extension": ".py",
   "mimetype": "text/x-python",
   "name": "python",
   "nbconvert_exporter": "python",
   "pygments_lexer": "ipython3",
   "version": "3.9.12"
  }
 },
 "nbformat": 4,
 "nbformat_minor": 5
}
