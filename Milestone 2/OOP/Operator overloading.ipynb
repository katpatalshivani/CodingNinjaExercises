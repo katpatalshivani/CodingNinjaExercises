{
 "cells": [
  {
   "cell_type": "markdown",
   "id": "3fc8f0a4",
   "metadata": {},
   "source": [
    "# Operator overloading"
   ]
  },
  {
   "cell_type": "code",
   "execution_count": 14,
   "id": "77d96306",
   "metadata": {},
   "outputs": [],
   "source": [
    "class Vehicle:\n",
    "    \n",
    "    def __init__(self,make,model,fare):\n",
    "        self.make = make\n",
    "        self.model = model\n",
    "        self.fare =fare\n",
    "        \n",
    "    def __str__(self):\n",
    "        return \"The car is of make {} and model {} and with fare {}\", format(make,model,fare)\n",
    "    \n",
    "    def __add__(self,other):\n",
    "        return self.fare+other.fare"
   ]
  },
  {
   "cell_type": "code",
   "execution_count": 16,
   "id": "811f4886",
   "metadata": {},
   "outputs": [],
   "source": [
    "myC= Vehicle(\"Tesla\",2022, 500)"
   ]
  },
  {
   "cell_type": "code",
   "execution_count": 18,
   "id": "21d2dd44",
   "metadata": {},
   "outputs": [],
   "source": [
    "myV=Vehicle(\"Ford\", 2020,700)"
   ]
  },
  {
   "cell_type": "code",
   "execution_count": 19,
   "id": "3d497ba5",
   "metadata": {},
   "outputs": [
    {
     "data": {
      "text/plain": [
       "500"
      ]
     },
     "execution_count": 19,
     "metadata": {},
     "output_type": "execute_result"
    }
   ],
   "source": [
    "myC.fare"
   ]
  },
  {
   "cell_type": "code",
   "execution_count": 11,
   "id": "1e674ea3",
   "metadata": {},
   "outputs": [
    {
     "data": {
      "text/plain": [
       "700"
      ]
     },
     "execution_count": 11,
     "metadata": {},
     "output_type": "execute_result"
    }
   ],
   "source": [
    "myV.fare"
   ]
  },
  {
   "cell_type": "code",
   "execution_count": 21,
   "id": "a6f0b948",
   "metadata": {},
   "outputs": [
    {
     "data": {
      "text/plain": [
       "1200"
      ]
     },
     "execution_count": 21,
     "metadata": {},
     "output_type": "execute_result"
    }
   ],
   "source": [
    "myC + myV"
   ]
  },
  {
   "cell_type": "code",
   "execution_count": null,
   "id": "e0977b13",
   "metadata": {},
   "outputs": [],
   "source": []
  }
 ],
 "metadata": {
  "kernelspec": {
   "display_name": "Python 3 (ipykernel)",
   "language": "python",
   "name": "python3"
  },
  "language_info": {
   "codemirror_mode": {
    "name": "ipython",
    "version": 3
   },
   "file_extension": ".py",
   "mimetype": "text/x-python",
   "name": "python",
   "nbconvert_exporter": "python",
   "pygments_lexer": "ipython3",
   "version": "3.9.12"
  }
 },
 "nbformat": 4,
 "nbformat_minor": 5
}
