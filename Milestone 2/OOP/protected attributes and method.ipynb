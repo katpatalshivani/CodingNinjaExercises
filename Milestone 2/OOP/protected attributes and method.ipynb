{
 "cells": [
  {
   "cell_type": "markdown",
   "id": "335446db",
   "metadata": {},
   "source": [
    "class A:\n",
    "    def __init__(self):\n",
    "        print(\"init of A called\")\n",
    "class B:\n",
    "    def __init__(self):\n",
    "        print(\"init of B called\")\n",
    "\n",
    "class C(B,A):\n",
    "    def __init__(self):\n",
    "        super().__init__()\n",
    "\n",
    "c = C()\n"
   ]
  },
  {
   "cell_type": "code",
   "execution_count": 56,
   "id": "bb8c6a8f",
   "metadata": {},
   "outputs": [
    {
     "name": "stdout",
     "output_type": "stream",
     "text": [
      "x\n",
      "y\n",
      "z\n",
      "a\n",
      "b\n",
      "c\n"
     ]
    }
   ],
   "source": [
    "class X: \n",
    "      print(\"x\")\n",
    "class Y: \n",
    "      print(\"y\")\n",
    "class Z:\n",
    "      print(\"z\")\n",
    "class A(X,Y):\n",
    "      print(\"a\")\n",
    "class B(Y,Z):\n",
    "      print(\"b\")\n",
    "class C(B,A,Y):\n",
    "      print(\"c\")"
   ]
  },
  {
   "cell_type": "code",
   "execution_count": 57,
   "id": "7cf07ec5",
   "metadata": {},
   "outputs": [
    {
     "data": {
      "text/plain": [
       "[__main__.C,\n",
       " __main__.B,\n",
       " __main__.A,\n",
       " __main__.X,\n",
       " __main__.Y,\n",
       " __main__.Z,\n",
       " object]"
      ]
     },
     "execution_count": 57,
     "metadata": {},
     "output_type": "execute_result"
    }
   ],
   "source": [
    "C.mro()"
   ]
  },
  {
   "cell_type": "code",
   "execution_count": 55,
   "id": "40002523",
   "metadata": {},
   "outputs": [
    {
     "data": {
      "text/plain": [
       "[__main__.C,\n",
       " __main__.B,\n",
       " __main__.A,\n",
       " __main__.X,\n",
       " __main__.Y,\n",
       " __main__.Z,\n",
       " object]"
      ]
     },
     "execution_count": 55,
     "metadata": {},
     "output_type": "execute_result"
    }
   ],
   "source": [
    "C.mro()"
   ]
  },
  {
   "cell_type": "markdown",
   "id": "5743f66e",
   "metadata": {},
   "source": [
    "# Protected Member"
   ]
  },
  {
   "cell_type": "code",
   "execution_count": 47,
   "id": "b1854088",
   "metadata": {},
   "outputs": [],
   "source": [
    "#Parent class\n",
    "\n",
    "class Vehicle:\n",
    "    \n",
    "    #class attribute\n",
    "    basePrice=1000\n",
    "    currentYear=2022\n",
    "    \n",
    "    \n",
    "    def __init__(self,make, model, fuel):\n",
    "        \n",
    "        #public instance attribute\n",
    "        self.make = make\n",
    "        \n",
    "        #protected method\n",
    "        self._model = model\n",
    "        self._fuel  = fuel\n",
    "        \n",
    "    def _getValues(self):\n",
    "        print(\"Parent class getValues is implemented\")\n",
    "        age=Vehicle.currentYear-self._model\n",
    "        return Vehicle.basePrice*(1/age)"
   ]
  },
  {
   "cell_type": "code",
   "execution_count": 48,
   "id": "2b79724e",
   "metadata": {},
   "outputs": [],
   "source": [
    "#child class\n",
    "class Car(Vehicle):\n",
    "    \n",
    "    def __init__(self,make,model,fuel,airCondition,sunroof):\n",
    "        super(Car,self).__init__(make,model,fuel)\n",
    "        \n",
    "        #protected\n",
    "        self._airCondition = airCondition\n",
    "        self.sunroof = sunroof\n",
    "        \n",
    "    def _getValues(self):\n",
    "        print(\"Child class getValues is implemented\")\n",
    "        Vehicle.basePrice=5000\n",
    "        age=Vehicle.currentYear-self._model\n",
    "        return Vehicle.basePrice*(1/age)\n",
    "        "
   ]
  },
  {
   "cell_type": "code",
   "execution_count": 35,
   "id": "50116074",
   "metadata": {},
   "outputs": [],
   "source": [
    "c1=Car(\"WagonR\", 2020, \"CNG\", True, False\n",
    "      )"
   ]
  },
  {
   "cell_type": "code",
   "execution_count": 36,
   "id": "20fb10f5",
   "metadata": {},
   "outputs": [
    {
     "data": {
      "text/plain": [
       "{'make': 'WagonR',\n",
       " '_model': 2020,\n",
       " '_fuel': 'CNG',\n",
       " '_airCondition': True,\n",
       " 'sunroof': False}"
      ]
     },
     "execution_count": 36,
     "metadata": {},
     "output_type": "execute_result"
    }
   ],
   "source": [
    "c1.__dict__"
   ]
  },
  {
   "cell_type": "code",
   "execution_count": 37,
   "id": "9d91b4ee",
   "metadata": {},
   "outputs": [
    {
     "name": "stdout",
     "output_type": "stream",
     "text": [
      "Child class getValues is implemented\n"
     ]
    },
    {
     "data": {
      "text/plain": [
       "2500.0"
      ]
     },
     "execution_count": 37,
     "metadata": {},
     "output_type": "execute_result"
    }
   ],
   "source": [
    "c1._getValues()"
   ]
  },
  {
   "cell_type": "code",
   "execution_count": 38,
   "id": "12248b55",
   "metadata": {},
   "outputs": [
    {
     "data": {
      "text/plain": [
       "'WagonR'"
      ]
     },
     "execution_count": 38,
     "metadata": {},
     "output_type": "execute_result"
    }
   ],
   "source": [
    "c1.make"
   ]
  },
  {
   "cell_type": "code",
   "execution_count": 25,
   "id": "73a063fb",
   "metadata": {},
   "outputs": [
    {
     "data": {
      "text/plain": [
       "'CNG'"
      ]
     },
     "execution_count": 25,
     "metadata": {},
     "output_type": "execute_result"
    }
   ],
   "source": [
    "c1._fuel"
   ]
  },
  {
   "cell_type": "code",
   "execution_count": 29,
   "id": "e7119f22",
   "metadata": {},
   "outputs": [
    {
     "data": {
      "text/plain": [
       "True"
      ]
     },
     "execution_count": 29,
     "metadata": {},
     "output_type": "execute_result"
    }
   ],
   "source": [
    "c1._airCondition"
   ]
  },
  {
   "cell_type": "code",
   "execution_count": 49,
   "id": "427d3056",
   "metadata": {},
   "outputs": [],
   "source": [
    "v1=Vehicle(\"swift\",2015,\"petrol\")"
   ]
  },
  {
   "cell_type": "code",
   "execution_count": 50,
   "id": "3458a974",
   "metadata": {},
   "outputs": [
    {
     "data": {
      "text/plain": [
       "{'make': 'swift', '_model': 2015, '_fuel': 'petrol'}"
      ]
     },
     "execution_count": 50,
     "metadata": {},
     "output_type": "execute_result"
    }
   ],
   "source": [
    "v1.__dict__"
   ]
  },
  {
   "cell_type": "code",
   "execution_count": 51,
   "id": "ddb6ee12",
   "metadata": {},
   "outputs": [
    {
     "name": "stdout",
     "output_type": "stream",
     "text": [
      "Parent class getValues is implemented\n"
     ]
    },
    {
     "data": {
      "text/plain": [
       "142.85714285714286"
      ]
     },
     "execution_count": 51,
     "metadata": {},
     "output_type": "execute_result"
    }
   ],
   "source": [
    "v1._getValues()"
   ]
  }
 ],
 "metadata": {
  "kernelspec": {
   "display_name": "Python 3 (ipykernel)",
   "language": "python",
   "name": "python3"
  },
  "language_info": {
   "codemirror_mode": {
    "name": "ipython",
    "version": 3
   },
   "file_extension": ".py",
   "mimetype": "text/x-python",
   "name": "python",
   "nbconvert_exporter": "python",
   "pygments_lexer": "ipython3",
   "version": "3.9.12"
  }
 },
 "nbformat": 4,
 "nbformat_minor": 5
}
