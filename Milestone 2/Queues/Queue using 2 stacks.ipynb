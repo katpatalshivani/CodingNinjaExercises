{
 "cells": [
  {
   "cell_type": "code",
   "execution_count": 8,
   "id": "9e3923eb",
   "metadata": {},
   "outputs": [],
   "source": [
    "class queueUsing2Stacks:\n",
    "    def __init__(self):\n",
    "        self.__s1=[]\n",
    "        self.__s2=[]\n",
    "        \n",
    "    def enqueue(self,ele):\n",
    "        while (len(self.__s1)!=0):\n",
    "            self.__s2.append(self.__s1.pop())\n",
    "            \n",
    "        self.__s1.append(ele)\n",
    "        \n",
    "        while ( len(self.__s2)!=0):\n",
    "            self.__s1.append(self.__s2.pop())\n",
    "            \n",
    "    def dequeue(self):\n",
    "        if len(self.__s1) == 0:\n",
    "            return -1\n",
    "        \n",
    "        return self.__s1.pop()\n",
    "        \n",
    "    def front(self):\n",
    "        if len(self.__s1) == 0:\n",
    "            return -1\n",
    "        return self.__s1[-1]\n",
    "        \n",
    "    def getSize(self):\n",
    "        return len(self.__s1)\n",
    "        \n",
    "    def isEmpty(self):\n",
    "        return self.getSize()==0\n",
    "        "
   ]
  },
  {
   "cell_type": "code",
   "execution_count": 9,
   "id": "0c33f209",
   "metadata": {},
   "outputs": [
    {
     "name": "stdout",
     "output_type": "stream",
     "text": [
      "size= 3\n",
      "front= 1\n",
      "1\n",
      "2\n",
      "3\n",
      "size= 0\n",
      "front= -1\n"
     ]
    }
   ],
   "source": [
    "q=queueUsing2Stacks()\n",
    "q.enqueue(1)\n",
    "q.enqueue(2)\n",
    "q.enqueue(3)\n",
    "print(\"size=\",q.getSize())\n",
    "\n",
    "print(\"front=\",q.front())\n",
    "\n",
    "while not q.isEmpty():\n",
    "    print(q.dequeue())\n",
    "    \n",
    "print(\"size=\",q.getSize())\n",
    "print(\"front=\",q.front())\n"
   ]
  }
 ],
 "metadata": {
  "kernelspec": {
   "display_name": "Python 3 (ipykernel)",
   "language": "python",
   "name": "python3"
  },
  "language_info": {
   "codemirror_mode": {
    "name": "ipython",
    "version": 3
   },
   "file_extension": ".py",
   "mimetype": "text/x-python",
   "name": "python",
   "nbconvert_exporter": "python",
   "pygments_lexer": "ipython3",
   "version": "3.9.12"
  }
 },
 "nbformat": 4,
 "nbformat_minor": 5
}
