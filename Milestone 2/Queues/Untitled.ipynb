{
 "cells": [
  {
   "cell_type": "code",
   "execution_count": 3,
   "id": "761f8377",
   "metadata": {},
   "outputs": [],
   "source": [
    "\n",
    "\n",
    "import queue\n",
    "\n",
    "#setrecursionlimit(10 ** 6)\n",
    "\n",
    "def reverseQueue(inputQueue) :\n",
    "    # Your code goes here\n",
    "    if inputQueue.empty(): \n",
    "        return;\n",
    "\n",
    "    front = inputQueue.get()\n",
    "    reverseQueue(inputQueue)\n",
    "    inputQueue.put(front)\n",
    "    \n",
    "   \n",
    "inputQueue =enqur [1,2,3,4,5]  \n",
    "    \n",
    "\n",
    "\n",
    "\n",
    "\n",
    "\n",
    "\n",
    "\n",
    "\n",
    "\n",
    "\n",
    "\n",
    "\n",
    "\n",
    "\n",
    "\n",
    "\n",
    "\n",
    "\n",
    "\n",
    "\n",
    "\n",
    "\n",
    "\n",
    "\n",
    "\n",
    "\n",
    "\n",
    "\n",
    "\n",
    "\n",
    "\n",
    "\n",
    "\n"
   ]
  },
  {
   "cell_type": "code",
   "execution_count": null,
   "id": "dd6c175d",
   "metadata": {},
   "outputs": [],
   "source": []
  }
 ],
 "metadata": {
  "kernelspec": {
   "display_name": "Python 3 (ipykernel)",
   "language": "python",
   "name": "python3"
  },
  "language_info": {
   "codemirror_mode": {
    "name": "ipython",
    "version": 3
   },
   "file_extension": ".py",
   "mimetype": "text/x-python",
   "name": "python",
   "nbconvert_exporter": "python",
   "pygments_lexer": "ipython3",
   "version": "3.9.12"
  }
 },
 "nbformat": 4,
 "nbformat_minor": 5
}
