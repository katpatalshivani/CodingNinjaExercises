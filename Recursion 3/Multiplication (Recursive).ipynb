{
 "cells": [
  {
   "cell_type": "markdown",
   "id": "1cc2bc25",
   "metadata": {},
   "source": [
    "Multiplication (Recursive)\n"
   ]
  },
  {
   "cell_type": "code",
   "execution_count": 4,
   "id": "da8054a9",
   "metadata": {},
   "outputs": [
    {
     "name": "stdout",
     "output_type": "stream",
     "text": [
      "-3\n",
      "-3\n",
      "-9\n"
     ]
    }
   ],
   "source": [
    "def rmultiply(m,n):\n",
    "    if m==0 or n==0:\n",
    "        return 0\n",
    "    \n",
    "    if m<0 and n<0:\n",
    "        return rmultiply(m,n+1)+m\n",
    "    else:\n",
    "        return rmultiply(m,n-1)+m\n",
    "\n",
    "n1=int(input())\n",
    "n2=int(input())\n",
    "print(rmultiply(n1,n2))"
   ]
  },
  {
   "cell_type": "code",
   "execution_count": null,
   "id": "6c54b362",
   "metadata": {},
   "outputs": [],
   "source": []
  }
 ],
 "metadata": {
  "kernelspec": {
   "display_name": "Python 3 (ipykernel)",
   "language": "python",
   "name": "python3"
  },
  "language_info": {
   "codemirror_mode": {
    "name": "ipython",
    "version": 3
   },
   "file_extension": ".py",
   "mimetype": "text/x-python",
   "name": "python",
   "nbconvert_exporter": "python",
   "pygments_lexer": "ipython3",
   "version": "3.9.12"
  }
 },
 "nbformat": 4,
 "nbformat_minor": 5
}
