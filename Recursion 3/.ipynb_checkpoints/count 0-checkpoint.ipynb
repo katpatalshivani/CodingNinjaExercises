{
 "cells": [
  {
   "cell_type": "code",
   "execution_count": 14,
   "id": "a61e076f",
   "metadata": {},
   "outputs": [
    {
     "name": "stdout",
     "output_type": "stream",
     "text": [
      "107005\n",
      "3\n"
     ]
    }
   ],
   "source": [
    "count=0\n",
    "def countZ(num):\n",
    "    #count =0\n",
    "    if num ==0:\n",
    "        return 1\n",
    "    global count\n",
    "    if num > 0:\n",
    "        if(num%10 == 0):\n",
    "            count=count +1\n",
    "            \n",
    "        countZ(num//10)\n",
    "        \n",
    "    return count\n",
    "\n",
    "n=int(input())\n",
    "ans= countZ(n)\n",
    "print(ans)"
   ]
  },
  {
   "cell_type": "code",
   "execution_count": null,
   "id": "d072e4fb",
   "metadata": {},
   "outputs": [],
   "source": []
  }
 ],
 "metadata": {
  "kernelspec": {
   "display_name": "Python 3 (ipykernel)",
   "language": "python",
   "name": "python3"
  },
  "language_info": {
   "codemirror_mode": {
    "name": "ipython",
    "version": 3
   },
   "file_extension": ".py",
   "mimetype": "text/x-python",
   "name": "python",
   "nbconvert_exporter": "python",
   "pygments_lexer": "ipython3",
   "version": "3.9.12"
  }
 },
 "nbformat": 4,
 "nbformat_minor": 5
}
