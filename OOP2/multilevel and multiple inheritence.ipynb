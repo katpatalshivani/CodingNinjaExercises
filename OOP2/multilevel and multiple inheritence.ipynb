{
 "cells": [
  {
   "cell_type": "markdown",
   "id": "2be61195",
   "metadata": {},
   "source": [
    "# multilevel inheritance"
   ]
  },
  {
   "cell_type": "code",
   "execution_count": 6,
   "id": "c4dce305",
   "metadata": {},
   "outputs": [],
   "source": [
    "#Parent class\n",
    "class Vehicle:\n",
    "    basePrice=1000\n",
    "    currentYear=2022\n",
    "    \n",
    "    def __init__(self,make,model,fuel):\n",
    "        self.make = make\n",
    "        self.model = model\n",
    "        self.fuel = fuel\n",
    "        \n",
    "        "
   ]
  },
  {
   "cell_type": "code",
   "execution_count": 8,
   "id": "cfe07ded",
   "metadata": {},
   "outputs": [],
   "source": [
    "#child class1\n",
    "\n",
    "class Car(Vehicle):\n",
    "    \n",
    "    def __init__(self,make,model,fuel,airCondition, sunroof):\n",
    "        super().__init__(make,model,fuel)\n",
    "        \n",
    "        self.airCondition = airCondition\n",
    "        self.sunroof = sunroof\n",
    "        \n",
    "    "
   ]
  },
  {
   "cell_type": "code",
   "execution_count": 10,
   "id": "a76a8190",
   "metadata": {},
   "outputs": [],
   "source": [
    "#child class 2\n",
    "class Ebus(Car):\n",
    "    def __init__(self,make,model,fuel,airCondition, sunroof, distance):\n",
    "        super().__init__(make,model,fuel,airCondition, sunroof)\n",
    "        \n",
    "        self.distance = distance"
   ]
  },
  {
   "cell_type": "code",
   "execution_count": 12,
   "id": "9db3350e",
   "metadata": {},
   "outputs": [],
   "source": [
    "o1=Ebus(\"electric bus\",2022,\"electricity\",True,False,500)"
   ]
  },
  {
   "cell_type": "code",
   "execution_count": 14,
   "id": "7982dec2",
   "metadata": {},
   "outputs": [
    {
     "data": {
      "text/plain": [
       "{'make': 'electric bus',\n",
       " 'model': 2022,\n",
       " 'fuel': 'electricity',\n",
       " 'airCondition': True,\n",
       " 'sunroof': False,\n",
       " 'distance': 500}"
      ]
     },
     "execution_count": 14,
     "metadata": {},
     "output_type": "execute_result"
    }
   ],
   "source": [
    "o1.__dict__"
   ]
  },
  {
   "cell_type": "markdown",
   "id": "4fbef11a",
   "metadata": {},
   "source": [
    "# multilevel inheritance"
   ]
  },
  {
   "cell_type": "code",
   "execution_count": 15,
   "id": "3b61700e",
   "metadata": {},
   "outputs": [],
   "source": [
    "#Parent class\n",
    "class Vehicle:\n",
    "   \n",
    "    \n",
    "    def __init__(self,make,model,fuel):\n",
    "        self.make = make\n",
    "        self.model = model\n",
    "        self.fuel = fuel\n",
    "        \n",
    "    def values(self):\n",
    "        return \"Make of car is\", self.make,\"from Vehicle class\"\n",
    "        "
   ]
  },
  {
   "cell_type": "code",
   "execution_count": 17,
   "id": "32827fc8",
   "metadata": {},
   "outputs": [],
   "source": [
    "#parnet class\n",
    "class Car:\n",
    "   \n",
    "    \n",
    "    def __init__(self,make,model,fuel):\n",
    "        self.make = make\n",
    "        self.model = model\n",
    "        self.fuel = fuel\n",
    "        \n",
    "    def values(self):\n",
    "        return \"Make of car is\", self.make,\"from Car class\""
   ]
  },
  {
   "cell_type": "code",
   "execution_count": 30,
   "id": "115645e2",
   "metadata": {},
   "outputs": [],
   "source": [
    "#child class\n",
    "class Taxi(Car,Vehicle):\n",
    "   \n",
    "    \n",
    "    def __init__(self,make,model,fuel):\n",
    "        super().__init__(make,model,fuel)"
   ]
  },
  {
   "cell_type": "code",
   "execution_count": 31,
   "id": "1988cfe7",
   "metadata": {},
   "outputs": [],
   "source": [
    "o2= Taxi(\"electric bus\",2022,\"electricity\")"
   ]
  },
  {
   "cell_type": "code",
   "execution_count": 32,
   "id": "c5a16673",
   "metadata": {},
   "outputs": [
    {
     "data": {
      "text/plain": [
       "{'make': 'electric bus', 'model': 2022, 'fuel': 'electricity'}"
      ]
     },
     "execution_count": 32,
     "metadata": {},
     "output_type": "execute_result"
    }
   ],
   "source": [
    "o2.__dict__"
   ]
  },
  {
   "cell_type": "code",
   "execution_count": 33,
   "id": "4de8f3b0",
   "metadata": {},
   "outputs": [
    {
     "data": {
      "text/plain": [
       "[__main__.Taxi, __main__.Car, __main__.Vehicle, object]"
      ]
     },
     "execution_count": 33,
     "metadata": {},
     "output_type": "execute_result"
    }
   ],
   "source": [
    "Taxi.mro()"
   ]
  },
  {
   "cell_type": "code",
   "execution_count": 26,
   "id": "7de10a9b",
   "metadata": {},
   "outputs": [
    {
     "data": {
      "text/plain": [
       "('Make of car is', 'electric bus', 'from Vehicle class')"
      ]
     },
     "execution_count": 26,
     "metadata": {},
     "output_type": "execute_result"
    }
   ],
   "source": [
    "o2.values()"
   ]
  },
  {
   "cell_type": "code",
   "execution_count": 28,
   "id": "9e19c2fb",
   "metadata": {},
   "outputs": [
    {
     "data": {
      "text/plain": [
       "[__main__.Taxi, __main__.Vehicle, __main__.Car, object]"
      ]
     },
     "execution_count": 28,
     "metadata": {},
     "output_type": "execute_result"
    }
   ],
   "source": [
    "Taxi.mro()"
   ]
  }
 ],
 "metadata": {
  "kernelspec": {
   "display_name": "Python 3 (ipykernel)",
   "language": "python",
   "name": "python3"
  },
  "language_info": {
   "codemirror_mode": {
    "name": "ipython",
    "version": 3
   },
   "file_extension": ".py",
   "mimetype": "text/x-python",
   "name": "python",
   "nbconvert_exporter": "python",
   "pygments_lexer": "ipython3",
   "version": "3.9.12"
  }
 },
 "nbformat": 4,
 "nbformat_minor": 5
}
