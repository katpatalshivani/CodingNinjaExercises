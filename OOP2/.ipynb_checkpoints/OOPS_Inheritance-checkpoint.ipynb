{
 "cells": [
  {
   "cell_type": "code",
   "execution_count": 13,
   "id": "0324d416",
   "metadata": {},
   "outputs": [
    {
     "name": "stdout",
     "output_type": "stream",
     "text": [
      "black\n"
     ]
    }
   ],
   "source": [
    "class Vehicle:\n",
    "     def __init__(self,color):\n",
    "            \n",
    "        self.color = color\n",
    "            \n",
    "            \n",
    "class Car(Vehicle):\n",
    "    def __init__(self,color,numGears):\n",
    "        self.numGears = numGears\n",
    "        #Vehicle.color=color\n",
    "c= Car(\"black\",5)\n",
    "print(c.color)"
   ]
  },
  {
   "cell_type": "code",
   "execution_count": 14,
   "id": "c6409f16",
   "metadata": {},
   "outputs": [
    {
     "name": "stdout",
     "output_type": "stream",
     "text": [
      "black\n"
     ]
    }
   ],
   "source": [
    "class Vehicle:\n",
    "    def __init__(self,color):\n",
    "        self.color = color\n",
    "class Car(Vehicle):\n",
    "    def __init__(self,color,numGears):\n",
    "        super().__init__(color)\n",
    "        self.numGears = numGears\n",
    "c= Car(\"black\",5)\n",
    "print(c.color)"
   ]
  },
  {
   "cell_type": "code",
   "execution_count": 51,
   "id": "3cc07578",
   "metadata": {},
   "outputs": [
    {
     "ename": "AttributeError",
     "evalue": "'Car' object has no attribute '_Car__color'",
     "output_type": "error",
     "traceback": [
      "\u001b[1;31m---------------------------------------------------------------------------\u001b[0m",
      "\u001b[1;31mAttributeError\u001b[0m                            Traceback (most recent call last)",
      "Input \u001b[1;32mIn [51]\u001b[0m, in \u001b[0;36m<cell line: 12>\u001b[1;34m()\u001b[0m\n\u001b[0;32m     10\u001b[0m         \u001b[38;5;28mprint\u001b[39m(c\u001b[38;5;241m.\u001b[39mnumGears)\n\u001b[0;32m     11\u001b[0m c \u001b[38;5;241m=\u001b[39m Car(\u001b[38;5;124m\"\u001b[39m\u001b[38;5;124mblack\u001b[39m\u001b[38;5;124m\"\u001b[39m,\u001b[38;5;241m5\u001b[39m)\n\u001b[1;32m---> 12\u001b[0m \u001b[43mc\u001b[49m\u001b[38;5;241;43m.\u001b[39;49m\u001b[43mprintCar\u001b[49m\u001b[43m(\u001b[49m\u001b[43m)\u001b[49m\n",
      "Input \u001b[1;32mIn [51]\u001b[0m, in \u001b[0;36mCar.printCar\u001b[1;34m(self)\u001b[0m\n\u001b[0;32m      8\u001b[0m \u001b[38;5;28;01mdef\u001b[39;00m \u001b[38;5;21mprintCar\u001b[39m(\u001b[38;5;28mself\u001b[39m):\n\u001b[1;32m----> 9\u001b[0m     \u001b[38;5;28mprint\u001b[39m(\u001b[43mc\u001b[49m\u001b[38;5;241;43m.\u001b[39;49m\u001b[43m__color\u001b[49m,end\u001b[38;5;241m=\u001b[39m\u001b[38;5;124m\"\u001b[39m\u001b[38;5;124m \u001b[39m\u001b[38;5;124m\"\u001b[39m)\n\u001b[0;32m     10\u001b[0m     \u001b[38;5;28mprint\u001b[39m(c\u001b[38;5;241m.\u001b[39mnumGears)\n",
      "\u001b[1;31mAttributeError\u001b[0m: 'Car' object has no attribute '_Car__color'"
     ]
    }
   ],
   "source": [
    "class Vehicle:\n",
    "    def __init__(self,color):\n",
    "         self.__color = color\n",
    "class Car(Vehicle):\n",
    "    def __init__(self,color,numGears):\n",
    "        super().__init__(color)\n",
    "        self.numGears = numGears\n",
    "    def printCar(self):\n",
    "        print(c.__color,end=\" \")\n",
    "        print(c.numGears)\n",
    "c = Car(\"black\",5)\n",
    "c.printCar()"
   ]
  },
  {
   "cell_type": "code",
   "execution_count": 116,
   "id": "dc11d794",
   "metadata": {},
   "outputs": [
    {
     "name": "stdout",
     "output_type": "stream",
     "text": [
      "black5\n"
     ]
    }
   ],
   "source": [
    "class Vehicle:\n",
    "    def __init__(self,color):\n",
    "        self.color = color\n",
    "    def print(self):\n",
    "        print(self.color,end=\"\")\n",
    "class Car(Vehicle):\n",
    "    def __init__(self,color,numGears):\n",
    "        super().__init__(color)\n",
    "        self.numGears = numGears\n",
    "    def print(self):\n",
    "        print(self.color,end=\"\")\n",
    "        print(self.numGears)\n",
    "c = Car('black',5)\n",
    "c.print()\n"
   ]
  },
  {
   "cell_type": "code",
   "execution_count": null,
   "id": "64f9afef",
   "metadata": {},
   "outputs": [],
   "source": [
    "class Vehicle:\n",
    "    def __init__(self,color):\n",
    "        self.color = color\n",
    "    def print(self):\n",
    "        print(c.color,end='')\n",
    "class Car(Vehicle):\n",
    "    def __init__(self,color,numGears):\n",
    "        super().__init__(color)\n",
    "        self.numGears = numGears\n",
    "    def print(self):\n",
    "        self.print()\n",
    "        print(c.numGears)\n",
    "c = Car('black',5)\n",
    "c.print()"
   ]
  },
  {
   "cell_type": "code",
   "execution_count": 2,
   "id": "257bb867",
   "metadata": {},
   "outputs": [
    {
     "name": "stdout",
     "output_type": "stream",
     "text": [
      "This is a Circle Class\n"
     ]
    }
   ],
   "source": [
    "class Circle(object):\n",
    "    def __str__(self):\n",
    "        return 'This is a Circle Class'\n",
    "c = Circle()\n",
    "print(c)\n"
   ]
  },
  {
   "cell_type": "markdown",
   "id": "d49072c0",
   "metadata": {},
   "source": [
    "# ---------------------------------------------------------------------------------------------------------------"
   ]
  },
  {
   "cell_type": "code",
   "execution_count": 52,
   "id": "376307b1",
   "metadata": {},
   "outputs": [],
   "source": [
    "#parent class\n",
    "\n",
    "class Vehicle:\n",
    "    \n",
    "    def __init__(self, make, model,fuel):\n",
    "        \n",
    "        \n",
    "        #public attribute\n",
    "        self.make = make\n",
    "        \n",
    "        #private attribute\n",
    "        self.__model= model\n",
    "        self.__fuel = fuel\n",
    "        \n",
    "    def __private_parent_method(self):\n",
    "        print(\"This is private\")"
   ]
  },
  {
   "cell_type": "code",
   "execution_count": 117,
   "id": "702285dc",
   "metadata": {},
   "outputs": [],
   "source": [
    "#child class\n",
    "class Car(Vehicle):\n",
    "    \n",
    "    def __init__(self, make, model, fuel, air_conditioning, sunroof):\n",
    "        super(Car,self).__init__(make, model, fuel)\n",
    "        \n",
    "        #Vehicle.make = make\n",
    "        \n",
    "      \n",
    "        #Vehicle.__model= model\n",
    "        #Vehicle.__fuel = fuel\n",
    "        \n",
    "        self.air_conditioning = air_conditioning\n",
    "        self.sunroof = sunroof\n",
    "        \n",
    "    #def show_Parents_attr(self):\n",
    "        #print(Vehicle.make, \" \",Vehicle.__model,\" \",Vehicle.__fuel)\n",
    "        \n",
    "    #def show_parents_private_method(self):\n",
    "        #self._Vehicle__private_parent_method()"
   ]
  },
  {
   "cell_type": "code",
   "execution_count": null,
   "id": "20a5737f",
   "metadata": {},
   "outputs": [],
   "source": []
  },
  {
   "cell_type": "code",
   "execution_count": 118,
   "id": "e08def0d",
   "metadata": {},
   "outputs": [
    {
     "ename": "TypeError",
     "evalue": "__init__() takes 2 positional arguments but 4 were given",
     "output_type": "error",
     "traceback": [
      "\u001b[1;31m---------------------------------------------------------------------------\u001b[0m",
      "\u001b[1;31mTypeError\u001b[0m                                 Traceback (most recent call last)",
      "Input \u001b[1;32mIn [118]\u001b[0m, in \u001b[0;36m<cell line: 1>\u001b[1;34m()\u001b[0m\n\u001b[1;32m----> 1\u001b[0m myCar1\u001b[38;5;241m=\u001b[39m\u001b[43mCar\u001b[49m\u001b[43m(\u001b[49m\u001b[38;5;124;43m\"\u001b[39;49m\u001b[38;5;124;43mTesla\u001b[39;49m\u001b[38;5;124;43m\"\u001b[39;49m\u001b[43m,\u001b[49m\u001b[38;5;241;43m2020\u001b[39;49m\u001b[43m,\u001b[49m\u001b[38;5;124;43m\"\u001b[39;49m\u001b[38;5;124;43mElectric\u001b[39;49m\u001b[38;5;124;43m\"\u001b[39;49m\u001b[43m,\u001b[49m\u001b[43m \u001b[49m\u001b[38;5;28;43;01mTrue\u001b[39;49;00m\u001b[43m,\u001b[49m\u001b[43m \u001b[49m\u001b[38;5;28;43;01mTrue\u001b[39;49;00m\u001b[43m)\u001b[49m\n",
      "Input \u001b[1;32mIn [117]\u001b[0m, in \u001b[0;36mCar.__init__\u001b[1;34m(self, make, model, fuel, air_conditioning, sunroof)\u001b[0m\n\u001b[0;32m      4\u001b[0m \u001b[38;5;28;01mdef\u001b[39;00m \u001b[38;5;21m__init__\u001b[39m(\u001b[38;5;28mself\u001b[39m, make, model, fuel, air_conditioning, sunroof):\n\u001b[1;32m----> 5\u001b[0m     \u001b[38;5;28;43msuper\u001b[39;49m\u001b[43m(\u001b[49m\u001b[43m)\u001b[49m\u001b[38;5;241;43m.\u001b[39;49m\u001b[38;5;21;43m__init__\u001b[39;49m\u001b[43m(\u001b[49m\u001b[43mmake\u001b[49m\u001b[43m,\u001b[49m\u001b[43m \u001b[49m\u001b[43mmodel\u001b[49m\u001b[43m,\u001b[49m\u001b[43m \u001b[49m\u001b[43mfuel\u001b[49m\u001b[43m)\u001b[49m\n\u001b[0;32m      7\u001b[0m     \u001b[38;5;66;03m#Vehicle.make = make\u001b[39;00m\n\u001b[0;32m      8\u001b[0m     \n\u001b[0;32m      9\u001b[0m   \n\u001b[0;32m     10\u001b[0m     \u001b[38;5;66;03m#Vehicle.__model= model\u001b[39;00m\n\u001b[0;32m     11\u001b[0m     \u001b[38;5;66;03m#Vehicle.__fuel = fuel\u001b[39;00m\n\u001b[0;32m     13\u001b[0m     \u001b[38;5;28mself\u001b[39m\u001b[38;5;241m.\u001b[39mair_conditioning \u001b[38;5;241m=\u001b[39m air_conditioning\n",
      "\u001b[1;31mTypeError\u001b[0m: __init__() takes 2 positional arguments but 4 were given"
     ]
    }
   ],
   "source": [
    "myCar1=Car(\"Tesla\",2020,\"Electric\", True, True)"
   ]
  },
  {
   "cell_type": "code",
   "execution_count": 62,
   "id": "2cc0c4c4",
   "metadata": {},
   "outputs": [
    {
     "data": {
      "text/plain": [
       "{'make': 'Tesla',\n",
       " '_Vehicle__model': 2020,\n",
       " '_Vehicle__fuel': 'Electric',\n",
       " 'air_conditioning': True,\n",
       " 'sunroof': True}"
      ]
     },
     "execution_count": 62,
     "metadata": {},
     "output_type": "execute_result"
    }
   ],
   "source": [
    "myCar1.__dict__"
   ]
  },
  {
   "cell_type": "code",
   "execution_count": 63,
   "id": "a3b00ccb",
   "metadata": {},
   "outputs": [
    {
     "name": "stdout",
     "output_type": "stream",
     "text": [
      "This is private\n"
     ]
    }
   ],
   "source": [
    "myCar1._Vehicle__private_parent_method()"
   ]
  },
  {
   "cell_type": "code",
   "execution_count": 47,
   "id": "3ee11578",
   "metadata": {},
   "outputs": [
    {
     "name": "stdout",
     "output_type": "stream",
     "text": [
      "Tesla   2020   Electric\n"
     ]
    }
   ],
   "source": [
    "myCar1.show_Parents_attr()"
   ]
  },
  {
   "cell_type": "code",
   "execution_count": 48,
   "id": "93ab369d",
   "metadata": {},
   "outputs": [
    {
     "data": {
      "text/plain": [
       "'Tesla'"
      ]
     },
     "execution_count": 48,
     "metadata": {},
     "output_type": "execute_result"
    }
   ],
   "source": [
    "myCar1.make\n"
   ]
  },
  {
   "cell_type": "code",
   "execution_count": 49,
   "id": "4cef4168",
   "metadata": {},
   "outputs": [
    {
     "ename": "AttributeError",
     "evalue": "'Car' object has no attribute 'model'",
     "output_type": "error",
     "traceback": [
      "\u001b[1;31m---------------------------------------------------------------------------\u001b[0m",
      "\u001b[1;31mAttributeError\u001b[0m                            Traceback (most recent call last)",
      "Input \u001b[1;32mIn [49]\u001b[0m, in \u001b[0;36m<cell line: 1>\u001b[1;34m()\u001b[0m\n\u001b[1;32m----> 1\u001b[0m \u001b[43mmyCar1\u001b[49m\u001b[38;5;241;43m.\u001b[39;49m\u001b[43mmodel\u001b[49m\n",
      "\u001b[1;31mAttributeError\u001b[0m: 'Car' object has no attribute 'model'"
     ]
    }
   ],
   "source": [
    "myCar1.model"
   ]
  },
  {
   "cell_type": "code",
   "execution_count": 50,
   "id": "f67702aa",
   "metadata": {},
   "outputs": [
    {
     "name": "stdout",
     "output_type": "stream",
     "text": [
      "This is private\n"
     ]
    }
   ],
   "source": [
    "myCar1.show_parents_private_method()"
   ]
  },
  {
   "cell_type": "code",
   "execution_count": 28,
   "id": "67c5d8ce",
   "metadata": {},
   "outputs": [
    {
     "ename": "AttributeError",
     "evalue": "'Car' object has no attribute 'model'",
     "output_type": "error",
     "traceback": [
      "\u001b[1;31m---------------------------------------------------------------------------\u001b[0m",
      "\u001b[1;31mAttributeError\u001b[0m                            Traceback (most recent call last)",
      "Input \u001b[1;32mIn [28]\u001b[0m, in \u001b[0;36m<cell line: 1>\u001b[1;34m()\u001b[0m\n\u001b[1;32m----> 1\u001b[0m \u001b[43mmyCar1\u001b[49m\u001b[38;5;241;43m.\u001b[39;49m\u001b[43mmodel\u001b[49m\n",
      "\u001b[1;31mAttributeError\u001b[0m: 'Car' object has no attribute 'model'"
     ]
    }
   ],
   "source": [
    "myCar1.model"
   ]
  },
  {
   "cell_type": "code",
   "execution_count": 25,
   "id": "ed7b932c",
   "metadata": {},
   "outputs": [],
   "source": [
    "myCar2=Car(\"BMW\",2018,\"CNG\", True, False)"
   ]
  },
  {
   "cell_type": "code",
   "execution_count": 26,
   "id": "6cb1bcf7",
   "metadata": {},
   "outputs": [
    {
     "data": {
      "text/plain": [
       "{'air_conditioning': True, 'sunroof': False}"
      ]
     },
     "execution_count": 26,
     "metadata": {},
     "output_type": "execute_result"
    }
   ],
   "source": [
    "myCar2.__dict__"
   ]
  },
  {
   "cell_type": "markdown",
   "id": "18005663",
   "metadata": {},
   "source": [
    "# POLYMORPHISM"
   ]
  },
  {
   "cell_type": "code",
   "execution_count": 104,
   "id": "6afbd55b",
   "metadata": {},
   "outputs": [],
   "source": [
    "#parent class\n",
    "\n",
    "class Vehicle:\n",
    "    base_price=10000\n",
    "    current_year=2022\n",
    "    \n",
    "    def __init__(self,make, model, fuel):\n",
    "        #public attribute\n",
    "        self.make = make\n",
    "        \n",
    "        #private attribute\n",
    "        self.__model= model\n",
    "        self.__fuel = fuel\n",
    "        \n",
    "    def get_values(self):\n",
    "        age=Vehicle.current_year-self.__model\n",
    "        print(\"getvalues() of parent class\")\n",
    "        return Vehicle.base_price*(1/age)"
   ]
  },
  {
   "cell_type": "code",
   "execution_count": 109,
   "id": "b01c3a7e",
   "metadata": {},
   "outputs": [],
   "source": [
    "#child class\n",
    "class Car(Vehicle):\n",
    "    \n",
    "    def __init__(self, make, model, fuel, air_conditioning, sunroof):\n",
    "        super(Car,self).__init__(make, model, fuel)\n",
    "        \n",
    "        \n",
    "        self.air_conditioning = air_conditioning\n",
    "        self.sunroof = sunroof\n",
    "        \n",
    "    def get_values(self):\n",
    "        age=Vehicle.current_year-self._Vehicle__model\n",
    "        print(\"getvalues() of child class\")\n",
    "        return Vehicle.base_price*(1/age)"
   ]
  },
  {
   "cell_type": "code",
   "execution_count": 110,
   "id": "0e93ad68",
   "metadata": {},
   "outputs": [],
   "source": [
    "myCar3=Car(\"audi\",2017,\"petrol\",True,True)"
   ]
  },
  {
   "cell_type": "code",
   "execution_count": 111,
   "id": "f772e07e",
   "metadata": {},
   "outputs": [
    {
     "data": {
      "text/plain": [
       "{'make': 'audi',\n",
       " '_Vehicle__model': 2017,\n",
       " '_Vehicle__fuel': 'petrol',\n",
       " 'air_conditioning': True,\n",
       " 'sunroof': True}"
      ]
     },
     "execution_count": 111,
     "metadata": {},
     "output_type": "execute_result"
    }
   ],
   "source": [
    "myCar3.__dict__"
   ]
  },
  {
   "cell_type": "code",
   "execution_count": 112,
   "id": "3d219a8f",
   "metadata": {},
   "outputs": [
    {
     "name": "stdout",
     "output_type": "stream",
     "text": [
      "getvalues() of child class\n"
     ]
    },
    {
     "data": {
      "text/plain": [
       "2000.0"
      ]
     },
     "execution_count": 112,
     "metadata": {},
     "output_type": "execute_result"
    }
   ],
   "source": [
    "myCar3.get_values()"
   ]
  },
  {
   "cell_type": "code",
   "execution_count": 113,
   "id": "7c5b41aa",
   "metadata": {},
   "outputs": [],
   "source": [
    "parentobj=Vehicle('alto', 2015, \"petrol\")"
   ]
  },
  {
   "cell_type": "code",
   "execution_count": 114,
   "id": "1779eed5",
   "metadata": {},
   "outputs": [
    {
     "data": {
      "text/plain": [
       "{'make': 'alto', '_Vehicle__model': 2015, '_Vehicle__fuel': 'petrol'}"
      ]
     },
     "execution_count": 114,
     "metadata": {},
     "output_type": "execute_result"
    }
   ],
   "source": [
    "parentobj.__dict__"
   ]
  },
  {
   "cell_type": "code",
   "execution_count": 115,
   "id": "5d1b1e84",
   "metadata": {},
   "outputs": [
    {
     "name": "stdout",
     "output_type": "stream",
     "text": [
      "getvalues() of parent class\n"
     ]
    },
    {
     "data": {
      "text/plain": [
       "1428.5714285714284"
      ]
     },
     "execution_count": 115,
     "metadata": {},
     "output_type": "execute_result"
    }
   ],
   "source": [
    "parentobj.get_values()"
   ]
  }
 ],
 "metadata": {
  "kernelspec": {
   "display_name": "Python 3 (ipykernel)",
   "language": "python",
   "name": "python3"
  },
  "language_info": {
   "codemirror_mode": {
    "name": "ipython",
    "version": 3
   },
   "file_extension": ".py",
   "mimetype": "text/x-python",
   "name": "python",
   "nbconvert_exporter": "python",
   "pygments_lexer": "ipython3",
   "version": "3.9.12"
  }
 },
 "nbformat": 4,
 "nbformat_minor": 5
}
