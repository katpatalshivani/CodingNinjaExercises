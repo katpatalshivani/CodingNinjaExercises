{
 "cells": [
  {
   "cell_type": "code",
   "execution_count": null,
   "id": "9e04e5f3",
   "metadata": {},
   "outputs": [],
   "source": [
    "def func(num):\n",
    "    return func(num-1)\n",
    "num = 5\n",
    "ans = func(num-1)\n",
    "print(ans)"
   ]
  },
  {
   "cell_type": "markdown",
   "id": "9da00def",
   "metadata": {},
   "source": [
    "# Power Of A Number\n"
   ]
  },
  {
   "cell_type": "code",
   "execution_count": 7,
   "id": "23999ea8",
   "metadata": {},
   "outputs": [
    {
     "name": "stdout",
     "output_type": "stream",
     "text": [
      "3 4\n",
      "81\n"
     ]
    }
   ],
   "source": [
    "def powerOfn(x,n):\n",
    "    if n==0:\n",
    "        return 1\n",
    "    \n",
    "    small_amt=powerOfn(x,n-1)\n",
    "    #print(small_amt)\n",
    "    return x * small_amt\n",
    "\n",
    "\n",
    "a, b = input().split()\n",
    "a = int(a)\n",
    "b = int(b)\n",
    "\n",
    "ans=powerOfn(a,b)\n",
    "print(ans)"
   ]
  },
  {
   "cell_type": "markdown",
   "id": "af5f9f39",
   "metadata": {},
   "source": [
    "# print no n to 1"
   ]
  },
  {
   "cell_type": "code",
   "execution_count": 2,
   "id": "32ae7140",
   "metadata": {},
   "outputs": [
    {
     "name": "stdout",
     "output_type": "stream",
     "text": [
      "5\n",
      "5\n",
      "4\n",
      "3\n",
      "2\n",
      "1\n"
     ]
    }
   ],
   "source": [
    "def printNto1(n):\n",
    "    if n==0:\n",
    "        return \n",
    "    print(n)\n",
    "    printNto1(n-1)\n",
    "    #print(n) \n",
    "    \n",
    "num=int(input())\n",
    "printNto1(num)"
   ]
  },
  {
   "cell_type": "code",
   "execution_count": 3,
   "id": "4b06819f",
   "metadata": {},
   "outputs": [
    {
     "name": "stdout",
     "output_type": "stream",
     "text": [
      "16\n"
     ]
    }
   ],
   "source": [
    "def fun(n):\n",
    "    if(n == 4):\n",
    "        return n\n",
    "    else:\n",
    "        return 2*fun(n+1)\n",
    "\n",
    "\n",
    "print(fun(2))"
   ]
  },
  {
   "cell_type": "markdown",
   "id": "7be248ed",
   "metadata": {},
   "source": [
    "# Print  fibonacci numbers"
   ]
  },
  {
   "cell_type": "code",
   "execution_count": 3,
   "id": "f45fc702",
   "metadata": {},
   "outputs": [
    {
     "name": "stdout",
     "output_type": "stream",
     "text": [
      "16\n"
     ]
    }
   ],
   "source": [
    "def fun(n):\n",
    "    if(n == 4):\n",
    "        return n\n",
    "    else:\n",
    "        return 2*fun(n+1)\n",
    "\n",
    "\n",
    "print(fun(2))"
   ]
  },
  {
   "cell_type": "markdown",
   "id": "13277054",
   "metadata": {},
   "source": [
    "# Sum Of Array\n"
   ]
  },
  {
   "cell_type": "code",
   "execution_count": 8,
   "id": "764575d5",
   "metadata": {},
   "outputs": [
    {
     "name": "stdout",
     "output_type": "stream",
     "text": [
      "5\n",
      "2 2 2 2 2\n",
      "10\n"
     ]
    }
   ],
   "source": [
    "def sumArray(arr):\n",
    "    # Please add your code here\n",
    "    #si=0\n",
    "    \n",
    "    if len(arr)==1:\n",
    "        return arr[0]\n",
    "    else:\n",
    "        return arr[0]+sumArray(arr[1:])\n",
    "    \n",
    "    \n",
    "# Main\n",
    "from sys import setrecursionlimit\n",
    "setrecursionlimit(11000)\n",
    "n=int(input())\n",
    "\n",
    "#si=int(input())\n",
    "arr=list(int(i) for i in input().strip().split(' '))\n",
    "print(sumArray(arr))\n"
   ]
  },
  {
   "cell_type": "markdown",
   "id": "f0a5de36",
   "metadata": {},
   "source": [
    "# Check Number in Array"
   ]
  },
  {
   "cell_type": "code",
   "execution_count": 21,
   "id": "a82526fc",
   "metadata": {},
   "outputs": [
    {
     "name": "stdout",
     "output_type": "stream",
     "text": [
      "44\n",
      "34 57 82 41 65 35 82 27 36 12 6 40 66 99 25 29 22 25 12 24 65 15 5 43 28 33 76 32 13 95 22 84 71 23 28 7 65 94 18 47 9 42 61 73 61\n",
      "61\n",
      "true\n"
     ]
    }
   ],
   "source": [
    "def checkNumber(arr, x):\n",
    "    si=0\n",
    "    # Please add your code here\n",
    "    \n",
    "    l=len(arr)\n",
    "    \n",
    "    if l==0:\n",
    "        return False\n",
    "    \n",
    "    \n",
    "    if x == arr[si]:\n",
    "        return True\n",
    "    \n",
    "    else:\n",
    "        return checkNumber(arr[1:],x)\n",
    "    '''\n",
    "    if ans >0:\n",
    "        return True\n",
    "    else:\n",
    "        return False\n",
    "    '''    \n",
    "\n",
    "# Main\n",
    "from sys import setrecursionlimit\n",
    "setrecursionlimit(11000)\n",
    "n=int(input())\n",
    "arr=list(int(i) for i in input().strip().split(' '))\n",
    "x=int(input())\n",
    "if checkNumber(arr, x):\n",
    "    print('true')\n",
    "else:\n",
    "    print('false')"
   ]
  },
  {
   "cell_type": "markdown",
   "id": "ef039e3c",
   "metadata": {},
   "source": [
    "# First Index of Number - Question\n"
   ]
  },
  {
   "cell_type": "code",
   "execution_count": 27,
   "id": "21bd9935",
   "metadata": {},
   "outputs": [
    {
     "name": "stdout",
     "output_type": "stream",
     "text": [
      "4\n",
      "1 2 1 2\n",
      "9\n",
      "-1\n"
     ]
    }
   ],
   "source": [
    "def firstIndex(arr, x,si):\n",
    "    # Please add your code here\n",
    "    l=len(arr)\n",
    "    if si==l:\n",
    "        return -1\n",
    "    \n",
    "    if x==arr[si]:\n",
    "        return si\n",
    "    \n",
    "    smallOutput=firstIndex(arr,x,si+1)\n",
    "    \n",
    "    return smallOutput\n",
    "   \n",
    "\n",
    "# Main\n",
    "from sys import setrecursionlimit\n",
    "setrecursionlimit(11000)\n",
    "n=int(input())\n",
    "arr=list(int(i) for i in input().strip().split(' '))\n",
    "x=int(input())\n",
    "print(firstIndex(arr, x,0))\n"
   ]
  },
  {
   "cell_type": "markdown",
   "id": "d55f94bb",
   "metadata": {},
   "source": [
    "# Last Index of Number - Question"
   ]
  },
  {
   "cell_type": "code",
   "execution_count": 4,
   "id": "d26169ff",
   "metadata": {},
   "outputs": [
    {
     "name": "stdout",
     "output_type": "stream",
     "text": [
      "4\n",
      "1 9 7 9\n",
      "9\n",
      "3\n"
     ]
    }
   ],
   "source": [
    "def lastIndex(arr, x,si):\n",
    "    # Please add your code here\n",
    "    l=len(arr)\n",
    "    \n",
    "    if si==l:\n",
    "        return -1\n",
    "    \n",
    "    smallOutput=lastIndex(arr,x,si+1)\n",
    "    #print (smallOutput)\n",
    "    \n",
    "    if smallOutput!=-1:\n",
    "        return smallOutput\n",
    "    \n",
    "    else:\n",
    "        if arr[si]==x:\n",
    "            return si\n",
    "        \n",
    "        else:\n",
    "            return -1\n",
    "    \n",
    "    \n",
    "\n",
    "# Main\n",
    "from sys import setrecursionlimit\n",
    "setrecursionlimit(11000)\n",
    "n=int(input())\n",
    "arr=list(int(i) for i in input().strip().split(' '))\n",
    "x=int(input())\n",
    "print(lastIndex(arr, x,0))"
   ]
  }
 ],
 "metadata": {
  "kernelspec": {
   "display_name": "Python 3 (ipykernel)",
   "language": "python",
   "name": "python3"
  },
  "language_info": {
   "codemirror_mode": {
    "name": "ipython",
    "version": 3
   },
   "file_extension": ".py",
   "mimetype": "text/x-python",
   "name": "python",
   "nbconvert_exporter": "python",
   "pygments_lexer": "ipython3",
   "version": "3.9.12"
  }
 },
 "nbformat": 4,
 "nbformat_minor": 5
}
