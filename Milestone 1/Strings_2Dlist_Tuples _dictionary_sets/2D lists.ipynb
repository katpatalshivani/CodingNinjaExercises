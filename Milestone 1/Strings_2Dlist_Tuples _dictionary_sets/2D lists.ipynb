{
 "cells": [
  {
   "cell_type": "code",
   "execution_count": 4,
   "id": "9289a377",
   "metadata": {},
   "outputs": [
    {
     "name": "stdout",
     "output_type": "stream",
     "text": [
      "3\n",
      "enter n3\n",
      "enter m3\n",
      "1 3 2\n",
      "1 4 2\n",
      "3 3 3\n",
      "[[1, 3, 2], [1, 4, 2], [3, 3, 3]]\n"
     ]
    }
   ],
   "source": [
    "s=input().split()\n",
    "n,m= int(input(\"enter n\")),int(input(\"enter m\"))\n",
    "\n",
    "list1=[[int(j) for j in input().split()]  for i in range(n)]\n",
    "print(list1)"
   ]
  },
  {
   "cell_type": "code",
   "execution_count": 11,
   "id": "8b97b7c4",
   "metadata": {},
   "outputs": [
    {
     "name": "stdout",
     "output_type": "stream",
     "text": [
      "3 4\n",
      "1 2 3 4\n",
      "4 5 6 7\n",
      "1 2 1 4\n",
      "[[1, 2, 3, 4], [4, 5, 6, 7], [1, 2, 1, 4]]\n"
     ]
    }
   ],
   "source": [
    "s=input().split()\n",
    "n,m= int(s[0]),int(s[1])\n",
    "\n",
    "list1=[[int(j) for j in input().split()]  for i in range(n)]\n",
    "print(list1)"
   ]
  },
  {
   "cell_type": "code",
   "execution_count": 40,
   "id": "c0950491",
   "metadata": {},
   "outputs": [
    {
     "name": "stdout",
     "output_type": "stream",
     "text": [
      "1 5 9 2 6 10 3 7 11 4 8 12 "
     ]
    }
   ],
   "source": [
    "li=[[1,2,3,4],[5,6,7,8],[9,10,11,12]]\n",
    "for j in range(4):\n",
    "    for ele in li:\n",
    "        print(ele[j],end = \" \")\n",
    "        "
   ]
  },
  {
   "cell_type": "markdown",
   "id": "928a21ef",
   "metadata": {},
   "source": [
    "# Row Wise Sum\n"
   ]
  },
  {
   "cell_type": "code",
   "execution_count": 15,
   "id": "282a1bc9",
   "metadata": {},
   "outputs": [
    {
     "name": "stdout",
     "output_type": "stream",
     "text": [
      "Enter rows= 3\n",
      "Enter col= 4\n",
      "1 2 3 4\n",
      "5 6 7 8\n",
      "9 10 11 12\n",
      "1\n",
      "2\n",
      "3\n",
      "4\n",
      "5\n",
      "6\n",
      "7\n",
      "8\n",
      "9\n",
      "10\n",
      "11\n",
      "12\n",
      "[10, 26, 42]\n"
     ]
    }
   ],
   "source": [
    "def rowWiseSum(mat, nRows, mCols):\n",
    "    \n",
    "    \n",
    "    arr=[]\n",
    "    l=0\n",
    "    for i in range (nRows):\n",
    "        sum=0\n",
    "        \n",
    "        for j in range(mCols):\n",
    "            print(mat[i][j])\n",
    "            sum=sum+ mat[i][j]\n",
    "            \n",
    "        arr.append(sum)\n",
    "        \n",
    "    return arr\n",
    "        \n",
    "        \n",
    "    \n",
    "    \n",
    "\n",
    "\n",
    "n=int(input('Enter rows= '))\n",
    "m=int(input('Enter col= '))\n",
    "li=[[int(j) for j in input().split()] for i in range (n)]\n",
    "a=rowWiseSum(li,n,m)\n",
    "print(a)\n",
    "\n",
    "\n"
   ]
  },
  {
   "cell_type": "markdown",
   "id": "720bd7e3",
   "metadata": {},
   "source": [
    "# Wave Print\n"
   ]
  },
  {
   "cell_type": "code",
   "execution_count": 14,
   "id": "016f99ff",
   "metadata": {},
   "outputs": [
    {
     "name": "stdout",
     "output_type": "stream",
     "text": [
      "3 4\n",
      "1 2 3 4\n",
      "5 6 7 8\n",
      "9 10 11 12\n",
      "[[1, 2, 3, 4], [5, 6, 7, 8], [9, 10, 11, 12]]\n"
     ]
    },
    {
     "ename": "IndexError",
     "evalue": "list index out of range",
     "output_type": "error",
     "traceback": [
      "\u001b[1;31m---------------------------------------------------------------------------\u001b[0m",
      "\u001b[1;31mIndexError\u001b[0m                                Traceback (most recent call last)",
      "Input \u001b[1;32mIn [14]\u001b[0m, in \u001b[0;36m<cell line: 28>\u001b[1;34m()\u001b[0m\n\u001b[0;32m     25\u001b[0m list1\u001b[38;5;241m=\u001b[39m[[\u001b[38;5;28mint\u001b[39m(j) \u001b[38;5;28;01mfor\u001b[39;00m j \u001b[38;5;129;01min\u001b[39;00m \u001b[38;5;28minput\u001b[39m()\u001b[38;5;241m.\u001b[39msplit()]  \u001b[38;5;28;01mfor\u001b[39;00m i \u001b[38;5;129;01min\u001b[39;00m \u001b[38;5;28mrange\u001b[39m(n)]\n\u001b[0;32m     26\u001b[0m \u001b[38;5;28mprint\u001b[39m(list1)\n\u001b[1;32m---> 28\u001b[0m a\u001b[38;5;241m=\u001b[39m\u001b[43mwavePrint\u001b[49m\u001b[43m(\u001b[49m\u001b[43mli\u001b[49m\u001b[43m,\u001b[49m\u001b[43mn\u001b[49m\u001b[43m,\u001b[49m\u001b[43mm\u001b[49m\u001b[43m)\u001b[49m\n\u001b[0;32m     29\u001b[0m \u001b[38;5;28mprint\u001b[39m(a)\n",
      "Input \u001b[1;32mIn [14]\u001b[0m, in \u001b[0;36mwavePrint\u001b[1;34m(mat, nRows, mCols)\u001b[0m\n\u001b[0;32m      9\u001b[0m     \u001b[38;5;28;01melse\u001b[39;00m:\n\u001b[0;32m     10\u001b[0m         \u001b[38;5;28;01mfor\u001b[39;00m j \u001b[38;5;129;01min\u001b[39;00m \u001b[38;5;28mrange\u001b[39m(m,\u001b[38;5;241m1\u001b[39m,\u001b[38;5;241m-\u001b[39m\u001b[38;5;241m1\u001b[39m):\n\u001b[1;32m---> 11\u001b[0m             arr\u001b[38;5;241m.\u001b[39mappend(\u001b[43mmat\u001b[49m\u001b[43m[\u001b[49m\u001b[43mi\u001b[49m\u001b[43m]\u001b[49m[j])\n\u001b[0;32m     14\u001b[0m \u001b[38;5;28;01mreturn\u001b[39;00m\n",
      "\u001b[1;31mIndexError\u001b[0m: list index out of range"
     ]
    }
   ],
   "source": [
    "def wavePrint(mat, nRows, mCols):\n",
    "    \n",
    "    arr=[]\n",
    "    i=0\n",
    "    while i < nRows:\n",
    "        if i%2==0:\n",
    "            for j in range(mCols):\n",
    "                arr.append(mat[i][j])\n",
    "                i=i+1\n",
    "                \n",
    "        else:\n",
    "            for j in range(m,1,-1):\n",
    "                arr.append(mat[i][j])\n",
    "                i=i+1\n",
    "    \n",
    "    \n",
    "    return\n",
    "'''\n",
    "#str=input().split()\n",
    "n,m=int(input('enter n= ')),int(input('enter m')) #n=rows m=columns\n",
    "li=[[int(j) for j in input().split() for i in range (n)]]\n",
    "a = wavePrint(li,n,m)\n",
    "print(a)\n",
    "'''\n",
    "s=input().split()\n",
    "n,m= int(s[0]),int(s[1])\n",
    "\n",
    "list1=[[int(j) for j in input().split()]  for i in range(n)]\n",
    "print(list1)\n",
    "\n",
    "a=wavePrint(li,n,m)\n",
    "print(a)"
   ]
  },
  {
   "cell_type": "code",
   "execution_count": 36,
   "id": "bc7cc262",
   "metadata": {},
   "outputs": [
    {
     "name": "stdout",
     "output_type": "stream",
     "text": [
      "3 3\n",
      "1 2 3\n",
      "4 5 6\n",
      "7 8 9 \n",
      "1 4 7 8 5 2 3 6 9 "
     ]
    }
   ],
   "source": [
    "def wavePrint(mat, nRows, mCols):\n",
    "    \n",
    "    '''\n",
    "    j=0\n",
    "    \n",
    "    while j < mCols:\n",
    "        if j%2==0:\n",
    "            for i in range(nRows):\n",
    "                #arr.append(mat[i][j])\n",
    "                print(mat[i][j] ,end = \" \")\n",
    "            j=j+1\n",
    "                \n",
    "        else:\n",
    "            for i in range(nRows-1,-1,-1):\n",
    "                #arr.append(mat[i][j])\n",
    "                print (mat[i][j], end=\" \")\n",
    "            j=j+1\n",
    "    #s=s.join(arr)\n",
    "    '''\n",
    "    j=0\n",
    "    \n",
    "    while j < mCols:\n",
    "        if j%2==0:\n",
    "            for i in range(nRows):\n",
    "                #arr.append(mat[i][j])\n",
    "                print(mat[i][j] ,end = \" \")\n",
    "            j=j+1\n",
    "                \n",
    "        else:\n",
    "            for i in range(nRows-1,-1,-1):\n",
    "                #arr.append(mat[i][j])\n",
    "                print (mat[i][j], end=\" \")\n",
    "            j=j+1\n",
    "        \n",
    "    \n",
    "    #return s\n",
    "'''\n",
    "#str=input().split()\n",
    "n,m=int(input('enter n= ')),int(input('enter m')) #n=rows m=columns\n",
    "li=[[int(j) for j in input().split() for i in range (n)]]\n",
    "a = wavePrint(li,n,m)\n",
    "print(a)\n",
    "'''\n",
    "s=input().split()\n",
    "n,m= int(s[0]),int(s[1])\n",
    "\n",
    "list1=[[int(j) for j in input().split()]  for i in range(n)]\n",
    "#print(list1)\n",
    "\n",
    "a=wavePrint(list1,n,m)\n",
    "#print(a)"
   ]
  },
  {
   "cell_type": "code",
   "execution_count": null,
   "id": "fb8464f7",
   "metadata": {},
   "outputs": [],
   "source": []
  },
  {
   "cell_type": "code",
   "execution_count": 38,
   "id": "dcf6f217",
   "metadata": {},
   "outputs": [
    {
     "name": "stdout",
     "output_type": "stream",
     "text": [
      "4 3\n",
      "1 2 3\n",
      "4 5 6\n",
      "7 8 9\n",
      "10 11 12\n",
      "1 2 3 6 9 12 11 10 7 4 5 8 "
     ]
    }
   ],
   "source": [
    "def spiralPrint(mat, nRows, mCols):\n",
    "    #Your code goes here\n",
    "    loop = nRows\n",
    "    if loop % 2 != 0:\n",
    "        loop += 1\n",
    "    for i in range(loop//2):\n",
    "        for j in range(i, mCols-i):\n",
    "            print(mat[i][j], end=\" \")\n",
    "        for k in range(1+i, nRows-i):\n",
    "            print(mat[k][j], end=\" \")\n",
    "        for l in range(mCols-2-i, -1+i, -1):\n",
    "            print(mat[k][l], end=\" \")\n",
    "        for p in range(nRows-2-i, 0+i, -1):\n",
    "            print(mat[p][l], end=\" \")\n",
    "            \n",
    "            \n",
    "            \n",
    "s=input().split()\n",
    "n,m= int(s[0]),int(s[1])\n",
    "\n",
    "list1=[[int(j) for j in input().split()]  for i in range(n)]\n",
    "spiralPrint(list1, n, m)\n"
   ]
  },
  {
   "cell_type": "code",
   "execution_count": 54,
   "id": "ba84182d",
   "metadata": {},
   "outputs": [
    {
     "name": "stdout",
     "output_type": "stream",
     "text": [
      "[[1, 2, 3], [4, 5, 6], [7, 8, 9], [10, 11, 12]]\n",
      "1 2 3 4 8 12 16 15 14 13 9 5 6 7 11 10 "
     ]
    }
   ],
   "source": [
    "def spiralPrint(mat, nRows, mCols):\n",
    "    if nRows==0:\n",
    "        return\n",
    "    r,c=0,0\n",
    "    ne=nRows*mCols\n",
    "    count=0\n",
    "    while count<ne:\n",
    "        i=c\n",
    "        #left to right\n",
    "        while i<mCols and count<ne:\n",
    "            print(mat[r][i],end=\" \")\n",
    "            count=count+1\n",
    "            i=i+1\n",
    "        r=r+1\n",
    "        i=r\n",
    "        #top to bottom\n",
    "        while i<nRows and count<ne:\n",
    "            print(mat[i][mCols-1],end=\" \")\n",
    "            count=count+1\n",
    "            i=i+1\n",
    "        mCols=mCols-1\n",
    "        i=mCols-1\n",
    "        #right to left\n",
    "        while i>=c and count<ne:\n",
    "            print(mat[nRows-1][i],end=\" \")\n",
    "            count=count+1\n",
    "            i=i-1\n",
    "        nRows=nRows-1\n",
    "        i=nRows-1\n",
    "        #bottom up\n",
    "        while i>=r and count<ne:\n",
    "            print(mat[i][c],end=\" \")\n",
    "            count=count+1\n",
    "            i=i-1\n",
    "        c=c+1\n",
    "\n",
    "li=[[1,2,3,4],[5,6,7,8],[9,10,11,12],[13,14,15,16]]\n",
    "m=4\n",
    "n=4\n",
    "print(list1)\n",
    "spiralPrint(li,m,n)\n",
    "\n"
   ]
  },
  {
   "cell_type": "code",
   "execution_count": null,
   "id": "0804d7d8",
   "metadata": {},
   "outputs": [],
   "source": [
    "def spiralPrint(ar, n, m):\n",
    "    rs=0\n",
    "    cs=0\n",
    "    re=n\n",
    "    ce=m\n",
    "    te=n*m\n",
    "    \n",
    "    count=0\n",
    "    while count<te:\n",
    "    \n",
    "        #left to right\n",
    "        i=cs\n",
    "        while (rs<n and cs<m):\n",
    "            print(ar[rs][cs])\n",
    "            i=i+1\n",
    "            count=count+1\n",
    "            \n",
    "        rs=rs+1\n",
    "            \n",
    "        #top down\n",
    "        j=m\n",
    "        i=0\n",
    "        while (j<= m ):\n",
    "            print(ar[i][j])\n",
    "            i=i+1\n",
    "            j=j-1\n",
    "            count = 0\n",
    "            \n",
    "        #right to left\n",
    "        while\n",
    "        \n",
    "\n",
    "\n",
    "li=[[1,2,3,4],[5,6,7,8],[9,10,11,12],[13,14,15,16]]\n",
    "m=4\n",
    "n=4\n",
    "print(list1)\n",
    "spiralPrint(li,m,n)"
   ]
  },
  {
   "cell_type": "markdown",
   "id": "5c0faf95",
   "metadata": {},
   "source": [
    "# Largest Row or Column\n"
   ]
  },
  {
   "cell_type": "code",
   "execution_count": null,
   "id": "0a4521d0",
   "metadata": {},
   "outputs": [],
   "source": []
  },
  {
   "cell_type": "code",
   "execution_count": 2,
   "id": "3b33630c",
   "metadata": {},
   "outputs": [
    {
     "name": "stdout",
     "output_type": "stream",
     "text": [
      "row 3 58\n"
     ]
    }
   ],
   "source": [
    "\n",
    "def findLargest(arr, nRows, mCols):\n",
    "    \n",
    "    \n",
    "    #Your code goes here\n",
    "    isRow = True\n",
    "    largestSum = -2147483648\n",
    "    num = 0\n",
    "    for i in range(nRows):\n",
    "        rowSum = 0\n",
    "        for j in range(mCols):\n",
    "            rowSum += arr[i][j]\n",
    "        if rowSum > largestSum:\n",
    "            largestSum = rowSum\n",
    "            num = i\n",
    "    for j in range(mCols):\n",
    "        colSum = 0\n",
    "        for i in range(nRows):\n",
    "            colSum += arr[i][j]\n",
    "        if colSum > largestSum:\n",
    "            largestSum = colSum\n",
    "            num = j\n",
    "            isRow = False\n",
    "    if isRow:\n",
    "        print(\"row \"+str(num)+\" \"+str(largestSum))\n",
    "    else:\n",
    "        print(\"column \"+str(num)+\" \"+str(largestSum))\n",
    "\n",
    "        \n",
    "li=[[1,2,3,4],[5,6,7,8],[9,10,11,12],[13,14,15,16]]\n",
    "m=4\n",
    "n=4\n",
    "\n",
    "findLargest(li,m,n)"
   ]
  }
 ],
 "metadata": {
  "kernelspec": {
   "display_name": "Python 3 (ipykernel)",
   "language": "python",
   "name": "python3"
  },
  "language_info": {
   "codemirror_mode": {
    "name": "ipython",
    "version": 3
   },
   "file_extension": ".py",
   "mimetype": "text/x-python",
   "name": "python",
   "nbconvert_exporter": "python",
   "pygments_lexer": "ipython3",
   "version": "3.9.12"
  }
 },
 "nbformat": 4,
 "nbformat_minor": 5
}
