{
 "cells": [
  {
   "cell_type": "code",
   "execution_count": 3,
   "id": "e98af844",
   "metadata": {},
   "outputs": [
    {
     "ename": "TypeError",
     "evalue": "'str' object does not support item assignment",
     "output_type": "error",
     "traceback": [
      "\u001b[1;31m---------------------------------------------------------------------------\u001b[0m",
      "\u001b[1;31mTypeError\u001b[0m                                 Traceback (most recent call last)",
      "Input \u001b[1;32mIn [3]\u001b[0m, in \u001b[0;36m<cell line: 2>\u001b[1;34m()\u001b[0m\n\u001b[0;32m      1\u001b[0m s\u001b[38;5;241m=\u001b[39m\u001b[38;5;124m\"\u001b[39m\u001b[38;5;124mabcd\u001b[39m\u001b[38;5;124m\"\u001b[39m\n\u001b[1;32m----> 2\u001b[0m s[\u001b[38;5;241m0\u001b[39m]\u001b[38;5;241m=\u001b[39m\u001b[38;5;124m'\u001b[39m\u001b[38;5;124mc\u001b[39m\u001b[38;5;124m'\u001b[39m\n\u001b[0;32m      3\u001b[0m \u001b[38;5;28mprint\u001b[39m(s)\n",
      "\u001b[1;31mTypeError\u001b[0m: 'str' object does not support item assignment"
     ]
    }
   ],
   "source": [
    "s=\"abcd\"\n",
    "s[0]='c'\n",
    "print(s) "
   ]
  },
  {
   "cell_type": "code",
   "execution_count": 1,
   "id": "8e936430",
   "metadata": {},
   "outputs": [
    {
     "name": "stdout",
     "output_type": "stream",
     "text": [
      "cdef\n"
     ]
    }
   ],
   "source": [
    "s = \"abcdef\"\n",
    "print (s[2:])"
   ]
  },
  {
   "cell_type": "code",
   "execution_count": 2,
   "id": "f4262f33",
   "metadata": {},
   "outputs": [
    {
     "name": "stdout",
     "output_type": "stream",
     "text": [
      "True\n"
     ]
    }
   ],
   "source": [
    "a = \"abce\" >= \"abcdef\"\n",
    "print(a)\n"
   ]
  },
  {
   "cell_type": "markdown",
   "id": "8fe70643",
   "metadata": {},
   "source": [
    "# Check Paliandrome"
   ]
  },
  {
   "cell_type": "code",
   "execution_count": 16,
   "id": "ddda4e51",
   "metadata": {},
   "outputs": [
    {
     "name": "stdout",
     "output_type": "stream",
     "text": [
      "malayalam\n",
      "true\n"
     ]
    }
   ],
   "source": [
    "s1=input()\n",
    "\n",
    "n=len(s1)\n",
    "\n",
    "#print(type(n))\n",
    "\n",
    "s2=s1[::-1]\n",
    "#print(s2)\n",
    "\n",
    "if s1==s2:\n",
    "    print('true')\n",
    "else:\n",
    "    print('false')"
   ]
  },
  {
   "cell_type": "markdown",
   "id": "40f8fb74",
   "metadata": {},
   "source": [
    "# Check Permutation"
   ]
  },
  {
   "cell_type": "code",
   "execution_count": 24,
   "id": "491fe7aa",
   "metadata": {},
   "outputs": [
    {
     "name": "stdout",
     "output_type": "stream",
     "text": [
      "s1abc\n",
      "s2abcde\n",
      "false\n"
     ]
    }
   ],
   "source": [
    "def isPermutation(string1, string2) :\n",
    "    c=0\n",
    "    if(len(str1)==len(str2)):\n",
    "        \n",
    "        for char in string1:\n",
    "            if char in string2:\n",
    "                c=c+1\n",
    "            else:\n",
    "                break\n",
    "            \n",
    "        if c==len(string1):\n",
    "            return True\n",
    "        else:\n",
    "            return False\n",
    "        \n",
    "    else:\n",
    "        return False\n",
    "    \n",
    "            \n",
    "    \n",
    "    \n",
    "    \n",
    "\n",
    "\n",
    "str1=input('s1')\n",
    "str2=input('s2')\n",
    "\n",
    "a=isPermutation(str1,str2)\n",
    "\n",
    "if a:\n",
    "    print('true')\n",
    "else:\n",
    "    print('false')"
   ]
  },
  {
   "cell_type": "code",
   "execution_count": 41,
   "id": "f8a05fa6",
   "metadata": {},
   "outputs": [
    {
     "name": "stdout",
     "output_type": "stream",
     "text": [
      "s1aab\n",
      "s2bba\n",
      "256\n",
      "true\n"
     ]
    }
   ],
   "source": [
    "def isPermutation(string1, string2) :\n",
    "    \n",
    "    arr1=[0]*256\n",
    "    #arr2=[256]\n",
    "    flag= True\n",
    "    if len(string1)==len(string2):\n",
    "        \n",
    "        for char in string1:\n",
    "            arr1[ord(char)]=arr1[ord(char)]+1\n",
    "\n",
    "        for char in string2:\n",
    "            arr1[ord(char)]=arr1[ord(char)]-1\n",
    "            \n",
    "        print (len(arr1))\n",
    "\n",
    "\n",
    "        for i in range(0,len(arr1)):\n",
    "            \n",
    "            if(arr1[i]!=0):\n",
    "                print(arr1[i])\n",
    "                \n",
    "                return False\n",
    "            \n",
    "                \n",
    "            else:\n",
    "                return True\n",
    "        \n",
    "    \n",
    "    \n",
    "    return False\n",
    "    \n",
    "            \n",
    "    \n",
    "    \n",
    "    \n",
    "\n",
    "\n",
    "str1=input('s1')\n",
    "str2=input('s2')\n",
    "\n",
    "a=isPermutation(str1,str2)\n",
    "\n",
    "if a:\n",
    "    print('true')\n",
    "else:\n",
    "    print('false')"
   ]
  },
  {
   "cell_type": "markdown",
   "id": "58b75ef8",
   "metadata": {},
   "source": [
    "# Remove Consecutive Duplicates"
   ]
  },
  {
   "cell_type": "code",
   "execution_count": 6,
   "id": "f03e0e0b",
   "metadata": {},
   "outputs": [
    {
     "name": "stdout",
     "output_type": "stream",
     "text": [
      "aaabbbcddec\n",
      "abcde\n"
     ]
    }
   ],
   "source": [
    "def removeConsecutiveDuplicates(string):\n",
    "    \n",
    "    arr=[0]*256\n",
    "    str2=\"\"\n",
    "    \n",
    "    for char in string:\n",
    "        arr[ord(char)]=arr[ord(char)]+1\n",
    "        \n",
    "    k=0 \n",
    "    if s[k]==s[k+1]:\n",
    "        \n",
    "        for i in range(len(arr)):\n",
    "          #  print(arr[i])\n",
    "            if (arr[i]>=1):\n",
    "                str2=str2+chr(i)\n",
    "                #print(chr(i))\n",
    "    k=k+1\n",
    "\n",
    "               \n",
    "        \n",
    "    \n",
    "    \n",
    "    \n",
    "    return  str2\n",
    "\n",
    "\n",
    "s=input('aaabbbcddec')\n",
    "ans=removeConsecutiveDuplicates(s)\n",
    "print(ans)\n"
   ]
  },
  {
   "cell_type": "code",
   "execution_count": 16,
   "id": "71e59e6f",
   "metadata": {},
   "outputs": [
    {
     "name": "stdout",
     "output_type": "stream",
     "text": [
      "a\n"
     ]
    }
   ],
   "source": [
    "def removeConsecutiveDuplicates(string):\n",
    "    \n",
    "    arr=list(string)\n",
    "    #print(string)\n",
    "    str2=\"\"\n",
    "    \n",
    "    j=1\n",
    "    \n",
    "    for i in range(len(arr)):\n",
    "        \n",
    "        if arr[i]!=arr[j]:\n",
    "            j=j+1\n",
    "            str2=arr[i]\n",
    "        else:\n",
    "            j=j+1\n",
    "    \n",
    "    \n",
    "               \n",
    "        \n",
    "    \n",
    "    \n",
    "    \n",
    "    return  str2\n",
    "\n",
    "\n",
    "s='aaabbbcddec'\n",
    "ans=removeConsecutiveDuplicates(s)\n",
    "print(ans)\n",
    "'''\n",
    "\n",
    "function checkPermutation(str1, str2):\n",
    "if(str1.length != str2.length):\n",
    "return false\n",
    "frequency[256] <- new array of integers initialised with 0\n",
    "for char in str1:\n",
    "asciiCode <- (int)char\n",
    "frequency[asciiCode] <- frequency[asciiCode] + 1\n",
    "for char in str2:\n",
    "asciiCode <- (int)char\n",
    "frequency[asciiCode] <- frequency[asciiCode] - 1\n",
    "for element in frequency:\n",
    "if(element != 0):\n",
    "return false\n",
    "return true\n",
    "\n",
    "We’ll maintain a frequency array of 256 size (256 being the number of characters that\n",
    "have an ASCII code) and initialize all elements of this array to 0. frequency[str[i]]\n",
    "will store the frequency of the character in str that has an ASCII code of\n",
    "(int)str[i]. Then we’ll iterate through both strings and update the frequency array.\n",
    "This update process will be a little different.\n",
    "For the first string, we’ll increase the frequency of current character by 1 and for the\n",
    "second string, we’ll decrease the frequency of current character by 1.\n",
    "This will result in the frequency array have all 0s if the two strings are permutations of\n",
    "each other. Otherwise, at least one element in the frequency array will be non-zero\n",
    "'''\n"
   ]
  },
  {
   "cell_type": "markdown",
   "id": "51c6e064",
   "metadata": {},
   "source": [
    "# Reverse Each Word"
   ]
  },
  {
   "cell_type": "code",
   "execution_count": 60,
   "id": "b505000e",
   "metadata": {},
   "outputs": [
    {
     "name": "stdout",
     "output_type": "stream",
     "text": [
      "the second test case is a collection of palindromes\n",
      "eht dnoces tset esac si a noitcelloc fo semordnilap\n"
     ]
    }
   ],
   "source": [
    "def reverseEachWord(string) :\n",
    "\t# Your code goes here\n",
    "    arr=string.split()\n",
    "    a=\"\"\n",
    "    \n",
    "    for i in range(len(arr)):\n",
    "        #print(i)\n",
    "        #arr[i]=arr[::-1]\n",
    "        temp=str(arr[i])[::-1]\n",
    "        \n",
    "        arr[i]=temp\n",
    "        \n",
    "        \n",
    "        #rint(arr[i], end =\" \")\n",
    "    a=\" \".join(arr)\n",
    "    \n",
    "   \n",
    "    return a\n",
    "\n",
    "\n",
    "\n",
    "#main\n",
    "string = input()\n",
    "\n",
    "ans = reverseEachWord(string)\n",
    "\n",
    "print(ans)"
   ]
  },
  {
   "cell_type": "markdown",
   "id": "5f708f94",
   "metadata": {},
   "source": [
    "# Remove character"
   ]
  },
  {
   "cell_type": "code",
   "execution_count": 62,
   "id": "954f0746",
   "metadata": {},
   "outputs": [
    {
     "name": "stdout",
     "output_type": "stream",
     "text": [
      "String=xxyyzxx\n",
      "ch=x\n",
      "yyz\n"
     ]
    }
   ],
   "source": [
    "def removeAllOccurrencesOfChar(string, ch):\n",
    "    \n",
    "    str=\"\"\n",
    "    for char in string:\n",
    "        if char!=ch:\n",
    "            str=str+char\n",
    "            \n",
    "    \n",
    "    \n",
    "    \n",
    "    return str\n",
    "\n",
    "\n",
    "string = input(\"String=\")\n",
    "ch=input(\"ch=\")\n",
    "\n",
    "ans = removeAllOccurrencesOfChar(string, ch)\n",
    "\n",
    "print(ans) "
   ]
  },
  {
   "cell_type": "markdown",
   "id": "4cd4972d",
   "metadata": {},
   "source": [
    "# Highest Occuring Character"
   ]
  },
  {
   "cell_type": "code",
   "execution_count": 81,
   "id": "09d5b4aa",
   "metadata": {},
   "outputs": [
    {
     "name": "stdout",
     "output_type": "stream",
     "text": [
      "String=aabbdf\n",
      "a\n"
     ]
    }
   ],
   "source": [
    "def highestOccuringChar(string) :\n",
    "    \n",
    "    \n",
    "    freq=[0]*256\n",
    "    max=-1\n",
    "    str_max=\"\"\n",
    "    \n",
    "    for char in string:\n",
    "        freq[ord(char)]=freq[ord(char)]+1\n",
    "        \n",
    "        \n",
    "    \n",
    "    '''\n",
    "    for i in range(len(freq)):\n",
    "        if freq[i] > max:\n",
    "            max=freq[i]\n",
    "    '''\n",
    "    \n",
    "    for ch in string:\n",
    "        if freq[ord(ch)] > max :\n",
    "            max=freq[ord(ch)]\n",
    "            str_max=ch\n",
    "            \n",
    "    #print(str_max)\n",
    "            \n",
    "  \n",
    "        \n",
    "    return str_max\n",
    "    \n",
    "    \n",
    "  \n",
    "    \n",
    "    \n",
    "\n",
    "string = input(\"String=\")\n",
    "ans = highestOccuringChar(string)\n",
    "\n",
    "print(ans) \n"
   ]
  },
  {
   "cell_type": "markdown",
   "id": "6f13c590",
   "metadata": {},
   "source": [
    "# Compress the String\n"
   ]
  },
  {
   "cell_type": "code",
   "execution_count": 15,
   "id": "c9aed6d8",
   "metadata": {},
   "outputs": [
    {
     "name": "stdout",
     "output_type": "stream",
     "text": [
      "aaabbccdsa\n"
     ]
    },
    {
     "ename": "TypeError",
     "evalue": "'str' object is not callable",
     "output_type": "error",
     "traceback": [
      "\u001b[1;31m---------------------------------------------------------------------------\u001b[0m",
      "\u001b[1;31mTypeError\u001b[0m                                 Traceback (most recent call last)",
      "Input \u001b[1;32mIn [15]\u001b[0m, in \u001b[0;36m<cell line: 30>\u001b[1;34m()\u001b[0m\n\u001b[0;32m     25\u001b[0m     \u001b[38;5;28;01mreturn\u001b[39;00m \u001b[38;5;28mstr\u001b[39m\n\u001b[0;32m     29\u001b[0m string \u001b[38;5;241m=\u001b[39m \u001b[38;5;28minput\u001b[39m()\n\u001b[1;32m---> 30\u001b[0m ans \u001b[38;5;241m=\u001b[39m \u001b[43mgetCompressedString\u001b[49m\u001b[43m(\u001b[49m\u001b[43mstring\u001b[49m\u001b[43m)\u001b[49m\n\u001b[0;32m     31\u001b[0m \u001b[38;5;28mprint\u001b[39m(ans)\n",
      "Input \u001b[1;32mIn [15]\u001b[0m, in \u001b[0;36mgetCompressedString\u001b[1;34m(input)\u001b[0m\n\u001b[0;32m     17\u001b[0m     c\u001b[38;5;241m=\u001b[39mc\u001b[38;5;241m+\u001b[39m\u001b[38;5;241m1\u001b[39m\n\u001b[0;32m     19\u001b[0m \u001b[38;5;28;01mif\u001b[39;00m c\u001b[38;5;241m>\u001b[39m\u001b[38;5;241m1\u001b[39m:\n\u001b[1;32m---> 20\u001b[0m     \u001b[38;5;28mstr\u001b[39m\u001b[38;5;241m=\u001b[39m\u001b[38;5;28mstr\u001b[39m\u001b[38;5;241m+\u001b[39m\u001b[38;5;28minput\u001b[39m[i]\u001b[38;5;241m+\u001b[39m\u001b[38;5;28;43mstr\u001b[39;49m\u001b[43m(\u001b[49m\u001b[43mc\u001b[49m\u001b[43m)\u001b[49m\n\u001b[0;32m     21\u001b[0m \u001b[38;5;28;01melse\u001b[39;00m:\n\u001b[0;32m     22\u001b[0m     \u001b[38;5;28mstr\u001b[39m\u001b[38;5;241m=\u001b[39m\u001b[38;5;28mstr\u001b[39m\u001b[38;5;241m+\u001b[39ms[i]\n",
      "\u001b[1;31mTypeError\u001b[0m: 'str' object is not callable"
     ]
    }
   ],
   "source": [
    "def getCompressedString(input) :\n",
    "    \n",
    "    \n",
    "    i=0\n",
    "    str=\"\"\n",
    "    uniquechar=\"\"\n",
    "    \n",
    "    while i<len(input):\n",
    "        \n",
    "        uniquechar=input[i]\n",
    "        j=i+1\n",
    "        c=1\n",
    "        \n",
    "        \n",
    "        while j<len(input) and input[j]==uniquechar:\n",
    "            j=j+1\n",
    "            c=c+1\n",
    "            \n",
    "        if c>1:\n",
    "            str=str+input[i]+str(c)\n",
    "        else:\n",
    "            str=str+s[i]\n",
    "        i=j\n",
    "\n",
    "    return str\n",
    "        \n",
    "\n",
    "    \n",
    "string = input()\n",
    "ans = getCompressedString(string)\n",
    "print(ans)"
   ]
  },
  {
   "cell_type": "code",
   "execution_count": 17,
   "id": "abe52978",
   "metadata": {},
   "outputs": [
    {
     "name": "stdout",
     "output_type": "stream",
     "text": [
      "aaabbccdsa\n",
      "a3b2c2dsa\n"
     ]
    }
   ],
   "source": [
    "def getCompressedString(s) :\n",
    "    i=0\n",
    "    y=\"\"\n",
    "    while i<len(s):\n",
    "        x=s[i]\n",
    "        j=i+1\n",
    "        c=1\n",
    "        while j<len(s) and s[j]==x:\n",
    "            j=j+1\n",
    "            c=c+1\n",
    "        if c>1:\n",
    "            y=y+s[i]+str(c)\n",
    "        else:\n",
    "            y=y+s[i]\n",
    "        i=j\n",
    "    return y\n",
    "\n",
    "\n",
    "string = input()\n",
    "ans = getCompressedString(string)\n",
    "print(ans)"
   ]
  }
 ],
 "metadata": {
  "kernelspec": {
   "display_name": "Python 3 (ipykernel)",
   "language": "python",
   "name": "python3"
  },
  "language_info": {
   "codemirror_mode": {
    "name": "ipython",
    "version": 3
   },
   "file_extension": ".py",
   "mimetype": "text/x-python",
   "name": "python",
   "nbconvert_exporter": "python",
   "pygments_lexer": "ipython3",
   "version": "3.9.12"
  }
 },
 "nbformat": 4,
 "nbformat_minor": 5
}
