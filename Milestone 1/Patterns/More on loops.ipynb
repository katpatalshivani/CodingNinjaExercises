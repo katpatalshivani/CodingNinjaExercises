{
 "cells": [
  {
   "cell_type": "code",
   "execution_count": 2,
   "id": "c1e61602",
   "metadata": {},
   "outputs": [
    {
     "name": "stdout",
     "output_type": "stream",
     "text": [
      "0 1 2 3 4 "
     ]
    }
   ],
   "source": [
    "for i in range(5):\n",
    "    print(i,end= ' ')"
   ]
  },
  {
   "cell_type": "code",
   "execution_count": null,
   "id": "e79e5581",
   "metadata": {},
   "outputs": [],
   "source": []
  },
  {
   "cell_type": "code",
   "execution_count": 9,
   "id": "feb32342",
   "metadata": {},
   "outputs": [
    {
     "name": "stdout",
     "output_type": "stream",
     "text": [
      "1 2 4 5 1 2 4 5 "
     ]
    }
   ],
   "source": [
    "i=1\n",
    "while i<3:\n",
    "    j=0\n",
    "    while j<5:\n",
    "        j = j +1\n",
    "        if j==3:\n",
    "            continue\n",
    "        print(j,end=' ')\n",
    "    i = i +1"
   ]
  },
  {
   "cell_type": "code",
   "execution_count": 21,
   "id": "0d32ffd1",
   "metadata": {},
   "outputs": [
    {
     "name": "stdout",
     "output_type": "stream",
     "text": [
      "4\n",
      "1111\n",
      "000\n",
      "11\n",
      "0\n"
     ]
    }
   ],
   "source": [
    "n=int(input())\n",
    "i=1\n",
    "#j=1\n",
    "\n",
    "for i in range (1,n+1):\n",
    "    for j in range (n,i-1,-1):\n",
    "        if (i%2!=0):\n",
    "            print(\"1\",end='')\n",
    "        else:\n",
    "            print(\"0\",end='')\n",
    "    print() "
   ]
  },
  {
   "cell_type": "code",
   "execution_count": 70,
   "id": "ee6eda2c",
   "metadata": {},
   "outputs": [
    {
     "name": "stdout",
     "output_type": "stream",
     "text": [
      "4\n",
      " 1234\n",
      "  234\n",
      "   34\n",
      "    4\n",
      "    4\n",
      "   3\n",
      "  2\n",
      " 1\n"
     ]
    }
   ],
   "source": [
    "n=int(input())\n",
    "#blanks=1\n",
    "'''\n",
    "for i in range (1,n+1,1):\n",
    "    for blanks in range (1,i-2,-1):\n",
    "        print(\" \",end=\"\")\n",
    "        \n",
    "    for no in range (1,n+1,1):\n",
    "        print(no, end=\"\")\n",
    "    print()\n",
    "'''\n",
    "for i in range (1,n+1):\n",
    "    \n",
    "    for b in range (1,i+1):\n",
    "        print(\" \",end='')\n",
    "        \n",
    "    for no in range (i,n+1):\n",
    "        print (no,end=\"\")\n",
    "        \n",
    "    print()\n",
    "    \n",
    "    \n",
    "for k in range (n,0,-1):\n",
    "    \n",
    "    for b in range(1,k+1):\n",
    "        print(\" \",end=\"\")\n",
    "        \n",
    "    z=k\n",
    "    for no in range(z,k+1,1):\n",
    "        \n",
    "        print(z,end=\"\")\n",
    "        \n",
    "        z=z+1\n",
    "        \n",
    "    \n",
    "    print()\n",
    "   \n",
    "    \n",
    "        \n"
   ]
  },
  {
   "cell_type": "code",
   "execution_count": 62,
   "id": "d036850b",
   "metadata": {},
   "outputs": [
    {
     "name": "stdout",
     "output_type": "stream",
     "text": [
      "4\n",
      "1234\n",
      "23459101112\n",
      "3456\n",
      "45679101112\n"
     ]
    }
   ],
   "source": [
    "'''\n",
    "n = int(input( ))\n",
    "P = 1\n",
    "for i in range(1, n + 1):\n",
    "    for j in range(P, P + n):\n",
    "        print(j, end=\" \")\n",
    "    print()\n",
    "    if i == ((n + 1)//2):\n",
    "        if (n % 2) != 0:\n",
    "            P = n*(n - 2) + 1\n",
    "        else:\n",
    "            P = n * (n - 1) + 1\n",
    "    elif i > ((n + 1) // 2):\n",
    "        P = P - 2 * n\n",
    "    else:\n",
    "        P = P + 2 * n\n",
    "\n",
    "'''\n",
    "\n",
    "n=int(input())\n",
    "\n",
    "for i in range(1,n+1):\n",
    "    c=i\n",
    "    for a in range(1,n+1):\n",
    "        print(c,end='')\n",
    "        c=c+1\n",
    "        \n",
    "    if (i%2==0):\n",
    "        b=2*n+1\n",
    "        for a in range(1,n+1):\n",
    "            \n",
    "            print(b,end=\"\")\n",
    "            b=b+1\n",
    "    print()"
   ]
  },
  {
   "cell_type": "code",
   "execution_count": 55,
   "id": "348db998",
   "metadata": {},
   "outputs": [
    {
     "name": "stdout",
     "output_type": "stream",
     "text": [
      "4\n",
      "4444444\n",
      "4333334\n",
      "4322234\n",
      "4321234\n",
      "4322234\n",
      "4333334\n",
      "4444444\n"
     ]
    }
   ],
   "source": [
    "N = int(input())\n",
    "for i in range(1,2*N,1):\n",
    "  a=N\n",
    "  if(i<=N):\n",
    "    for j1 in range(1,2*N,1):\n",
    "      print(a,end=\"\")\n",
    "      if(i>j1):\n",
    "        a=a-1\n",
    "      elif(i+j1>=2*N):\n",
    "        a=a+1\n",
    "  if(i>N):\n",
    "    for j2 in range(1,2*N,1):\n",
    "      print(a,end=\"\")\n",
    "      if(i+j2<2*N):\n",
    "        a=a-1\n",
    "      elif(j2>=i):\n",
    "        a=a+1\n",
    "  print()"
   ]
  }
 ],
 "metadata": {
  "kernelspec": {
   "display_name": "Python 3 (ipykernel)",
   "language": "python",
   "name": "python3"
  },
  "language_info": {
   "codemirror_mode": {
    "name": "ipython",
    "version": 3
   },
   "file_extension": ".py",
   "mimetype": "text/x-python",
   "name": "python",
   "nbconvert_exporter": "python",
   "pygments_lexer": "ipython3",
   "version": "3.9.12"
  }
 },
 "nbformat": 4,
 "nbformat_minor": 5
}
