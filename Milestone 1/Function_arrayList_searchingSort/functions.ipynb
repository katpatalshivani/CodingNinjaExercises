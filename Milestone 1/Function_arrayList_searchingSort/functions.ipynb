{
 "cells": [
  {
   "cell_type": "code",
   "execution_count": 4,
   "id": "0298cd74",
   "metadata": {},
   "outputs": [
    {
     "name": "stdout",
     "output_type": "stream",
     "text": [
      "9\n",
      "1\n",
      "1\n",
      "1\n",
      "1\n",
      "1\n",
      "1\n",
      "1\n",
      "3\n",
      "5\n",
      "5\n",
      "5\n",
      "7\n",
      "7\n",
      "7\n",
      "7\n",
      "7\n",
      "9\n"
     ]
    }
   ],
   "source": [
    "def primeno(n):\n",
    "    for i in range (1,n+1):\n",
    "        for d in range (2,n):\n",
    "            if (i%d==0):\n",
    "                break\n",
    "                \n",
    "            else:\n",
    "                print(i)\n",
    "                \n",
    "n=int(input())\n",
    "a=primeno(n)"
   ]
  },
  {
   "cell_type": "code",
   "execution_count": 8,
   "id": "7a849a86",
   "metadata": {},
   "outputs": [
    {
     "name": "stdout",
     "output_type": "stream",
     "text": [
      "16\n"
     ]
    }
   ],
   "source": [
    "def square(a):\n",
    "    ans  = a*a\n",
    "    return  ans\n",
    "\n",
    "a = 4\n",
    "a = square(a)\n",
    "print(a)"
   ]
  },
  {
   "cell_type": "code",
   "execution_count": 7,
   "id": "9e5c438f",
   "metadata": {},
   "outputs": [
    {
     "name": "stdout",
     "output_type": "stream",
     "text": [
      "5\n"
     ]
    }
   ],
   "source": [
    "def func(a):\n",
    "    a = a + 10\n",
    "    return a\n",
    "a = 5\n",
    "func(a)\n",
    "print(a)"
   ]
  },
  {
   "cell_type": "code",
   "execution_count": 1,
   "id": "3c100293",
   "metadata": {},
   "outputs": [
    {
     "name": "stdout",
     "output_type": "stream",
     "text": [
      "14\n"
     ]
    }
   ],
   "source": [
    "a = 14\n",
    "def f():\n",
    "    a=12\n",
    "f()\n",
    "print(a)"
   ]
  },
  {
   "cell_type": "code",
   "execution_count": 2,
   "id": "fcab354b",
   "metadata": {},
   "outputs": [
    {
     "name": "stdout",
     "output_type": "stream",
     "text": [
      "12\n"
     ]
    }
   ],
   "source": [
    "a=14\n",
    "def f():\n",
    "    global a\n",
    "    a=12\n",
    "f()\n",
    "print(a)"
   ]
  },
  {
   "cell_type": "code",
   "execution_count": 3,
   "id": "fa3ef8e0",
   "metadata": {},
   "outputs": [
    {
     "name": "stdout",
     "output_type": "stream",
     "text": [
      "12\n"
     ]
    }
   ],
   "source": [
    "a = 14\n",
    "def f():\n",
    "    a = 12\n",
    "    return a\n",
    "a = f()\n",
    "print(a)"
   ]
  },
  {
   "cell_type": "markdown",
   "id": "e6c19e99",
   "metadata": {},
   "source": [
    "# Farhenheit to celcius using functions "
   ]
  },
  {
   "cell_type": "code",
   "execution_count": 15,
   "id": "2aaee121",
   "metadata": {},
   "outputs": [
    {
     "name": "stdout",
     "output_type": "stream",
     "text": [
      "0\n",
      "100\n",
      "20\n",
      "0 -17\n",
      "20 -6\n",
      "40 4\n",
      "60 15\n",
      "80 26\n",
      "100 37\n"
     ]
    }
   ],
   "source": [
    "\n",
    "def printTable(start,end,step):\n",
    "    for i in range(s, e+1, step):\n",
    "        c=int((5/9)*(i-32))\n",
    "        print(i,c)\n",
    "#Implement Your Code Here\n",
    "\n",
    "      #  pass \n",
    "\n",
    "  \n",
    "s = int(input())\n",
    "e = int(input())\n",
    "step = int(input())\n",
    "printTable(s,e,step)\n"
   ]
  },
  {
   "cell_type": "markdown",
   "id": "a627591f",
   "metadata": {},
   "source": [
    "# Check paliandrome"
   ]
  },
  {
   "cell_type": "code",
   "execution_count": 23,
   "id": "9d5d638f",
   "metadata": {},
   "outputs": [
    {
     "name": "stdout",
     "output_type": "stream",
     "text": [
      "101\n",
      "true\n"
     ]
    }
   ],
   "source": [
    "def checkPalindrome(n):\n",
    "    num=n\n",
    "    r=0\n",
    "    while (n!=0):\n",
    "        t=n%10\n",
    "        r=r*10+t\n",
    "        n=n//10\n",
    "        \n",
    "    if num==r:\n",
    "        return True\n",
    "    else:\n",
    "        return False\n",
    "    \n",
    "'''\n",
    "def checkPaliandrome(n):\n",
    "    is_n_paliandrome=isPaliandrome(n)\n",
    "'''\n",
    "        \n",
    "num = int(input())\n",
    "isPalindrome = checkPalindrome(num)\n",
    "if(isPalindrome):\n",
    "\tprint('true')\n",
    "else:\n",
    "\tprint('false')"
   ]
  },
  {
   "cell_type": "markdown",
   "id": "d2fc4600",
   "metadata": {},
   "source": [
    "# Check Armstrong"
   ]
  },
  {
   "cell_type": "code",
   "execution_count": 59,
   "id": "d4e2cc85",
   "metadata": {},
   "outputs": [
    {
     "name": "stdout",
     "output_type": "stream",
     "text": [
      "1634\n",
      "true\n"
     ]
    }
   ],
   "source": [
    "import math\n",
    "\n",
    "def checkArmstrong(n):\n",
    "    num=n\n",
    "    s=0\n",
    "    c=0\n",
    "    \n",
    "    #checking the total number of digits\n",
    "    \n",
    "    while (n!=0):\n",
    "        \n",
    "        t=n%10\n",
    "        c=c+1\n",
    "        n=n//10\n",
    "    \n",
    "    n=num\n",
    "        \n",
    "    while (n!=0):\n",
    "        \n",
    "        t=n%10        \n",
    "        s=s+t**c\n",
    "        n=n//10\n",
    "          \n",
    "    if num==s:\n",
    "        return True\n",
    "    else:\n",
    "        return False\n",
    "        \n",
    "no=int(input())\n",
    "isArmstrong=checkArmstrong(no)\n",
    "\n",
    "if (isArmstrong):\n",
    "    print('true')\n",
    "else:\n",
    "    print('false')\n",
    "        \n"
   ]
  },
  {
   "cell_type": "code",
   "execution_count": 1,
   "id": "e550ef41",
   "metadata": {},
   "outputs": [
    {
     "name": "stdout",
     "output_type": "stream",
     "text": [
      "1634\n",
      "true\n"
     ]
    }
   ],
   "source": [
    "def isArmstrong(num):\n",
    "    \n",
    "\n",
    "    # This stores the length of the number.\n",
    "    len1 = 0\n",
    "\n",
    "    temp = num\n",
    "\n",
    "    # Finding the length of the number using this while loop.\n",
    "    while(temp):\n",
    "        len1 += 1\n",
    "        temp  = temp//10\n",
    "\n",
    "    temp = num\n",
    "    \n",
    "    # 'sum1' stores the sum of current_digit^length.\n",
    "    sum1 = 0\n",
    "    while(temp):\n",
    "        sum1 += pow(temp%10, len1)\n",
    "        temp  = temp//10\n",
    "\n",
    "    # If sum1 == num then it is an Armstrong number.\n",
    "    if sum1==num:\n",
    "        print(\"true\")\n",
    "    else:\n",
    "        print(\"false\")\n",
    "num=int(input())\n",
    "isArmstrong(num)   "
   ]
  },
  {
   "cell_type": "markdown",
   "id": "1d274a28",
   "metadata": {},
   "source": [
    "# Print fibonacii series\n",
    "0 1 1 2 3 5 8 13 "
   ]
  },
  {
   "cell_type": "code",
   "execution_count": 6,
   "id": "12a6f9f8",
   "metadata": {},
   "outputs": [
    {
     "name": "stdout",
     "output_type": "stream",
     "text": [
      "11\n",
      "false\n"
     ]
    }
   ],
   "source": [
    "\n",
    "import math\n",
    " \n",
    "\n",
    "def isPerfectSquare(x):\n",
    "    s = int(math.sqrt(x))\n",
    "    return s*s == x\n",
    " \n",
    "\n",
    "def isFibonacci(n):\n",
    " \n",
    "    return isPerfectSquare(5*n*n + 4) or isPerfectSquare(5*n*n - 4)\n",
    "    \n",
    "\n",
    "n=int(input())\n",
    "\n",
    "a=isFibonacci(n)\n",
    "\n",
    "if(a==True):\n",
    "    print(\"true\")\n",
    "else:\n",
    "    print(\"false\")"
   ]
  },
  {
   "cell_type": "code",
   "execution_count": 7,
   "id": "64de9de5",
   "metadata": {},
   "outputs": [
    {
     "name": "stdout",
     "output_type": "stream",
     "text": [
      "4\n",
      "false\n"
     ]
    }
   ],
   "source": [
    "def isPerfectSquare(x):\n",
    "    s = int(math.sqrt(x))\n",
    "    return s*s == x\n",
    " \n",
    "\n",
    "def checkMember(n):\n",
    "#Implement Your Code Here\n",
    "\treturn isPerfectSquare(5*n*n + 4) or isPerfectSquare(5*n*n - 4)\n",
    "    #pass\n",
    "\n",
    "n=int(input())\n",
    "if(checkMember(n)):\n",
    "    print(\"true\")\n",
    "else:\n",
    "    print(\"false\")"
   ]
  }
 ],
 "metadata": {
  "kernelspec": {
   "display_name": "Python 3 (ipykernel)",
   "language": "python",
   "name": "python3"
  },
  "language_info": {
   "codemirror_mode": {
    "name": "ipython",
    "version": 3
   },
   "file_extension": ".py",
   "mimetype": "text/x-python",
   "name": "python",
   "nbconvert_exporter": "python",
   "pygments_lexer": "ipython3",
   "version": "3.9.12"
  }
 },
 "nbformat": 4,
 "nbformat_minor": 5
}
