{
 "cells": [
  {
   "cell_type": "code",
   "execution_count": 2,
   "id": "2e73ce41",
   "metadata": {},
   "outputs": [
    {
     "name": "stdout",
     "output_type": "stream",
     "text": [
      "['abc', 'def', 5]\n"
     ]
    }
   ],
   "source": [
    "li =['abc','def']\n",
    "li.insert(4,5)\n",
    "print(li)\n"
   ]
  },
  {
   "cell_type": "code",
   "execution_count": 1,
   "id": "7bae29ff",
   "metadata": {},
   "outputs": [
    {
     "name": "stdout",
     "output_type": "stream",
     "text": [
      "[1, 4, 3, 4, 5]\n"
     ]
    }
   ],
   "source": [
    "def change(li):\n",
    "    li[1] = li[1] + 2\n",
    "li = [1,2,3,4,5]\n",
    "change(li)\n",
    "print(li)"
   ]
  },
  {
   "cell_type": "code",
   "execution_count": 2,
   "id": "76f889b7",
   "metadata": {},
   "outputs": [
    {
     "name": "stdout",
     "output_type": "stream",
     "text": [
      "2 3 4 "
     ]
    }
   ],
   "source": [
    "li = [1,2,3,4,5]\n",
    "for i in li[1:4]:\n",
    "    print(i,end= \" \")"
   ]
  },
  {
   "cell_type": "code",
   "execution_count": 3,
   "id": "96410a53",
   "metadata": {},
   "outputs": [
    {
     "name": "stdout",
     "output_type": "stream",
     "text": [
      "['abcd', 'def', 5]\n"
     ]
    }
   ],
   "source": [
    "li = ['abcd',5,'def',5]\n",
    "li.remove(5)\n",
    "print(li)"
   ]
  },
  {
   "cell_type": "code",
   "execution_count": 4,
   "id": "20aa6f1e",
   "metadata": {},
   "outputs": [
    {
     "name": "stdout",
     "output_type": "stream",
     "text": [
      "[5, 2, 8]\n"
     ]
    }
   ],
   "source": [
    "li = [5,2,6,8]\n",
    "li.pop(2)\n",
    "print(li)\n"
   ]
  },
  {
   "cell_type": "code",
   "execution_count": 16,
   "id": "4223cbea",
   "metadata": {},
   "outputs": [
    {
     "name": "stdout",
     "output_type": "stream",
     "text": [
      "[1, 2, 3, 4, 5, 6, 7, 8, 9, 10]\n",
      "[2, 3, 4, 5]\n",
      "[2, 4, 6, 8, 10]\n",
      "[2, 3, 4, 5, 6, 7, 8, 9]\n",
      "[1, 3, 5, 7]\n"
     ]
    }
   ],
   "source": [
    "li=[1,2,3,4,5,6,7,8,9,10]\n",
    "\n",
    "print(li[::])\n",
    "print(li[1:5])\n",
    "print(li[1:10:2])\n",
    "print(li[-9:-1])\n",
    "print(li[-10:-2:2])"
   ]
  },
  {
   "cell_type": "code",
   "execution_count": 17,
   "id": "54b17dd3",
   "metadata": {},
   "outputs": [
    {
     "name": "stdout",
     "output_type": "stream",
     "text": [
      "5\n",
      "1\n",
      "2\n",
      "3\n",
      "4\n",
      "5\n",
      "['1', '2', '3', '4', '5']\n"
     ]
    }
   ],
   "source": [
    "n = int(input())\n",
    "li = []\n",
    "for i in range(n):\n",
    "    li.append(input())\n",
    "print(li)"
   ]
  },
  {
   "cell_type": "code",
   "execution_count": 18,
   "id": "40fcc8ca",
   "metadata": {},
   "outputs": [
    {
     "name": "stdout",
     "output_type": "stream",
     "text": [
      "2 3 4 5 6\n",
      "['2', '3', '4', '5', '6']\n"
     ]
    }
   ],
   "source": [
    "li = [x for x in input().split()]\n",
    "print(li)\n"
   ]
  },
  {
   "cell_type": "code",
   "execution_count": 24,
   "id": "67b86f9e",
   "metadata": {},
   "outputs": [
    {
     "name": "stdout",
     "output_type": "stream",
     "text": [
      "4\n",
      "2 2 2 2\n",
      "8\n"
     ]
    }
   ],
   "source": [
    "n=int(input())\n",
    "#str=input()\n",
    "lis=[int(x) for x in input().split( )]\n",
    "sum=0\n",
    "for ele in lis:\n",
    "    sum=sum+ele\n",
    "print(sum)"
   ]
  },
  {
   "cell_type": "code",
   "execution_count": 34,
   "id": "8c8e7814",
   "metadata": {},
   "outputs": [
    {
     "name": "stdout",
     "output_type": "stream",
     "text": [
      "5\n",
      "1 2 3 4 5 5 6 7 8 9\n",
      "2\n"
     ]
    }
   ],
   "source": [
    "n=int(input())\n",
    "\n",
    "\n",
    "lis=[int(x) for x in input().split( )]\n",
    "\n",
    "key=3\n",
    "\n",
    "for i in range (len(lis)):\n",
    "    \n",
    "    if lis[i]==key:\n",
    "        print(i)\n",
    "        break\n",
    "        \n",
    "else:\n",
    "    print(-1)"
   ]
  },
  {
   "cell_type": "code",
   "execution_count": 40,
   "id": "dccd5c4c",
   "metadata": {},
   "outputs": [
    {
     "name": "stdout",
     "output_type": "stream",
     "text": [
      "1 2 3 4 5 6\n",
      "enter key7\n",
      "-1\n"
     ]
    }
   ],
   "source": [
    "def linear_search(li,ele):\n",
    "    for i in range (len(li)):\n",
    "        if li[i]==ele:\n",
    "            print (i)\n",
    "            break\n",
    "    else:\n",
    "        print('-1')\n",
    "        \n",
    "       \n",
    "l=[int(x) for x in input().split( )]\n",
    "\n",
    "key=int(input(\"enter key\"))\n",
    "\n",
    "index=linear_search(l,key)"
   ]
  },
  {
   "cell_type": "code",
   "execution_count": 5,
   "id": "b2edeb4a",
   "metadata": {},
   "outputs": [
    {
     "name": "stdout",
     "output_type": "stream",
     "text": [
      "[1, 4, 3, 4, 5]\n"
     ]
    }
   ],
   "source": [
    "def change(li):\n",
    "    li[1] = li[1] + 2\n",
    "    return\n",
    "li = [1,2,3,4,5]\n",
    "change(li)\n",
    "print(li)"
   ]
  },
  {
   "cell_type": "code",
   "execution_count": 3,
   "id": "d466cb49",
   "metadata": {},
   "outputs": [
    {
     "name": "stdout",
     "output_type": "stream",
     "text": [
      "2\n"
     ]
    }
   ],
   "source": [
    "def change(a):\n",
    "    a = a + 2\n",
    "a = 2\n",
    "change(a)\n",
    "print(a)"
   ]
  },
  {
   "cell_type": "code",
   "execution_count": 11,
   "id": "fdba5b39",
   "metadata": {},
   "outputs": [
    {
     "name": "stdout",
     "output_type": "stream",
     "text": [
      "[3, 3, 3, 4, 5]\n"
     ]
    }
   ],
   "source": [
    "def change(li):\n",
    "    li[1] = li[1] + 2\n",
    "    li = [3,3,3,4,5]\n",
    "    return li\n",
    "    \n",
    "\n",
    "li = [1,2,3,4,5]\n",
    "li=change(li)\n",
    "print(li)"
   ]
  },
  {
   "cell_type": "code",
   "execution_count": 25,
   "id": "f55ee982",
   "metadata": {},
   "outputs": [
    {
     "name": "stdout",
     "output_type": "stream",
     "text": [
      "1 2 3 4 5\n",
      "[5, 4, 3, 2, 1]\n"
     ]
    }
   ],
   "source": [
    "def reverseList(li):\n",
    "    l=len(li)\n",
    "    \n",
    "    for i in range (l//2):\n",
    "        li[i],li[l-i-1]=li[l-i-1],li[i]\n",
    "        #li[i],li[-i-l]=li[l-i-l],li[i]\n",
    "\n",
    "\n",
    "lis=[int(x) for x in input().split()]\n",
    "reverseList(lis)\n",
    "print(lis)"
   ]
  },
  {
   "cell_type": "markdown",
   "id": "9acd3316",
   "metadata": {},
   "source": [
    "# SWAP ALTERNATE"
   ]
  },
  {
   "cell_type": "code",
   "execution_count": 57,
   "id": "8a23dccd",
   "metadata": {},
   "outputs": [
    {
     "name": "stdout",
     "output_type": "stream",
     "text": [
      "enter q2\n",
      "enter n5\n",
      "1 2 3 4 5\n",
      "[2, 1, 3, 4, 5]\n"
     ]
    }
   ],
   "source": [
    "def swapAlt(lis,n,t):\n",
    "    l=len(lis)\n",
    "    #i=0\n",
    "    '''\n",
    "    while(i<l):\n",
    "        lis[i],lis[i+1]=lis[i+1],lis[i]\n",
    "        i=i+2\n",
    "    '''\n",
    "    \n",
    "    for j in range (0,t,1):\n",
    "        \n",
    "        for i in range(0,n-1,2):\n",
    "            lis[i],lis[i+1]=lis[i+1],lis[i]\n",
    "        \n",
    "\n",
    "\n",
    "\n",
    "q=int(input(\"enter q\"))\n",
    "n=int(input(\"enter n\"))\n",
    "li=[int(x) for x in input().split()]\n",
    "swapAlt(li,q,n)\n",
    "print(li)"
   ]
  },
  {
   "cell_type": "code",
   "execution_count": null,
   "id": "2500c637",
   "metadata": {},
   "outputs": [],
   "source": [
    "from sys import stdin\n",
    "\n",
    "def swapAlternate(arr, n) :\n",
    "    #Your code goes here\n",
    "     for i in range(0,n-1,2):\n",
    "            arr[i],arr[i+1]=arr[i+1],arr[i]\n",
    "     \n",
    "#king Input Using Fast I/O\n",
    "def takeInput() :\n",
    "    n = int(stdin.readline().rstrip())\n",
    "\n",
    "    if n == 0 :\n",
    "        return list(), 0\n",
    "\n",
    "    arr = list(map(int, stdin.readline().rstrip().split(\" \")))\n",
    "    return arr, n\n",
    "\n",
    "\n",
    "#Printing the array/list\n",
    "def printList(arr, n) :\n",
    "    for i in range(n) :\n",
    "        print(arr[i], end = \" \")\n",
    "    print()\n",
    "\n",
    "\n",
    "#main\n",
    "t = int(stdin.readline().rstrip())\n",
    "\n",
    "while t > 0 :\n",
    "    arr, n = takeInput()\n",
    "    if n != 0 :\n",
    "        swapAlternate(arr, n)\n",
    "        printList(arr, n)\n",
    "    t -= 1"
   ]
  },
  {
   "cell_type": "markdown",
   "id": "7c9c56e8",
   "metadata": {},
   "source": [
    "# Find unique"
   ]
  },
  {
   "cell_type": "code",
   "execution_count": null,
   "id": "8fe1a07e",
   "metadata": {},
   "outputs": [],
   "source": [
    "def uniqueNo(arr):\n",
    "    \n",
    "    l=len(arr)\n",
    "    \n",
    "    for i in range(l):\n",
    "        j=0\n",
    "        while j<l:\n",
    "            #j=0\n",
    "            \n",
    "            if i!=j:\n",
    "                if arr[i]==arr[j]:\n",
    "                    return arr[i]\n",
    "                    break\n",
    "                \n",
    "            j=j+1\n",
    "            \n",
    "        if j==l:\n",
    "            print (arr[i])\n",
    "                \n",
    "    \n",
    "   \n",
    "\n",
    "li=[int(x) for x in input().split()]\n",
    "#print(li)\n",
    "uniqueNo(li)\n",
    "print(li, \"unique\")\n"
   ]
  },
  {
   "cell_type": "markdown",
   "id": "be4cc973",
   "metadata": {},
   "source": [
    "# Find Duplicate"
   ]
  },
  {
   "cell_type": "code",
   "execution_count": 4,
   "id": "5249c22c",
   "metadata": {},
   "outputs": [
    {
     "name": "stdout",
     "output_type": "stream",
     "text": [
      "1 2 3 4 5 4\n",
      "4\n"
     ]
    }
   ],
   "source": [
    "def duplicateNo(arr):\n",
    "    n=len(arr)\n",
    "    \n",
    "    for i in range(n):\n",
    "        j=0\n",
    "        while(j<n):\n",
    "            if i!=j:\n",
    "                if arr[i]== arr[j]:\n",
    "                    return arr[i]\n",
    "                    break\n",
    "            j=j+1\n",
    "\n",
    "li=[int(x) for x in input().split()]\n",
    "#print(li)\n",
    "a= duplicateNo(li)\n",
    "print(a)"
   ]
  },
  {
   "cell_type": "markdown",
   "id": "145906b4",
   "metadata": {},
   "source": [
    "# Pair Sum\n"
   ]
  },
  {
   "cell_type": "code",
   "execution_count": 31,
   "id": "ee6c4d76",
   "metadata": {},
   "outputs": [
    {
     "name": "stdout",
     "output_type": "stream",
     "text": [
      "11 21 -67 33 90\n",
      "enter sum33\n",
      "0\n"
     ]
    }
   ],
   "source": [
    "def sumPairs(arr, sum):\n",
    "    n=len(arr)\n",
    "    count = 0\n",
    "    for i in range(n):\n",
    "        j=0\n",
    "        \n",
    "        while(j<n):\n",
    "            \n",
    "            if i!=j:\n",
    "                if(arr[i]+arr[j]==sum):\n",
    "                    count=count+1\n",
    "            \n",
    "            j=j+1\n",
    "    return count//2\n",
    "            \n",
    "    \n",
    "\n",
    "\n",
    "li=[int(x) for x in input().split()]\n",
    "s=int(input('enter sum'))\n",
    "#print(li)\n",
    "a= sumPairs(li,s)\n",
    "print(a)"
   ]
  },
  {
   "cell_type": "code",
   "execution_count": null,
   "id": "9019f256",
   "metadata": {},
   "outputs": [],
   "source": [
    "#from sys import stdin\n",
    "\n",
    "def pairSum(arr, n, num) :\n",
    "    d={}\n",
    "    count=0\n",
    "    for i in range(n):\n",
    "        if num-arr[i] in d:\n",
    "            count=count+d[num-arr[i]]\n",
    "            print (count)\n",
    "        if arr[i] in d:\n",
    "            d[arr[i]]+=1 \n",
    "        else:\n",
    "            d[arr[i]]=1 \n",
    "    return count\n",
    "\n",
    "\n",
    "li=[int(x) for x in input().split()]\n",
    "s=int(input('enter sum'))\n",
    "#print(li)\n",
    "a= sumPairs(li,s)\n",
    "print(a)\n",
    "            "
   ]
  },
  {
   "cell_type": "markdown",
   "id": "71133aed",
   "metadata": {},
   "source": [
    "# Intersection of Two Arrays II"
   ]
  },
  {
   "cell_type": "code",
   "execution_count": 30,
   "id": "b86743d6",
   "metadata": {},
   "outputs": [
    {
     "name": "stdout",
     "output_type": "stream",
     "text": [
      "2 6 8 5 4 3\n",
      "2 3 4 7\n",
      "2 4 3 None\n"
     ]
    }
   ],
   "source": [
    "import math\n",
    "\n",
    "def intersectArr(arr1, arr2):\n",
    "    n=len(arr1)\n",
    "    m=len(arr2)\n",
    "    #i=0\n",
    "    \n",
    "    for i in range(n):\n",
    "        #j=0\n",
    "        for j in range(m):\n",
    "            if arr1[i]==arr2[j]:\n",
    "                print(arr1[i], end =\" \")\n",
    "                arr2[j]=-math.inf\n",
    "                break\n",
    "            \n",
    "       # j=j+1\n",
    "    \n",
    "        \n",
    "              \n",
    "\n",
    "\n",
    "\n",
    "li1=[int(x) for x in input().split()]\n",
    "li2=[int(x) for x in input().split()]\n",
    "a=intersectArr(li1,li2)\n",
    "\n",
    "print(a)"
   ]
  },
  {
   "cell_type": "code",
   "execution_count": null,
   "id": "d85c2cd0",
   "metadata": {},
   "outputs": [],
   "source": [
    "n=int(input(\"Enter n\"))\n",
    "i=1\n",
    "while i<n:\n",
    "    #blanks\n",
    "    for b in range (i-1):\n",
    "        print(\" \", end=\"\")\n",
    "        \n",
    "    #numbers\n",
    "    j=1\n",
    "    k=i\n",
    "    while j<n and j<2*n+3:\n",
    "        print(k, end=\" \")\n",
    "        t=n\n",
    "        print(k+t,end=\" \")\n",
    "        t=t-1\n",
    "        j=j+1\n",
    "print()    \n",
    "i=i+1"
   ]
  },
  {
   "cell_type": "markdown",
   "id": "641e53d6",
   "metadata": {},
   "source": [
    "# sUM of 3 no"
   ]
  },
  {
   "cell_type": "code",
   "execution_count": 48,
   "id": "96b54e96",
   "metadata": {},
   "outputs": [
    {
     "name": "stdout",
     "output_type": "stream",
     "text": [
      "1 2 3 4 5 6 7\n",
      "enter sum12\n",
      "1 4 7\n",
      "1 5 6\n",
      "2 3 7\n",
      "2 4 6\n",
      "3 4 5\n",
      "5\n"
     ]
    }
   ],
   "source": [
    "def find3Numbers(A, sum):\n",
    "    n=len(A)\n",
    "    count=0\n",
    "  \n",
    "    # Fix the first element as A[i]\n",
    "    for i in range( 0, n-2):\n",
    "  \n",
    "        # Fix the second element as A[j]\n",
    "        for j in range(i + 1, n-1): \n",
    "              \n",
    "            # Now look for the third number\n",
    "            for k in range(j + 1, n):\n",
    "                if A[i] + A[j] + A[k] == sum:\n",
    "                   \n",
    "                #print( A[i], A[j], A[k])\n",
    "                    count=count+1\n",
    "    return count\n",
    "                    \n",
    "                \n",
    "\n",
    "li=[int(x) for x in input().split()]\n",
    "s=int(input('enter sum'))\n",
    "#print(li)\n",
    "a= find3Numbers(li,s)\n",
    "print(a)"
   ]
  },
  {
   "cell_type": "markdown",
   "id": "c17867b5",
   "metadata": {},
   "source": [
    "# Sort 0 1"
   ]
  },
  {
   "cell_type": "code",
   "execution_count": 54,
   "id": "68c72295",
   "metadata": {},
   "outputs": [
    {
     "name": "stdout",
     "output_type": "stream",
     "text": [
      "1 0 1 1 0 1 0 1\n",
      "8\n",
      "[0, 0, 0, 1, 1, 1, 1, 1]\n"
     ]
    }
   ],
   "source": [
    "def segregate0and1(arr, size):\n",
    "    # Initialize left and right indexes\n",
    "    s=0\n",
    "    e=n-1\n",
    "    \n",
    "    while s<e:\n",
    "        \n",
    "        if arr[s]==0:\n",
    "            s=s+1\n",
    "        \n",
    "        if arr[e]==1:\n",
    "            e=e-1\n",
    "        \n",
    "        if s<e:\n",
    "            arr[s],arr[e]=arr[e],arr[s]\n",
    "            #s=s+1\n",
    "            #e=e-1\n",
    "            \n",
    "    return arr\n",
    "        \n",
    "                    \n",
    "                \n",
    "\n",
    "li=[int(x) for x in input().split()]\n",
    "n=int(input())\n",
    "#print(li)\n",
    "a= segregate0and1(li,n)\n",
    "print(a)"
   ]
  }
 ],
 "metadata": {
  "kernelspec": {
   "display_name": "Python 3 (ipykernel)",
   "language": "python",
   "name": "python3"
  },
  "language_info": {
   "codemirror_mode": {
    "name": "ipython",
    "version": 3
   },
   "file_extension": ".py",
   "mimetype": "text/x-python",
   "name": "python",
   "nbconvert_exporter": "python",
   "pygments_lexer": "ipython3",
   "version": "3.9.12"
  }
 },
 "nbformat": 4,
 "nbformat_minor": 5
}
