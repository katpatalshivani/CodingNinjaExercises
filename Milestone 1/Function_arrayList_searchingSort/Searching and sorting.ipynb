{
 "cells": [
  {
   "cell_type": "markdown",
   "id": "5ee943aa",
   "metadata": {},
   "source": [
    "# Binary Search"
   ]
  },
  {
   "cell_type": "code",
   "execution_count": 12,
   "id": "ee3dcaf4",
   "metadata": {},
   "outputs": [
    {
     "name": "stdout",
     "output_type": "stream",
     "text": [
      "2 3 4 5 \n",
      "n= 4\n",
      "x= 2\n",
      "0\n"
     ]
    }
   ],
   "source": [
    "def binarySearch(arr,n,x):\n",
    "    l=0\n",
    "    u=n-1\n",
    "    \n",
    "    while l<=u:\n",
    "        \n",
    "        m=int((l+u)/2)\n",
    "        \n",
    "        if x<arr[m]:\n",
    "            u=m-1\n",
    "\n",
    "        elif x>arr[m]:\n",
    "            l=m+1\n",
    "\n",
    "\n",
    "        else:\n",
    "            return m\n",
    "\n",
    "\n",
    "    return -1\n",
    "        \n",
    "\n",
    "\n",
    "\n",
    "li=[int(x) for x in input().split()]\n",
    "n=int(input(\"n= \"))\n",
    "x=int(input(\"x= \"))\n",
    "a=binarySearch(li,n, x)\n",
    "print(a)"
   ]
  },
  {
   "cell_type": "markdown",
   "id": "a9cee52d",
   "metadata": {},
   "source": [
    "# Selection Sort"
   ]
  },
  {
   "cell_type": "code",
   "execution_count": 27,
   "id": "efce85dc",
   "metadata": {},
   "outputs": [
    {
     "name": "stdout",
     "output_type": "stream",
     "text": [
      "2 7 3 9 8 5\n",
      "[2, 3, 5, 7, 8, 9]\n"
     ]
    }
   ],
   "source": [
    "def selectSort(arr, n):\n",
    "    \n",
    "    \n",
    "    \n",
    "    for i in range(n):\n",
    "        min_idx=i\n",
    "        \n",
    "        for j in range(i+1,n):          \n",
    "                         \n",
    "                if arr[min_idx] > arr[j]:\n",
    "                    min_idx = j\n",
    "                    \n",
    "        arr[i],arr[min_idx]= arr[min_idx],arr[i]\n",
    "        \n",
    "    return arr\n",
    "                \n",
    "            \n",
    "                \n",
    "        \n",
    "\n",
    "\n",
    "li=[int(x) for x in input().split()]\n",
    "n=len(li)\n",
    "a=selectSort(li,n)\n",
    "print(a)"
   ]
  },
  {
   "cell_type": "markdown",
   "id": "e6046d31",
   "metadata": {},
   "source": [
    "# Bubble Sort"
   ]
  },
  {
   "cell_type": "code",
   "execution_count": 35,
   "id": "8fc99005",
   "metadata": {},
   "outputs": [
    {
     "name": "stdout",
     "output_type": "stream",
     "text": [
      "2 7 3 9 8 5\n",
      "[7, 2, 3, 9, 8, 5]\n"
     ]
    }
   ],
   "source": [
    "def bubbleSort(arr, n):\n",
    "    \n",
    "    for i in range (n-1):\n",
    "        \n",
    "        for j in range(n-i-1):\n",
    "            \n",
    "            if arr[i]>arr[j+1]:\n",
    "                arr[j], arr[j+1]=arr[j+1], arr[j]\n",
    "    \n",
    "    \n",
    "                    \n",
    "        \n",
    "    return arr\n",
    "                \n",
    "            \n",
    "                \n",
    "        \n",
    "\n",
    "\n",
    "li=[int(x) for x in input().split()]\n",
    "n=len(li)\n",
    "a=bubbleSort(li,n)\n",
    "print(a)"
   ]
  },
  {
   "cell_type": "markdown",
   "id": "56cd45e3",
   "metadata": {},
   "source": [
    "# Insertion sort"
   ]
  },
  {
   "cell_type": "code",
   "execution_count": 11,
   "id": "d6c4baeb",
   "metadata": {},
   "outputs": [
    {
     "name": "stdout",
     "output_type": "stream",
     "text": [
      "12 11 13 5 6\n",
      "[5, 6, 11, 12, 13]\n",
      "None\n"
     ]
    }
   ],
   "source": [
    "def insertSort(arr, n):\n",
    "    \n",
    "    for i in range(1,n):\n",
    "        \n",
    "        key = arr[i]\n",
    "\n",
    "\n",
    "            # Move elements of arr[0..i-1], that are\n",
    "            # greater than key, to one position ahead\n",
    "            # of their current position\n",
    "        j = i-1\n",
    "        while j >=0 and key < arr[j] :\n",
    "            arr[j+1] = arr[j]\n",
    "            j =j - 1\n",
    "        arr[j+1] = key \n",
    "    return arr\n",
    "            \n",
    "\n",
    "li=[int(x) for x in input().split()]\n",
    "n=len(li)\n",
    "print(insertSort(li,n))\n",
    "print(a)"
   ]
  },
  {
   "cell_type": "markdown",
   "id": "fc31a2fc",
   "metadata": {},
   "source": [
    "# MErge 2 sorted Arrays"
   ]
  },
  {
   "cell_type": "code",
   "execution_count": 28,
   "id": "0cd13d1a",
   "metadata": {},
   "outputs": [
    {
     "name": "stdout",
     "output_type": "stream",
     "text": [
      "[1, 3, 4, 4, 7, 9, 11, 11]\n"
     ]
    }
   ],
   "source": [
    "def merge(arr1,arr2,arr3):\n",
    "    \n",
    "    i=0\n",
    "    j=0\n",
    "    #k=0\n",
    "    \n",
    "    l1=len(arr1)\n",
    "    l2=len(arr2)\n",
    "    #l3=len(arr1)+len(arr2)\n",
    "    \n",
    "    while i<l1 and j< l2 :#and k < l3-1\n",
    "        \n",
    "        if arr1[i]<arr2[j]:\n",
    "            arr3.append(arr1[i])\n",
    "            i=i+1\n",
    "            #k=k+1\n",
    "            \n",
    "        elif arr1[i]>=arr2[j]:\n",
    "            arr3.append(arr2[j])\n",
    "            j=j+1\n",
    "            #k=k+1\n",
    "            \n",
    "    return arr3\n",
    "       \n",
    "        \n",
    "\n",
    "\n",
    "li1=[1,3,4,7,11]\n",
    "li2=[4,9,11,13]\n",
    "li3=[]\n",
    "a=merge(li1,li2,li3)\n",
    "print(a)"
   ]
  },
  {
   "cell_type": "markdown",
   "id": "2ad086e2",
   "metadata": {},
   "source": [
    "# Push Zeros to end"
   ]
  },
  {
   "cell_type": "code",
   "execution_count": 35,
   "id": "73a66bf8",
   "metadata": {},
   "outputs": [
    {
     "name": "stdout",
     "output_type": "stream",
     "text": [
      "[9, 8, 2, 0, 0]\n"
     ]
    }
   ],
   "source": [
    "def pushZerotoend(arr,n):\n",
    "    count =0\n",
    "    \n",
    "    for i in range(n):\n",
    "        \n",
    "        if arr[i]!=0:\n",
    "            arr[count]=arr[i]\n",
    "            count=count+1\n",
    "            \n",
    "            \n",
    "    while count<n:\n",
    "        arr[count]=0\n",
    "        count=count+1\n",
    "        \n",
    "        \n",
    "    \n",
    "    \n",
    "    return arr\n",
    "\n",
    "\n",
    "li1=[9,0,0,8,2]\n",
    "#li2=[4,9,11,13]\n",
    "#li3=[]\n",
    "n=len(li1)\n",
    "a=pushZerotoend(li1,n)\n",
    "print(a)"
   ]
  },
  {
   "cell_type": "markdown",
   "id": "18d8ba89",
   "metadata": {},
   "source": [
    "# Rotate array"
   ]
  },
  {
   "cell_type": "code",
   "execution_count": 55,
   "id": "6de6a87d",
   "metadata": {},
   "outputs": [
    {
     "name": "stdout",
     "output_type": "stream",
     "text": [
      "1 2 3 4 5 6 7\n",
      "enter d2\n",
      "[3, 4, 5, 6, 7, 1, 2]\n"
     ]
    }
   ],
   "source": [
    "def rotateli(arr,n,d):\n",
    "    \n",
    "    temp=[]\n",
    "    temp=arr[d:n]\n",
    "    \n",
    "    \n",
    "    \n",
    "    for i in range (d):\n",
    "        temp.append(arr[i])\n",
    "      \n",
    "    \n",
    "    for i in range (n):\n",
    "        arr[i]=temp[i]\n",
    "    \n",
    "    \n",
    "    return arr\n",
    "\n",
    "\n",
    "li1=[int(x) for x in input().split()]\n",
    "#li2=[4,9,11,13]\n",
    "#li3l\n",
    "n=len(li1)\n",
    "d=int(input(\"enter d\"))\n",
    "a=rotateli(li1,n,d)\n",
    "print(a)"
   ]
  },
  {
   "cell_type": "code",
   "execution_count": 48,
   "id": "dbc24016",
   "metadata": {},
   "outputs": [
    {
     "name": "stdout",
     "output_type": "stream",
     "text": [
      "[3, 4, 5, 6, 7]\n",
      "[3, 4, 5, 6, 7, 1, 2]\n"
     ]
    }
   ],
   "source": [
    "lis=[1,2,3,4,5,6,7]\n",
    "temp=[]\n",
    "temp=lis[d:n]\n",
    "print(temp)\n",
    "\n",
    "#k=0\n",
    "#while k<d:\n",
    "for i in range (d):\n",
    "    temp.append(lis[i])\n",
    "        #k=k+1\n",
    "        \n",
    "print(temp)\n"
   ]
  },
  {
   "cell_type": "markdown",
   "id": "606da6e6",
   "metadata": {},
   "source": [
    "# second largest element in list"
   ]
  },
  {
   "cell_type": "code",
   "execution_count": 78,
   "id": "9335c5cf",
   "metadata": {},
   "outputs": [
    {
     "name": "stdout",
     "output_type": "stream",
     "text": [
      "1 2 4 7 5 8 9 4\n",
      "8\n"
     ]
    }
   ],
   "source": [
    "def secondlargeele(arr,n):\n",
    "    '''\n",
    "    max=arr[0]\n",
    "    \n",
    "    for i in range(n):\n",
    "        if max < arr[i]:\n",
    "            max=arr[i]\n",
    "            \n",
    "            \n",
    "    arr = list(set(arr))\n",
    "    \n",
    "    arr.sort()\n",
    "    \n",
    "            \n",
    "   # for j in range\n",
    "    \n",
    "    \n",
    "    return arr[-2]\n",
    "    '''\n",
    "    secondLargest = 0\n",
    "    largest = min(arr)\n",
    "    \n",
    "    for i in range(n):\n",
    "        if arr[i] > largest:\n",
    "            secondLargest = largest\n",
    "            largest = arr[i]\n",
    "        else:\n",
    "            secondLargest = max(secondLargest, arr[i])\n",
    " \n",
    "    # Returning second largest element\n",
    "    return secondLargest\n",
    "    if (n < 2):\n",
    "        return -2147483648\n",
    "     \n",
    " \n",
    "    \n",
    "            \n",
    "\n",
    "    \n",
    "    #return arr[n-2]\n",
    "\n",
    "l=[int(x) for x in input().split()]\n",
    "n=len(l)\n",
    "a=secondlargeele(l,n)\n",
    "print (a)"
   ]
  },
  {
   "cell_type": "code",
   "execution_count": null,
   "id": "219cafb1",
   "metadata": {},
   "outputs": [],
   "source": [
    "secondLargest = 0\n",
    "    largest = min(arr)\n",
    " \n",
    "    for i in range(len(arr)):\n",
    "        if arr[i] > largest:\n",
    "            secondLargest = largest\n",
    "            largest = arr[i]\n",
    "        else:\n",
    "            secondLargest = max(secondLargest, arr[i])\n",
    " \n",
    "    # Returning second largest element\n",
    "    return secondLargest"
   ]
  },
  {
   "cell_type": "code",
   "execution_count": null,
   "id": "c65bfd74",
   "metadata": {},
   "outputs": [
    {
     "name": "stdout",
     "output_type": "stream",
     "text": [
      "371\n"
     ]
    }
   ],
   "source": [
    "## Print output as specified in the question.\n",
    "import math\n",
    "\n",
    "def armStrongNum(n):\n",
    "    \n",
    "    count=0\n",
    "    s=0\n",
    "    \n",
    "    temp=n\n",
    "    \n",
    "    while n>0:\n",
    "        n=n%10\n",
    "        n=n//10\n",
    "        count=count+1\n",
    "        \n",
    "    no=temp\n",
    "    while(count>0):\n",
    "        while no>0:\n",
    "            t=no%10 \n",
    "            s=s+t**count\n",
    "            no=no//2\n",
    "            \n",
    "            \n",
    "    if temp==s:\n",
    "        print ('true')\n",
    "    else:\n",
    "        print('false')\n",
    "            \n",
    "            \n",
    "num = int(input()) \n",
    "armStrongNum(num)\n"
   ]
  }
 ],
 "metadata": {
  "kernelspec": {
   "display_name": "Python 3 (ipykernel)",
   "language": "python",
   "name": "python3"
  },
  "language_info": {
   "codemirror_mode": {
    "name": "ipython",
    "version": 3
   },
   "file_extension": ".py",
   "mimetype": "text/x-python",
   "name": "python",
   "nbconvert_exporter": "python",
   "pygments_lexer": "ipython3",
   "version": "3.9.12"
  }
 },
 "nbformat": 4,
 "nbformat_minor": 5
}
