{
 "cells": [
  {
   "cell_type": "code",
   "execution_count": 8,
   "id": "5c36a365",
   "metadata": {},
   "outputs": [
    {
     "name": "stdout",
     "output_type": "stream",
     "text": [
      "{{{\n",
      "-1\n"
     ]
    }
   ],
   "source": [
    "def countBracketReversals(inputString) :\n",
    "    # Your code goes here\n",
    "    \n",
    "    s=[]\n",
    "    \n",
    "    for i in inputString:\n",
    "        \n",
    "        if i == '{':\n",
    "            s.append(i)\n",
    "            #print(s)\n",
    "            \n",
    "        else:\n",
    "            if i='}' and len(s)!=0:\n",
    "                s.pop()\n",
    "                \n",
    "            elif i=='}'and s[-1]=='}':\n",
    "                s.append(i)\n",
    "            \n",
    "            elif i=='}' and len(s)==0:\n",
    "                s.push(i)\n",
    "            \n",
    "    if len(s)!=0: \n",
    "        count=0\n",
    "        for j in s:\n",
    "            count=count+1\n",
    "            \n",
    "        if count%2==0:\n",
    "            return count//2\n",
    "        else:\n",
    "            return -1\n",
    "            \n",
    "            \n",
    "\n",
    "\n",
    "#main\n",
    "print(countBracketReversals(input()))\n"
   ]
  },
  {
   "cell_type": "code",
   "execution_count": null,
   "id": "023a49d9",
   "metadata": {},
   "outputs": [],
   "source": []
  }
 ],
 "metadata": {
  "kernelspec": {
   "display_name": "Python 3 (ipykernel)",
   "language": "python",
   "name": "python3"
  },
  "language_info": {
   "codemirror_mode": {
    "name": "ipython",
    "version": 3
   },
   "file_extension": ".py",
   "mimetype": "text/x-python",
   "name": "python",
   "nbconvert_exporter": "python",
   "pygments_lexer": "ipython3",
   "version": "3.9.12"
  }
 },
 "nbformat": 4,
 "nbformat_minor": 5
}
