{
 "cells": [
  {
   "cell_type": "code",
   "execution_count": 1,
   "id": "86085472",
   "metadata": {},
   "outputs": [
    {
     "name": "stdout",
     "output_type": "stream",
     "text": [
      "5\n",
      "4\n",
      "3\n",
      "2\n",
      "1\n"
     ]
    }
   ],
   "source": [
    "#inbuilt stack\n",
    "\n",
    "s=[1,2,3]\n",
    "\n",
    "s.append(4)\n",
    "s.append(5)\n",
    "\n",
    "while len(s)>0:\n",
    "    print(s.pop())"
   ]
  },
  {
   "cell_type": "code",
   "execution_count": 3,
   "id": "95218a13",
   "metadata": {},
   "outputs": [
    {
     "name": "stdout",
     "output_type": "stream",
     "text": [
      "10\n",
      "11\n",
      "12\n",
      "13\n"
     ]
    }
   ],
   "source": [
    "#inbuilt queue\n",
    "\n",
    "import queue\n",
    "\n",
    "q=queue.Queue()\n",
    "\n",
    "q.put(10)\n",
    "q.put(11)\n",
    "q.put(12)\n",
    "q.put(13)\n",
    "\n",
    "while not q.empty():\n",
    "    print(q.get())\n",
    "    "
   ]
  },
  {
   "cell_type": "code",
   "execution_count": 7,
   "id": "b34a2d60",
   "metadata": {},
   "outputs": [
    {
     "name": "stdout",
     "output_type": "stream",
     "text": [
      "13\n",
      "12\n",
      "11\n",
      "10\n"
     ]
    }
   ],
   "source": [
    "#inbuilt stack using queue\n",
    "\n",
    "import queue\n",
    "\n",
    "q=queue.LifoQueue()\n",
    "q.put(10)\n",
    "q.put(11)\n",
    "q.put(12)\n",
    "q.put(13)\n",
    "\n",
    "while not q.empty():\n",
    "    print(q.get())\n",
    "\n"
   ]
  }
 ],
 "metadata": {
  "kernelspec": {
   "display_name": "Python 3 (ipykernel)",
   "language": "python",
   "name": "python3"
  },
  "language_info": {
   "codemirror_mode": {
    "name": "ipython",
    "version": 3
   },
   "file_extension": ".py",
   "mimetype": "text/x-python",
   "name": "python",
   "nbconvert_exporter": "python",
   "pygments_lexer": "ipython3",
   "version": "3.9.12"
  }
 },
 "nbformat": 4,
 "nbformat_minor": 5
}
