{
 "cells": [
  {
   "cell_type": "code",
   "execution_count": 23,
   "id": "0302e1f7",
   "metadata": {},
   "outputs": [
    {
     "name": "stdout",
     "output_type": "stream",
     "text": [
      "true\n"
     ]
    }
   ],
   "source": [
    "from sys import stdin\n",
    "\n",
    "def checkRedundantBrackets(e) :\n",
    "\t# Your code goes here\n",
    "    \n",
    "    s1=[]\n",
    "    \n",
    "    for c in e:\n",
    "        count=0\n",
    "        if c != \")\":\n",
    "            s1.append(c)\n",
    "            \n",
    "        l=len(s1)\n",
    "            \n",
    "        if c == ')' and l!=0: \n",
    "            count=count+1\n",
    "            \n",
    "            if c==\"(\":\n",
    "                count=0\n",
    "                s1.pop()\n",
    "            else:\n",
    "                s1.pop()\n",
    "            \n",
    "            \n",
    "    if count>0:\n",
    "        return True\n",
    "    else:\n",
    "        return False\n",
    "\n",
    "\n",
    "\n",
    "\n",
    "#main\n",
    "e = \"(a+b)(()\" #'stdin.readline().strip()'\n",
    "\n",
    "if checkRedundantBrackets(e) :\n",
    "\tprint(\"true\")\n",
    "\n",
    "else :\n",
    "\tprint(\"false\")\n"
   ]
  },
  {
   "cell_type": "code",
   "execution_count": 8,
   "id": "1dd4240b",
   "metadata": {},
   "outputs": [
    {
     "name": "stdout",
     "output_type": "stream",
     "text": [
      "false\n"
     ]
    }
   ],
   "source": [
    "def checkRedundantBrackets(e) :\n",
    "    li = []\n",
    "    for b in e:\n",
    "        if b == \"(\":\n",
    "            li.append(\"(\")\n",
    "        else:\n",
    "            if len(li) == 0:\n",
    "                return False\n",
    "            if li[len(li) - 1] == \"(\":\n",
    "                li.pop()\n",
    "            else:\n",
    "                return False\n",
    "    if len(li) == 0:\n",
    "        return False\n",
    "    else:\n",
    "        return True\n",
    "    \n",
    "e = \"(a+b*((a/c-d)))\" #'stdin.readline().strip()'\n",
    "\n",
    "if checkRedundantBrackets(e) :\n",
    "\tprint(\"true\")\n",
    "\n",
    "else :\n",
    "\tprint(\"false\")\n"
   ]
  },
  {
   "cell_type": "code",
   "execution_count": null,
   "id": "5030226a",
   "metadata": {},
   "outputs": [],
   "source": []
  }
 ],
 "metadata": {
  "kernelspec": {
   "display_name": "Python 3 (ipykernel)",
   "language": "python",
   "name": "python3"
  },
  "language_info": {
   "codemirror_mode": {
    "name": "ipython",
    "version": 3
   },
   "file_extension": ".py",
   "mimetype": "text/x-python",
   "name": "python",
   "nbconvert_exporter": "python",
   "pygments_lexer": "ipython3",
   "version": "3.9.12"
  }
 },
 "nbformat": 4,
 "nbformat_minor": 5
}
