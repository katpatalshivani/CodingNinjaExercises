{
 "cells": [
  {
   "cell_type": "code",
   "execution_count": 4,
   "id": "a80b7cb8",
   "metadata": {},
   "outputs": [],
   "source": [
    "class GenericTreeNode:\n",
    "    def __init__(self,data):\n",
    "        self.data=data\n",
    "        self.children=[]\n",
    "        \n",
    "    "
   ]
  },
  {
   "cell_type": "code",
   "execution_count": 13,
   "id": "795db971",
   "metadata": {},
   "outputs": [],
   "source": [
    "import queue\n",
    "def takeInputLevelwise():\n",
    "    '''\n",
    "    print(\"enter root\")\n",
    "    rootData = int(input())\n",
    "    \n",
    "    if rootData == None:\n",
    "        return\n",
    "    \n",
    "    root=GenericTreeNode(rootData)\n",
    "    \n",
    "    print(\"Enter number of Children of \", root.data)\n",
    "    n=int(input())\n",
    "    \n",
    "    for i in range(num):\n",
    "        child=takeTreeInput()\n",
    "        root.children.append(child)\n",
    "        \n",
    "    return root\n",
    "    '''\n",
    "    q=queue.Queue()\n",
    "    print(\"enter root\")\n",
    "    rootData = int(input())\n",
    "    \n",
    "    if rootData == -1:\n",
    "        return None\n",
    "    \n",
    "    root = GenericTreeNode(rootData)\n",
    "    q.put(root)\n",
    "    \n",
    "    while not(q.empty()):\n",
    "        curr_node = q.get()\n",
    "        \n",
    "        print(\"Enter number of children of \",curr_node.data)\n",
    "        numChildren = int(input())\n",
    "        \n",
    "        if numChildren > 0:\n",
    "            for i in range(numChildren):\n",
    "                print(\"enter next child of \",curr_node.data)\n",
    "                childData=int(input())\n",
    "                child=GenericTreeNode(childData)\n",
    "                curr_node.children.append(child)\n",
    "                q.put(child)\n",
    "                \n",
    "    return root"
   ]
  },
  {
   "cell_type": "code",
   "execution_count": 14,
   "id": "b312ad90",
   "metadata": {},
   "outputs": [],
   "source": [
    "\n",
    "def printDetailedTree(root):\n",
    "    '''\n",
    "    if root == None:\n",
    "        return\n",
    "    \n",
    "    print(root.data,\":\",end=\" \")\n",
    "    \n",
    "    for child in root.children:\n",
    "        print(child.data,\",\",end=\" \")\n",
    "        \n",
    "    print()\n",
    "    \n",
    "    for child in root.children:\n",
    "        printDetailedTree(child)\n",
    "        '''\n"
   ]
  },
  {
   "cell_type": "code",
   "execution_count": 15,
   "id": "6e1ec332",
   "metadata": {},
   "outputs": [
    {
     "name": "stdout",
     "output_type": "stream",
     "text": [
      "enter root\n",
      "10\n",
      "Enter number of children of  10\n",
      "3\n",
      "enter next child of  10\n",
      "20\n",
      "enter next child of  10\n",
      "30\n",
      "enter next child of  10\n",
      "40\n",
      "Enter number of children of  20\n",
      "0\n",
      "Enter number of children of  30\n",
      "2\n",
      "enter next child of  30\n",
      "40\n",
      "enter next child of  30\n",
      "50\n",
      "Enter number of children of  40\n",
      "0\n",
      "Enter number of children of  40\n",
      "0\n",
      "Enter number of children of  50\n",
      "0\n",
      "10 : 20 , 30 , 40 , \n",
      "20 : \n",
      "30 : 40 , 50 , \n",
      "40 : \n",
      "50 : \n",
      "40 : \n"
     ]
    }
   ],
   "source": [
    "root = takeInputLevelwise()\n",
    "printDetailedTree(root)"
   ]
  },
  {
   "cell_type": "code",
   "execution_count": null,
   "id": "590a52f5",
   "metadata": {},
   "outputs": [],
   "source": []
  }
 ],
 "metadata": {
  "kernelspec": {
   "display_name": "Python 3 (ipykernel)",
   "language": "python",
   "name": "python3"
  },
  "language_info": {
   "codemirror_mode": {
    "name": "ipython",
    "version": 3
   },
   "file_extension": ".py",
   "mimetype": "text/x-python",
   "name": "python",
   "nbconvert_exporter": "python",
   "pygments_lexer": "ipython3",
   "version": "3.9.12"
  }
 },
 "nbformat": 4,
 "nbformat_minor": 5
}
