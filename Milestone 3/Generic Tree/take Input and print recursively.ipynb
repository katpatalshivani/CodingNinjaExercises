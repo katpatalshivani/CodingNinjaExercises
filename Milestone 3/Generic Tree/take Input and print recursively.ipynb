{
 "cells": [
  {
   "cell_type": "code",
   "execution_count": 18,
   "id": "884787d7",
   "metadata": {},
   "outputs": [],
   "source": [
    "class genericTreeNode:\n",
    "    def __init__(self,data):\n",
    "        self.data=data\n",
    "        self.children=list()"
   ]
  },
  {
   "cell_type": "code",
   "execution_count": 19,
   "id": "11be0ed5",
   "metadata": {},
   "outputs": [],
   "source": [
    "def takeInputRecursively():\n",
    "    \n",
    "    print(\"Enter root:\")\n",
    "    rootData=int(input())\n",
    "    \n",
    "    if rootData==-1:\n",
    "        return None\n",
    "    root=genericTreeNode(rootData)\n",
    "    \n",
    "    print(\"Enter total number of children for \",root.data)\n",
    "    no=int(input())\n",
    "    \n",
    "    for i in range(no):\n",
    "        child=takeInputRecursively()\n",
    "        root.children.append(child)\n",
    "    return root\n",
    "        \n",
    "    "
   ]
  },
  {
   "cell_type": "code",
   "execution_count": 20,
   "id": "3df61783",
   "metadata": {},
   "outputs": [],
   "source": [
    "def printDetailedTree(root):\n",
    "    if root==None:\n",
    "        return\n",
    "    \n",
    "    print(root.data,\":\",end=\"\")\n",
    "    \n",
    "    for child in root.children:\n",
    "        print(child.data,\",\",end=\"\")\n",
    "        \n",
    "    print()\n",
    "        \n",
    "        \n",
    "    for child in root.children:\n",
    "        printDetailedTree(child)"
   ]
  },
  {
   "cell_type": "code",
   "execution_count": 21,
   "id": "38814f2b",
   "metadata": {},
   "outputs": [
    {
     "name": "stdout",
     "output_type": "stream",
     "text": [
      "Enter root:\n",
      "5\n",
      "Enter total number of children for  5\n",
      "4\n",
      "Enter root:\n",
      "2\n",
      "Enter total number of children for  2\n",
      "0\n",
      "Enter root:\n",
      "9\n",
      "Enter total number of children for  9\n",
      "2\n",
      "Enter root:\n",
      "15\n",
      "Enter total number of children for  15\n",
      "0\n",
      "Enter root:\n",
      "1\n",
      "Enter total number of children for  1\n",
      "0\n",
      "Enter root:\n",
      "8\n",
      "Enter total number of children for  8\n",
      "0\n",
      "Enter root:\n",
      "7\n",
      "Enter total number of children for  7\n",
      "0\n",
      "5 :2 ,9 ,8 ,7 ,\n",
      "2 :\n",
      "9 :15 ,1 ,\n",
      "15 :\n",
      "1 :\n",
      "8 :\n",
      "7 :\n"
     ]
    }
   ],
   "source": [
    "root=takeInputRecursively()\n",
    "printDetailedTree(root)"
   ]
  },
  {
   "cell_type": "code",
   "execution_count": null,
   "id": "a195b377",
   "metadata": {},
   "outputs": [],
   "source": []
  }
 ],
 "metadata": {
  "kernelspec": {
   "display_name": "Python 3 (ipykernel)",
   "language": "python",
   "name": "python3"
  },
  "language_info": {
   "codemirror_mode": {
    "name": "ipython",
    "version": 3
   },
   "file_extension": ".py",
   "mimetype": "text/x-python",
   "name": "python",
   "nbconvert_exporter": "python",
   "pygments_lexer": "ipython3",
   "version": "3.9.12"
  }
 },
 "nbformat": 4,
 "nbformat_minor": 5
}
