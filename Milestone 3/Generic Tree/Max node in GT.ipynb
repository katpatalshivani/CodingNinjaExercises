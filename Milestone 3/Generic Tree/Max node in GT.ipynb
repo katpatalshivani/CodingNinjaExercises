{
 "cells": [
  {
   "cell_type": "code",
   "execution_count": 20,
   "id": "a0697b05",
   "metadata": {},
   "outputs": [],
   "source": [
    "class GenericTreeNode:\n",
    "    def __init__(self,data):\n",
    "        self.data = data\n",
    "        self.children = list()"
   ]
  },
  {
   "cell_type": "code",
   "execution_count": 21,
   "id": "41f0c9de",
   "metadata": {},
   "outputs": [],
   "source": [
    "def takeTreeInput():\n",
    "    print(\"Enter root's data:\")\n",
    "    rootData = int(input())\n",
    "    \n",
    "    if rootData == -1:\n",
    "        return\n",
    "    root = GenericTreeNode(rootData)\n",
    "    \n",
    "    print(\"Enter number of children for\",root.data)\n",
    "    num=int(input())\n",
    "    \n",
    "    for i in range(num):\n",
    "        child=takeTreeInput()\n",
    "        root.children.append(child)\n",
    "        \n",
    "    return root"
   ]
  },
  {
   "cell_type": "code",
   "execution_count": 25,
   "id": "3fcdef1d",
   "metadata": {},
   "outputs": [],
   "source": [
    "def maxDataNode(root):\n",
    "    #############################\n",
    "    # PLEASE ADD YOUR CODE HERE #\n",
    "    #############################\n",
    "    if root is None:\n",
    "        return Null\n",
    "\n",
    "    max_node = root\n",
    "\n",
    "    for child in root.children:\n",
    "        max_child = maxDataNode(child)\n",
    "        if max_child !=None and max_node.data < max_child.data:\n",
    "            max_node=max_child\n",
    "        \n",
    "    \n",
    "    return max_node\n",
    "    "
   ]
  },
  {
   "cell_type": "code",
   "execution_count": 26,
   "id": "b53b432e",
   "metadata": {},
   "outputs": [],
   "source": [
    "def printDetailedTree(root):\n",
    "    if root == None:\n",
    "        return\n",
    "    \n",
    "    print(root.data,\":\",end=\" \")\n",
    "    \n",
    "    for child in root.children:\n",
    "        print(child.data,\",\",end=\" \")\n",
    "        \n",
    "    print()\n",
    "    \n",
    "    for child in root.children:\n",
    "        printDetailedTree(child)"
   ]
  },
  {
   "cell_type": "code",
   "execution_count": 28,
   "id": "0fc04821",
   "metadata": {},
   "outputs": [
    {
     "name": "stdout",
     "output_type": "stream",
     "text": [
      "Enter root's data:\n",
      "10\n",
      "Enter number of children for 10\n",
      "3\n",
      "Enter root's data:\n",
      "10\n",
      "Enter number of children for 10\n",
      "0\n",
      "Enter root's data:\n",
      "20\n",
      "Enter number of children for 20\n",
      "0\n",
      "Enter root's data:\n",
      "30\n",
      "Enter number of children for 30\n",
      "2\n",
      "Enter root's data:\n",
      "45\n",
      "Enter number of children for 45\n",
      "0\n",
      "Enter root's data:\n",
      "12\n",
      "Enter number of children for 12\n",
      "0\n",
      "10 : 10 , 20 , 30 , \n",
      "10 : \n",
      "20 : \n",
      "30 : 45 , 12 , \n",
      "45 : \n",
      "12 : \n",
      "45\n"
     ]
    }
   ],
   "source": [
    "root= takeTreeInput()\n",
    "printDetailedTree(root)\n",
    "print(maxDataNode(root).data)"
   ]
  },
  {
   "cell_type": "code",
   "execution_count": null,
   "id": "54c5b5f3",
   "metadata": {},
   "outputs": [],
   "source": []
  }
 ],
 "metadata": {
  "kernelspec": {
   "display_name": "Python 3 (ipykernel)",
   "language": "python",
   "name": "python3"
  },
  "language_info": {
   "codemirror_mode": {
    "name": "ipython",
    "version": 3
   },
   "file_extension": ".py",
   "mimetype": "text/x-python",
   "name": "python",
   "nbconvert_exporter": "python",
   "pygments_lexer": "ipython3",
   "version": "3.9.12"
  }
 },
 "nbformat": 4,
 "nbformat_minor": 5
}
