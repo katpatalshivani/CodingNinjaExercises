{
 "cells": [
  {
   "cell_type": "code",
   "execution_count": 16,
   "id": "1ec35394",
   "metadata": {},
   "outputs": [],
   "source": [
    "class GenericTreeNode:\n",
    "    def __init__(self,data):\n",
    "        self.data=data\n",
    "        self.children=[]\n",
    "        \n",
    "    "
   ]
  },
  {
   "cell_type": "code",
   "execution_count": 17,
   "id": "f4e9bce7",
   "metadata": {},
   "outputs": [],
   "source": [
    "import queue\n",
    "def takeInputLevelwise():\n",
    "\n",
    "    q=queue.Queue()\n",
    "    print(\"enter root\")\n",
    "    rootData = int(input())\n",
    "    \n",
    "    if rootData == -1:\n",
    "        return None\n",
    "    \n",
    "    root = GenericTreeNode(rootData)\n",
    "    q.put(root)\n",
    "    \n",
    "    while not(q.empty()):\n",
    "        curr_node = q.get()\n",
    "        \n",
    "        print(\"Enter number of children of \",curr_node.data)\n",
    "        numChildren = int(input())\n",
    "        \n",
    "        if numChildren > 0:\n",
    "            for i in range(numChildren):\n",
    "                print(\"enter next child of \",curr_node.data)\n",
    "                childData=int(input())\n",
    "                child=GenericTreeNode(childData)\n",
    "                curr_node.children.append(child)\n",
    "                q.put(child)\n",
    "                \n",
    "    return root"
   ]
  },
  {
   "cell_type": "code",
   "execution_count": 20,
   "id": "e5406cd4",
   "metadata": {},
   "outputs": [],
   "source": [
    "def heightOfGT(root):\n",
    "    if root == None:\n",
    "        return 0\n",
    "    \n",
    "    h=0\n",
    "    \n",
    "    for child in root.children:\n",
    "        if h<heightOfGT(child):\n",
    "            h= heightOfGT (child)\n",
    "            \n",
    "    return 1+h"
   ]
  },
  {
   "cell_type": "code",
   "execution_count": null,
   "id": "a6ca3170",
   "metadata": {},
   "outputs": [
    {
     "name": "stdout",
     "output_type": "stream",
     "text": [
      "enter root\n",
      "10\n",
      "Enter number of children of  10\n",
      "2\n",
      "enter next child of  10\n",
      "20\n",
      "enter next child of  10\n",
      "30\n",
      "Enter number of children of  20\n",
      "0\n",
      "Enter number of children of  30\n",
      "2\n",
      "enter next child of  30\n"
     ]
    }
   ],
   "source": [
    "root=takeInputLevelwise()\n",
    "print(heightOfGT(root))"
   ]
  },
  {
   "cell_type": "code",
   "execution_count": null,
   "id": "1b4ceeee",
   "metadata": {},
   "outputs": [],
   "source": []
  }
 ],
 "metadata": {
  "kernelspec": {
   "display_name": "Python 3 (ipykernel)",
   "language": "python",
   "name": "python3"
  },
  "language_info": {
   "codemirror_mode": {
    "name": "ipython",
    "version": 3
   },
   "file_extension": ".py",
   "mimetype": "text/x-python",
   "name": "python",
   "nbconvert_exporter": "python",
   "pygments_lexer": "ipython3",
   "version": "3.9.12"
  }
 },
 "nbformat": 4,
 "nbformat_minor": 5
}
