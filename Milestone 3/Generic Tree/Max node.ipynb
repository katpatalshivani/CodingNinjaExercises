{
 "cells": [
  {
   "cell_type": "code",
   "execution_count": 4,
   "id": "1e7022de",
   "metadata": {},
   "outputs": [],
   "source": [
    "class GenericTreeNode:\n",
    "    def __init__(self,data):\n",
    "        self.data = data\n",
    "        self.children = list()"
   ]
  },
  {
   "cell_type": "code",
   "execution_count": 5,
   "id": "da56b7fd",
   "metadata": {},
   "outputs": [],
   "source": [
    "def takeTreeInput():\n",
    "    print(\"Enter root's data:\")\n",
    "    rootData = int(input())\n",
    "    \n",
    "    if rootData == -1:\n",
    "        return\n",
    "    root = GenericTreeNode(rootData)\n",
    "    \n",
    "    print(\"Enter number of children for\",root.data)\n",
    "    num=int(input())\n",
    "    \n",
    "    for i in range(num):\n",
    "        child=takeTreeInput()\n",
    "        root.children.append(child)\n",
    "        \n",
    "    return root"
   ]
  },
  {
   "cell_type": "code",
   "execution_count": 6,
   "id": "7af6ca89",
   "metadata": {},
   "outputs": [],
   "source": [
    "def printDetailedTree(root):\n",
    "    if root == None:\n",
    "        return\n",
    "    \n",
    "    print(root.data,\":\",end=\" \")\n",
    "    \n",
    "    for child in root.children:\n",
    "        print(child.data,\",\",end=\" \")\n",
    "        \n",
    "    print()\n",
    "    \n",
    "    for child in root.children:\n",
    "        printDetailedTree(child)"
   ]
  },
  {
   "cell_type": "code",
   "execution_count": 7,
   "id": "342c1c69",
   "metadata": {},
   "outputs": [],
   "source": [
    "def sumOfAllNodes(root):\n",
    "    if root is None:\n",
    "        return 0\n",
    "    \n",
    "    sumNodes=root.data\n",
    "    \n",
    "    for child in root.children:\n",
    "        sumNodes = sumNodes + sumOfAllNodes(child)\n",
    "        \n",
    "    return sumNodes"
   ]
  },
  {
   "cell_type": "code",
   "execution_count": null,
   "id": "05eec3a3",
   "metadata": {},
   "outputs": [
    {
     "name": "stdout",
     "output_type": "stream",
     "text": [
      "Enter root's data:\n",
      "1\n",
      "Enter number of children for 1\n",
      "1\n",
      "Enter root's data:\n",
      "2\n",
      "Enter number of children for 2\n",
      "1\n",
      "Enter root's data:\n",
      "3\n",
      "Enter number of children for 3\n",
      "1\n",
      "Enter root's data:\n",
      "4\n",
      "Enter number of children for 4\n",
      "1\n",
      "Enter root's data:\n",
      "5\n",
      "Enter number of children for 5\n",
      "1\n",
      "Enter root's data:\n",
      "5\n",
      "Enter number of children for 5\n",
      "0\n"
     ]
    }
   ],
   "source": [
    "root= takeTreeInput()\n",
    "printDetailedTree(root)\n",
    "print(sumOfAllNodes(root))"
   ]
  },
  {
   "cell_type": "code",
   "execution_count": null,
   "id": "a47e9718",
   "metadata": {},
   "outputs": [],
   "source": []
  }
 ],
 "metadata": {
  "kernelspec": {
   "display_name": "Python 3 (ipykernel)",
   "language": "python",
   "name": "python3"
  },
  "language_info": {
   "codemirror_mode": {
    "name": "ipython",
    "version": 3
   },
   "file_extension": ".py",
   "mimetype": "text/x-python",
   "name": "python",
   "nbconvert_exporter": "python",
   "pygments_lexer": "ipython3",
   "version": "3.9.12"
  }
 },
 "nbformat": 4,
 "nbformat_minor": 5
}
