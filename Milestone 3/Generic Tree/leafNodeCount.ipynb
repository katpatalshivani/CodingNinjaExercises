{
 "cells": [
  {
   "cell_type": "code",
   "execution_count": 4,
   "id": "372a713e",
   "metadata": {},
   "outputs": [],
   "source": [
    "class GenericTreeNode:\n",
    "    def __init__(self,data):\n",
    "        self.data = data\n",
    "        self.children= []"
   ]
  },
  {
   "cell_type": "code",
   "execution_count": 5,
   "id": "be170afd",
   "metadata": {},
   "outputs": [],
   "source": [
    "import queue\n",
    "\n",
    "def takeLevelwiseInput():\n",
    "    q=queue.Queue()\n",
    "    print(\"Enter root\")\n",
    "    rootData = int(input())\n",
    "    \n",
    "    if rootData == -1:\n",
    "        return None\n",
    "    root = GenericTreeNode(rootData)\n",
    "    q.put(root)\n",
    "    \n",
    "    while not(q.empty()):\n",
    "        curr_node = q.get()\n",
    "        \n",
    "        print(\"enter number of children for \",curr_node.data)\n",
    "        numChildren = int(input())\n",
    "        \n",
    "        \n",
    "        if numChildren >0:\n",
    "            for i in range (numChildren):\n",
    "                print(\"Enter next child of \",curr_node.data)\n",
    "                childData = int(input())\n",
    "                child = GenericTreeNode(childData)\n",
    "                curr_node.children.append(child)\n",
    "                q.put(child)\n",
    "                \n",
    "    return root"
   ]
  },
  {
   "cell_type": "code",
   "execution_count": 6,
   "id": "3716a694",
   "metadata": {},
   "outputs": [],
   "source": [
    "def leafNodeCount(root):\n",
    "    if root.children == None:\n",
    "        return 1\n",
    "    \n",
    "    count = leafNodeCount(root.children)\n",
    "    \n",
    "    return count"
   ]
  },
  {
   "cell_type": "code",
   "execution_count": 7,
   "id": "23cd0792",
   "metadata": {},
   "outputs": [
    {
     "name": "stdout",
     "output_type": "stream",
     "text": [
      "Enter root\n",
      "10\n",
      "enter number of children for  10\n",
      "2\n",
      "Enter next child of  10\n",
      "1\n",
      "Enter next child of  10\n",
      "2\n",
      "enter number of children for  1\n",
      "0\n",
      "enter number of children for  2\n",
      "0\n"
     ]
    },
    {
     "ename": "AttributeError",
     "evalue": "'list' object has no attribute 'children'",
     "output_type": "error",
     "traceback": [
      "\u001b[1;31m---------------------------------------------------------------------------\u001b[0m",
      "\u001b[1;31mAttributeError\u001b[0m                            Traceback (most recent call last)",
      "Input \u001b[1;32mIn [7]\u001b[0m, in \u001b[0;36m<cell line: 2>\u001b[1;34m()\u001b[0m\n\u001b[0;32m      1\u001b[0m root \u001b[38;5;241m=\u001b[39m takeLevelwiseInput()\n\u001b[1;32m----> 2\u001b[0m \u001b[38;5;28mprint\u001b[39m(\u001b[43mleafNodeCount\u001b[49m\u001b[43m(\u001b[49m\u001b[43mroot\u001b[49m\u001b[43m)\u001b[49m)\n",
      "Input \u001b[1;32mIn [6]\u001b[0m, in \u001b[0;36mleafNodeCount\u001b[1;34m(root)\u001b[0m\n\u001b[0;32m      2\u001b[0m \u001b[38;5;28;01mif\u001b[39;00m root\u001b[38;5;241m.\u001b[39mchildren \u001b[38;5;241m==\u001b[39m \u001b[38;5;28;01mNone\u001b[39;00m:\n\u001b[0;32m      3\u001b[0m     \u001b[38;5;28;01mreturn\u001b[39;00m \u001b[38;5;241m1\u001b[39m\n\u001b[1;32m----> 5\u001b[0m count \u001b[38;5;241m=\u001b[39m \u001b[43mleafNodeCount\u001b[49m\u001b[43m(\u001b[49m\u001b[43mroot\u001b[49m\u001b[38;5;241;43m.\u001b[39;49m\u001b[43mchildren\u001b[49m\u001b[43m)\u001b[49m\n\u001b[0;32m      7\u001b[0m \u001b[38;5;28;01mreturn\u001b[39;00m count\n",
      "Input \u001b[1;32mIn [6]\u001b[0m, in \u001b[0;36mleafNodeCount\u001b[1;34m(root)\u001b[0m\n\u001b[0;32m      1\u001b[0m \u001b[38;5;28;01mdef\u001b[39;00m \u001b[38;5;21mleafNodeCount\u001b[39m(root):\n\u001b[1;32m----> 2\u001b[0m     \u001b[38;5;28;01mif\u001b[39;00m \u001b[43mroot\u001b[49m\u001b[38;5;241;43m.\u001b[39;49m\u001b[43mchildren\u001b[49m \u001b[38;5;241m==\u001b[39m \u001b[38;5;28;01mNone\u001b[39;00m:\n\u001b[0;32m      3\u001b[0m         \u001b[38;5;28;01mreturn\u001b[39;00m \u001b[38;5;241m1\u001b[39m\n\u001b[0;32m      5\u001b[0m     count \u001b[38;5;241m=\u001b[39m leafNodeCount(root\u001b[38;5;241m.\u001b[39mchildren)\n",
      "\u001b[1;31mAttributeError\u001b[0m: 'list' object has no attribute 'children'"
     ]
    }
   ],
   "source": [
    "root = takeLevelwiseInput()\n",
    "print(leafNodeCount(root))"
   ]
  },
  {
   "cell_type": "code",
   "execution_count": null,
   "id": "d7afb399",
   "metadata": {},
   "outputs": [],
   "source": []
  }
 ],
 "metadata": {
  "kernelspec": {
   "display_name": "Python 3 (ipykernel)",
   "language": "python",
   "name": "python3"
  },
  "language_info": {
   "codemirror_mode": {
    "name": "ipython",
    "version": 3
   },
   "file_extension": ".py",
   "mimetype": "text/x-python",
   "name": "python",
   "nbconvert_exporter": "python",
   "pygments_lexer": "ipython3",
   "version": "3.9.12"
  }
 },
 "nbformat": 4,
 "nbformat_minor": 5
}
