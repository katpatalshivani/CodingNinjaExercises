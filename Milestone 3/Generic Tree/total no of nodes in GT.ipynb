{
 "cells": [
  {
   "cell_type": "code",
   "execution_count": 6,
   "id": "222e0d42",
   "metadata": {},
   "outputs": [],
   "source": [
    "class GenericTreeNode:\n",
    "    def __init__(self,data):\n",
    "        self.data = data\n",
    "        self.children = list()"
   ]
  },
  {
   "cell_type": "code",
   "execution_count": 7,
   "id": "4b2106f6",
   "metadata": {},
   "outputs": [],
   "source": [
    "def takeTreeInput():\n",
    "    print(\"Enter root's data:\")\n",
    "    rootData = int(input())\n",
    "    \n",
    "    if rootData == -1:\n",
    "        return\n",
    "    root = GenericTreeNode(rootData)\n",
    "    \n",
    "    print(\"Enter number of children for\",root.data)\n",
    "    num=int(input())\n",
    "    \n",
    "    for i in range(num):\n",
    "        child=takeTreeInput()\n",
    "        root.children.append(child)\n",
    "        \n",
    "    return root"
   ]
  },
  {
   "cell_type": "code",
   "execution_count": 8,
   "id": "c1f80bbc",
   "metadata": {},
   "outputs": [],
   "source": [
    "def printDetailedTree(root):\n",
    "    if root == None:\n",
    "        return\n",
    "    \n",
    "    print(root.data,\":\",end=\" \")\n",
    "    \n",
    "    for child in root.children:\n",
    "        print(child.data,\",\",end=\" \")\n",
    "        \n",
    "    print()\n",
    "    \n",
    "    for child in root.children:\n",
    "        printDetailedTree(child)"
   ]
  },
  {
   "cell_type": "code",
   "execution_count": 9,
   "id": "826133a7",
   "metadata": {},
   "outputs": [],
   "source": [
    "def NumNodes(root):\n",
    "    if root ==None:\n",
    "        return 0\n",
    "    \n",
    "    count = 1\n",
    "    \n",
    "    for child in root.children:\n",
    "        count=count + NumNodes(child)\n",
    "    \n",
    "    return count"
   ]
  },
  {
   "cell_type": "code",
   "execution_count": 10,
   "id": "e512acc3",
   "metadata": {},
   "outputs": [
    {
     "name": "stdout",
     "output_type": "stream",
     "text": [
      "Enter root's data:\n",
      "2\n",
      "Enter number of children for 2\n",
      "5\n",
      "Enter root's data:\n",
      "1\n",
      "Enter number of children for 1\n",
      "0\n",
      "Enter root's data:\n",
      "11\n",
      "Enter number of children for 11\n",
      "0\n",
      "Enter root's data:\n",
      "111\n",
      "Enter number of children for 111\n",
      "0\n",
      "Enter root's data:\n",
      "22\n",
      "Enter number of children for 22\n",
      "0\n",
      "Enter root's data:\n",
      "222\n",
      "Enter number of children for 222\n",
      "0\n",
      "2 : 1 , 11 , 111 , 22 , 222 , \n",
      "1 : \n",
      "11 : \n",
      "111 : \n",
      "22 : \n",
      "222 : \n",
      "6\n"
     ]
    }
   ],
   "source": [
    "root = takeTreeInput()\n",
    "printDetailedTree(root)\n",
    "print(NumNodes(root))"
   ]
  },
  {
   "cell_type": "code",
   "execution_count": null,
   "id": "0659de95",
   "metadata": {},
   "outputs": [],
   "source": []
  }
 ],
 "metadata": {
  "kernelspec": {
   "display_name": "Python 3 (ipykernel)",
   "language": "python",
   "name": "python3"
  },
  "language_info": {
   "codemirror_mode": {
    "name": "ipython",
    "version": 3
   },
   "file_extension": ".py",
   "mimetype": "text/x-python",
   "name": "python",
   "nbconvert_exporter": "python",
   "pygments_lexer": "ipython3",
   "version": "3.9.12"
  }
 },
 "nbformat": 4,
 "nbformat_minor": 5
}
