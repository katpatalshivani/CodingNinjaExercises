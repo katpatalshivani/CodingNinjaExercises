{
 "cells": [
  {
   "cell_type": "code",
   "execution_count": 1,
   "id": "05d9825e",
   "metadata": {},
   "outputs": [],
   "source": [
    "class GenericTreeNode:\n",
    "    def __init__(self,data):\n",
    "        self.data = data\n",
    "        self.children= []"
   ]
  },
  {
   "cell_type": "code",
   "execution_count": 2,
   "id": "322aed30",
   "metadata": {},
   "outputs": [],
   "source": [
    "import queue\n",
    "\n",
    "def takeLevelwiseInput():\n",
    "    q=queue.Queue()\n",
    "    print(\"Enter root\")\n",
    "    rootData = int(input())\n",
    "    \n",
    "    if rootData == -1:\n",
    "        return None\n",
    "    root = GenericTreeNode(rootData)\n",
    "    q.put(root)\n",
    "    \n",
    "    while not(q.empty()):\n",
    "        curr_node = q.get()\n",
    "        \n",
    "        print(\"enter number of children for \",curr_node.data)\n",
    "        numChildren = int(input())\n",
    "        \n",
    "        \n",
    "        if numChildren >0:\n",
    "            for i in range (numChildren):\n",
    "                print(\"Enter next child of \",curr_node.data)\n",
    "                childData = int(input())\n",
    "                child = GenericTreeNode(childData)\n",
    "                curr_node.children.append(child)\n",
    "                q.put(child)\n",
    "                \n",
    "    return root"
   ]
  },
  {
   "cell_type": "code",
   "execution_count": 7,
   "id": "de7b39da",
   "metadata": {},
   "outputs": [],
   "source": [
    "def maxSumNode(tree):\n",
    "    if tree == None:\n",
    "        return\n",
    "    \n",
    "    q=queue.Queue()\n",
    "    node1=tree\n",
    "    q.put(tree)\n",
    "    max_sum=-10000\n",
    "\n",
    "    while not(q.empty()):\n",
    "        curr_node = q.get()\n",
    "        x=0\n",
    "        for child in curr_node.children:\n",
    "            q.put(child)\n",
    "            x=x+child.data\n",
    "\n",
    "        if max_sum < x:\n",
    "            max_sum = x\n",
    "            node1=curr_node\n",
    "\n",
    "    return node1.data, max_sum"
   ]
  },
  {
   "cell_type": "code",
   "execution_count": 4,
   "id": "abf2fed2",
   "metadata": {},
   "outputs": [],
   "source": [
    "def printDetailedTree(tree):\n",
    "    if tree == None:\n",
    "        return\n",
    "    \n",
    "    print(tree.data,\":\",end=\" \")\n",
    "    \n",
    "    for child in tree.children:\n",
    "        print(child.data,\",\",end=\" \")\n",
    "        \n",
    "    print()\n",
    "    \n",
    "    for child in tree.children:\n",
    "        printDetailedTree(child)"
   ]
  },
  {
   "cell_type": "code",
   "execution_count": 8,
   "id": "00d64ddd",
   "metadata": {},
   "outputs": [
    {
     "name": "stdout",
     "output_type": "stream",
     "text": [
      "Enter root\n",
      "10\n",
      "enter number of children for  10\n",
      "3\n",
      "Enter next child of  10\n",
      "20\n",
      "Enter next child of  10\n",
      "30\n",
      "Enter next child of  10\n",
      "40\n",
      "enter number of children for  20\n",
      "0\n",
      "enter number of children for  30\n",
      "2\n",
      "Enter next child of  30\n",
      "50\n",
      "Enter next child of  30\n",
      "60\n",
      "enter number of children for  40\n",
      "0\n",
      "enter number of children for  50\n",
      "0\n",
      "enter number of children for  60\n",
      "0\n",
      "10 : 20 , 30 , 40 , \n",
      "20 : \n",
      "30 : 50 , 60 , \n",
      "50 : \n",
      "60 : \n",
      "40 : \n",
      "(30, 110)\n"
     ]
    }
   ],
   "source": [
    "tree = takeLevelwiseInput()\n",
    "printDetailedTree(tree)\n",
    "print(maxSumNode(tree))"
   ]
  },
  {
   "cell_type": "code",
   "execution_count": null,
   "id": "aa5e69c2",
   "metadata": {},
   "outputs": [],
   "source": []
  }
 ],
 "metadata": {
  "kernelspec": {
   "display_name": "Python 3 (ipykernel)",
   "language": "python",
   "name": "python3"
  },
  "language_info": {
   "codemirror_mode": {
    "name": "ipython",
    "version": 3
   },
   "file_extension": ".py",
   "mimetype": "text/x-python",
   "name": "python",
   "nbconvert_exporter": "python",
   "pygments_lexer": "ipython3",
   "version": "3.9.12"
  }
 },
 "nbformat": 4,
 "nbformat_minor": 5
}
