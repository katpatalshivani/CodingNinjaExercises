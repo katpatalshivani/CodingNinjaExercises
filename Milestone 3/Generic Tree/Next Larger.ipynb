{
 "cells": [
  {
   "cell_type": "code",
   "execution_count": 5,
   "id": "7c6efccb",
   "metadata": {},
   "outputs": [],
   "source": [
    "class GenericTreeNode:\n",
    "    def __init__(self,data):\n",
    "        self.data=data\n",
    "        self.children=[]\n",
    "        "
   ]
  },
  {
   "cell_type": "code",
   "execution_count": 6,
   "id": "6c9dd09a",
   "metadata": {},
   "outputs": [],
   "source": [
    "import queue\n",
    "def takeInputLevelwise():\n",
    "\n",
    "    q=queue.Queue()\n",
    "    print(\"enter root\")\n",
    "    rootData = int(input())\n",
    "    \n",
    "    if rootData == -1:\n",
    "        return None\n",
    "    \n",
    "    root = GenericTreeNode(rootData)\n",
    "    q.put(root)\n",
    "    \n",
    "    while not(q.empty()):\n",
    "        curr_node = q.get()\n",
    "        \n",
    "        print(\"Enter number of children of \",curr_node.data)\n",
    "        numChildren = int(input())\n",
    "        \n",
    "        if numChildren > 0:\n",
    "            for i in range(numChildren):\n",
    "                print(\"enter next child of \",curr_node.data)\n",
    "                childData=int(input())\n",
    "                child=GenericTreeNode(childData)\n",
    "                curr_node.children.append(child)\n",
    "                q.put(child)\n",
    "                \n",
    "    return root"
   ]
  },
  {
   "cell_type": "code",
   "execution_count": 7,
   "id": "aaee0eca",
   "metadata": {},
   "outputs": [],
   "source": [
    "import queue\n",
    "\n",
    "def nextLargest(tree, n):\n",
    "    if tree == None:\n",
    "        return\n",
    "    \n",
    "    if tree.data >n :\n",
    "        ans=tree\n",
    "        \n",
    "    else:\n",
    "        ans=None\n",
    "        \n",
    "    q=queue.Queue()\n",
    "    \n",
    "    q.put(tree)\n",
    "    \n",
    "    while not (q.empty()):\n",
    "        curr=q.get()\n",
    "        \n",
    "        for child in curr.children:\n",
    "            q.put(child)\n",
    "            \n",
    "            if child.data >n and (ans is None or child.data<ans):\n",
    "                ans = child.data\n",
    "                \n",
    "    return ans"
   ]
  },
  {
   "cell_type": "code",
   "execution_count": 8,
   "id": "464575bf",
   "metadata": {},
   "outputs": [
    {
     "name": "stdout",
     "output_type": "stream",
     "text": [
      "enter root\n",
      "10\n",
      "Enter number of children of  10\n",
      "2\n",
      "enter next child of  10\n",
      "30\n",
      "enter next child of  10\n",
      "20\n",
      "Enter number of children of  30\n",
      "0\n",
      "Enter number of children of  20\n",
      "1\n",
      "enter next child of  20\n",
      "15\n",
      "Enter number of children of  15\n",
      "0\n",
      "20\n"
     ]
    }
   ],
   "source": [
    "tree = takeInputLevelwise()\n",
    "print(nextLargest(tree, 18))"
   ]
  },
  {
   "cell_type": "code",
   "execution_count": null,
   "id": "2cc379c8",
   "metadata": {},
   "outputs": [],
   "source": []
  }
 ],
 "metadata": {
  "kernelspec": {
   "display_name": "Python 3 (ipykernel)",
   "language": "python",
   "name": "python3"
  },
  "language_info": {
   "codemirror_mode": {
    "name": "ipython",
    "version": 3
   },
   "file_extension": ".py",
   "mimetype": "text/x-python",
   "name": "python",
   "nbconvert_exporter": "python",
   "pygments_lexer": "ipython3",
   "version": "3.9.12"
  }
 },
 "nbformat": 4,
 "nbformat_minor": 5
}
