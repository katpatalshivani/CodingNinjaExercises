{
 "cells": [
  {
   "cell_type": "code",
   "execution_count": 13,
   "id": "121b8098",
   "metadata": {},
   "outputs": [],
   "source": [
    "class GenericTreeNode:\n",
    "    def __init__(self,data):\n",
    "        self.data=data\n",
    "        self.children=list()"
   ]
  },
  {
   "cell_type": "code",
   "execution_count": 17,
   "id": "c4993b09",
   "metadata": {},
   "outputs": [],
   "source": [
    "def printTree(root):\n",
    "    #not a base case its edge case\n",
    "    if root==None:\n",
    "        return\n",
    "    print(root.data)\n",
    "    for child in root.children:\n",
    "        printTree(child)\n",
    "  "
   ]
  },
  {
   "cell_type": "code",
   "execution_count": 18,
   "id": "fc99548a",
   "metadata": {},
   "outputs": [],
   "source": [
    "def printDetailedTree(root):\n",
    "    if root == None:\n",
    "        return\n",
    "    \n",
    "    print(root.data,\":\",end=\"\")\n",
    "    for child in root.children:\n",
    "        print(child.data,\",\",end=\"\")\n",
    "        \n",
    "    print()\n",
    "        \n",
    "        \n",
    "    for child in root.children:\n",
    "        printDetailedTree(child)"
   ]
  },
  {
   "cell_type": "code",
   "execution_count": 19,
   "id": "61504844",
   "metadata": {},
   "outputs": [
    {
     "name": "stdout",
     "output_type": "stream",
     "text": [
      "5\n",
      "2\n",
      "15\n",
      "1\n",
      "9\n",
      "8\n",
      "7\n",
      "5 :2 ,9 ,8 ,7 ,\n",
      "2 :15 ,1 ,\n",
      "15 :\n",
      "1 :\n",
      "9 :\n",
      "8 :\n",
      "7 :\n"
     ]
    }
   ],
   "source": [
    "n1=GenericTreeNode(5)\n",
    "n2=GenericTreeNode(2)\n",
    "n3=GenericTreeNode(9)\n",
    "n4=GenericTreeNode(8)\n",
    "n5=GenericTreeNode(7)\n",
    "n6=GenericTreeNode(15)\n",
    "n7=GenericTreeNode(1)\n",
    "\n",
    "n1.children.append(n2)\n",
    "n1.children.append(n3)\n",
    "n1.children.append(n4)\n",
    "n1.children.append(n5)\n",
    "\n",
    "n2.children.append(n6)\n",
    "n2.children.append(n7)\n",
    "\n",
    "printTree(n1)\n",
    "printDetailedTree(n1)"
   ]
  },
  {
   "cell_type": "code",
   "execution_count": null,
   "id": "ffaecae6",
   "metadata": {},
   "outputs": [],
   "source": []
  }
 ],
 "metadata": {
  "kernelspec": {
   "display_name": "Python 3 (ipykernel)",
   "language": "python",
   "name": "python3"
  },
  "language_info": {
   "codemirror_mode": {
    "name": "ipython",
    "version": 3
   },
   "file_extension": ".py",
   "mimetype": "text/x-python",
   "name": "python",
   "nbconvert_exporter": "python",
   "pygments_lexer": "ipython3",
   "version": "3.9.12"
  }
 },
 "nbformat": 4,
 "nbformat_minor": 5
}
