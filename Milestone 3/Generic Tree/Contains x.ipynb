{
 "cells": [
  {
   "cell_type": "code",
   "execution_count": 6,
   "id": "3966d3d1",
   "metadata": {},
   "outputs": [],
   "source": [
    "class GenericTreeNode:\n",
    "    def __init__(self,data):\n",
    "        self.data=data\n",
    "        self.children=[]\n",
    "        "
   ]
  },
  {
   "cell_type": "code",
   "execution_count": 7,
   "id": "4f16ea5f",
   "metadata": {},
   "outputs": [],
   "source": [
    "import queue\n",
    "def takeInputLevelwise():\n",
    "\n",
    "    q=queue.Queue()\n",
    "    print(\"enter root\")\n",
    "    rootData = int(input())\n",
    "    \n",
    "    if rootData == -1:\n",
    "        return None\n",
    "    \n",
    "    root = GenericTreeNode(rootData)\n",
    "    q.put(root)\n",
    "    \n",
    "    while not(q.empty()):\n",
    "        curr_node = q.get()\n",
    "        \n",
    "        print(\"Enter number of children of \",curr_node.data)\n",
    "        numChildren = int(input())\n",
    "        \n",
    "        if numChildren > 0:\n",
    "            for i in range(numChildren):\n",
    "                print(\"enter next child of \",curr_node.data)\n",
    "                childData=int(input())\n",
    "                child=GenericTreeNode(childData)\n",
    "                curr_node.children.append(child)\n",
    "                q.put(child)\n",
    "                \n",
    "    return root"
   ]
  },
  {
   "cell_type": "code",
   "execution_count": 8,
   "id": "fe4644c5",
   "metadata": {},
   "outputs": [],
   "source": [
    "def containsX(root, x):\n",
    "    #############################\n",
    "    # PLEASE ADD YOUR CODE HERE #\n",
    "    #############################\n",
    "    if root ==None:\n",
    "        return\n",
    "    \n",
    "    if root.data==x:\n",
    "        return True\n",
    "\n",
    "    \n",
    "    for child in root.children:\n",
    "        if containsX(child,x):\n",
    "            return True\n",
    "    return False\n",
    "    #pass"
   ]
  },
  {
   "cell_type": "code",
   "execution_count": 9,
   "id": "cf2238ae",
   "metadata": {},
   "outputs": [],
   "source": [
    "def printDetailedTree(root):\n",
    "    if root == None:\n",
    "        return\n",
    "    \n",
    "    print(root.data,\":\",end=\"\")\n",
    "    for child in root.children:\n",
    "        print(child.data,\",\",end=\"\")\n",
    "        \n",
    "    print()\n",
    "        \n",
    "        \n",
    "    for child in root.children:\n",
    "        printDetailedTree(child)"
   ]
  },
  {
   "cell_type": "code",
   "execution_count": 11,
   "id": "ab4102ae",
   "metadata": {},
   "outputs": [
    {
     "name": "stdout",
     "output_type": "stream",
     "text": [
      "enter root\n",
      "1\n",
      "Enter number of children of  1\n",
      "1\n",
      "enter next child of  1\n",
      "2\n",
      "Enter number of children of  2\n",
      "1\n",
      "enter next child of  2\n",
      "3\n",
      "Enter number of children of  3\n",
      "1\n",
      "enter next child of  3\n",
      "4\n",
      "Enter number of children of  4\n",
      "1\n",
      "enter next child of  4\n",
      "5\n",
      "Enter number of children of  5\n",
      "0\n",
      "1 :2 ,\n",
      "2 :3 ,\n",
      "3 :4 ,\n",
      "4 :5 ,\n",
      "5 :\n",
      "False\n"
     ]
    }
   ],
   "source": [
    "root=takeInputLevelwise()\n",
    "printDetailedTree(root)\n",
    "print(containsX(root, 11))"
   ]
  },
  {
   "cell_type": "code",
   "execution_count": null,
   "id": "f8877c1f",
   "metadata": {},
   "outputs": [],
   "source": []
  }
 ],
 "metadata": {
  "kernelspec": {
   "display_name": "Python 3 (ipykernel)",
   "language": "python",
   "name": "python3"
  },
  "language_info": {
   "codemirror_mode": {
    "name": "ipython",
    "version": 3
   },
   "file_extension": ".py",
   "mimetype": "text/x-python",
   "name": "python",
   "nbconvert_exporter": "python",
   "pygments_lexer": "ipython3",
   "version": "3.9.12"
  }
 },
 "nbformat": 4,
 "nbformat_minor": 5
}
