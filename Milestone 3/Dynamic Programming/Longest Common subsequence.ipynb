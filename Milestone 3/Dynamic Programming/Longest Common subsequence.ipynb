{
 "cells": [
  {
   "cell_type": "code",
   "execution_count": 1,
   "id": "f3e8eb44",
   "metadata": {},
   "outputs": [
    {
     "name": "stdout",
     "output_type": "stream",
     "text": [
      "3\n"
     ]
    }
   ],
   "source": [
    "\n",
    "from sys import stdin\n",
    "\n",
    "def lcs(s, t,i,j,dp):\n",
    "\tif i == len(s) or j==len(t):\n",
    "\t\treturn 0\n",
    "\n",
    "\n",
    "\tif s[i]==t[j]:\n",
    "\t\tif dp[i+1][j+1]==-1:\n",
    "\t\t\tSmallAns=lcs(s,t,i+1,j+1,dp)\n",
    "\t\t\tdp[i+1][j+1] = SmallAns\n",
    "\t\t\tans = 1+SmallAns\n",
    "\n",
    "\t\telse:\n",
    "\t\t\tans = 1+dp[i+1][j+1]\n",
    "\n",
    "\telse:\n",
    "\t\tif dp[i+1][j]==-1:\n",
    "\t\t\tans1 = lcs(s,t,i+1,j,dp)\n",
    "\t\t\tdp[i+1][j]=ans1\t\n",
    "\t\telse:\n",
    "\t\t\tans1=dp[i+1][j]\n",
    "\n",
    "\t\tif dp[i][j+1]==-1:\n",
    "\t\t\tans2 = lcs(s,t,i,j+1,dp)\n",
    "\t\t\tdp[i][j+1]=ans2\n",
    "\t\telse:\n",
    "\t\t\tans2=dp[i][j+1]\n",
    "\t\tans = max(ans1,ans2)\n",
    "\t\n",
    "\t\n",
    "\t\t\t\n",
    "\treturn ans\n",
    "\n",
    "\n",
    "#main\n",
    "s = \"adebc\"\n",
    "t = \"dcadb\"\n",
    "n = len(s)\n",
    "m = len(t)\n",
    "dp = [[-1 for j in range(m+1)] for i in range(n+1)]\n",
    "print(lcs(s, t,0,0,dp))"
   ]
  },
  {
   "cell_type": "code",
   "execution_count": 14,
   "id": "6b91c337",
   "metadata": {},
   "outputs": [
    {
     "name": "stdout",
     "output_type": "stream",
     "text": [
      "3\n"
     ]
    }
   ],
   "source": [
    "#LCS Iterative Solution\n",
    "\n",
    "def LCSiterative(s,t):\n",
    "    \n",
    "    n=len(s)\n",
    "    m=len(t)\n",
    "    \n",
    "    dp=[[0 for j in range(m+1)] for i in range(n+1)]\n",
    "    \n",
    "    for i in range(n-1,-1,-1):\n",
    "        for j in range(m-1,-1,-1):\n",
    "            \n",
    "            if s[i] == t[j]:\n",
    "                dp[i][j] = 1+dp[i+1][j+1]\n",
    "                \n",
    "            else:\n",
    "                dp[i][j] = max(dp[i+1][j],dp[i][j+1])\n",
    "        \n",
    "    return dp[0][0]\n",
    "        \n",
    "        \n",
    "\n",
    "\n",
    "\n",
    "\n",
    "s = \"adebc\"\n",
    "t = \"dcadb\"\n",
    "\n",
    "print(LCSiterative(s, t))"
   ]
  },
  {
   "cell_type": "code",
   "execution_count": null,
   "id": "e86595e1",
   "metadata": {},
   "outputs": [],
   "source": []
  }
 ],
 "metadata": {
  "kernelspec": {
   "display_name": "Python 3 (ipykernel)",
   "language": "python",
   "name": "python3"
  },
  "language_info": {
   "codemirror_mode": {
    "name": "ipython",
    "version": 3
   },
   "file_extension": ".py",
   "mimetype": "text/x-python",
   "name": "python",
   "nbconvert_exporter": "python",
   "pygments_lexer": "ipython3",
   "version": "3.9.12"
  }
 },
 "nbformat": 4,
 "nbformat_minor": 5
}
