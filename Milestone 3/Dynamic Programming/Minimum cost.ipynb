{
 "cells": [
  {
   "cell_type": "code",
   "execution_count": 9,
   "id": "dbf98a43",
   "metadata": {},
   "outputs": [
    {
     "name": "stdout",
     "output_type": "stream",
     "text": [
      "9\n"
     ]
    }
   ],
   "source": [
    "\n",
    "# recursive without memoization\n",
    "import sys\n",
    "from sys import stdin\n",
    "\n",
    "def mincostPathHelper(input,mRows,nCols,currRow,currCol):\n",
    "    \n",
    "    \n",
    "    if currRow >= mRows or currCol >=nCols:\n",
    "        return sys.maxsize\n",
    "    \n",
    "    if currRow == (mRows-1) or currCol == (nCols - 1) :\n",
    "        return input[currRow][currCol]\n",
    "    \n",
    "    \n",
    "    downCost = mincostPathHelper(input, mRows,nCols,currRow+1,currCol)\n",
    "    leftCost = mincostPathHelper(input, mRows, nCols, currRow, (currCol + 1))\n",
    "    diagonalCost = mincostPathHelper(input, mRows,nCols,currRow+1,currCol+1)\n",
    "    \n",
    "    return input[currRow][currCol] + min(diagonalCost, downCost, leftCost)\n",
    "    \n",
    "    \n",
    "\n",
    "def minCostPath(input, mRows, nCols) :\n",
    "    if mRows == 0:\n",
    "        return \n",
    "    \n",
    "    return mincostPathHelper(input,mRows,nCols,0,0)\n",
    "\n",
    "def take2DInput() :\n",
    "    li =[3,4] #stdin.readline().rstrip().split(\" \")\n",
    "    mRows = int(li[0])\n",
    "    nCols = int(li[1])\n",
    "    \n",
    "    if mRows == 0 :\n",
    "        return list(), 0, 0\n",
    "    \n",
    "    mat = [[3,4,1,2], [2,1,8,9],[4,7,8,1]]\n",
    "    return mat, mRows, nCols\n",
    "\n",
    "\n",
    "#main\n",
    "mat, mRows, nCols = take2DInput()\n",
    "print(minCostPath(mat, mRows, nCols))"
   ]
  },
  {
   "cell_type": "code",
   "execution_count": 19,
   "id": "51c2ca6a",
   "metadata": {},
   "outputs": [
    {
     "name": "stdout",
     "output_type": "stream",
     "text": [
      "30\n"
     ]
    }
   ],
   "source": [
    "#Iterative solution\n",
    "import sys\n",
    "\n",
    "def minCostPath(cost,nRows,mCols):\n",
    "    \n",
    "    dp = [ [sys.maxsize for j in range (mCols+1)] for i in range(nRows+1)]\n",
    "    \n",
    "    for i in range(nRows-1,-1,-1):\n",
    "        for j in range(mCols-1,-1,-1):\n",
    "            if i == nRows-1 and j == mCols-1:\n",
    "                dp[i][j] = cost[i][j]\n",
    "                \n",
    "            else:\n",
    "                downcost = dp[i+1][j]\n",
    "                leftcost = dp[i][j+1]\n",
    "                diagonalcost = dp[i+1][j+1]\n",
    "                \n",
    "                dp[i][j] = cost[i][j] + min(downcost , leftcost , diagonalcost) \n",
    "                \n",
    "    return dp[0][0]    \n",
    "\n",
    "\n",
    "cost = [[1,5,11],[8,13,12],[2,3,7],[15,16,18]]\n",
    "nRows = 4\n",
    "mCols = 3\n",
    "ans = minCostPath(cost,nRows,mCols)\n",
    "print(ans)\n",
    "\n"
   ]
  },
  {
   "cell_type": "code",
   "execution_count": null,
   "id": "f1fa764e",
   "metadata": {},
   "outputs": [],
   "source": []
  }
 ],
 "metadata": {
  "kernelspec": {
   "display_name": "Python 3 (ipykernel)",
   "language": "python",
   "name": "python3"
  },
  "language_info": {
   "codemirror_mode": {
    "name": "ipython",
    "version": 3
   },
   "file_extension": ".py",
   "mimetype": "text/x-python",
   "name": "python",
   "nbconvert_exporter": "python",
   "pygments_lexer": "ipython3",
   "version": "3.9.12"
  }
 },
 "nbformat": 4,
 "nbformat_minor": 5
}
