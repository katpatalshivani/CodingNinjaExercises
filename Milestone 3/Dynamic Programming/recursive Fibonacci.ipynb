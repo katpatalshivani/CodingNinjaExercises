{
 "cells": [
  {
   "cell_type": "code",
   "execution_count": 2,
   "id": "6a0bea3b",
   "metadata": {},
   "outputs": [
    {
     "name": "stdout",
     "output_type": "stream",
     "text": [
      "5\n"
     ]
    }
   ],
   "source": [
    "def fibo(n,dp):\n",
    "    if n==0 or n==1:\n",
    "        return n\n",
    "    \n",
    "    if dp[n-1] == -1:\n",
    "        ans1 = fibo(n-1,dp)\n",
    "        dp[n-1] = ans1\n",
    "        \n",
    "    else:\n",
    "        ans1=dp[n-1]\n",
    "        \n",
    "    if dp[n-2] == -1:\n",
    "        ans2 = fibo(n-2,dp)\n",
    "        dp[n-2] = ans2\n",
    "        \n",
    "    else:\n",
    "        ans2=dp[n-2]\n",
    "        \n",
    "    return ans1+ans2\n",
    "        \n",
    "        \n",
    "    \n",
    "    \n",
    "    \n",
    "    \n",
    "    \n",
    "n=5\n",
    "dp = [-1 for i in range (n+1)]\n",
    "print(fibo(n,dp))\n"
   ]
  },
  {
   "cell_type": "code",
   "execution_count": null,
   "id": "6b379cf9",
   "metadata": {},
   "outputs": [],
   "source": []
  }
 ],
 "metadata": {
  "kernelspec": {
   "display_name": "Python 3 (ipykernel)",
   "language": "python",
   "name": "python3"
  },
  "language_info": {
   "codemirror_mode": {
    "name": "ipython",
    "version": 3
   },
   "file_extension": ".py",
   "mimetype": "text/x-python",
   "name": "python",
   "nbconvert_exporter": "python",
   "pygments_lexer": "ipython3",
   "version": "3.9.12"
  }
 },
 "nbformat": 4,
 "nbformat_minor": 5
}
