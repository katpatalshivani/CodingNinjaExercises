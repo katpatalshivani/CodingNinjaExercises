{
 "cells": [
  {
   "cell_type": "code",
   "execution_count": 10,
   "id": "c086f88f",
   "metadata": {},
   "outputs": [
    {
     "name": "stdout",
     "output_type": "stream",
     "text": [
      "3\n"
     ]
    }
   ],
   "source": [
    "from sys import stdin\n",
    "\n",
    "def lis(arr,i,n): \n",
    "    # Write your code here\n",
    "    \n",
    "    \n",
    "    if i==n:\n",
    "        return 0,0\n",
    "\n",
    "    including_max=1\n",
    "    \n",
    "    for j in range(i+1,n):\n",
    "        \n",
    "        if arr[j] >= arr[i]:\n",
    "            further_including_max = lis(arr,j,n)[0]\n",
    "            including_max = max(including_max, 1+further_including_max)\n",
    "            \n",
    "        excluding_max = lis(arr,i+1,n)[1]\n",
    "        overall_max=max(including_max,excluding_max)\n",
    "        return including_max,overall_max\n",
    "            \n",
    "        \n",
    "\n",
    "n=6\n",
    "i=0\n",
    "arr=[5,4,11,1,16,8]\n",
    "ans=lis(arr,i,n)[1]\n",
    "print(ans)"
   ]
  },
  {
   "cell_type": "code",
   "execution_count": null,
   "id": "8d74f48c",
   "metadata": {},
   "outputs": [],
   "source": [
    "rom sys import stdin,setrecursionlimit\n",
    "setrecursionlimit(10**7)\n",
    "INT_MIN=-10000000000\n",
    "\n",
    "'''\n",
    "Binary search to find\n",
    "the ceilIndex\n",
    "'''\n",
    "def ceilIndex(dp, l, r, key):\n",
    "\n",
    "while (r - l > 1):\n",
    "\n",
    "m = l + (r - l)//2\n",
    "if (dp[m] >= key):\n",
    "r = m\n",
    "else:\n",
    "l = m\n",
    "return r\n",
    "\n",
    "def longestIncreasingSubsequence(arr, n) :\n",
    "\n",
    "# Creating dp list of size n + 1\n",
    "dp = [0 for i in range(n + 1)]\n",
    "\n",
    "\n",
    "dp[0] = arr[0]\n",
    "# As Subsequence of length 1 is always considered\n",
    "len = 1\n",
    "for i in range(1, n):\n",
    "\n",
    "if (arr[i] < dp[0]):\n",
    "\n",
    "# new smallest value\n",
    "dp[0] = arr[i]\n",
    "\n",
    "elif (arr[i] > dp[len-1]):\n",
    "\n",
    "# arr[i] wants to extend\n",
    "# largest subsequence\n",
    "dp[len] = arr[i]\n",
    "len+= 1\n",
    "\n",
    "else:\n",
    "# arr[i] wants to be current\n",
    "# end candidate of an existing\n",
    "# subsequence. It will replace\n",
    "# ceil value in tailTable\n",
    "dp[ceilIndex(dp, -1, len-1, arr[i])] = arr[i]\n",
    "\n",
    "\n",
    "return len hashtag#taking inpit using fast I/O\n",
    "def takeInput() :\n",
    "n = int(input())\n",
    "\n",
    "if n==0 :\n",
    "return list(), n\n",
    "\n",
    "arr = list(map(int, stdin.readline().strip().split(\" \")))\n",
    "\n",
    "return arr, n hashtag#main arr, n = takeInput()\n",
    "print(longestIncreasingSubsequence(arr, n))"
   ]
  },
  {
   "cell_type": "code",
   "execution_count": 13,
   "id": "7488432d",
   "metadata": {},
   "outputs": [
    {
     "name": "stdout",
     "output_type": "stream",
     "text": [
      "0\n"
     ]
    }
   ],
   "source": [
    "#Iterative\n",
    "def lis(li,n):\n",
    "    dp =[[0 for j in range(2)] for i in range(n+1)]\n",
    "    \n",
    "    for i in range(n-1,-1,-1):\n",
    "        including_max = 1\n",
    "        for j in range(i+1, n):\n",
    "            if li[j] > li[i]:\n",
    "                including_max = max(including_max,i+dp[j][0])\n",
    "        dp[i][0] = including_max\n",
    "        excluding_max = dp[i+1][1]\n",
    "        overallMax = max(including_max,excluding_max)\n",
    "        \n",
    "        \n",
    "    return dp[0][1]\n",
    "\n",
    "n=6\n",
    "\n",
    "arr=[5,4,11,1,16,8]\n",
    "ans=lis(arr,n)\n",
    "print(ans)"
   ]
  },
  {
   "cell_type": "code",
   "execution_count": 18,
   "id": "743cde85",
   "metadata": {},
   "outputs": [
    {
     "name": "stdout",
     "output_type": "stream",
     "text": [
      "3\n"
     ]
    }
   ],
   "source": [
    "#Memoization\n",
    "from sys import stdin\n",
    "\n",
    "def lis(arr,i,n,dp): \n",
    "    # Write your code here\n",
    "    \n",
    "    \n",
    "    if i==n:\n",
    "        return 0,0\n",
    "\n",
    "    including_max=1\n",
    "    \n",
    "    for j in range(i+1,n):\n",
    "              \n",
    "        if arr[j] >= arr[i]:\n",
    "            if dp[j]==-1:\n",
    "                ans=lis(arr,j,n,dp)\n",
    "                dp[j]=ans\n",
    "                further_including_max = ans[0]\n",
    "            else:\n",
    "                further_including_max =dp[j][0]\n",
    "            including_max = max(including_max, 1+further_including_max)\n",
    "            \n",
    "    if dp[i+1]==-1:\n",
    "        ans = lis(arr,i+1,n,dp)\n",
    "        dp[i+1] = ans\n",
    "        excluding_max = ans[1]\n",
    "    else:\n",
    "        excluding_max = dp[i+1][1]\n",
    "    overall_max=max(including_max,excluding_max)\n",
    "    \n",
    "    return including_max,overall_max\n",
    "            \n",
    "        \n",
    "\n",
    "n=6\n",
    "i=0\n",
    "arr=[5,4,11,1,16,8]\n",
    "dp = [-1 for i in range(n+1)]\n",
    "ans=lis(arr,i,n,dp)[1]\n",
    "print(ans)\n"
   ]
  },
  {
   "cell_type": "code",
   "execution_count": null,
   "id": "bdbd9ef8",
   "metadata": {},
   "outputs": [],
   "source": []
  }
 ],
 "metadata": {
  "kernelspec": {
   "display_name": "Python 3 (ipykernel)",
   "language": "python",
   "name": "python3"
  },
  "language_info": {
   "codemirror_mode": {
    "name": "ipython",
    "version": 3
   },
   "file_extension": ".py",
   "mimetype": "text/x-python",
   "name": "python",
   "nbconvert_exporter": "python",
   "pygments_lexer": "ipython3",
   "version": "3.9.12"
  }
 },
 "nbformat": 4,
 "nbformat_minor": 5
}
