{
 "cells": [
  {
   "cell_type": "code",
   "execution_count": 10,
   "id": "00cbcf12",
   "metadata": {},
   "outputs": [
    {
     "name": "stdout",
     "output_type": "stream",
     "text": [
      "100\n",
      "1\n"
     ]
    }
   ],
   "source": [
    "#### Recursive approach\n",
    "\n",
    "import sys\n",
    "import math\n",
    "def minStepsTo1(n,dp):\n",
    "    #Implement Your Code Here\n",
    "    \n",
    "    if n==0:\n",
    "        return 0\n",
    "    \n",
    "    ans = sys.maxsize\n",
    "    root = int(math.sqrt(n))\n",
    "    \n",
    "    \n",
    "    for i in range(1,root+1):\n",
    "        \n",
    "        checkValue = n-i**2\n",
    "        \n",
    "        if dp[checkValue] == -1:\n",
    "            smallAns = minStepsTo1(checkValue,dp)\n",
    "            dp[checkValue]= smallAns\n",
    "            currAns = 1+smallAns\n",
    "            \n",
    "        else:\n",
    "            currAns=1+dp[checkValue]\n",
    "        ans=min(ans,currAns)\n",
    "        \n",
    "    return ans\n",
    "    \n",
    "\n",
    "        \n",
    "\n",
    "    \n",
    "n = int(input())\n",
    "dp = [-1 for i in range(n)]\n",
    "ans = minStepsTo1(n,dp)\n",
    "print(ans)\n",
    " "
   ]
  },
  {
   "cell_type": "code",
   "execution_count": null,
   "id": "2274dcec",
   "metadata": {},
   "outputs": [],
   "source": []
  },
  {
   "cell_type": "code",
   "execution_count": 18,
   "id": "9dac2492",
   "metadata": {},
   "outputs": [
    {
     "name": "stdout",
     "output_type": "stream",
     "text": [
      "11\n",
      "3\n"
     ]
    }
   ],
   "source": [
    "#Iterative Approach\n",
    "\n",
    "import sys\n",
    "import math\n",
    "def minStepsTo1(n):\n",
    "    #Implement Your Code Here\n",
    "    dp = [-1 for i in range(n+1)]\n",
    "    dp[0]=0\n",
    "    \n",
    "    for i in range(1,n+1):\n",
    "        ans = sys.maxsize\n",
    "        root = int(math.sqrt(i))\n",
    "        \n",
    "        for j in range(1,root+1):\n",
    "            currAns = 1 + dp[i-(j**2)]\n",
    "            ans=min(ans,currAns)\n",
    "            \n",
    "        dp[i]=ans\n",
    "            \n",
    "    return dp[n]\n",
    "   \n",
    "    \n",
    "\n",
    "        \n",
    "\n",
    "    \n",
    "n = int(input())\n",
    "#dp = [-1 for i in range(n)]\n",
    "ans = minStepsTo1(n)\n",
    "print(ans)\n",
    " \n"
   ]
  },
  {
   "cell_type": "code",
   "execution_count": null,
   "id": "22dd3e56",
   "metadata": {},
   "outputs": [],
   "source": []
  }
 ],
 "metadata": {
  "kernelspec": {
   "display_name": "Python 3 (ipykernel)",
   "language": "python",
   "name": "python3"
  },
  "language_info": {
   "codemirror_mode": {
    "name": "ipython",
    "version": 3
   },
   "file_extension": ".py",
   "mimetype": "text/x-python",
   "name": "python",
   "nbconvert_exporter": "python",
   "pygments_lexer": "ipython3",
   "version": "3.9.12"
  }
 },
 "nbformat": 4,
 "nbformat_minor": 5
}
