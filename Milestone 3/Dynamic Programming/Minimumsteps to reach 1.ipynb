{
 "cells": [
  {
   "cell_type": "code",
   "execution_count": 6,
   "id": "340294c2",
   "metadata": {},
   "outputs": [
    {
     "data": {
      "text/plain": [
       "'\\n\\n#Basic approach\\nfrom sys import stdin\\nfrom sys import maxsize as MAX_VALUE\\n\\n\\n\\ndef countMinStepsToOne(n,dp) :\\n    if n==1:\\n        return 0\\n    \\n    ans1 = countMinStepsToOne(n-1)\\n    \\n    ans2=n\\n    \\n    if n%2 == 0:\\n        ans2=countMinStepsToOne(n//2)\\n        \\n    ans3=n\\n    \\n    if n%3 == 0:\\n        ans3=countMinStepsToOne(n//3)\\n        \\n    ans = 1+ min(ans1,ans2,ans3)\\n    \\n    return ans\\n\\n\\n\\n#main\\nn = 7\\nprint(countMinStepsToOne(n))\\n'"
      ]
     },
     "execution_count": 6,
     "metadata": {},
     "output_type": "execute_result"
    }
   ],
   "source": [
    "'''\n",
    "\n",
    "#Basic approach\n",
    "from sys import stdin\n",
    "from sys import maxsize as MAX_VALUE\n",
    "\n",
    "\n",
    "\n",
    "def countMinStepsToOne(n,dp) :\n",
    "    if n==1:\n",
    "        return 0\n",
    "    \n",
    "    ans1 = countMinStepsToOne(n-1)\n",
    "    \n",
    "    ans2=n\n",
    "    \n",
    "    if n%2 == 0:\n",
    "        ans2=countMinStepsToOne(n//2)\n",
    "        \n",
    "    ans3=n\n",
    "    \n",
    "    if n%3 == 0:\n",
    "        ans3=countMinStepsToOne(n//3)\n",
    "        \n",
    "    ans = 1+ min(ans1,ans2,ans3)\n",
    "    \n",
    "    return ans\n",
    "\n",
    "\n",
    "\n",
    "#main\n",
    "n = 7\n",
    "print(countMinStepsToOne(n))\n",
    "'''"
   ]
  },
  {
   "cell_type": "code",
   "execution_count": 10,
   "id": "70f86e41",
   "metadata": {},
   "outputs": [
    {
     "name": "stdout",
     "output_type": "stream",
     "text": [
      "3\n"
     ]
    }
   ],
   "source": [
    "#Recursive solution combined with DP\n",
    "\n",
    "\n",
    "\n",
    "#Basic approach\n",
    "import sys\n",
    "from sys import stdin\n",
    "from sys import maxsize as MAX_VALUE\n",
    "\n",
    "\n",
    "\n",
    "def countMinStepsToOne(n,dp) :\n",
    "    if n==1:\n",
    "        return 0\n",
    "    \n",
    "    ans1 = sys.maxsize\n",
    "    \n",
    "    if n%3 == 0:\n",
    "        if dp[n//3]==-1:\n",
    "            ans1=countMinStepsToOne(n//3,dp)\n",
    "            dp[n//3] = ans1\n",
    "            \n",
    "        else:\n",
    "            ans1=dp[n//3]\n",
    "            \n",
    "    \n",
    "    ans2 = sys.maxsize\n",
    "    \n",
    "    if n%3 == 0:\n",
    "        if dp[n//2]==-1:\n",
    "            ans2=countMinStepsToOne(n//2,dp)\n",
    "            dp[n//2] = ans2\n",
    "            \n",
    "        else:\n",
    "            ans2=dp[n//2]\n",
    "    \n",
    "    if dp[n-1] == -1:\n",
    "        ans3 = countMinStepsToOne(n-1,dp)\n",
    "        dp[n-1]=ans3\n",
    "    else:\n",
    "        ans3 = dp[n-1]\n",
    "    \n",
    "    \n",
    "    ans = 1+ min(ans1,ans2,ans3)\n",
    "    \n",
    "    return ans\n",
    "\n",
    "\n",
    "\n",
    "#main\n",
    "n = 7\n",
    "dp = [-1 for i in range(n+1)]\n",
    "print(countMinStepsToOne(n,dp))"
   ]
  },
  {
   "cell_type": "code",
   "execution_count": null,
   "id": "b1529270",
   "metadata": {},
   "outputs": [],
   "source": []
  },
  {
   "cell_type": "code",
   "execution_count": null,
   "id": "05cd1b17",
   "metadata": {},
   "outputs": [],
   "source": []
  }
 ],
 "metadata": {
  "kernelspec": {
   "display_name": "Python 3 (ipykernel)",
   "language": "python",
   "name": "python3"
  },
  "language_info": {
   "codemirror_mode": {
    "name": "ipython",
    "version": 3
   },
   "file_extension": ".py",
   "mimetype": "text/x-python",
   "name": "python",
   "nbconvert_exporter": "python",
   "pygments_lexer": "ipython3",
   "version": "3.9.12"
  }
 },
 "nbformat": 4,
 "nbformat_minor": 5
}
