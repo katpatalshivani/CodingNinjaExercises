{
 "cells": [
  {
   "cell_type": "code",
   "execution_count": 4,
   "id": "0600459f",
   "metadata": {},
   "outputs": [
    {
     "name": "stdout",
     "output_type": "stream",
     "text": [
      "51\n"
     ]
    }
   ],
   "source": [
    "#Recursive approach\n",
    "def knapsack (n,wt,val,maxW,i):\n",
    "    if i == n:\n",
    "        return 0\n",
    "    \n",
    "    if wt[i]<=maxW:\n",
    "        ans1= knapsack(n,wt,val,maxW,i+1)\n",
    "        ans2= val[i] + knapsack(n,wt,val,maxW - wt[i],i+1)\n",
    "        ans = max(ans1,ans2)\n",
    "        \n",
    "    else:\n",
    "        ans = knapsack(n,wt,val,maxW,i+1)\n",
    "    return ans\n",
    "\n",
    "\n",
    "n=5\n",
    "wt = [12, 7, 11, 8, 9]\n",
    "val =[24, 13, 23, 15, 16]\n",
    "maxW = 26\n",
    "\n",
    "print(knapsack (n,wt,val,maxW,0))\n",
    "\n"
   ]
  },
  {
   "cell_type": "code",
   "execution_count": 6,
   "id": "8330c4ed",
   "metadata": {},
   "outputs": [
    {
     "name": "stdout",
     "output_type": "stream",
     "text": [
      "51\n"
     ]
    }
   ],
   "source": [
    "#Iterative\n",
    "\n",
    "from sys import stdin\n",
    "\n",
    "def knapsack(weights, values, n, maxWeight) :\n",
    "    if (n == 0) or (maxWeight == 0) :\n",
    "        return 0\n",
    "\n",
    "    if weights[n - 1] > maxWeight :\n",
    "        return knapsack(weights, values, n - 1, maxWeight)\n",
    "\n",
    "    includeItem = values[n - 1] + knapsack(weights, values, n - 1, maxWeight - weights[n - 1])\n",
    "\n",
    "    excludeItem = knapsack(weights, values, n - 1, maxWeight)\n",
    "\n",
    "    return max(includeItem, excludeItem)\n",
    "\n",
    "n=5\n",
    "weights = [12, 7, 11, 8, 9]\n",
    "values =[24, 13, 23, 15, 16]\n",
    "maxWeight = 26\n",
    "\n",
    "print(knapsack(weights, values, n, maxWeight))\n"
   ]
  },
  {
   "cell_type": "code",
   "execution_count": null,
   "id": "7e3fd106",
   "metadata": {},
   "outputs": [],
   "source": []
  }
 ],
 "metadata": {
  "kernelspec": {
   "display_name": "Python 3 (ipykernel)",
   "language": "python",
   "name": "python3"
  },
  "language_info": {
   "codemirror_mode": {
    "name": "ipython",
    "version": 3
   },
   "file_extension": ".py",
   "mimetype": "text/x-python",
   "name": "python",
   "nbconvert_exporter": "python",
   "pygments_lexer": "ipython3",
   "version": "3.9.12"
  }
 },
 "nbformat": 4,
 "nbformat_minor": 5
}
