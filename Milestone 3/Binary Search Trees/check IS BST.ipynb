{
 "cells": [
  {
   "cell_type": "code",
   "execution_count": 40,
   "id": "8a145443",
   "metadata": {},
   "outputs": [],
   "source": [
    "class BinaryTreeNode:\n",
    "    def __init__(self,data):\n",
    "        self.data=data\n",
    "        self.left=None\n",
    "        self.right=None\n",
    "        "
   ]
  },
  {
   "cell_type": "code",
   "execution_count": 41,
   "id": "db0e4e23",
   "metadata": {},
   "outputs": [],
   "source": [
    "import queue\n",
    "\n",
    "def takeLevelWiseInput():\n",
    "    q=queue.Queue()\n",
    "    print(\"Enter root\")\n",
    "    rootData=int(input())\n",
    "    \n",
    "    if rootData==-1:\n",
    "        return None\n",
    "    \n",
    "    root=BinaryTreeNode(rootData)\n",
    "    q.put(root)\n",
    "    \n",
    "    while (not(q.empty())):\n",
    "        current_node=q.get()\n",
    "        print(\"Enter left child of\", current_node.data)\n",
    "        leftchildData=int(input())\n",
    "        \n",
    "        if leftchildData!=-1:\n",
    "            leftchild=BinaryTreeNode(leftchildData)\n",
    "            current_node.left=leftchild\n",
    "            q.put(leftchild)\n",
    "            \n",
    "        print(\"Enter right child of \",current_node.data)\n",
    "        rightchildData=int(input())\n",
    "        \n",
    "        if rightchildData!=-1:\n",
    "            rightchild=BinaryTreeNode(rightchildData)\n",
    "            current_node.right=rightchild\n",
    "            q.put(rightchild)\n",
    "            \n",
    "    return root\n",
    "    \n",
    "    \n",
    "    \n",
    "    \n",
    "    "
   ]
  },
  {
   "cell_type": "code",
   "execution_count": 42,
   "id": "2e51d209",
   "metadata": {},
   "outputs": [],
   "source": [
    "import queue\n",
    "def printDetailedTree(root):\n",
    "    q=queue.Queue()\n",
    "    q.put(root)\n",
    "    while not(q.empty()):\n",
    "        curr=q.get()\n",
    "        # lc=printLevelWise(root.left)\n",
    "        # rc=printLevelWise(root.right)\n",
    "        print(curr.data,end=\":\")\n",
    "        if(curr.left!=None):\n",
    "            q.put(curr.left)\n",
    "            print(\"L:\",end=\"\")\n",
    "            print(curr.left.data,end=\"\")\n",
    "        else:\n",
    "            print(\"L:\",end=\"\")\n",
    "            print(\"-1\",end=\"\")\n",
    "        if(curr.right!=None):\n",
    "            q.put(curr.right)\n",
    "            print(\",R:\",end=\"\")\n",
    "            print(curr.right.data)\n",
    "        else:\n",
    "            print(\",R:-1\")\n",
    "        \n",
    "        \n",
    "    \n",
    "    "
   ]
  },
  {
   "cell_type": "code",
   "execution_count": 43,
   "id": "6b0b9230",
   "metadata": {},
   "outputs": [],
   "source": [
    "def minTree(root):\n",
    "    if root == None:\n",
    "        return 10000\n",
    "    \n",
    "    leftMin = minTree(root.left)\n",
    "    rightMin = minTree(root.right)\n",
    "    \n",
    "    return min(leftMin, rightMin, root.data)"
   ]
  },
  {
   "cell_type": "code",
   "execution_count": 44,
   "id": "621278e8",
   "metadata": {},
   "outputs": [],
   "source": [
    "def maxTree(root):\n",
    "    if root == None:\n",
    "        return -10000\n",
    "    \n",
    "    leftMax = maxTree(root.left)\n",
    "    rightMax = maxTree(root.right)\n",
    "    \n",
    "    return min(leftMax, rightMax, root.data)"
   ]
  },
  {
   "cell_type": "code",
   "execution_count": 45,
   "id": "5af87ec5",
   "metadata": {},
   "outputs": [],
   "source": [
    "def checkIsBST(root):\n",
    "    if root == None:\n",
    "        return True\n",
    "    \n",
    "    leftMax = maxTree(root.left)\n",
    "    rightMin = minTree(root.right)\n",
    "    \n",
    "    if root.data < leftMax or root.data > rightMin:\n",
    "        return False\n",
    "    \n",
    "    return checkIsBST(root.left) and checkIsBST(root.right)\n",
    "    "
   ]
  },
  {
   "cell_type": "code",
   "execution_count": 46,
   "id": "d8f9193a",
   "metadata": {},
   "outputs": [],
   "source": [
    "#to approach time complexity\n",
    "\n",
    "def checkIfBSTmethod2(root):\n",
    "    if root == None:\n",
    "        return 1000000,-1000000,True\n",
    "        \n",
    "    leftMin,leftMax,isLeftBST = checkIfBSTmethod2(root.left)\n",
    "    rightMin,rightMax,isrightBST = checkIfBSTmethod2(root.right)\n",
    "    \n",
    "    mini=min(leftMin,rightMin,root.data)\n",
    "    maxi=max(leftMax,rightMax,root.data)\n",
    "    isBST = True\n",
    "    \n",
    "    if root.data<=leftMax or root.data > rightMin:\n",
    "        isBST = False\n",
    "        \n",
    "    if not(isLeftBST) or not(isrightBST):\n",
    "        isBST=False\n",
    "        \n",
    "    return mini,maxi,isBST"
   ]
  },
  {
   "cell_type": "code",
   "execution_count": null,
   "id": "4b7b790b",
   "metadata": {},
   "outputs": [],
   "source": [
    "#to approach time complexity\n",
    "\n",
    "def checkIfBSTmethod3(root,min_range,max_range):\n",
    "    if root is None:\n",
    "        return True\n",
    "    \n",
    "    if root.data<min_range or root.data > max_range:\n",
    "        return False\n",
    "\n",
    "    \n",
    "    left_check=checkIfBSTmethod3(root.left,min_range,root.data-1)\n",
    "    right_check=checkIfBSTmethod3(root.right,root.data,max_range)\n",
    "    \n",
    "    return left_check and right_check\n",
    "    "
   ]
  },
  {
   "cell_type": "code",
   "execution_count": null,
   "id": "25169cd2",
   "metadata": {},
   "outputs": [],
   "source": [
    "root = takeLevelWiseInput()\n",
    "printDetailedTree(root)\n",
    "#checkIsBST(root)\n",
    "#checkIfBSTmethod2(root)\n",
    "checkIfBSTmethod3(root,-100000,1000000)"
   ]
  },
  {
   "cell_type": "code",
   "execution_count": null,
   "id": "b873cacd",
   "metadata": {},
   "outputs": [],
   "source": []
  }
 ],
 "metadata": {
  "kernelspec": {
   "display_name": "Python 3 (ipykernel)",
   "language": "python",
   "name": "python3"
  },
  "language_info": {
   "codemirror_mode": {
    "name": "ipython",
    "version": 3
   },
   "file_extension": ".py",
   "mimetype": "text/x-python",
   "name": "python",
   "nbconvert_exporter": "python",
   "pygments_lexer": "ipython3",
   "version": "3.9.12"
  }
 },
 "nbformat": 4,
 "nbformat_minor": 5
}
