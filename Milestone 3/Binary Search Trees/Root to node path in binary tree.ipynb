{
 "cells": [
  {
   "cell_type": "code",
   "execution_count": 28,
   "id": "cae2a394",
   "metadata": {},
   "outputs": [],
   "source": [
    "class BinaryTreeNode:\n",
    "    def __init__(self,data):\n",
    "        self.data=data\n",
    "        self.left=None\n",
    "        self.right=None"
   ]
  },
  {
   "cell_type": "code",
   "execution_count": null,
   "id": "f64c39c6",
   "metadata": {},
   "outputs": [],
   "source": []
  },
  {
   "cell_type": "code",
   "execution_count": 30,
   "id": "10a5c931",
   "metadata": {},
   "outputs": [
    {
     "data": {
      "text/plain": [
       "'\\n\\ndef takelevelwiseinput():\\n    q=queue.Queue()\\n    \\n    print(\"enter root\")\\n    rootData=int(input())\\n    \\n    if rootData !=-1:\\n        return None\\n    \\n    root=BinaryTreeNode(rootData)\\n        \\n    q.put(root)\\n    \\n    while (not(q.empty())):\\n        current_node=q.get()\\n        print(\"Enter left child of\", current_node.data)\\n        leftchildData=int(input())\\n        \\n        if leftchildData!=-1:\\n            leftchild=BinaryTreeNode(leftchildData)\\n            current_node.left=leftchild\\n            q.put(leftchild)\\n            \\n        print(\"Enter right child of \",current_node.data)\\n        rightchildData=int(input())\\n        \\n        if rightchildData!=-1:\\n            rightchild=BinaryTreeNode(rightchildData)\\n            current_node.right=rightchild\\n            q.put(rightchild)\\n            \\n    return root\\n        \\n        \\n'"
      ]
     },
     "execution_count": 30,
     "metadata": {},
     "output_type": "execute_result"
    }
   ],
   "source": [
    "import queue\n",
    "\n",
    "def takeLevelWiseInput():\n",
    "    q=queue.Queue()\n",
    "    print(\"Enter root\")\n",
    "    rootData=int(input())\n",
    "    \n",
    "    if rootData==-1:\n",
    "        return None\n",
    "    \n",
    "    root=BinaryTreeNode(rootData)\n",
    "    q.put(root)\n",
    "    \n",
    "    while (not(q.empty())):\n",
    "        current_node=q.get()\n",
    "        print(\"Enter left child of\", current_node.data)\n",
    "        leftchildData=int(input())\n",
    "        \n",
    "        if leftchildData!=-1:\n",
    "            leftchild=BinaryTreeNode(leftchildData)\n",
    "            current_node.left=leftchild\n",
    "            q.put(leftchild)\n",
    "            \n",
    "        print(\"Enter right child of \",current_node.data)\n",
    "        rightchildData=int(input())\n",
    "        \n",
    "        if rightchildData!=-1:\n",
    "            rightchild=BinaryTreeNode(rightchildData)\n",
    "            current_node.right=rightchild\n",
    "            q.put(rightchild)\n",
    "            \n",
    "    return root\n",
    "'''\n",
    "\n",
    "def takelevelwiseinput():\n",
    "    q=queue.Queue()\n",
    "    \n",
    "    print(\"enter root\")\n",
    "    rootData=int(input())\n",
    "    \n",
    "    if rootData !=-1:\n",
    "        return None\n",
    "    \n",
    "    root=BinaryTreeNode(rootData)\n",
    "        \n",
    "    q.put(root)\n",
    "    \n",
    "    while (not(q.empty())):\n",
    "        current_node=q.get()\n",
    "        print(\"Enter left child of\", current_node.data)\n",
    "        leftchildData=int(input())\n",
    "        \n",
    "        if leftchildData!=-1:\n",
    "            leftchild=BinaryTreeNode(leftchildData)\n",
    "            current_node.left=leftchild\n",
    "            q.put(leftchild)\n",
    "            \n",
    "        print(\"Enter right child of \",current_node.data)\n",
    "        rightchildData=int(input())\n",
    "        \n",
    "        if rightchildData!=-1:\n",
    "            rightchild=BinaryTreeNode(rightchildData)\n",
    "            current_node.right=rightchild\n",
    "            q.put(rightchild)\n",
    "            \n",
    "    return root\n",
    "        \n",
    "        \n",
    "'''  \n",
    "        \n",
    "    "
   ]
  },
  {
   "cell_type": "code",
   "execution_count": 31,
   "id": "ce068f2c",
   "metadata": {},
   "outputs": [],
   "source": [
    "#1 2 3 4 5 6 7 \n",
    "import queue\n",
    "\n",
    "def printDetailedTree(root):\n",
    "    \n",
    "    q=queue.Queue()\n",
    "    \n",
    "    while not(q.empty()):\n",
    "        curr=q.get()\n",
    "        \n",
    "        if curr is not None:\n",
    "            print(curr,end=\":\")\n",
    "            \n",
    "            if curr.left is not None:\n",
    "                print(\"L->\",curr.left.data,end=\",\")\n",
    "            else:\n",
    "                print(\"L->-1\",end=\",\")\n",
    "                \n",
    "            if curr.right is not None:\n",
    "                print(\"R->\",curr.right.data,end=\" \")\n",
    "            else:\n",
    "                print(\"R->-1\",end=\" \")\n",
    "        \n",
    "        "
   ]
  },
  {
   "cell_type": "code",
   "execution_count": 33,
   "id": "cc7a7414",
   "metadata": {},
   "outputs": [
    {
     "name": "stdout",
     "output_type": "stream",
     "text": [
      "enter root\n",
      "1\n"
     ]
    }
   ],
   "source": [
    "root=takelevelwiseinput()\n",
    "printDetailedTree(root)"
   ]
  },
  {
   "cell_type": "code",
   "execution_count": null,
   "id": "64fc75d6",
   "metadata": {},
   "outputs": [],
   "source": []
  }
 ],
 "metadata": {
  "kernelspec": {
   "display_name": "Python 3 (ipykernel)",
   "language": "python",
   "name": "python3"
  },
  "language_info": {
   "codemirror_mode": {
    "name": "ipython",
    "version": 3
   },
   "file_extension": ".py",
   "mimetype": "text/x-python",
   "name": "python",
   "nbconvert_exporter": "python",
   "pygments_lexer": "ipython3",
   "version": "3.9.12"
  }
 },
 "nbformat": 4,
 "nbformat_minor": 5
}
