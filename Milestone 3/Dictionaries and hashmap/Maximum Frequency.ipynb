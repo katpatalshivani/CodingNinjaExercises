{
 "cells": [
  {
   "cell_type": "code",
   "execution_count": 5,
   "id": "8008b641",
   "metadata": {},
   "outputs": [
    {
     "name": "stdout",
     "output_type": "stream",
     "text": [
      "6\n",
      "2\n"
     ]
    }
   ],
   "source": [
    "num=CCC\n",
    "d={}\n",
    "for i in num:\n",
    "    d[i]=d.get(i,0)+1\n",
    "\n",
    "max=-10000\n",
    "for k in d.values():\n",
    "    if k>max:\n",
    "        max=k\n",
    "print(max)\n",
    "\n",
    "for n in d:\n",
    "    if d[n]==max:\n",
    "        print(n)\n",
    "        \n",
    "    \n",
    "#print(d)"
   ]
  },
  {
   "cell_type": "code",
   "execution_count": 17,
   "id": "489bee76",
   "metadata": {},
   "outputs": [],
   "source": [
    "\n",
    "#2 12 2 11 12 2 1 2 2 11 12 2 6 \n",
    "\n",
    "def MaximumFrequency(num):\n",
    "    d={}\n",
    "    for i in num:\n",
    "        d[i]=d.get(i,0)+1\n",
    "\n",
    "    max=-10000\n",
    "    for k in num:\n",
    "        if d[k]>max:\n",
    "            max=d[k]\n",
    "            x = k\n",
    "\n",
    "    return x\n",
    "    '''\n",
    "    \n",
    "    d={}\n",
    "    for i in num:\n",
    "        d[i]=d.get(i,0)+1\n",
    "\n",
    "    max=-10000\n",
    "    for k in d.values():\n",
    "        if k>max:\n",
    "            max=k\n",
    "    \n",
    "\n",
    "    for n in d:\n",
    "        if d[n]==max:\n",
    "            print(n)\n",
    "\n",
    "    \n",
    "    '''\n",
    "  \n",
    "    \n"
   ]
  },
  {
   "cell_type": "code",
   "execution_count": 18,
   "id": "ed7b7578",
   "metadata": {},
   "outputs": [
    {
     "name": "stdout",
     "output_type": "stream",
     "text": [
      "2\n"
     ]
    }
   ],
   "source": [
    "#n=int(input())\n",
    "#num=list(int(i) for i in input().strip().split(' ')[:n])\n",
    "print(MaximumFrequency([2, 12, 2, 11, 12, 2, 1, 2, 2, 11, 12, 2, 6] ))"
   ]
  },
  {
   "cell_type": "code",
   "execution_count": null,
   "id": "16e0c268",
   "metadata": {},
   "outputs": [],
   "source": []
  }
 ],
 "metadata": {
  "kernelspec": {
   "display_name": "Python 3 (ipykernel)",
   "language": "python",
   "name": "python3"
  },
  "language_info": {
   "codemirror_mode": {
    "name": "ipython",
    "version": 3
   },
   "file_extension": ".py",
   "mimetype": "text/x-python",
   "name": "python",
   "nbconvert_exporter": "python",
   "pygments_lexer": "ipython3",
   "version": "3.9.12"
  }
 },
 "nbformat": 4,
 "nbformat_minor": 5
}
