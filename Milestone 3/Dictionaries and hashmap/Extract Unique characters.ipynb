{
 "cells": [
  {
   "cell_type": "code",
   "execution_count": 4,
   "id": "4d9a9d69",
   "metadata": {},
   "outputs": [
    {
     "name": "stdout",
     "output_type": "stream",
     "text": [
      "codingninjas\n",
      "codingjas\n"
     ]
    }
   ],
   "source": [
    "# input : ababacd\n",
    "# output:abcd\n",
    "\n",
    "def uniqueChar(s):\n",
    "    d={}\n",
    "    \n",
    "    for char in s:\n",
    "        d[char]=d.get(char,0)+1\n",
    "        \n",
    "    uniquechar= \"\"\n",
    "    \n",
    "    for char in d:\n",
    "        if d[char]>=1:\n",
    "            uniquechar = uniquechar +char\n",
    "            \n",
    "    return uniquechar\n",
    "    \n",
    "\n",
    "\n",
    "\n",
    "\n",
    "\n",
    "# Main \n",
    "s=input() \n",
    "# l=[]\n",
    "# for char in s:\n",
    "#     l.append(char)\n",
    "    \n",
    "#print(l)\n",
    "print(uniqueChar(s))"
   ]
  },
  {
   "cell_type": "code",
   "execution_count": null,
   "id": "96b40dc0",
   "metadata": {},
   "outputs": [],
   "source": []
  },
  {
   "cell_type": "code",
   "execution_count": null,
   "id": "15fbbb4b",
   "metadata": {},
   "outputs": [],
   "source": []
  }
 ],
 "metadata": {
  "kernelspec": {
   "display_name": "Python 3 (ipykernel)",
   "language": "python",
   "name": "python3"
  },
  "language_info": {
   "codemirror_mode": {
    "name": "ipython",
    "version": 3
   },
   "file_extension": ".py",
   "mimetype": "text/x-python",
   "name": "python",
   "nbconvert_exporter": "python",
   "pygments_lexer": "ipython3",
   "version": "3.9.12"
  }
 },
 "nbformat": 4,
 "nbformat_minor": 5
}
