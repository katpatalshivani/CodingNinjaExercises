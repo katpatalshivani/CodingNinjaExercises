{
 "cells": [
  {
   "cell_type": "code",
   "execution_count": null,
   "id": "8dd97c07",
   "metadata": {},
   "outputs": [],
   "source": [
    "class BinaryTreeNode:\n",
    "    def __init__(self,data):\n",
    "        self.data = data\n",
    "        self.left = None\n",
    "        self.right = None "
   ]
  },
  {
   "cell_type": "code",
   "execution_count": null,
   "id": "92f19891",
   "metadata": {},
   "outputs": [],
   "source": [
    "import queue\n",
    "\n",
    "def takeLevelwiseTreeInput():\n",
    "    \n",
    "    q=queue.Queue()\n",
    "    print(\"Enter root\")\n",
    "    rootData=int(input())\n",
    "    \n",
    "    if rootData==-1:\n",
    "        return None\n",
    "    \n",
    "    root=BinaryTreeNode(rootData)\n",
    "    q.put(root)\n",
    "    \n",
    "    while (not(q.empty())):\n",
    "        current_node=q.get()\n",
    "        print(\"Enter left child of\", current_node.data)\n",
    "        leftchildData=int(input())\n",
    "        \n",
    "        if leftchildData!=-1:\n",
    "            leftchild=BinaryTreeNode(leftchildData)\n",
    "            current_node.left=leftchild\n",
    "            q.put(leftchild)\n",
    "            \n",
    "        print(\"Enter right child of \",current_node.data)\n",
    "        rightchildData=int(input())\n",
    "        \n",
    "        if rightchildData!=-1:\n",
    "            rightchild=BinaryTreeNode(rightchildData)\n",
    "            current_node.right=rightchild\n",
    "            q.put(rightchild)\n",
    "            \n",
    "    return root "
   ]
  },
  {
   "cell_type": "code",
   "execution_count": null,
   "id": "936e9a49",
   "metadata": {},
   "outputs": [],
   "source": [
    "def rootToLeafPathsSumToK(root, k):"
   ]
  }
 ],
 "metadata": {
  "kernelspec": {
   "display_name": "Python 3 (ipykernel)",
   "language": "python",
   "name": "python3"
  },
  "language_info": {
   "codemirror_mode": {
    "name": "ipython",
    "version": 3
   },
   "file_extension": ".py",
   "mimetype": "text/x-python",
   "name": "python",
   "nbconvert_exporter": "python",
   "pygments_lexer": "ipython3",
   "version": "3.9.12"
  }
 },
 "nbformat": 4,
 "nbformat_minor": 5
}
