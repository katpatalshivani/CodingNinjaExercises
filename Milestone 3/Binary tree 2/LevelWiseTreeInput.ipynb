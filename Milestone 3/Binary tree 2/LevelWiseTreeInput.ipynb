{
 "cells": [
  {
   "cell_type": "code",
   "execution_count": 13,
   "id": "ab92103c",
   "metadata": {},
   "outputs": [],
   "source": [
    "class BinaryTreeNode:\n",
    "    def __init__(self, data):\n",
    "        self.data = data\n",
    "        self.left = None\n",
    "        self.right = None\n",
    "        "
   ]
  },
  {
   "cell_type": "code",
   "execution_count": 14,
   "id": "6e6acf40",
   "metadata": {},
   "outputs": [],
   "source": [
    "def printDetailedTree(root):\n",
    "    if root==None:\n",
    "        return\n",
    "    \n",
    "    print(root.data,end=\":\")\n",
    "    \n",
    "    if root.left !=None:\n",
    "        print(\"L \",root.left.data,end=\",\")\n",
    "        \n",
    "    if root.right !=None:\n",
    "        print(\"R \",root.right.data,end=\" \")\n",
    "    print()\n",
    "        \n",
    "    printDetailedTree(root.left)\n",
    "    printDetailedTree(root.right)"
   ]
  },
  {
   "cell_type": "code",
   "execution_count": 15,
   "id": "7060f0a4",
   "metadata": {},
   "outputs": [],
   "source": [
    "import queue\n",
    "\n",
    "def takeLevelwiseTreeInput():\n",
    "    \n",
    "    q=queue.Queue()\n",
    "    print(\"Enter root\")\n",
    "    rootData=int(input())\n",
    "    \n",
    "    if rootData==-1:\n",
    "        return None\n",
    "    \n",
    "    root=BinaryTreeNode(rootData)\n",
    "    q.put(root)\n",
    "    \n",
    "    while (not(q.empty())):\n",
    "        current_node=q.get()\n",
    "        print(\"Enter left child of\", current_node.data)\n",
    "        leftchildData=int(input())\n",
    "        \n",
    "        if leftchildData!=-1:\n",
    "            leftchild=BinaryTreeNode(leftchildData)\n",
    "            current_node.left=leftchild\n",
    "            q.put(leftchild)\n",
    "            \n",
    "        print(\"Enter right child of \",current_node.data)\n",
    "        rightchildData=int(input())\n",
    "        \n",
    "        if rightchildData!=-1:\n",
    "            rightchild=BinaryTreeNode(rightchildData)\n",
    "            current_node.right=rightchild\n",
    "            q.put(rightchild)\n",
    "            \n",
    "    return root\n",
    "            "
   ]
  },
  {
   "cell_type": "code",
   "execution_count": 17,
   "id": "890b609a",
   "metadata": {},
   "outputs": [
    {
     "name": "stdout",
     "output_type": "stream",
     "text": [
      "Enter root\n",
      "-1\n"
     ]
    }
   ],
   "source": [
    "root=takeLevelwiseTreeInput()\n",
    "printDetailedTree(root)"
   ]
  },
  {
   "cell_type": "code",
   "execution_count": null,
   "id": "24e33e6f",
   "metadata": {},
   "outputs": [],
   "source": []
  }
 ],
 "metadata": {
  "kernelspec": {
   "display_name": "Python 3 (ipykernel)",
   "language": "python",
   "name": "python3"
  },
  "language_info": {
   "codemirror_mode": {
    "name": "ipython",
    "version": 3
   },
   "file_extension": ".py",
   "mimetype": "text/x-python",
   "name": "python",
   "nbconvert_exporter": "python",
   "pygments_lexer": "ipython3",
   "version": "3.9.12"
  }
 },
 "nbformat": 4,
 "nbformat_minor": 5
}
