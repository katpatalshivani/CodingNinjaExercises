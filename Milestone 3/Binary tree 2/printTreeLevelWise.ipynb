{
 "cells": [
  {
   "cell_type": "code",
   "execution_count": null,
   "id": "7a9d359a",
   "metadata": {},
   "outputs": [],
   "source": [
    "class BinaryTreeNode:\n",
    "    def __init__(self,data):\n",
    "        self.data = data\n",
    "        self.left = None\n",
    "        self.right = None \n",
    "        \n"
   ]
  },
  {
   "cell_type": "code",
   "execution_count": null,
   "id": "8e727f4d",
   "metadata": {},
   "outputs": [],
   "source": [
    "import queue\n",
    "\n",
    "def takeLevelwiseTreeInput():\n",
    "    \n",
    "    q=queue.Queue()\n",
    "    print(\"Enter root\")\n",
    "    rootData=int(input())\n",
    "    \n",
    "    if rootData==-1:\n",
    "        return None\n",
    "    \n",
    "    root=BinaryTreeNode(rootData)\n",
    "    q.put(root)\n",
    "    \n",
    "    while (not(q.empty())):\n",
    "        current_node=q.get()\n",
    "        print(\"Enter left child of\", current_node.data)\n",
    "        leftchildData=int(input())\n",
    "        \n",
    "        if leftchildData!=-1:\n",
    "            leftchild=BinaryTreeNode(leftchildData)\n",
    "            current_node.left=leftchild\n",
    "            q.put(leftchild)\n",
    "            \n",
    "        print(\"Enter right child of \",current_node.data)\n",
    "        rightchildData=int(input())\n",
    "        \n",
    "        if rightchildData!=-1:\n",
    "            rightchild=BinaryTreeNode(rightchildData)\n",
    "            current_node.right=rightchild\n",
    "            q.put(rightchild)\n",
    "            \n",
    "    return root\n",
    "            "
   ]
  },
  {
   "cell_type": "code",
   "execution_count": null,
   "id": "621f31bc",
   "metadata": {},
   "outputs": [],
   "source": [
    "def printDetailedTree(root):\n",
    "        q=queue.Queue()\n",
    "        q.put(root)\n",
    "        while not(q.empty()):\n",
    "            curr=q.get()\n",
    "            # lc=printLevelWise(root.left)\n",
    "            # rc=printLevelWise(root.right)\n",
    "            print(curr.data,end=\":\")\n",
    "            if(curr.left!=None):\n",
    "                q.put(curr.left)\n",
    "                print(\"L:\",end=\"\")\n",
    "                print(curr.left.data,end=\"\")\n",
    "            else:\n",
    "                print(\"L:\",end=\"\")\n",
    "                print(\"-1\",end=\"\")\n",
    "            if(curr.right!=None):\n",
    "                q.put(curr.right)\n",
    "                print(\",R:\",end=\"\")\n",
    "                print(curr.right.data)\n",
    "            else:\n",
    "                print(\",R:-1\")\n",
    "      \n",
    "        #if current_node.right!=-1:\n",
    "           # pendingNodes.put(current_node.right)\n",
    "            \n",
    "        \n",
    "            \n",
    "        #printDetailedTree(current_node.left)\n",
    "        #printDetailedTree(current_node.right)\n",
    "        \n",
    "    \n",
    "            \n",
    "       "
   ]
  },
  {
   "cell_type": "code",
   "execution_count": null,
   "id": "86114a44",
   "metadata": {},
   "outputs": [],
   "source": [
    "root=takeLevelwiseTreeInput()\n",
    "printDetailedTree(root)"
   ]
  },
  {
   "cell_type": "code",
   "execution_count": null,
   "id": "ab9ac1af",
   "metadata": {},
   "outputs": [],
   "source": []
  },
  {
   "cell_type": "code",
   "execution_count": null,
   "id": "8991c998",
   "metadata": {},
   "outputs": [],
   "source": []
  },
  {
   "cell_type": "code",
   "execution_count": null,
   "id": "42c66d01",
   "metadata": {},
   "outputs": [],
   "source": []
  },
  {
   "cell_type": "code",
   "execution_count": null,
   "id": "0e8faf39",
   "metadata": {},
   "outputs": [],
   "source": []
  }
 ],
 "metadata": {
  "kernelspec": {
   "display_name": "Python 3 (ipykernel)",
   "language": "python",
   "name": "python3"
  },
  "language_info": {
   "codemirror_mode": {
    "name": "ipython",
    "version": 3
   },
   "file_extension": ".py",
   "mimetype": "text/x-python",
   "name": "python",
   "nbconvert_exporter": "python",
   "pygments_lexer": "ipython3",
   "version": "3.9.12"
  }
 },
 "nbformat": 4,
 "nbformat_minor": 5
}
