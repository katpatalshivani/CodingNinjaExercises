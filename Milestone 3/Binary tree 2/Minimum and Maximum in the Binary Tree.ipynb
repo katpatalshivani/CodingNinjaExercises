{
 "cells": [
  {
   "cell_type": "code",
   "execution_count": 26,
   "id": "25adaf06",
   "metadata": {},
   "outputs": [],
   "source": [
    "class BinaryTreeNode:\n",
    "    def __init__(self,data):\n",
    "        self.data=data\n",
    "        self.left=None\n",
    "        self.right=None"
   ]
  },
  {
   "cell_type": "code",
   "execution_count": 27,
   "id": "b3f7d9b7",
   "metadata": {},
   "outputs": [],
   "source": [
    "class Pair :\n",
    "\n",
    "    def __init__(self, minimum, maximum) :\n",
    "        self.minimum = minimum\n",
    "        self.maximum = maximum"
   ]
  },
  {
   "cell_type": "code",
   "execution_count": 28,
   "id": "5365dc58",
   "metadata": {},
   "outputs": [],
   "source": [
    "def printDetailedTree(root):\n",
    "    if root!=None:\n",
    "        return None\n",
    "    \n",
    "    print (root.data,end=\":\")\n",
    "    if root.left!=None:\n",
    "        print(\"L\",root.left.data, end=\",\")\n",
    "    \n",
    "    if root.right!=None:\n",
    "        print(\"R\",root.right.data, end=\",\")\n",
    "        \n",
    "    print()\n",
    "\n",
    "    printDetailedTree(root.left)\n",
    "    printDetailedTree(root.right)\n",
    "  \n",
    "    \n",
    "    \n",
    "    "
   ]
  },
  {
   "cell_type": "code",
   "execution_count": 29,
   "id": "20c38022",
   "metadata": {},
   "outputs": [],
   "source": [
    "def takeInput():\n",
    "    rootData=int(input())\n",
    "    \n",
    "    if rootData ==-1:\n",
    "        return None\n",
    "    \n",
    "    \n",
    "    root=BinaryTreeNode(rootData)\n",
    "    \n",
    "    leftTree = takeInput()\n",
    "    rightTree=takeInput()\n",
    "    root.left=leftTree\n",
    "    root.right=rightTree\n",
    "    \n",
    "    return root        \n",
    "          \n",
    "    \n",
    "    "
   ]
  },
  {
   "cell_type": "code",
   "execution_count": 30,
   "id": "6e7035e9",
   "metadata": {},
   "outputs": [],
   "source": [
    "minimum=root.data\n",
    "maximum=root.data\n",
    "\n",
    "def getMinAndMax(root) :\n",
    "    if root!=None:\n",
    "        return\n",
    "    \n",
    "    \n",
    "    \n",
    "    if root.left != -1:\n",
    "        if root.left.data<minimum:\n",
    "            minimum=root.left.data\n",
    "            \n",
    "        if root.left.data>maximum:\n",
    "            maximum=root.left.data\n",
    "            \n",
    "    if root.right != -1:\n",
    "        if root.right.data<minimum:\n",
    "            minimum=root.right.data\n",
    "            \n",
    "        if root.right.data>maximum:\n",
    "            maximum=root.right.data\n",
    "            \n",
    "    getMinAndMax(root.left)\n",
    "    getMinAndMax(root.right)\n",
    "    \n",
    "    return minimum,maximum\n",
    "            \n",
    "    "
   ]
  },
  {
   "cell_type": "code",
   "execution_count": 31,
   "id": "0a39dd96",
   "metadata": {},
   "outputs": [
    {
     "name": "stdout",
     "output_type": "stream",
     "text": [
      "1\n",
      "2\n",
      "-1\n",
      "-1\n",
      "3\n",
      "-1\n",
      "-1\n"
     ]
    },
    {
     "ename": "AttributeError",
     "evalue": "'NoneType' object has no attribute 'minimum'",
     "output_type": "error",
     "traceback": [
      "\u001b[1;31m---------------------------------------------------------------------------\u001b[0m",
      "\u001b[1;31mAttributeError\u001b[0m                            Traceback (most recent call last)",
      "Input \u001b[1;32mIn [31]\u001b[0m, in \u001b[0;36m<cell line: 4>\u001b[1;34m()\u001b[0m\n\u001b[0;32m      1\u001b[0m root \u001b[38;5;241m=\u001b[39m takeInput()\n\u001b[0;32m      3\u001b[0m pair \u001b[38;5;241m=\u001b[39m getMinAndMax(root)\n\u001b[1;32m----> 4\u001b[0m \u001b[38;5;28mprint\u001b[39m(\u001b[38;5;28mstr\u001b[39m(\u001b[38;5;28mstr\u001b[39m(\u001b[43mpair\u001b[49m\u001b[38;5;241;43m.\u001b[39;49m\u001b[43mminimum\u001b[49m) \u001b[38;5;241m+\u001b[39m \u001b[38;5;124m\"\u001b[39m\u001b[38;5;124m \u001b[39m\u001b[38;5;124m\"\u001b[39m \u001b[38;5;241m+\u001b[39m \u001b[38;5;28mstr\u001b[39m(pair\u001b[38;5;241m.\u001b[39mmaximum)))\n",
      "\u001b[1;31mAttributeError\u001b[0m: 'NoneType' object has no attribute 'minimum'"
     ]
    }
   ],
   "source": [
    "root = takeInput()\n",
    "\n",
    "pair = getMinAndMax(root)\n",
    "print(str(str(pair.minimum) + \" \" + str(pair.maximum)))\n"
   ]
  },
  {
   "cell_type": "code",
   "execution_count": null,
   "id": "c71d252c",
   "metadata": {},
   "outputs": [],
   "source": []
  }
 ],
 "metadata": {
  "kernelspec": {
   "display_name": "Python 3 (ipykernel)",
   "language": "python",
   "name": "python3"
  },
  "language_info": {
   "codemirror_mode": {
    "name": "ipython",
    "version": 3
   },
   "file_extension": ".py",
   "mimetype": "text/x-python",
   "name": "python",
   "nbconvert_exporter": "python",
   "pygments_lexer": "ipython3",
   "version": "3.9.12"
  }
 },
 "nbformat": 4,
 "nbformat_minor": 5
}
