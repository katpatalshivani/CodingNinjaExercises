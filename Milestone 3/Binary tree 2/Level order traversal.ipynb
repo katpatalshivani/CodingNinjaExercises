{
 "cells": [
  {
   "cell_type": "code",
   "execution_count": 13,
   "id": "2a41c1ab",
   "metadata": {},
   "outputs": [],
   "source": [
    "class BinaryTreeNode:\n",
    "    def __init__(self,data):\n",
    "        self.data = data\n",
    "        self.left = None\n",
    "        self.right = None \n",
    "        "
   ]
  },
  {
   "cell_type": "code",
   "execution_count": 14,
   "id": "698fa02d",
   "metadata": {},
   "outputs": [],
   "source": [
    "import queue\n",
    "\n",
    "def takeLevelwiseTreeInput():\n",
    "    \n",
    "    q=queue.Queue()\n",
    "    print(\"Enter root\")\n",
    "    rootData=int(input())\n",
    "    \n",
    "    if rootData==-1:\n",
    "        return None\n",
    "    \n",
    "    root=BinaryTreeNode(rootData)\n",
    "    q.put(root)\n",
    "    \n",
    "    while (not(q.empty())):\n",
    "        current_node=q.get()\n",
    "        print(\"Enter left child of\", current_node.data)\n",
    "        leftchildData=int(input())\n",
    "        \n",
    "        if leftchildData!=-1:\n",
    "            leftchild=BinaryTreeNode(leftchildData)\n",
    "            current_node.left=leftchild\n",
    "            q.put(leftchild)\n",
    "            \n",
    "        print(\"Enter right child of \",current_node.data)\n",
    "        rightchildData=int(input())\n",
    "        \n",
    "        if rightchildData!=-1:\n",
    "            rightchild=BinaryTreeNode(rightchildData)\n",
    "            current_node.right=rightchild\n",
    "            q.put(rightchild)\n",
    "            \n",
    "    return root"
   ]
  },
  {
   "cell_type": "code",
   "execution_count": 15,
   "id": "e9fa93de",
   "metadata": {},
   "outputs": [],
   "source": [
    "def printLevelWise(root):\n",
    "    if root==None:\n",
    "        return None\n",
    "    \n",
    "    q=queue.Queue()\n",
    "    q.put(root)\n",
    "    q.put(None)\n",
    "    \n",
    "    while not(q.empty()):\n",
    "        curr = q.get()\n",
    "        \n",
    "        if curr is not None:\n",
    "            print(curr.data,  end= \" \")\n",
    "            \n",
    "            if curr.left is not None:\n",
    "                q.put(curr.left)\n",
    "\n",
    "            if curr.right is not None:\n",
    "                q.put(curr.right)\n",
    "            \n",
    "        else:\n",
    "            if q.empty():\n",
    "                break\n",
    "                \n",
    "            else:\n",
    "                q.put(None)\n",
    "                print()\n",
    "                \n",
    "        \n",
    "        "
   ]
  },
  {
   "cell_type": "code",
   "execution_count": 16,
   "id": "1902826d",
   "metadata": {},
   "outputs": [
    {
     "name": "stdout",
     "output_type": "stream",
     "text": [
      "Enter root\n",
      "1\n",
      "Enter left child of 1\n",
      "2\n",
      "Enter right child of  1\n",
      "3\n",
      "Enter left child of 2\n",
      "4\n",
      "Enter right child of  2\n",
      "5\n",
      "Enter left child of 3\n",
      "6\n",
      "Enter right child of  3\n",
      "7\n",
      "Enter left child of 4\n",
      "-1\n",
      "Enter right child of  4\n",
      "-1\n",
      "Enter left child of 5\n",
      "8\n",
      "Enter right child of  5\n",
      "9\n",
      "Enter left child of 6\n",
      "-1\n",
      "Enter right child of  6\n",
      "-1\n",
      "Enter left child of 7\n",
      "-1\n",
      "Enter right child of  7\n",
      "-1\n",
      "Enter left child of 8\n",
      "-1\n",
      "Enter right child of  8\n",
      "-1\n",
      "Enter left child of 9\n",
      "-1\n",
      "Enter right child of  9\n",
      "-1\n",
      "1 \n",
      "2 3 \n",
      "4 5 6 7 \n",
      "8 9 "
     ]
    }
   ],
   "source": [
    "root = takeLevelwiseTreeInput()\n",
    "printLevelWise(root)"
   ]
  },
  {
   "cell_type": "markdown",
   "id": "a006f34a",
   "metadata": {},
   "source": [
    "# "
   ]
  }
 ],
 "metadata": {
  "kernelspec": {
   "display_name": "Python 3 (ipykernel)",
   "language": "python",
   "name": "python3"
  },
  "language_info": {
   "codemirror_mode": {
    "name": "ipython",
    "version": 3
   },
   "file_extension": ".py",
   "mimetype": "text/x-python",
   "name": "python",
   "nbconvert_exporter": "python",
   "pygments_lexer": "ipython3",
   "version": "3.9.12"
  }
 },
 "nbformat": 4,
 "nbformat_minor": 5
}
