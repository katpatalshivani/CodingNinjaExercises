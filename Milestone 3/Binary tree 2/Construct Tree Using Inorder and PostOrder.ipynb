{
 "cells": [
  {
   "cell_type": "code",
   "execution_count": 14,
   "id": "e3481191",
   "metadata": {},
   "outputs": [],
   "source": [
    "class BinaryTreeNode:\n",
    "    def __init__(self,data):\n",
    "        self.data=data\n",
    "        self.left= None\n",
    "        self.right= None\n",
    "        \n"
   ]
  },
  {
   "cell_type": "code",
   "execution_count": 25,
   "id": "a8f63a81",
   "metadata": {},
   "outputs": [],
   "source": [
    "def printDetailedTree(root):\n",
    "    if root == None:\n",
    "            return \n",
    "    print(root.data,end=\":\")\n",
    "    if root.left!=None:\n",
    "        print(\"L:\",root.left.data,end=\", \")\n",
    "\n",
    "    if root.right!=None:\n",
    "        print(\"R:\",root.right.data,end=\" \")\n",
    "\n",
    "    print()\n",
    "\n",
    "    printDetailedTree(root.left)\n",
    "    printDetailedTree(root.right)\n",
    "  "
   ]
  },
  {
   "cell_type": "code",
   "execution_count": 30,
   "id": "22944fc0",
   "metadata": {},
   "outputs": [],
   "source": [
    "def buildTree(postOrder, inOrder,n):\n",
    "    if n==0:\n",
    "        return None\n",
    "\n",
    "\n",
    "    rootData = postOrder[n-1]\n",
    "\n",
    "    root= BinaryTreeNode(rootData)\n",
    "\n",
    "    rootIndexinInorder = -1\n",
    "\n",
    "    for i in range(0,len(inOrder)):\n",
    "        if inOrder[i]==rootData:\n",
    "            rootIndexinInorder=i\n",
    "            break\n",
    "\n",
    "    if rootIndexinInorder==-1:\n",
    "        return None\n",
    "\n",
    "    LeftInorder = inOrder[0:rootIndexinInorder]\n",
    "    RightInorder = inOrder[rootIndexinInorder+1:]\n",
    "\n",
    "    lenLeftSubtree = len(LeftInorder)\n",
    "\n",
    "    LeftPostorder = postOrder[0:lenLeftSubtree]\n",
    "    RightPostorder=postOrder[lenLeftSubtree:n-1]\n",
    "\n",
    "\n",
    "    leftChild = buildTree(LeftPostorder, LeftInorder,lenLeftSubtree) \n",
    "    RightChild= buildTree(RightPostorder,RightInorder,n-lenLeftSubtree-1)\n",
    "\n",
    "    root.left=leftChild\n",
    "    root.right=RightChild\n",
    "    return root"
   ]
  },
  {
   "cell_type": "code",
   "execution_count": 31,
   "id": "39f39426",
   "metadata": {},
   "outputs": [
    {
     "name": "stdout",
     "output_type": "stream",
     "text": [
      "5:L: 6, R: 10 \n",
      "6:L: 2, R: 3 \n",
      "2:\n",
      "3:R: 9 \n",
      "9:\n",
      "10:\n"
     ]
    }
   ],
   "source": [
    "n=6\n",
    "postOrder = [2,9,3,6,10,5]\n",
    "inOrder = [2,6,3,9,5,10]\n",
    "\n",
    "root=buildTree(postOrder, inOrder,n)\n",
    "printDetailedTree(root)   "
   ]
  },
  {
   "cell_type": "code",
   "execution_count": null,
   "id": "3addd1d1",
   "metadata": {},
   "outputs": [],
   "source": []
  }
 ],
 "metadata": {
  "kernelspec": {
   "display_name": "Python 3 (ipykernel)",
   "language": "python",
   "name": "python3"
  },
  "language_info": {
   "codemirror_mode": {
    "name": "ipython",
    "version": 3
   },
   "file_extension": ".py",
   "mimetype": "text/x-python",
   "name": "python",
   "nbconvert_exporter": "python",
   "pygments_lexer": "ipython3",
   "version": "3.9.12"
  }
 },
 "nbformat": 4,
 "nbformat_minor": 5
}
