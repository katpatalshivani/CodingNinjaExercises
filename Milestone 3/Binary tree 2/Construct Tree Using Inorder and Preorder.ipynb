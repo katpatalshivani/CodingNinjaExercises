{
 "cells": [
  {
   "cell_type": "code",
   "execution_count": 37,
   "id": "080fd005",
   "metadata": {},
   "outputs": [],
   "source": [
    "class BinaryTreeNode:\n",
    "    def __init__(self,data):\n",
    "        self.data=data\n",
    "        self.left= None\n",
    "        self.right= None"
   ]
  },
  {
   "cell_type": "code",
   "execution_count": 38,
   "id": "7ea1eaad",
   "metadata": {},
   "outputs": [],
   "source": [
    "def printDetailedTree(root):\n",
    "  \n",
    "    if root == None:\n",
    "        return None\n",
    "    print(root.data,end=\":\")\n",
    "    if root.left!=None:\n",
    "        print(\"L: \",root.left.data,end=\", \")\n",
    "        \n",
    "    if root.right!=None:\n",
    "        print(\"R:\",root.right.data,end=\" \")\n",
    "        \n",
    "    print()\n",
    "        \n",
    "    printDetailedTree(root.left)\n",
    "    printDetailedTree(root.right)"
   ]
  },
  {
   "cell_type": "code",
   "execution_count": 42,
   "id": "bfd52c14",
   "metadata": {},
   "outputs": [],
   "source": [
    "def BuildTreeFromPreIn(preorder,inorder):\n",
    "    if len(preorder)==0:\n",
    "        return None\n",
    "    \n",
    "    \n",
    "    rootData = preorder[0]\n",
    "    \n",
    "    root= BinaryTreeNode(rootData)\n",
    "    \n",
    "    rootIndexinInorder = -1\n",
    "    \n",
    "    for i in range(0,len(inorder)):\n",
    "        if inorder[i]==rootData:\n",
    "            rootIndexinInorder=i\n",
    "            break\n",
    "            \n",
    "    if rootIndexinInorder==-1:\n",
    "        return None\n",
    "            \n",
    "    LeftInorder = inorder[0:rootIndexinInorder]\n",
    "    RightInorder = inorder[rootIndexinInorder+1:]\n",
    "    \n",
    "    lenLeftSubtree = len(LeftInorder)\n",
    "    \n",
    "    LeftPreorder = preorder[1:lenLeftSubtree+1]\n",
    "    RightPreorder=preorder[lenLeftSubtree+1:]\n",
    "    \n",
    "    \n",
    "    leftChild = BuildTreeFromPreIn(LeftPreorder,LeftInorder)\n",
    "    RightChild= BuildTreeFromPreIn(RightPreorder,RightInorder)\n",
    "    \n",
    "    root.left=leftChild\n",
    "    root.right=RightChild\n",
    "    return root\n",
    "    "
   ]
  },
  {
   "cell_type": "code",
   "execution_count": 43,
   "id": "e6d8fc68",
   "metadata": {},
   "outputs": [
    {
     "name": "stdout",
     "output_type": "stream",
     "text": [
      "1:L:  2, R: 3 \n",
      "2:L:  4, R: 5 \n",
      "4:\n",
      "5:\n",
      "3:L:  6, R: 7 \n",
      "6:\n",
      "7:\n"
     ]
    }
   ],
   "source": [
    "preorder = [1,2,4,5,3,6,7]\n",
    "inorder = [4,2,5,1,6,3,7]\n",
    "\n",
    "root=BuildTreeFromPreIn(preorder,inorder)\n",
    "printDetailedTree(root)"
   ]
  },
  {
   "cell_type": "code",
   "execution_count": null,
   "id": "57cf8fc2",
   "metadata": {},
   "outputs": [],
   "source": []
  }
 ],
 "metadata": {
  "kernelspec": {
   "display_name": "Python 3 (ipykernel)",
   "language": "python",
   "name": "python3"
  },
  "language_info": {
   "codemirror_mode": {
    "name": "ipython",
    "version": 3
   },
   "file_extension": ".py",
   "mimetype": "text/x-python",
   "name": "python",
   "nbconvert_exporter": "python",
   "pygments_lexer": "ipython3",
   "version": "3.9.12"
  }
 },
 "nbformat": 4,
 "nbformat_minor": 5
}
