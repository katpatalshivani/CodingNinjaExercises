{
 "cells": [
  {
   "cell_type": "code",
   "execution_count": 1,
   "id": "d73c557d",
   "metadata": {},
   "outputs": [],
   "source": [
    "class BinaryTreeNode:\n",
    "    def __init__(self,data):\n",
    "        self.data=data\n",
    "        self.left= None\n",
    "        self.right= None\n",
    "        "
   ]
  },
  {
   "cell_type": "code",
   "execution_count": 2,
   "id": "6914de66",
   "metadata": {},
   "outputs": [],
   "source": [
    "def printDetailedTree(root):\n",
    "    if root == None:\n",
    "            return \n",
    "    print(root.data,end=\":\")\n",
    "    if root.left!=None:\n",
    "        print(\"L:\",root.left.data,end=\", \")\n",
    "\n",
    "    if root.right!=None:\n",
    "        print(\"R:\",root.right.data,end=\" \")\n",
    "\n",
    "    print()\n",
    "\n",
    "    printDetailedTree(root.left)\n",
    "    printDetailedTree(root.right)\n",
    "  "
   ]
  },
  {
   "cell_type": "code",
   "execution_count": 3,
   "id": "78e6418f",
   "metadata": {},
   "outputs": [],
   "source": [
    "import queue\n",
    "\n",
    "def takeLevelwiseTreeInput():\n",
    "    \n",
    "    q=queue.Queue()\n",
    "    print(\"Enter root\")\n",
    "    rootData=int(input())\n",
    "    \n",
    "    if rootData==-1:\n",
    "        return None\n",
    "    \n",
    "    root=BinaryTreeNode(rootData)\n",
    "    q.put(root)\n",
    "    \n",
    "    while (not(q.empty())):\n",
    "        current_node=q.get()\n",
    "        print(\"Enter left child of\", current_node.data)\n",
    "        leftchildData=int(input())\n",
    "        \n",
    "        if leftchildData!=-1:\n",
    "            leftchild=BinaryTreeNode(leftchildData)\n",
    "            current_node.left=leftchild\n",
    "            q.put(leftchild)\n",
    "            \n",
    "        print(\"Enter right child of \",current_node.data)\n",
    "        rightchildData=int(input())\n",
    "        \n",
    "        if rightchildData!=-1:\n",
    "            rightchild=BinaryTreeNode(rightchildData)\n",
    "            current_node.right=rightchild\n",
    "            q.put(rightchild)\n",
    "            \n",
    "    return root\n",
    "            "
   ]
  },
  {
   "cell_type": "code",
   "execution_count": 4,
   "id": "db68115c",
   "metadata": {},
   "outputs": [],
   "source": [
    "def insertDuplicateNode(root):\n",
    "    if root==None:\n",
    "        return None\n",
    "    \n",
    "    insertDuplicateNode(root.left)\n",
    "    insertDuplicateNode(root.right)\n",
    "    \n",
    "    \n",
    "    dup_node=BinaryTreeNode(root.data)\n",
    "    oldleft = root.left\n",
    "    root.left =  dup_node\n",
    "    dup_node.left = oldleft\n",
    "    \n",
    "   \n",
    "        \n",
    "        \n",
    "   \n",
    "        \n",
    "    \n",
    "    \n",
    "    \n",
    "    \n",
    "    \n",
    "    \n",
    "    '''\n",
    "    dup_node.left=root.left\n",
    "    root.left=dup_node\n",
    "    \n",
    "    insertDuplicateNode(root.left)\n",
    "    '''\n",
    "    \n",
    "    \n",
    "    "
   ]
  },
  {
   "cell_type": "code",
   "execution_count": 5,
   "id": "96d0e736",
   "metadata": {},
   "outputs": [
    {
     "name": "stdout",
     "output_type": "stream",
     "text": [
      "Enter root\n",
      "1\n",
      "Enter left child of 1\n",
      "3\n",
      "Enter right child of  1\n",
      "2\n",
      "Enter left child of 3\n",
      "-1\n",
      "Enter right child of  3\n",
      "-1\n",
      "Enter left child of 2\n",
      "-1\n",
      "Enter right child of  2\n",
      "-1\n",
      "1:L: 1, R: 2 \n",
      "1:L: 3, \n",
      "3:L: 3, \n",
      "3:\n",
      "2:L: 2, \n",
      "2:\n"
     ]
    }
   ],
   "source": [
    "root=takeLevelwiseTreeInput()\n",
    "insertDuplicateNode(root)\n",
    "printDetailedTree(root)"
   ]
  },
  {
   "cell_type": "markdown",
   "id": "1fd60877",
   "metadata": {},
   "source": [
    "# "
   ]
  },
  {
   "cell_type": "code",
   "execution_count": null,
   "id": "82994cd7",
   "metadata": {},
   "outputs": [],
   "source": []
  }
 ],
 "metadata": {
  "kernelspec": {
   "display_name": "Python 3 (ipykernel)",
   "language": "python",
   "name": "python3"
  },
  "language_info": {
   "codemirror_mode": {
    "name": "ipython",
    "version": 3
   },
   "file_extension": ".py",
   "mimetype": "text/x-python",
   "name": "python",
   "nbconvert_exporter": "python",
   "pygments_lexer": "ipython3",
   "version": "3.9.12"
  }
 },
 "nbformat": 4,
 "nbformat_minor": 5
}
