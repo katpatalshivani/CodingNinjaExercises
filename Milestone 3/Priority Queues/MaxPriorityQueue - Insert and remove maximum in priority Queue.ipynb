{
 "cells": [
  {
   "cell_type": "code",
   "execution_count": 18,
   "id": "d1c854e9",
   "metadata": {},
   "outputs": [],
   "source": []
  },
  {
   "cell_type": "code",
   "execution_count": 35,
   "id": "eda430a5",
   "metadata": {},
   "outputs": [],
   "source": [
    "class PriorityQueueNode:\n",
    "    def __init__(self,ele,priority):\n",
    "        self.ele = ele\n",
    "        self.priority = priority\n",
    "\n",
    "class PriorityQueue:\n",
    "    def __init__(self):\n",
    "        self.pq = []\n",
    "        \n",
    "    def getSize(self):\n",
    "        return len(self.pq)\n",
    "        \n",
    "    def isEmpty(self):\n",
    "        return self.getSize()==0\n",
    "    \n",
    "    def __percolateUp(self):\n",
    "        childIndex = self.getSize()-1\n",
    "        \n",
    "        parentIndex = (childIndex - 1)//2\n",
    "        \n",
    "        while childIndex > 0:\n",
    "            if self.pq[childIndex].priority > self.pq[parentIndex].priority:\n",
    "                self.pq[childIndex],self.pq[parentIndex] = self.pq[parentIndex], self.pq[childIndex]\n",
    "                \n",
    "            else:\n",
    "                break\n",
    "    \n",
    "    def insert(self,ele,priority):\n",
    "        pqNode = PriorityQueueNode(ele,priority)\n",
    "        self.pq.append(pqNode)\n",
    "        self.__percolateUp()\n",
    "        \n",
    "    def __percolateDown(self):\n",
    "        parentIndex = 0\n",
    "        \n",
    "        \n",
    "            \n",
    "        while True:\n",
    "            leftChildIndex = 2 * parentIndex + 1\n",
    "            rightChildIndex = 2 * parentIndex + 2\n",
    "            maxIndex = parentIndex\n",
    "            \n",
    "            if leftChildIndex < self.getSize() and self.pq[parentIndex].priority < self.pq[leftChildIndex].priority:\n",
    "                maxIndex =  leftChildIndex\n",
    "                \n",
    "            if rightChildIndex < self.getSize() and self.pq[parentIndex].priority < self.pq[rightChildIndex].priority:\n",
    "                maxIndex =  rightChildIndex\n",
    "                \n",
    "            if maxIndex == parentIndex:\n",
    "                break\n",
    "                \n",
    "            self.pq[parentIndex],self.pq[maxIndex] = self.pq[maxIndex], self.pq[parentIndex]\n",
    "            parentIndex = maxIndex\n",
    "            \n",
    "        \n",
    "    def removeMax(self):\n",
    "        if self.isEmpty():\n",
    "            return None\n",
    "        \n",
    "        e = self.pq[0].ele\n",
    "        self.pq[0] = self.pq[self.getSize()-1]\n",
    "        self.pq.pop()\n",
    "        self.__percolateDown()\n",
    "        return e\n",
    "    "
   ]
  },
  {
   "cell_type": "code",
   "execution_count": 36,
   "id": "1de2074c",
   "metadata": {},
   "outputs": [
    {
     "name": "stdout",
     "output_type": "stream",
     "text": [
      "c\n",
      "a\n",
      "d\n",
      "b\n"
     ]
    }
   ],
   "source": [
    "pq = PriorityQueue()\n",
    "pq.insert('a',3)\n",
    "pq.insert('b',1)\n",
    "pq.insert('c',5)\n",
    "pq.insert('d',9)\n",
    "for i in range(4):\n",
    "    print(pq.removeMax())"
   ]
  },
  {
   "cell_type": "code",
   "execution_count": null,
   "id": "0c7a5f34",
   "metadata": {},
   "outputs": [],
   "source": []
  }
 ],
 "metadata": {
  "kernelspec": {
   "display_name": "Python 3 (ipykernel)",
   "language": "python",
   "name": "python3"
  },
  "language_info": {
   "codemirror_mode": {
    "name": "ipython",
    "version": 3
   },
   "file_extension": ".py",
   "mimetype": "text/x-python",
   "name": "python",
   "nbconvert_exporter": "python",
   "pygments_lexer": "ipython3",
   "version": "3.9.12"
  }
 },
 "nbformat": 4,
 "nbformat_minor": 5
}
