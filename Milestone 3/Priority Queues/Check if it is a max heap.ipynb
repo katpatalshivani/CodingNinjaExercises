{
 "cells": [
  {
   "cell_type": "code",
   "execution_count": null,
   "id": "25f50139",
   "metadata": {},
   "outputs": [],
   "source": [
    "\n",
    "def checkMaxHeap(lst):\n",
    "    \n",
    "    n = len(lst)\n",
    "    \n",
    "    for i in range (0,n):\n",
    "        pi=i\n",
    "        lci=2*pi+1\n",
    "        rci=2*pi+2\n",
    "        \n",
    "        if lci < n and lst[lci] > lst[pi]:\n",
    "            return False\n",
    "        \n",
    "        if rci < n and lst[rci]>lst[pi]:\n",
    "            return False\n",
    "        \n",
    "    return True\n",
    "        \n",
    "\n",
    "lst = [42,20,18,6,14,11,9,4]\n",
    "\n",
    "if checkMaxHeap(lst):\n",
    "    print(\"True\")\n",
    "    \n",
    "else:\n",
    "    print(\"False\")\n",
    "    "
   ]
  }
 ],
 "metadata": {
  "kernelspec": {
   "display_name": "Python 3 (ipykernel)",
   "language": "python",
   "name": "python3"
  },
  "language_info": {
   "codemirror_mode": {
    "name": "ipython",
    "version": 3
   },
   "file_extension": ".py",
   "mimetype": "text/x-python",
   "name": "python",
   "nbconvert_exporter": "python",
   "pygments_lexer": "ipython3",
   "version": "3.9.12"
  }
 },
 "nbformat": 4,
 "nbformat_minor": 5
}
