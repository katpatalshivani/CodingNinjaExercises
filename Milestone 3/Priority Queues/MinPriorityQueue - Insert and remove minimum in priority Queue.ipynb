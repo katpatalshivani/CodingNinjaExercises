{
 "cells": [
  {
   "cell_type": "code",
   "execution_count": 5,
   "id": "ffc0ada7",
   "metadata": {},
   "outputs": [],
   "source": [
    "class PriorityQueueNode:\n",
    "    def __init__(self,value,priority):\n",
    "        self.value = value\n",
    "        self.priority = priority\n",
    "        \n",
    "\n"
   ]
  },
  {
   "cell_type": "code",
   "execution_count": 16,
   "id": "8344d126",
   "metadata": {},
   "outputs": [],
   "source": [
    "class PriorityQueue:\n",
    "    def __init__(self):\n",
    "        self.pq = []\n",
    "    \n",
    "    def getSize(self):\n",
    "        return len(self.pq)\n",
    "    \n",
    "    def isEmpty(self):\n",
    "        return self.getSize() == 0\n",
    "        \n",
    "    def getMin(self):\n",
    "        return self.pq[0].value\n",
    "    \n",
    "    def __percolateUp(self):\n",
    "        childIndex = self.getSize()-1\n",
    "        \n",
    "        while childIndex >0:\n",
    "            parentIndex = (childIndex-1)//2\n",
    "            \n",
    "            if self.pq[childIndex].priority < self.pq[parentIndex].priority:\n",
    "                self.pq[childIndex],self.pq[parentIndex] = self.pq[parentIndex], self.pq[childIndex]\n",
    "                childIndex=parentIndex\n",
    "            else:\n",
    "                break\n",
    "                \n",
    "    \n",
    "    def insert(self,value,priority):\n",
    "        pqnode = PriorityQueueNode(value,priority)\n",
    "        self.pq.append(pqnode)\n",
    "        self.__percolateUp()\n",
    "        \n",
    "        \n",
    "    def __percolateDown(self):\n",
    "        \n",
    "        parentIndex = 0\n",
    "        leftChildIndex = 2 *parentIndex + 1\n",
    "        rightChildIndex = 2* parentIndex + 2\n",
    "        \n",
    "        while leftChildIndex < self.getSize():\n",
    "            \n",
    "            minIndex = parentIndex\n",
    "            \n",
    "            if self.pq[minIndex].priority > self.pq[leftChildIndex].priority:\n",
    "                minIndex = leftChildIndex\n",
    "                \n",
    "            if rightChildIndex < self.getSize() and self.pq[minIndex].priority > self.pq[rightChildIndex].priority:\n",
    "                mindIndex = rightChildIndex\n",
    "            \n",
    "            if minIndex == parentIndex:\n",
    "                break\n",
    "                \n",
    "            self.pq[parentIndex],self.pq[minIndex] = self.pq[minIndex], self.pq[parentIndex]\n",
    "            parentIndex = minIndex\n",
    "            leftChildIndex = 2 *parentIndex + 1\n",
    "            rightChildIndex = 2* parentIndex + 2\n",
    "            \n",
    "    \n",
    "    \n",
    "    def removeMin(self):\n",
    "        if self.isEmpty():\n",
    "            return None\n",
    "        \n",
    "        ele = self.pq[0].value\n",
    "        self.pq[0]=self.pq[self.getSize()-1]\n",
    "        self.pq.pop()\n",
    "        self.__percolateDown()\n",
    "        return ele\n",
    "        "
   ]
  },
  {
   "cell_type": "code",
   "execution_count": 17,
   "id": "0945f9f1",
   "metadata": {},
   "outputs": [
    {
     "name": "stdout",
     "output_type": "stream",
     "text": [
      "b\n",
      "a\n",
      "c\n",
      "d\n"
     ]
    }
   ],
   "source": [
    "pq = PriorityQueue()\n",
    "pq.insert('a',3)\n",
    "pq.insert('b',1)\n",
    "pq.insert('c',5)\n",
    "pq.insert('d',9)\n",
    "\n",
    "for i in range(4):\n",
    "    print(pq.removeMin())"
   ]
  },
  {
   "cell_type": "code",
   "execution_count": null,
   "id": "37139e67",
   "metadata": {},
   "outputs": [],
   "source": []
  }
 ],
 "metadata": {
  "kernelspec": {
   "display_name": "Python 3 (ipykernel)",
   "language": "python",
   "name": "python3"
  },
  "language_info": {
   "codemirror_mode": {
    "name": "ipython",
    "version": 3
   },
   "file_extension": ".py",
   "mimetype": "text/x-python",
   "name": "python",
   "nbconvert_exporter": "python",
   "pygments_lexer": "ipython3",
   "version": "3.9.12"
  }
 },
 "nbformat": 4,
 "nbformat_minor": 5
}
