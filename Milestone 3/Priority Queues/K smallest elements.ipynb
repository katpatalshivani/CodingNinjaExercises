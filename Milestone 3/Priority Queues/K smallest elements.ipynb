{
 "cells": [
  {
   "cell_type": "code",
   "execution_count": 3,
   "id": "36ff1158",
   "metadata": {},
   "outputs": [
    {
     "name": "stdout",
     "output_type": "stream",
     "text": [
      "5 2 3 1 "
     ]
    }
   ],
   "source": [
    "import heapq\n",
    "\n",
    "def kSmallest(lst, k):\n",
    "    heap = lst[:k]\n",
    "    heapq._heapify_max(heap)\n",
    "    n=len(lst)\n",
    "    \n",
    "    for i in range(k,n):\n",
    "        if heap[0] > lst[i]:\n",
    "            heapq._heapreplace_max(heap,lst[i])\n",
    "            \n",
    "    return heap\n",
    "        \n",
    "\n",
    "\n",
    "lst= [2, 12, 9, 16, 10, 5, 3, 20, 25, 11, 1, 8, 6]\n",
    "k=4\n",
    "elements = kSmallest(lst, k)\n",
    "\n",
    "for e in elements:\n",
    "    print(e, end =\" \")"
   ]
  },
  {
   "cell_type": "code",
   "execution_count": 6,
   "id": "fe15cbb2",
   "metadata": {},
   "outputs": [
    {
     "name": "stdout",
     "output_type": "stream",
     "text": [
      "12 16 20 25 "
     ]
    }
   ],
   "source": [
    "import heapq\n",
    "\n",
    "def kLargest(lst, k):\n",
    "    heap = lst[:k]\n",
    "    heapq.heapify(heap)\n",
    "    n=len(lst)\n",
    "    \n",
    "    for i in range(k,n):\n",
    "        if heap[0] < lst[i]:\n",
    "            heapq.heapreplace(heap,lst[i])\n",
    "            \n",
    "    return heap\n",
    "        \n",
    "\n",
    "\n",
    "lst= [2, 12, 9, 16, 10, 5, 3, 20, 25, 11, 1, 8, 6]\n",
    "k=4\n",
    "elements = kLargest(lst, k)\n",
    "\n",
    "for e in elements:\n",
    "    print(e, end =\" \")"
   ]
  },
  {
   "cell_type": "code",
   "execution_count": null,
   "id": "4482925e",
   "metadata": {},
   "outputs": [],
   "source": []
  }
 ],
 "metadata": {
  "kernelspec": {
   "display_name": "Python 3 (ipykernel)",
   "language": "python",
   "name": "python3"
  },
  "language_info": {
   "codemirror_mode": {
    "name": "ipython",
    "version": 3
   },
   "file_extension": ".py",
   "mimetype": "text/x-python",
   "name": "python",
   "nbconvert_exporter": "python",
   "pygments_lexer": "ipython3",
   "version": "3.9.12"
  }
 },
 "nbformat": 4,
 "nbformat_minor": 5
}
