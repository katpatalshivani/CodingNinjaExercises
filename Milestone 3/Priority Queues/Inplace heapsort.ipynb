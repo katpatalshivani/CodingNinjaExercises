{
 "cells": [
  {
   "cell_type": "code",
   "execution_count": 8,
   "id": "b9ae17bf",
   "metadata": {},
   "outputs": [
    {
     "name": "stdout",
     "output_type": "stream",
     "text": [
      "4 6 7 9 11 3 "
     ]
    }
   ],
   "source": [
    "def downHeapify(arr,i,n):\n",
    "    ParentIndex = i\n",
    "    LeftChildIndex = 2 * ParentIndex + 1\n",
    "    RightChildIndex = 2 * ParentIndex + 2\n",
    "    \n",
    "    while LeftChildIndex < n :\n",
    "        minIndex = ParentIndex\n",
    "        \n",
    "        if arr[minIndex] > arr[LeftChildIndex]:\n",
    "            minIndex = LeftChildIndex\n",
    "            \n",
    "        if RightChildIndex < n and arr[minIndex] > arr[RightChildIndex]:\n",
    "            minIndex = RightChildIndex\n",
    "            \n",
    "        if minIndex == ParentIndex:\n",
    "            return\n",
    "        \n",
    "        arr[minIndex],arr[ParentIndex] = arr[ParentIndex],arr[minIndex]\n",
    "        ParentIndex = minIndex\n",
    "        LeftChildIndex = 2 * ParentIndex + 1\n",
    "        RightChildIndex = 2 * ParentIndex + 2\n",
    "        \n",
    "    return\n",
    "\n",
    "def HeapSort(arr):\n",
    "    n=len(arr)\n",
    "    #build the heap\n",
    "    for i in range (n//2-1,-1,-1):\n",
    "        downHeapify(arr,i,n)\n",
    "        \n",
    "    for i in range (n-1,0,-1):\n",
    "        arr[0], arr[i] =  arr[i], arr[0]\n",
    "       # downHeapify(arr,0,i)\n",
    "        \n",
    "    return\n",
    "        \n",
    "    \n",
    "        \n",
    "        \n",
    "        \n",
    "arr = [4, 7, 6, 3, 9, 11]        \n",
    "\n",
    "#arr = [int(ele) for ele in input().split()]\n",
    "HeapSort(arr)\n",
    "\n",
    "for ele in arr:\n",
    "    print(ele,end = \" \")"
   ]
  },
  {
   "cell_type": "code",
   "execution_count": null,
   "id": "2af980a3",
   "metadata": {},
   "outputs": [],
   "source": []
  }
 ],
 "metadata": {
  "kernelspec": {
   "display_name": "Python 3 (ipykernel)",
   "language": "python",
   "name": "python3"
  },
  "language_info": {
   "codemirror_mode": {
    "name": "ipython",
    "version": 3
   },
   "file_extension": ".py",
   "mimetype": "text/x-python",
   "name": "python",
   "nbconvert_exporter": "python",
   "pygments_lexer": "ipython3",
   "version": "3.9.12"
  }
 },
 "nbformat": 4,
 "nbformat_minor": 5
}
