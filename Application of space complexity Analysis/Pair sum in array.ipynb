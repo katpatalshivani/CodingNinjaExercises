{
 "cells": [
  {
   "cell_type": "code",
   "execution_count": 2,
   "id": "6bbcf3ad",
   "metadata": {},
   "outputs": [
    {
     "data": {
      "text/plain": [
       "7"
      ]
     },
     "execution_count": 2,
     "metadata": {},
     "output_type": "execute_result"
    }
   ],
   "source": [
    "def pairSum(arr, n, num) :\n",
    "\t#Your code goes here\n",
    "    d={}\n",
    "    count=0\n",
    "    for i in range(n):\n",
    "        if num-arr[i] in d:\n",
    "            count=count+d[num-arr[i]]\n",
    "        if arr[i] in d:\n",
    "            d[arr[i]]+=1 \n",
    "        else:\n",
    "            d[arr[i]]=1 \n",
    "    return count\n",
    "\n",
    "arr=[1, 3, 6, 2, 5, 4, 3, 2, 4]\n",
    "n=9\n",
    "num=7\n",
    "pairSum(arr, n, num)"
   ]
  }
 ],
 "metadata": {
  "kernelspec": {
   "display_name": "Python 3 (ipykernel)",
   "language": "python",
   "name": "python3"
  },
  "language_info": {
   "codemirror_mode": {
    "name": "ipython",
    "version": 3
   },
   "file_extension": ".py",
   "mimetype": "text/x-python",
   "name": "python",
   "nbconvert_exporter": "python",
   "pygments_lexer": "ipython3",
   "version": "3.9.12"
  }
 },
 "nbformat": 4,
 "nbformat_minor": 5
}
