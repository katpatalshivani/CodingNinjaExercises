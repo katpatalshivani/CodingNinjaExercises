{
 "cells": [
  {
   "cell_type": "code",
   "execution_count": 2,
   "id": "466d7be7",
   "metadata": {},
   "outputs": [
    {
     "name": "stdout",
     "output_type": "stream",
     "text": [
      "[3, 4, 5, 1, 2]\n"
     ]
    }
   ],
   "source": [
    "arr=[1,2,3,4,5]\n",
    "k=2\n",
    "n=len(arr)#after k>5, the test case will be iterating\n",
    "for i in range(k%n):#10 again array will be same as 5\n",
    "    #in one rotation \n",
    "    curr = arr[0]\n",
    "    \n",
    "    for j in range(1,n):\n",
    "        arr[j-1]=arr[j]\n",
    "        \n",
    "    arr[n-1]=curr\n",
    "    \n",
    "print(arr)"
   ]
  }
 ],
 "metadata": {
  "kernelspec": {
   "display_name": "Python 3 (ipykernel)",
   "language": "python",
   "name": "python3"
  },
  "language_info": {
   "codemirror_mode": {
    "name": "ipython",
    "version": 3
   },
   "file_extension": ".py",
   "mimetype": "text/x-python",
   "name": "python",
   "nbconvert_exporter": "python",
   "pygments_lexer": "ipython3",
   "version": "3.9.12"
  }
 },
 "nbformat": 4,
 "nbformat_minor": 5
}
